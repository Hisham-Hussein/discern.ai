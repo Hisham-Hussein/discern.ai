{
 "cells": [
  {
   "cell_type": "markdown",
   "metadata": {},
   "source": [
    "# \"News Sentiment and Stock Market Data Exploration\"\n",
    "> \"Performing Exploratory Data Analysis for the Saudi Stock Market\"\n",
    "\n",
    "- toc: true\n",
    "- branch: master\n",
    "- badges: true\n",
    "- comments: true\n",
    "- categories: [data-wrangling, EDA]\n",
    "- image: images/arabic-stock-market-sentiment-analysis/featured_sectors_bar.png\n",
    "- hide: false\n",
    "- search_exclude: true"
   ]
  },
  {
   "cell_type": "markdown",
   "metadata": {},
   "source": [
    "# News Sentiment and Stock Market Data Exploration"
   ]
  },
  {
   "cell_type": "code",
   "execution_count": null,
   "metadata": {},
   "outputs": [],
   "source": [
    "#!pip install pandas-profiling[notebook,html]\n",
    "#!pip install cufflinks\n",
    "#!pip install chart_studio\n",
    "#!pip install googletrans"
   ]
  },
  {
   "cell_type": "code",
   "execution_count": null,
   "metadata": {},
   "outputs": [],
   "source": [
    "#plotly.offline doesn't push your charts to the clouds\n",
    "import plotly.offline as pyo\n",
    "#allows us to create the Data and Figure objects\n",
    "from plotly.graph_objs import *\n",
    "#plotly.plotly pushes your charts to the cloud  \n",
    "# import chart_studio.plotly as py\n",
    "import plotly.figure_factory as ff\n",
    "import plotly.express as px\n",
    "\n",
    "import matplotlib.pyplot as plt\n",
    "%matplotlib inline\n",
    "\n",
    "# import cufflings to easily plot pandas data frames\n",
    "import cufflinks as cf\n",
    "# work with cufflinks offline and set its theme\n",
    "import plotly.io as pio\n",
    "pio.templates.default = \"plotly_white\"\n",
    "\n",
    "cf.go_offline()\n",
    "cf.set_config_file(theme='white')\n",
    "\n",
    "import pandas as pd\n",
    "from pandas_profiling import ProfileReport\n",
    "from googletrans import Translator\n",
    "import datetime as dt\n",
    "\n",
    "import numpy as np\n",
    "\n",
    "import os\n",
    "import json\n",
    "import re\n",
    "import sys"
   ]
  },
  {
   "cell_type": "code",
   "execution_count": null,
   "metadata": {},
   "outputs": [],
   "source": [
    "print(pd.__version__)"
   ]
  },
  {
   "cell_type": "code",
   "execution_count": null,
   "metadata": {},
   "outputs": [],
   "source": [
    "def print_full(x):\n",
    "    pd.set_option('display.max_colwidth', None)\n",
    "    return x\n",
    "\n",
    "def reset():\n",
    "    pd.reset_option('display.max_colwidth')"
   ]
  },
  {
   "cell_type": "code",
   "execution_count": null,
   "metadata": {},
   "outputs": [],
   "source": [
    "cf.getThemes()"
   ]
  },
  {
   "cell_type": "code",
   "execution_count": null,
   "metadata": {},
   "outputs": [],
   "source": [
    "cf.colors.scales() "
   ]
  },
  {
   "cell_type": "code",
   "execution_count": null,
   "metadata": {},
   "outputs": [],
   "source": []
  },
  {
   "cell_type": "code",
   "execution_count": null,
   "metadata": {},
   "outputs": [],
   "source": [
    "df = pd.read_excel('Samira - Arabic Stock Market Data.xlsx')"
   ]
  },
  {
   "cell_type": "code",
   "execution_count": null,
   "metadata": {},
   "outputs": [],
   "source": [
    "df.info()"
   ]
  },
  {
   "cell_type": "code",
   "execution_count": null,
   "metadata": {},
   "outputs": [],
   "source": [
    "df['Polarity'].value_counts()"
   ]
  },
  {
   "cell_type": "markdown",
   "metadata": {},
   "source": [
    "We need to normalize this column"
   ]
  },
  {
   "cell_type": "code",
   "execution_count": null,
   "metadata": {},
   "outputs": [],
   "source": [
    "df['Polarity'] = df['Polarity'].str.strip().str.capitalize()"
   ]
  },
  {
   "cell_type": "code",
   "execution_count": null,
   "metadata": {},
   "outputs": [],
   "source": [
    "df['Polarity'].value_counts()"
   ]
  },
  {
   "cell_type": "code",
   "execution_count": null,
   "metadata": {},
   "outputs": [],
   "source": [
    "df.head(2)"
   ]
  },
  {
   "cell_type": "code",
   "execution_count": null,
   "metadata": {},
   "outputs": [],
   "source": [
    "translator = Translator()\n",
    "\n",
    "unique_sectors = df['Sector'].unique().tolist()\n",
    "\n",
    "unique_sectors_en = [translator.translate(sector, src='ar').text.title() for sector in unique_sectors]\n",
    "\n",
    "print(unique_sectors)\n",
    "print(unique_sectors_en)"
   ]
  },
  {
   "cell_type": "code",
   "execution_count": null,
   "metadata": {},
   "outputs": [],
   "source": [
    "unique_sectors_en = ['Banks', 'Tasi Main Market Index', \n",
    "                     'Basic Materials', 'Capital Goods', \n",
    "                     'Long-Term Goods', 'Retail Of Luxury Goods', \n",
    "                     'Consumer Services', 'Commercial And Professional Services', \n",
    "                     'Energy', 'Food Production', 'Pharmaceutical', \n",
    "                     'Public Utility', 'Investment And Financing', 'Transport', \n",
    "                     'Healthcare', 'Food Segmentation', 'Real Estate M & D', \n",
    "                     'Media And Entertainment', 'Real Estate Traded Funds', \n",
    "                     'Telecommunications', 'Applications And Technology Services', 'Insurance']\n",
    "\n",
    "\n",
    "sector_map = {sector_ar:sector_en for sector_ar, sector_en in zip(unique_sectors, unique_sectors_en)}"
   ]
  },
  {
   "cell_type": "code",
   "execution_count": null,
   "metadata": {},
   "outputs": [],
   "source": [
    "df['Sector_en'] = df['Sector'].map(sector_map)"
   ]
  },
  {
   "cell_type": "code",
   "execution_count": null,
   "metadata": {},
   "outputs": [],
   "source": [
    "df.groupby(['Sector', 'Sector_en']).size()"
   ]
  },
  {
   "cell_type": "code",
   "execution_count": null,
   "metadata": {},
   "outputs": [],
   "source": [
    "drop_cols = ['Date', 'Company ID']"
   ]
  },
  {
   "cell_type": "code",
   "execution_count": null,
   "metadata": {},
   "outputs": [],
   "source": [
    "df.drop(drop_cols, axis=1, inplace=True)"
   ]
  },
  {
   "cell_type": "code",
   "execution_count": null,
   "metadata": {},
   "outputs": [],
   "source": [
    "# df['Date'] = pd.to_datetime(df['Date_1st_Additional'] + ' ' + df['Time'])"
   ]
  },
  {
   "cell_type": "code",
   "execution_count": null,
   "metadata": {},
   "outputs": [],
   "source": [
    "df['Date'] = df.apply(lambda r : pd.datetime.combine(r['Date_1st_Additional'], r['Time']), axis=1)"
   ]
  },
  {
   "cell_type": "code",
   "execution_count": null,
   "metadata": {},
   "outputs": [],
   "source": [
    "df.drop(['Date_1st_Additional'], axis=1, inplace=True)"
   ]
  },
  {
   "cell_type": "code",
   "execution_count": null,
   "metadata": {},
   "outputs": [],
   "source": [
    "df.info()"
   ]
  },
  {
   "cell_type": "code",
   "execution_count": null,
   "metadata": {},
   "outputs": [],
   "source": [
    "df.columns = ['The Quantity Handled' if col=='The quantity Handled' else col for col in df.columns]"
   ]
  },
  {
   "cell_type": "code",
   "execution_count": null,
   "metadata": {},
   "outputs": [],
   "source": [
    "df.info()"
   ]
  },
  {
   "cell_type": "code",
   "execution_count": null,
   "metadata": {},
   "outputs": [],
   "source": [
    "# profile = ProfileReport(df, title=\"EDA Report\", explorative=True)\n",
    "# profile.to_widgets()\n",
    "# profile.to_file(\"EDA-Report.html\")"
   ]
  },
  {
   "cell_type": "code",
   "execution_count": null,
   "metadata": {},
   "outputs": [],
   "source": []
  },
  {
   "cell_type": "code",
   "execution_count": null,
   "metadata": {},
   "outputs": [],
   "source": []
  },
  {
   "cell_type": "markdown",
   "metadata": {},
   "source": [
    "## Data Cleaning and Normalization"
   ]
  },
  {
   "cell_type": "markdown",
   "metadata": {},
   "source": [
    "### Exploring Nans"
   ]
  },
  {
   "cell_type": "code",
   "execution_count": null,
   "metadata": {},
   "outputs": [],
   "source": [
    "df.isnull().sum()      # nans in each column"
   ]
  },
  {
   "cell_type": "code",
   "execution_count": null,
   "metadata": {},
   "outputs": [],
   "source": [
    "# df[df['News Details'].isnull()]"
   ]
  },
  {
   "cell_type": "code",
   "execution_count": null,
   "metadata": {},
   "outputs": [],
   "source": [
    "# remove NANs\n",
    "df = df.dropna(subset=['News Details'])"
   ]
  },
  {
   "cell_type": "code",
   "execution_count": null,
   "metadata": {},
   "outputs": [],
   "source": [
    "df.isna().sum()"
   ]
  },
  {
   "cell_type": "markdown",
   "metadata": {},
   "source": [
    "### Exploring Duplicates"
   ]
  },
  {
   "cell_type": "code",
   "execution_count": null,
   "metadata": {},
   "outputs": [],
   "source": [
    "# check number of duplicated records (rows)\n",
    "df.duplicated().sum()"
   ]
  },
  {
   "cell_type": "code",
   "execution_count": null,
   "metadata": {},
   "outputs": [],
   "source": [
    "# check the duplicated reviews\n",
    "print_full(df.loc[df['News Details'].duplicated()])"
   ]
  },
  {
   "cell_type": "markdown",
   "metadata": {},
   "source": [
    "On close examination of the duplicated rows, it turned out they're not fully duplicated. So we'll leave them as is "
   ]
  },
  {
   "cell_type": "markdown",
   "metadata": {},
   "source": [
    "### Storing the Clean Data for Later Use"
   ]
  },
  {
   "cell_type": "code",
   "execution_count": null,
   "metadata": {},
   "outputs": [],
   "source": [
    "df.to_csv('data/clean_data.csv', index=False)"
   ]
  },
  {
   "cell_type": "code",
   "execution_count": null,
   "metadata": {},
   "outputs": [],
   "source": [
    "reset()"
   ]
  },
  {
   "cell_type": "code",
   "execution_count": null,
   "metadata": {},
   "outputs": [],
   "source": [
    "df.head(2)"
   ]
  },
  {
   "cell_type": "markdown",
   "metadata": {},
   "source": [
    "## Descriptive Statistics"
   ]
  },
  {
   "cell_type": "code",
   "execution_count": null,
   "metadata": {},
   "outputs": [],
   "source": [
    "cats = ['Sector', 'Company Name', 'Polarity']\n",
    "nums = ['Oppening', 'The Highest', 'The Lowest', 'Closing', 'Changing', 'Changing%', \n",
    "        'The Quantity Handled', 'Total Current Value (SAR)', 'Number of Deals']\n",
    "\n",
    "texts = ['News Title', 'News Details', 'Polarity Words']\n",
    "\n",
    "date = ['Date']"
   ]
  },
  {
   "cell_type": "markdown",
   "metadata": {},
   "source": [
    "#### Numerical Variables Statistics"
   ]
  },
  {
   "cell_type": "markdown",
   "metadata": {},
   "source": [
    "**Note:** The huge numbers in the column `Total Current Value` is due to the huge amount itself. it's not an approximation"
   ]
  },
  {
   "cell_type": "code",
   "execution_count": null,
   "metadata": {},
   "outputs": [],
   "source": [
    "df[nums].describe().round(2)"
   ]
  },
  {
   "cell_type": "code",
   "execution_count": null,
   "metadata": {},
   "outputs": [],
   "source": [
    "def describe_cat(cat_var, n=5):\n",
    "    if cat_var == 'Date':\n",
    "        col = df[cat_var].dt.date\n",
    "    else:\n",
    "        col = df[cat_var]\n",
    "        \n",
    "    unique = len(col.unique())\n",
    "    top_counts = col.value_counts().to_frame().reset_index().head(n)\n",
    "    top_counts_str = \"، \".join([f'{level}: {count}' for level,count in top_counts.values])\n",
    "    \n",
    "    summary = pd.Series({'Variable': cat_var, 'Unique': unique, 'Top Counts': top_counts_str})\n",
    "    \n",
    "    return summary\n",
    "    \n",
    "    \n",
    "def describe_cats(cat_vars):\n",
    "    summary = pd.DataFrame(np.nan, columns=['Variable', 'Unique', 'Top Counts'], index=range(len(cat_vars)))\n",
    "    \n",
    "    for i, cat in enumerate(cat_vars):\n",
    "        summary.iloc[i] = describe_cat(cat)\n",
    "    \n",
    "    summary['Unique'] = summary['Unique'].astype('int')\n",
    "        \n",
    "    return summary"
   ]
  },
  {
   "cell_type": "code",
   "execution_count": null,
   "metadata": {},
   "outputs": [],
   "source": [
    "describe_cat('Date')"
   ]
  },
  {
   "cell_type": "code",
   "execution_count": null,
   "metadata": {},
   "outputs": [],
   "source": [
    "print_full(describe_cats(cats+date))"
   ]
  },
  {
   "cell_type": "code",
   "execution_count": null,
   "metadata": {},
   "outputs": [],
   "source": [
    "reset()"
   ]
  },
  {
   "cell_type": "markdown",
   "metadata": {},
   "source": [
    "## Exploratory Data Analysis"
   ]
  },
  {
   "cell_type": "markdown",
   "metadata": {},
   "source": [
    "### Exploring Singe Categorical Variables"
   ]
  },
  {
   "cell_type": "markdown",
   "metadata": {},
   "source": [
    "#### The Polarity"
   ]
  },
  {
   "cell_type": "code",
   "execution_count": null,
   "metadata": {},
   "outputs": [],
   "source": [
    "# !pip install notebook ipywidgets"
   ]
  },
  {
   "cell_type": "code",
   "execution_count": null,
   "metadata": {},
   "outputs": [],
   "source": [
    "from IPython.display import HTML"
   ]
  },
  {
   "cell_type": "code",
   "execution_count": null,
   "metadata": {},
   "outputs": [],
   "source": [
    "fig = (  df['Polarity']\n",
    "       .value_counts()\n",
    "       .reset_index()\n",
    "       .pipe(px.pie,\n",
    "             values='Polarity', names='index',\n",
    "             title='Polarity Distribution',\n",
    "             color='Polarity',\n",
    "             color_discrete_sequence=px.colors.qualitative.Prism,\n",
    "             hole=0.1)\n",
    "       .update_traces(textinfo='percent+label+value')\n",
    "    \n",
    ")\n",
    "\n",
    "HTML(fig.to_html(include_plotlyjs='cdn'))"
   ]
  },
  {
   "cell_type": "markdown",
   "metadata": {},
   "source": [
    "#### Most Featured Sectors"
   ]
  },
  {
   "cell_type": "code",
   "execution_count": null,
   "metadata": {},
   "outputs": [],
   "source": [
    "n_most=10"
   ]
  },
  {
   "cell_type": "code",
   "execution_count": null,
   "metadata": {},
   "outputs": [],
   "source": [
    "(df\n",
    " .groupby('Sector_en')\n",
    " .size()\n",
    " .to_frame(name='Count')\n",
    " .reset_index()\n",
    " .sort_values('Count', ascending=False)\n",
    " .head(n_most)\n",
    " .pipe(px.bar,\n",
    "       x='Sector_en', y='Count', \n",
    "#        color='Count',\n",
    "#        color_continuous_scale=px.colors.sequential.GnBu,\n",
    "#        color_continuous_scale=px.colors.sequential.Blues,\n",
    "#        color_continuous_scale=px.colors.sequential.Plasma_r,\n",
    "       text='Count', title='Most Featured Sectors', labels={'Count': 'No. Articles', 'Sector_en':'Sector'}))"
   ]
  },
  {
   "cell_type": "code",
   "execution_count": null,
   "metadata": {},
   "outputs": [],
   "source": [
    "featured_sectors = (df['Sector_en']\n",
    "                     .value_counts()\n",
    "                     .head(n_most)\n",
    "                     .index.tolist())\n",
    "featured_sectors"
   ]
  },
  {
   "cell_type": "markdown",
   "metadata": {},
   "source": [
    "#### Most Featured Companies"
   ]
  },
  {
   "cell_type": "code",
   "execution_count": null,
   "metadata": {},
   "outputs": [],
   "source": [
    "n_most = 10\n",
    "\n",
    "(df['Company Name']\n",
    " .value_counts()\n",
    " .head(n_most)\n",
    " .iplot(kind='bar', color='navy', yTitle='# of News Articles', title=f'Most {n_most} Featured Companies'))"
   ]
  },
  {
   "cell_type": "code",
   "execution_count": null,
   "metadata": {},
   "outputs": [],
   "source": [
    "featured_companies = (df['Company Name']\n",
    "                     .value_counts()\n",
    "                     .head(n_most)\n",
    "                     .index.tolist())\n",
    "featured_companies"
   ]
  },
  {
   "cell_type": "markdown",
   "metadata": {},
   "source": [
    "### Exploring Interaction Between 2 Categorical Variables"
   ]
  },
  {
   "cell_type": "markdown",
   "metadata": {},
   "source": [
    "#### Polarity & Sector"
   ]
  },
  {
   "cell_type": "markdown",
   "metadata": {},
   "source": [
    "##### Method (1) Grouped Barplot"
   ]
  },
  {
   "cell_type": "code",
   "execution_count": null,
   "metadata": {},
   "outputs": [],
   "source": [
    "polarity_by_sector = (df\n",
    "                      .groupby(['Sector_en', 'Polarity'])\n",
    "                      .size()\n",
    "                      .unstack()\n",
    "                      .fillna(0)\n",
    "                      .sort_values('Positive', ascending=False))\n",
    "\n",
    "polarity_by_sector"
   ]
  },
  {
   "cell_type": "code",
   "execution_count": null,
   "metadata": {},
   "outputs": [],
   "source": [
    "polarity_by_sector.loc[featured_sectors]"
   ]
  },
  {
   "cell_type": "code",
   "execution_count": null,
   "metadata": {},
   "outputs": [],
   "source": []
  },
  {
   "cell_type": "code",
   "execution_count": null,
   "metadata": {},
   "outputs": [],
   "source": [
    "(polarity_by_sector.loc[featured_sectors]\n",
    " .iplot(kind='bar',\n",
    "        colorscale='-gnbu',#'set1',\n",
    "        layout=dict(title='Distribution of Polarity over Sectors',\n",
    "                    yaxis=dict(title='# of Articles'),\n",
    "                    xaxis=dict(title='Sector'))))"
   ]
  },
  {
   "cell_type": "code",
   "execution_count": null,
   "metadata": {},
   "outputs": [],
   "source": [
    "(polarity_by_sector.loc[featured_sectors]\n",
    " .reset_index()\n",
    " .melt(id_vars='Sector_en', value_name='Count')\n",
    " .pipe(\n",
    "     px.bar,\n",
    "     x='Sector_en', y='Count', color='Polarity', text='Count',\n",
    "     barmode='group', opacity=0.8,\n",
    "     title='Distribution of Polarity over Sectors',\n",
    "     labels={'Count': 'No. of Articles'},\n",
    "     color_discrete_sequence = px.colors.diverging.Spectral_r,\n",
    "#      color_discrete_sequence=px.colors.sequential.Plasma,\n",
    "#      color_discrete_sequence=px.colors.qualitative.Prism,\n",
    "#      color_discrete_sequence=px.colors.sequential.GnBu_r,\n",
    "#      color_discrete_sequence=px.colors.qualitative.Set1\n",
    "))"
   ]
  },
  {
   "cell_type": "code",
   "execution_count": null,
   "metadata": {},
   "outputs": [],
   "source": []
  },
  {
   "cell_type": "markdown",
   "metadata": {},
   "source": [
    "##### Method (2) Heatmap"
   ]
  },
  {
   "cell_type": "code",
   "execution_count": null,
   "metadata": {},
   "outputs": [],
   "source": [
    "(polarity_by_sector.loc[featured_sectors]\n",
    " .iplot(kind='heatmap',\n",
    "        title='Distribution of Polarity over Sectors',\n",
    "        colorscale='gnbu'))"
   ]
  },
  {
   "cell_type": "code",
   "execution_count": null,
   "metadata": {},
   "outputs": [],
   "source": [
    "(polarity_by_sector.loc[featured_sectors]\n",
    " .T\n",
    " .pipe(px.imshow,\n",
    "       color_continuous_scale=px.colors.sequential.GnBu,\n",
    "       title='Distribution of Polarity over Sector'))"
   ]
  },
  {
   "cell_type": "code",
   "execution_count": null,
   "metadata": {},
   "outputs": [],
   "source": []
  },
  {
   "cell_type": "markdown",
   "metadata": {},
   "source": [
    "#### Polarity & Company"
   ]
  },
  {
   "cell_type": "markdown",
   "metadata": {},
   "source": [
    "##### Method (1) Groupded Barplot"
   ]
  },
  {
   "cell_type": "code",
   "execution_count": null,
   "metadata": {},
   "outputs": [],
   "source": [
    "polarity_by_company = (df\n",
    "                      .groupby(['Company Name', 'Polarity'])\n",
    "                      .size()\n",
    "                      .unstack()\n",
    "                      .fillna(0)\n",
    "                      .sort_values('Positive', ascending=False))\n",
    "\n",
    "polarity_by_company"
   ]
  },
  {
   "cell_type": "code",
   "execution_count": null,
   "metadata": {},
   "outputs": [],
   "source": [
    "(polarity_by_company.loc[featured_companies]\n",
    " .iplot(kind='bar',\n",
    "        colorscale='blues',\n",
    "        layout=dict(title='Distribution of Polarity over Companies',\n",
    "                    yaxis=dict(title='# of Articles'),\n",
    "                    xaxis=dict(title='Company'))))"
   ]
  },
  {
   "cell_type": "markdown",
   "metadata": {},
   "source": [
    "##### Method (2) Heatmap"
   ]
  },
  {
   "cell_type": "code",
   "execution_count": null,
   "metadata": {},
   "outputs": [],
   "source": [
    "(polarity_by_company.loc[featured_companies]\n",
    " .iplot(kind='heatmap',\n",
    "        title='Distribution of Polarity over Companies',\n",
    "        colorscale='blues'))"
   ]
  },
  {
   "cell_type": "markdown",
   "metadata": {},
   "source": [
    "### Exploring Interaction Between 3 Categorical Variables"
   ]
  },
  {
   "cell_type": "code",
   "execution_count": null,
   "metadata": {},
   "outputs": [],
   "source": [
    "df_featured = df[(df['Company Name'].isin(featured_companies)) & (df['Sector_en'].isin(featured_sectors))]"
   ]
  },
  {
   "cell_type": "code",
   "execution_count": null,
   "metadata": {},
   "outputs": [],
   "source": [
    "px.parallel_categories(df_featured, width=1000, height=700, title='Parallel Plot of Sector, Company, Polarity',\n",
    "                       labels={'Sector_en': 'Sector'})"
   ]
  },
  {
   "cell_type": "markdown",
   "metadata": {},
   "source": [
    "### Exploring Single Numerical Variables"
   ]
  },
  {
   "cell_type": "code",
   "execution_count": null,
   "metadata": {},
   "outputs": [],
   "source": [
    "df['Closing'].iplot(kind='box', \n",
    "                    boxpoints='outliers',\n",
    "                    color='blue',\n",
    "                    title='Distribution of Closing Price')"
   ]
  },
  {
   "cell_type": "code",
   "execution_count": null,
   "metadata": {},
   "outputs": [],
   "source": [
    "df.pipe(px.box,\n",
    "        y='Closing',\n",
    "        points='outliers',\n",
    "        title='Distribution of Closing Price')"
   ]
  },
  {
   "cell_type": "code",
   "execution_count": null,
   "metadata": {},
   "outputs": [],
   "source": [
    "df['Changing%'].iplot(kind='box', \n",
    "                      boxpoints='outliers',\n",
    "                      color='purple',\n",
    "                      title='Distribution of Changing%')"
   ]
  },
  {
   "cell_type": "code",
   "execution_count": null,
   "metadata": {},
   "outputs": [],
   "source": [
    "(df\n",
    " .pipe(px.box,\n",
    "       y='Changing%'))"
   ]
  },
  {
   "cell_type": "markdown",
   "metadata": {},
   "source": [
    "### Qustion: How wast the variable `Changing%` computed?"
   ]
  },
  {
   "cell_type": "code",
   "execution_count": null,
   "metadata": {},
   "outputs": [],
   "source": [
    "df['change_pct'] = df['Closing'].pct_change()"
   ]
  },
  {
   "cell_type": "code",
   "execution_count": null,
   "metadata": {},
   "outputs": [],
   "source": [
    "df[['Changing%', 'change_pct']]"
   ]
  },
  {
   "cell_type": "markdown",
   "metadata": {},
   "source": [
    "### Exploring Relationship Between Numerical Variables"
   ]
  },
  {
   "cell_type": "code",
   "execution_count": null,
   "metadata": {},
   "outputs": [],
   "source": [
    "df.columns"
   ]
  },
  {
   "cell_type": "code",
   "execution_count": null,
   "metadata": {},
   "outputs": [],
   "source": [
    "(df[nums]\n",
    " .corr()\n",
    " .fillna(0)\n",
    " .round(2))"
   ]
  },
  {
   "cell_type": "code",
   "execution_count": null,
   "metadata": {},
   "outputs": [],
   "source": [
    "(df[nums]\n",
    " .corr()\n",
    " .iplot(kind='heatmap',\n",
    "        colorscale='ylgnbu',#'rdylbu',#,rdbu, \n",
    "        layout=dict(title='Correlation Between All Numerical Variables',\n",
    "                    width=700,\n",
    "                    margin=dict(b=120))))"
   ]
  },
  {
   "cell_type": "markdown",
   "metadata": {},
   "source": [
    "#### Number of Deals vs. Changing"
   ]
  },
  {
   "cell_type": "code",
   "execution_count": null,
   "metadata": {},
   "outputs": [],
   "source": [
    "(df.fillna(0)\n",
    " .pipe(px.scatter,\n",
    "       size='Total Current Value (SAR)',\n",
    "       size_max=70,\n",
    "       x='Number of Deals',\n",
    "       y='Changing',\n",
    "       title='<b>Number of Deals vs. Changing in Price</b> <br>size deontes <i>Total Current Value</i>',\n",
    "       range_y=[-20, 20],\n",
    "       range_x=[0, 25000]))"
   ]
  },
  {
   "cell_type": "code",
   "execution_count": null,
   "metadata": {},
   "outputs": [],
   "source": [
    "fig = (df.fillna(0)\n",
    "         .pipe(px.scatter,\n",
    "               x='Closing',\n",
    "               y='Changing',\n",
    "               color='Polarity',\n",
    "               size='Total Current Value (SAR)',\n",
    "               size_max=60,\n",
    "               marginal_x='histogram',\n",
    "               color_discrete_sequence = px.colors.diverging.Spectral_r,\n",
    "#                color_discrete_sequence=px.colors.sequential.GnBu,\n",
    "#                color_discrete_sequence=['red', 'blue', 'green'],\n",
    "               range_y=[-15, 15],\n",
    "               range_x=[0, 200],\n",
    "               height=600,\n",
    "               facet_col='Polarity',\n",
    "               title='<b>Closing Price vs. Changing in Price Across Polarities</b><br>size deontes <i>Total Current Value</i>'))\n",
    "\n",
    "fig.for_each_annotation(lambda a: a.update(text=''))\n",
    "fig.show()"
   ]
  },
  {
   "cell_type": "code",
   "execution_count": null,
   "metadata": {},
   "outputs": [],
   "source": [
    "fig = (df.fillna(0)\n",
    "        .pipe(px.scatter,\n",
    "              x='Closing',\n",
    "              y='Changing%',\n",
    "              color='Polarity',\n",
    "              size='Total Current Value (SAR)',\n",
    "              size_max=60,\n",
    "              marginal_x='histogram',\n",
    "             color_discrete_sequence = px.colors.diverging.Spectral_r,\n",
    "#             color_discrete_sequence=px.colors.sequential.GnBu_r,\n",
    "#             color_discrete_sequence = px.colors.diverging.Spectral_r,\n",
    "#             color_discrete_sequence=['red', 'blue', 'green'],\n",
    "             range_y=[-20, 20],\n",
    "             range_x=[0, 300],\n",
    "             height=600,\n",
    "             facet_col='Polarity',\n",
    "             title='<b>Closing Price vs. Changing Percent in Price</b><br>size deontes <i>Total Current Value</i>'))\n",
    "\n",
    "fig.for_each_annotation(lambda a: a.update(text=''))\n",
    "fig.show()"
   ]
  },
  {
   "cell_type": "code",
   "execution_count": null,
   "metadata": {},
   "outputs": [],
   "source": []
  },
  {
   "cell_type": "markdown",
   "metadata": {},
   "source": [
    "### Exploring Interaction Between Numerical and Categorical"
   ]
  },
  {
   "cell_type": "code",
   "execution_count": null,
   "metadata": {},
   "outputs": [],
   "source": [
    "returns_by_polarity_stats = (df.reset_index()\n",
    "                             .pivot(columns='Polarity', values='Changing%')).describe()\n",
    "\n",
    "returns_by_polarity_stats"
   ]
  },
  {
   "cell_type": "code",
   "execution_count": null,
   "metadata": {},
   "outputs": [],
   "source": [
    "median = (df[['Polarity', 'Changing%']].reset_index()\n",
    "          .pivot(columns='Polarity', values='Changing%')\n",
    "          .apply(lambda x: x.median()))\n",
    "\n",
    "median.name = 'median'"
   ]
  },
  {
   "cell_type": "code",
   "execution_count": null,
   "metadata": {},
   "outputs": [],
   "source": [
    "returns_by_polarity_stats.append(median)"
   ]
  },
  {
   "cell_type": "code",
   "execution_count": null,
   "metadata": {},
   "outputs": [],
   "source": [
    "(df.reset_index()\n",
    " .pivot(columns='Polarity', values='Changing%')\n",
    " .iplot(kind='box', boxpoints='outliers',\n",
    "        colorscale='gnbu',\n",
    "        layout=dict(title='Distribution of Percent Change Over Polarity')))"
   ]
  },
  {
   "cell_type": "code",
   "execution_count": null,
   "metadata": {},
   "outputs": [],
   "source": []
  },
  {
   "cell_type": "code",
   "execution_count": null,
   "metadata": {},
   "outputs": [],
   "source": [
    "(df\n",
    " .pipe(px.box,\n",
    "       x='Polarity',\n",
    "       y='Changing%',\n",
    "       color='Polarity',\n",
    "       color_discrete_sequence = px.colors.diverging.Spectral_r,\n",
    "       points='outliers',\n",
    "       title='Distribution of Percent Change Over Polarity'))\n",
    "\n",
    "# fig.update_layout(showlegend=False)"
   ]
  },
  {
   "cell_type": "markdown",
   "metadata": {},
   "source": [
    "From the Boxplot above we can't deduce a strong correlation between the polarity of a news article and a change in stock price. \n",
    "\n",
    "This should be corroborated by a statistical test, though!"
   ]
  },
  {
   "cell_type": "markdown",
   "metadata": {},
   "source": [
    "### What's Happening over Time? "
   ]
  },
  {
   "cell_type": "markdown",
   "metadata": {},
   "source": [
    "#### Exploring the Date Variable"
   ]
  },
  {
   "cell_type": "code",
   "execution_count": null,
   "metadata": {},
   "outputs": [],
   "source": [
    "df.set_index('Date', inplace=True)"
   ]
  },
  {
   "cell_type": "code",
   "execution_count": null,
   "metadata": {},
   "outputs": [],
   "source": [
    "df = df.sort_index()"
   ]
  },
  {
   "cell_type": "code",
   "execution_count": null,
   "metadata": {},
   "outputs": [],
   "source": []
  },
  {
   "cell_type": "code",
   "execution_count": null,
   "metadata": {},
   "outputs": [],
   "source": [
    "date_hist = dict(\n",
    "    data=[\n",
    "        Histogram(\n",
    "            x=df.index,\n",
    "        marker=dict(\n",
    "            opacity=0.9,\n",
    "            line=dict(\n",
    "                color='white', width=1\n",
    "            )\n",
    "         )\n",
    "      )\n",
    "    ],\n",
    "    layout=dict(\n",
    "        title='Distribution of No. of Articles over Months',\n",
    "        xaxis=dict(\n",
    "            range=[df.index.min() - pd.Timedelta(days=90), df.index.max()]\n",
    "        )\n",
    "    )\n",
    ")\n",
    "\n",
    "pyo.iplot(date_hist)"
   ]
  },
  {
   "cell_type": "markdown",
   "metadata": {},
   "source": [
    "## The Following is Additional Extra Work"
   ]
  },
  {
   "cell_type": "markdown",
   "metadata": {},
   "source": [
    "#### Moving Avg. of Numerical Variables "
   ]
  },
  {
   "cell_type": "code",
   "execution_count": null,
   "metadata": {},
   "outputs": [],
   "source": [
    "company_name = 'شركة أبناء عبدالله عبدالمحسن الخضري'\n",
    "window = 10\n",
    "num_var = 'Closing'\n",
    "\n",
    "fig = (df\n",
    "        .loc[df['Company Name'] == company_name, num_var]\n",
    "        .sort_index()\n",
    "        .rolling(window).mean()\n",
    "        .iplot(mode='lines', color='blue', size=8, asFigure=True, \n",
    "               title=f'{window} Days Moving Avg. ({num_var}) <br> {company_name}'))"
   ]
  },
  {
   "cell_type": "code",
   "execution_count": null,
   "metadata": {},
   "outputs": [],
   "source": [
    "fig"
   ]
  },
  {
   "cell_type": "code",
   "execution_count": null,
   "metadata": {},
   "outputs": [],
   "source": [
    "company_name = 'شركة أبناء عبدالله عبدالمحسن الخضري'\n",
    "\n",
    "fig_1 = (df\n",
    " .loc[df['Company Name'] == company_name]\n",
    " .groupby('Polarity')\n",
    " .resample('A')\n",
    " .size()\n",
    " .T\n",
    " .iplot(kind='bar', barmode='group',\n",
    "        colorscale='gnbu',\n",
    "        title=f'Polarity Evolution over Time <br> {company_name}',\n",
    "        asFigure=True))"
   ]
  },
  {
   "cell_type": "code",
   "execution_count": null,
   "metadata": {},
   "outputs": [],
   "source": [
    "fig_1"
   ]
  },
  {
   "cell_type": "code",
   "execution_count": null,
   "metadata": {},
   "outputs": [],
   "source": [
    "fig_1['layout']['title']['text']"
   ]
  },
  {
   "cell_type": "code",
   "execution_count": null,
   "metadata": {},
   "outputs": [],
   "source": [
    "fig_1.add_trace(fig['data'][0])\n"
   ]
  },
  {
   "cell_type": "code",
   "execution_count": null,
   "metadata": {},
   "outputs": [],
   "source": []
  },
  {
   "cell_type": "code",
   "execution_count": null,
   "metadata": {},
   "outputs": [],
   "source": []
  },
  {
   "cell_type": "code",
   "execution_count": null,
   "metadata": {},
   "outputs": [],
   "source": []
  },
  {
   "cell_type": "markdown",
   "metadata": {},
   "source": [
    "## Market Index\n",
    "\n",
    "We can create an index for the market by choosing the largest company in each sector, in terms of `Total Current Value`. Then plot the overall index market cap over time overlayed on the sentiment as above"
   ]
  },
  {
   "cell_type": "code",
   "execution_count": null,
   "metadata": {},
   "outputs": [],
   "source": [
    "\n",
    "index_comps = df.loc['2019'].set_index('Company Name').groupby('Sector_en')['Total Current Value (SAR)'].nlargest(1)\n",
    "\n",
    "index_comps = index_comps.reset_index().sort_values('Total Current Value (SAR)', ascending=False)\n",
    "\n",
    "index_comps"
   ]
  },
  {
   "cell_type": "code",
   "execution_count": null,
   "metadata": {},
   "outputs": [],
   "source": [
    "index_comps_names = index_comps['Company Name']; index_comps_names"
   ]
  },
  {
   "cell_type": "code",
   "execution_count": null,
   "metadata": {},
   "outputs": [],
   "source": [
    "df_index = df[df['Company Name'].isin(index_comps_names)]"
   ]
  },
  {
   "cell_type": "code",
   "execution_count": null,
   "metadata": {},
   "outputs": [],
   "source": [
    "index_series = (df_index[['Company Name', 'Total Current Value (SAR)']]\n",
    "                 .pivot(columns='Company Name', values='Total Current Value (SAR)')\n",
    "                 .sum(axis=1)\n",
    "                 .loc[: 'Nov 2019'])"
   ]
  },
  {
   "cell_type": "code",
   "execution_count": null,
   "metadata": {},
   "outputs": [],
   "source": [
    "(df_index[['Company Name', 'Total Current Value (SAR)']]\n",
    " .pivot(columns='Company Name', values='Total Current Value (SAR)')\n",
    " .sum(axis=1)\n",
    " .loc['2011': 'Nov 2019']\n",
    " .rolling(180).mean()\n",
    " .iplot(color='blue',\n",
    "        layout=dict(title='30-days Moving Average of Market Index')))"
   ]
  },
  {
   "cell_type": "code",
   "execution_count": null,
   "metadata": {},
   "outputs": [],
   "source": [
    "index_series.iplot()"
   ]
  },
  {
   "cell_type": "code",
   "execution_count": null,
   "metadata": {},
   "outputs": [],
   "source": []
  },
  {
   "cell_type": "code",
   "execution_count": null,
   "metadata": {},
   "outputs": [],
   "source": [
    "(df_index\n",
    " .groupby('Polarity')\n",
    " .resample('A')\n",
    " .size()\n",
    " .T\n",
    " .iplot(kind='bar', title='Annual Polarity Distribution for the Market Index'))"
   ]
  },
  {
   "cell_type": "code",
   "execution_count": null,
   "metadata": {},
   "outputs": [],
   "source": [
    "from plotly.subplots import make_subplots\n",
    "\n",
    "fig = make_subplots(rows=2, cols=1)"
   ]
  },
  {
   "cell_type": "code",
   "execution_count": null,
   "metadata": {},
   "outputs": [],
   "source": []
  },
  {
   "cell_type": "code",
   "execution_count": null,
   "metadata": {},
   "outputs": [],
   "source": []
  },
  {
   "cell_type": "code",
   "execution_count": null,
   "metadata": {},
   "outputs": [],
   "source": [
    "with open('ArSEL1.0.txt') as f:\n",
    "    text = f.read()\n",
    "    text = re.sub('###', ';', text)\n"
   ]
  },
  {
   "cell_type": "code",
   "execution_count": null,
   "metadata": {},
   "outputs": [],
   "source": [
    "print(text[:2000])"
   ]
  },
  {
   "cell_type": "code",
   "execution_count": null,
   "metadata": {},
   "outputs": [],
   "source": [
    "with open('ArSEL1.0_modified.txt', 'w') as f:\n",
    "    f.write(text)"
   ]
  },
  {
   "cell_type": "code",
   "execution_count": null,
   "metadata": {},
   "outputs": [],
   "source": []
  },
  {
   "cell_type": "code",
   "execution_count": null,
   "metadata": {},
   "outputs": [],
   "source": [
    "cols = 'AWN_OFFSET;EWN_OFFSET;POS_Tag;AWN_Lemma;SAMA_Lemma;Pos_Sentiment_score;Neg_Sentiment_Score;Confidence;AFRAID;AMUSED;ANGRY;ANNOYED;DONT_CARE;HAPPY;INSPIRED;SAD'.split(';')"
   ]
  },
  {
   "cell_type": "code",
   "execution_count": null,
   "metadata": {},
   "outputs": [],
   "source": [
    "cols"
   ]
  },
  {
   "cell_type": "code",
   "execution_count": null,
   "metadata": {},
   "outputs": [],
   "source": [
    "lex = pd.read_table('ArSEL1.0_modified.txt', sep=';', skiprows=20, header=None)\n",
    "lex.columns = cols"
   ]
  },
  {
   "cell_type": "code",
   "execution_count": null,
   "metadata": {},
   "outputs": [],
   "source": [
    "lex.head()"
   ]
  },
  {
   "cell_type": "code",
   "execution_count": null,
   "metadata": {},
   "outputs": [],
   "source": [
    "lex.info()"
   ]
  },
  {
   "cell_type": "code",
   "execution_count": null,
   "metadata": {},
   "outputs": [],
   "source": [
    "lex['SAMA_Lemma'].value_counts()"
   ]
  },
  {
   "cell_type": "code",
   "execution_count": null,
   "metadata": {},
   "outputs": [],
   "source": []
  },
  {
   "cell_type": "markdown",
   "metadata": {},
   "source": [
    "### How to Read Facebook's Fasttext pretrained Models into Gensim\n",
    "\n",
    "read this ASAP: <a href='https://radimrehurek.com/gensim/models/fasttext.html' target='_blank'>fasttext loading into gensim</a>"
   ]
  },
  {
   "cell_type": "code",
   "execution_count": null,
   "metadata": {},
   "outputs": [],
   "source": [
    "\n"
   ]
  }
 ],
 "metadata": {
  "kernelspec": {
   "display_name": "Python 3",
   "language": "python",
   "name": "python3"
  },
  "language_info": {
   "codemirror_mode": {
    "name": "ipython",
    "version": 3
   },
   "file_extension": ".py",
   "mimetype": "text/x-python",
   "name": "python",
   "nbconvert_exporter": "python",
   "pygments_lexer": "ipython3",
   "version": "3.7.6"
  },
  "toc": {
   "base_numbering": 1,
   "nav_menu": {},
   "number_sections": true,
   "sideBar": true,
   "skip_h1_title": false,
   "title_cell": "Table of Contents",
   "title_sidebar": "Contents",
   "toc_cell": false,
   "toc_position": {},
   "toc_section_display": true,
   "toc_window_display": false
  }
 },
 "nbformat": 4,
 "nbformat_minor": 4
}
