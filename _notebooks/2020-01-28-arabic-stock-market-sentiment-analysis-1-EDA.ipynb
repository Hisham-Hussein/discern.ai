{
 "cells": [
  {
   "cell_type": "markdown",
   "metadata": {},
   "source": [
    "# \"News Sentiment and Stock Market Data Exploration\"\n",
    "> \"Performing Exploratory Data Analysis for the Saudi Stock Market\"\n",
    "\n",
    "- toc: true\n",
    "- branch: master\n",
    "- badges: true\n",
    "- comments: true\n",
    "- categories: [data-wrangling, EDA]\n",
    "- image: images/arabic-stock-market-sentiment-analysis/featured_sectors_bar.png\n",
    "- hide: false\n",
    "- search_exclude: true"
   ]
  },
  {
   "cell_type": "markdown",
   "metadata": {},
   "source": [
    "# News Sentiment and Stock Market Data Exploration"
   ]
  },
  {
   "cell_type": "code",
   "execution_count": 1,
   "metadata": {},
   "outputs": [],
   "source": [
    "#!pip install pandas-profiling[notebook,html]\n",
    "#!pip install cufflinks\n",
    "#!pip install chart_studio\n",
    "#!pip install googletrans"
   ]
  },
  {
   "cell_type": "code",
   "execution_count": 2,
   "metadata": {},
   "outputs": [
    {
     "data": {
      "text/html": [
       "        <script type=\"text/javascript\">\n",
       "        window.PlotlyConfig = {MathJaxConfig: 'local'};\n",
       "        if (window.MathJax) {MathJax.Hub.Config({SVG: {font: \"STIX-Web\"}});}\n",
       "        if (typeof require !== 'undefined') {\n",
       "        require.undef(\"plotly\");\n",
       "        requirejs.config({\n",
       "            paths: {\n",
       "                'plotly': ['https://cdn.plot.ly/plotly-latest.min']\n",
       "            }\n",
       "        });\n",
       "        require(['plotly'], function(Plotly) {\n",
       "            window._Plotly = Plotly;\n",
       "        });\n",
       "        }\n",
       "        </script>\n",
       "        "
      ]
     },
     "metadata": {},
     "output_type": "display_data"
    }
   ],
   "source": [
    "#plotly.offline doesn't push your charts to the clouds\n",
    "import plotly.offline as pyo\n",
    "#allows us to create the Data and Figure objects\n",
    "from plotly.graph_objs import *\n",
    "#plotly.plotly pushes your charts to the cloud  \n",
    "# import chart_studio.plotly as py\n",
    "import plotly.figure_factory as ff\n",
    "import plotly.express as px\n",
    "\n",
    "import matplotlib.pyplot as plt\n",
    "%matplotlib inline\n",
    "\n",
    "# import cufflings to easily plot pandas data frames\n",
    "import cufflinks as cf\n",
    "# work with cufflinks offline and set its theme\n",
    "import plotly.io as pio\n",
    "pio.templates.default = \"plotly_white\"\n",
    "\n",
    "cf.go_offline()\n",
    "cf.set_config_file(theme='white')\n",
    "\n",
    "import pandas as pd\n",
    "from pandas_profiling import ProfileReport\n",
    "from googletrans import Translator\n",
    "import datetime as dt\n",
    "\n",
    "import numpy as np\n",
    "\n",
    "import os\n",
    "import json\n",
    "import re\n",
    "import sys"
   ]
  },
  {
   "cell_type": "code",
   "execution_count": 3,
   "metadata": {},
   "outputs": [
    {
     "name": "stdout",
     "output_type": "stream",
     "text": [
      "1.0.3\n"
     ]
    }
   ],
   "source": [
    "print(pd.__version__)"
   ]
  },
  {
   "cell_type": "code",
   "execution_count": 4,
   "metadata": {},
   "outputs": [],
   "source": [
    "def print_full(x):\n",
    "    pd.set_option('display.max_colwidth', None)\n",
    "    return x\n",
    "\n",
    "def reset():\n",
    "    pd.reset_option('display.max_colwidth')"
   ]
  },
  {
   "cell_type": "code",
   "execution_count": 5,
   "metadata": {},
   "outputs": [
    {
     "data": {
      "text/plain": [
       "['ggplot', 'pearl', 'solar', 'space', 'white', 'polar', 'henanigans']"
      ]
     },
     "execution_count": 5,
     "metadata": {},
     "output_type": "execute_result"
    }
   ],
   "source": [
    "cf.getThemes()"
   ]
  },
  {
   "cell_type": "code",
   "execution_count": 6,
   "metadata": {},
   "outputs": [
    {
     "data": {
      "text/html": [
       "<div style=\"display:inline-block;padding:10px;\"><div>accent</div><div style=\"background-color:rgb(127,201,127);height:20px;width:20px;margin-bottom:0px;display:inline-block;\"></div><div style=\"background-color:rgb(190,174,212);height:20px;width:20px;margin-bottom:0px;display:inline-block;\"></div><div style=\"background-color:rgb(253,192,134);height:20px;width:20px;margin-bottom:0px;display:inline-block;\"></div><div style=\"background-color:rgb(255,255,153);height:20px;width:20px;margin-bottom:0px;display:inline-block;\"></div><div style=\"background-color:rgb(56,108,176);height:20px;width:20px;margin-bottom:0px;display:inline-block;\"></div><div style=\"background-color:rgb(240,2,127);height:20px;width:20px;margin-bottom:0px;display:inline-block;\"></div><div style=\"background-color:rgb(191,91,23);height:20px;width:20px;margin-bottom:0px;display:inline-block;\"></div><div style=\"background-color:rgb(102,102,102);height:20px;width:20px;margin-bottom:0px;display:inline-block;\"></div></div><div style=\"display:inline-block;padding:10px;\"><div>blues</div><div style=\"background-color:rgb(247,251,255);height:20px;width:20px;margin-bottom:0px;display:inline-block;\"></div><div style=\"background-color:rgb(222,235,247);height:20px;width:20px;margin-bottom:0px;display:inline-block;\"></div><div style=\"background-color:rgb(198,219,239);height:20px;width:20px;margin-bottom:0px;display:inline-block;\"></div><div style=\"background-color:rgb(158,202,225);height:20px;width:20px;margin-bottom:0px;display:inline-block;\"></div><div style=\"background-color:rgb(107,174,214);height:20px;width:20px;margin-bottom:0px;display:inline-block;\"></div><div style=\"background-color:rgb(66,146,198);height:20px;width:20px;margin-bottom:0px;display:inline-block;\"></div><div style=\"background-color:rgb(33,113,181);height:20px;width:20px;margin-bottom:0px;display:inline-block;\"></div><div style=\"background-color:rgb(8,81,156);height:20px;width:20px;margin-bottom:0px;display:inline-block;\"></div><div style=\"background-color:rgb(8,48,107);height:20px;width:20px;margin-bottom:0px;display:inline-block;\"></div></div><div style=\"display:inline-block;padding:10px;\"><div>brbg</div><div style=\"background-color:rgb(84,48,5);height:20px;width:20px;margin-bottom:0px;display:inline-block;\"></div><div style=\"background-color:rgb(140,81,10);height:20px;width:20px;margin-bottom:0px;display:inline-block;\"></div><div style=\"background-color:rgb(191,129,45);height:20px;width:20px;margin-bottom:0px;display:inline-block;\"></div><div style=\"background-color:rgb(223,194,125);height:20px;width:20px;margin-bottom:0px;display:inline-block;\"></div><div style=\"background-color:rgb(246,232,195);height:20px;width:20px;margin-bottom:0px;display:inline-block;\"></div><div style=\"background-color:rgb(245,245,245);height:20px;width:20px;margin-bottom:0px;display:inline-block;\"></div><div style=\"background-color:rgb(199,234,229);height:20px;width:20px;margin-bottom:0px;display:inline-block;\"></div><div style=\"background-color:rgb(128,205,193);height:20px;width:20px;margin-bottom:0px;display:inline-block;\"></div><div style=\"background-color:rgb(53,151,143);height:20px;width:20px;margin-bottom:0px;display:inline-block;\"></div><div style=\"background-color:rgb(1,102,94);height:20px;width:20px;margin-bottom:0px;display:inline-block;\"></div><div style=\"background-color:rgb(0,60,48);height:20px;width:20px;margin-bottom:0px;display:inline-block;\"></div></div><div style=\"display:inline-block;padding:10px;\"><div>bugn</div><div style=\"background-color:rgb(247,252,253);height:20px;width:20px;margin-bottom:0px;display:inline-block;\"></div><div style=\"background-color:rgb(229,245,249);height:20px;width:20px;margin-bottom:0px;display:inline-block;\"></div><div style=\"background-color:rgb(204,236,230);height:20px;width:20px;margin-bottom:0px;display:inline-block;\"></div><div style=\"background-color:rgb(153,216,201);height:20px;width:20px;margin-bottom:0px;display:inline-block;\"></div><div style=\"background-color:rgb(102,194,164);height:20px;width:20px;margin-bottom:0px;display:inline-block;\"></div><div style=\"background-color:rgb(65,174,118);height:20px;width:20px;margin-bottom:0px;display:inline-block;\"></div><div style=\"background-color:rgb(35,139,69);height:20px;width:20px;margin-bottom:0px;display:inline-block;\"></div><div style=\"background-color:rgb(0,109,44);height:20px;width:20px;margin-bottom:0px;display:inline-block;\"></div><div style=\"background-color:rgb(0,68,27);height:20px;width:20px;margin-bottom:0px;display:inline-block;\"></div></div><div style=\"display:inline-block;padding:10px;\"><div>bupu</div><div style=\"background-color:rgb(247,252,253);height:20px;width:20px;margin-bottom:0px;display:inline-block;\"></div><div style=\"background-color:rgb(224,236,244);height:20px;width:20px;margin-bottom:0px;display:inline-block;\"></div><div style=\"background-color:rgb(191,211,230);height:20px;width:20px;margin-bottom:0px;display:inline-block;\"></div><div style=\"background-color:rgb(158,188,218);height:20px;width:20px;margin-bottom:0px;display:inline-block;\"></div><div style=\"background-color:rgb(140,150,198);height:20px;width:20px;margin-bottom:0px;display:inline-block;\"></div><div style=\"background-color:rgb(140,107,177);height:20px;width:20px;margin-bottom:0px;display:inline-block;\"></div><div style=\"background-color:rgb(136,65,157);height:20px;width:20px;margin-bottom:0px;display:inline-block;\"></div><div style=\"background-color:rgb(129,15,124);height:20px;width:20px;margin-bottom:0px;display:inline-block;\"></div><div style=\"background-color:rgb(77,0,75);height:20px;width:20px;margin-bottom:0px;display:inline-block;\"></div></div><div style=\"display:inline-block;padding:10px;\"><div>dark2</div><div style=\"background-color:rgb(27,158,119);height:20px;width:20px;margin-bottom:0px;display:inline-block;\"></div><div style=\"background-color:rgb(217,95,2);height:20px;width:20px;margin-bottom:0px;display:inline-block;\"></div><div style=\"background-color:rgb(117,112,179);height:20px;width:20px;margin-bottom:0px;display:inline-block;\"></div><div style=\"background-color:rgb(231,41,138);height:20px;width:20px;margin-bottom:0px;display:inline-block;\"></div><div style=\"background-color:rgb(102,166,30);height:20px;width:20px;margin-bottom:0px;display:inline-block;\"></div><div style=\"background-color:rgb(230,171,2);height:20px;width:20px;margin-bottom:0px;display:inline-block;\"></div><div style=\"background-color:rgb(166,118,29);height:20px;width:20px;margin-bottom:0px;display:inline-block;\"></div><div style=\"background-color:rgb(102,102,102);height:20px;width:20px;margin-bottom:0px;display:inline-block;\"></div></div><div style=\"display:inline-block;padding:10px;\"><div>dflt</div><div style=\"background-color:rgb(255, 153, 51);height:20px;width:20px;margin-bottom:0px;display:inline-block;\"></div><div style=\"background-color:rgb(55, 128, 191);height:20px;width:20px;margin-bottom:0px;display:inline-block;\"></div><div style=\"background-color:rgb(50, 171, 96);height:20px;width:20px;margin-bottom:0px;display:inline-block;\"></div><div style=\"background-color:rgb(128, 0, 128);height:20px;width:20px;margin-bottom:0px;display:inline-block;\"></div><div style=\"background-color:rgb(219, 64, 82);height:20px;width:20px;margin-bottom:0px;display:inline-block;\"></div><div style=\"background-color:rgb(0, 128, 128);height:20px;width:20px;margin-bottom:0px;display:inline-block;\"></div><div style=\"background-color:rgb(255, 255, 51);height:20px;width:20px;margin-bottom:0px;display:inline-block;\"></div><div style=\"background-color:rgb(128, 128, 0);height:20px;width:20px;margin-bottom:0px;display:inline-block;\"></div><div style=\"background-color:rgb(251, 128, 114);height:20px;width:20px;margin-bottom:0px;display:inline-block;\"></div><div style=\"background-color:rgb(128, 177, 211);height:20px;width:20px;margin-bottom:0px;display:inline-block;\"></div></div><div style=\"display:inline-block;padding:10px;\"><div>ggplot</div><div style=\"background-color:rgb(226, 74, 51);height:20px;width:20px;margin-bottom:0px;display:inline-block;\"></div><div style=\"background-color:rgb(62, 111, 176);height:20px;width:20px;margin-bottom:0px;display:inline-block;\"></div><div style=\"background-color:rgb(132, 118, 202);height:20px;width:20px;margin-bottom:0px;display:inline-block;\"></div><div style=\"background-color:rgb(101, 101, 101);height:20px;width:20px;margin-bottom:0px;display:inline-block;\"></div><div style=\"background-color:rgb(251, 193, 94);height:20px;width:20px;margin-bottom:0px;display:inline-block;\"></div><div style=\"background-color:rgb(142, 186, 66);height:20px;width:20px;margin-bottom:0px;display:inline-block;\"></div><div style=\"background-color:rgb(255, 181, 184);height:20px;width:20px;margin-bottom:0px;display:inline-block;\"></div></div><div style=\"display:inline-block;padding:10px;\"><div>gnbu</div><div style=\"background-color:rgb(247,252,240);height:20px;width:20px;margin-bottom:0px;display:inline-block;\"></div><div style=\"background-color:rgb(224,243,219);height:20px;width:20px;margin-bottom:0px;display:inline-block;\"></div><div style=\"background-color:rgb(204,235,197);height:20px;width:20px;margin-bottom:0px;display:inline-block;\"></div><div style=\"background-color:rgb(168,221,181);height:20px;width:20px;margin-bottom:0px;display:inline-block;\"></div><div style=\"background-color:rgb(123,204,196);height:20px;width:20px;margin-bottom:0px;display:inline-block;\"></div><div style=\"background-color:rgb(78,179,211);height:20px;width:20px;margin-bottom:0px;display:inline-block;\"></div><div style=\"background-color:rgb(43,140,190);height:20px;width:20px;margin-bottom:0px;display:inline-block;\"></div><div style=\"background-color:rgb(8,104,172);height:20px;width:20px;margin-bottom:0px;display:inline-block;\"></div><div style=\"background-color:rgb(8,64,129);height:20px;width:20px;margin-bottom:0px;display:inline-block;\"></div></div><div style=\"display:inline-block;padding:10px;\"><div>greens</div><div style=\"background-color:rgb(247,252,245);height:20px;width:20px;margin-bottom:0px;display:inline-block;\"></div><div style=\"background-color:rgb(229,245,224);height:20px;width:20px;margin-bottom:0px;display:inline-block;\"></div><div style=\"background-color:rgb(199,233,192);height:20px;width:20px;margin-bottom:0px;display:inline-block;\"></div><div style=\"background-color:rgb(161,217,155);height:20px;width:20px;margin-bottom:0px;display:inline-block;\"></div><div style=\"background-color:rgb(116,196,118);height:20px;width:20px;margin-bottom:0px;display:inline-block;\"></div><div style=\"background-color:rgb(65,171,93);height:20px;width:20px;margin-bottom:0px;display:inline-block;\"></div><div style=\"background-color:rgb(35,139,69);height:20px;width:20px;margin-bottom:0px;display:inline-block;\"></div><div style=\"background-color:rgb(0,109,44);height:20px;width:20px;margin-bottom:0px;display:inline-block;\"></div><div style=\"background-color:rgb(0,68,27);height:20px;width:20px;margin-bottom:0px;display:inline-block;\"></div></div><div style=\"display:inline-block;padding:10px;\"><div>greys</div><div style=\"background-color:rgb(255,255,255);height:20px;width:20px;margin-bottom:0px;display:inline-block;\"></div><div style=\"background-color:rgb(240,240,240);height:20px;width:20px;margin-bottom:0px;display:inline-block;\"></div><div style=\"background-color:rgb(217,217,217);height:20px;width:20px;margin-bottom:0px;display:inline-block;\"></div><div style=\"background-color:rgb(189,189,189);height:20px;width:20px;margin-bottom:0px;display:inline-block;\"></div><div style=\"background-color:rgb(150,150,150);height:20px;width:20px;margin-bottom:0px;display:inline-block;\"></div><div style=\"background-color:rgb(115,115,115);height:20px;width:20px;margin-bottom:0px;display:inline-block;\"></div><div style=\"background-color:rgb(82,82,82);height:20px;width:20px;margin-bottom:0px;display:inline-block;\"></div><div style=\"background-color:rgb(37,37,37);height:20px;width:20px;margin-bottom:0px;display:inline-block;\"></div><div style=\"background-color:rgb(0,0,0);height:20px;width:20px;margin-bottom:0px;display:inline-block;\"></div></div><div style=\"display:inline-block;padding:10px;\"><div>henanigans</div><div style=\"background-color:rgb(182, 236, 243);height:20px;width:20px;margin-bottom:0px;display:inline-block;\"></div><div style=\"background-color:rgb(222, 149, 142);height:20px;width:20px;margin-bottom:0px;display:inline-block;\"></div><div style=\"background-color:rgb(160, 209, 123);height:20px;width:20px;margin-bottom:0px;display:inline-block;\"></div><div style=\"background-color:rgb(147, 182, 230);height:20px;width:20px;margin-bottom:0px;display:inline-block;\"></div><div style=\"background-color:rgb(235, 180, 131);height:20px;width:20px;margin-bottom:0px;display:inline-block;\"></div><div style=\"background-color:rgb(172, 146, 222);height:20px;width:20px;margin-bottom:0px;display:inline-block;\"></div><div style=\"background-color:rgb(233, 234, 190);height:20px;width:20px;margin-bottom:0px;display:inline-block;\"></div><div style=\"background-color:rgb(244, 244, 244);height:20px;width:20px;margin-bottom:0px;display:inline-block;\"></div><div style=\"background-color:rgb(126, 196, 207);height:20px;width:20px;margin-bottom:0px;display:inline-block;\"></div><div style=\"background-color:rgb(247, 126, 112);height:20px;width:20px;margin-bottom:0px;display:inline-block;\"></div><div style=\"background-color:rgb(139, 209, 85);height:20px;width:20px;margin-bottom:0px;display:inline-block;\"></div><div style=\"background-color:rgb(95, 149, 222);height:20px;width:20px;margin-bottom:0px;display:inline-block;\"></div></div><div style=\"display:inline-block;padding:10px;\"><div>oranges</div><div style=\"background-color:rgb(255,245,235);height:20px;width:20px;margin-bottom:0px;display:inline-block;\"></div><div style=\"background-color:rgb(254,230,206);height:20px;width:20px;margin-bottom:0px;display:inline-block;\"></div><div style=\"background-color:rgb(253,208,162);height:20px;width:20px;margin-bottom:0px;display:inline-block;\"></div><div style=\"background-color:rgb(253,174,107);height:20px;width:20px;margin-bottom:0px;display:inline-block;\"></div><div style=\"background-color:rgb(253,141,60);height:20px;width:20px;margin-bottom:0px;display:inline-block;\"></div><div style=\"background-color:rgb(241,105,19);height:20px;width:20px;margin-bottom:0px;display:inline-block;\"></div><div style=\"background-color:rgb(217,72,1);height:20px;width:20px;margin-bottom:0px;display:inline-block;\"></div><div style=\"background-color:rgb(166,54,3);height:20px;width:20px;margin-bottom:0px;display:inline-block;\"></div><div style=\"background-color:rgb(127,39,4);height:20px;width:20px;margin-bottom:0px;display:inline-block;\"></div></div><div style=\"display:inline-block;padding:10px;\"><div>original</div><div style=\"background-color:rgb(255, 153, 51);height:20px;width:20px;margin-bottom:0px;display:inline-block;\"></div><div style=\"background-color:rgb(55, 128, 191);height:20px;width:20px;margin-bottom:0px;display:inline-block;\"></div><div style=\"background-color:rgb(50, 171, 96);height:20px;width:20px;margin-bottom:0px;display:inline-block;\"></div><div style=\"background-color:rgb(128, 0, 128);height:20px;width:20px;margin-bottom:0px;display:inline-block;\"></div><div style=\"background-color:rgb(219, 64, 82);height:20px;width:20px;margin-bottom:0px;display:inline-block;\"></div><div style=\"background-color:rgb(0, 128, 128);height:20px;width:20px;margin-bottom:0px;display:inline-block;\"></div><div style=\"background-color:rgb(255, 255, 51);height:20px;width:20px;margin-bottom:0px;display:inline-block;\"></div><div style=\"background-color:rgb(128, 128, 0);height:20px;width:20px;margin-bottom:0px;display:inline-block;\"></div><div style=\"background-color:rgb(251, 128, 114);height:20px;width:20px;margin-bottom:0px;display:inline-block;\"></div><div style=\"background-color:rgb(128, 177, 211);height:20px;width:20px;margin-bottom:0px;display:inline-block;\"></div></div><div style=\"display:inline-block;padding:10px;\"><div>orrd</div><div style=\"background-color:rgb(255,247,236);height:20px;width:20px;margin-bottom:0px;display:inline-block;\"></div><div style=\"background-color:rgb(254,232,200);height:20px;width:20px;margin-bottom:0px;display:inline-block;\"></div><div style=\"background-color:rgb(253,212,158);height:20px;width:20px;margin-bottom:0px;display:inline-block;\"></div><div style=\"background-color:rgb(253,187,132);height:20px;width:20px;margin-bottom:0px;display:inline-block;\"></div><div style=\"background-color:rgb(252,141,89);height:20px;width:20px;margin-bottom:0px;display:inline-block;\"></div><div style=\"background-color:rgb(239,101,72);height:20px;width:20px;margin-bottom:0px;display:inline-block;\"></div><div style=\"background-color:rgb(215,48,31);height:20px;width:20px;margin-bottom:0px;display:inline-block;\"></div><div style=\"background-color:rgb(179,0,0);height:20px;width:20px;margin-bottom:0px;display:inline-block;\"></div><div style=\"background-color:rgb(127,0,0);height:20px;width:20px;margin-bottom:0px;display:inline-block;\"></div></div><div style=\"display:inline-block;padding:10px;\"><div>paired</div><div style=\"background-color:rgb(166,206,227);height:20px;width:20px;margin-bottom:0px;display:inline-block;\"></div><div style=\"background-color:rgb(31,120,180);height:20px;width:20px;margin-bottom:0px;display:inline-block;\"></div><div style=\"background-color:rgb(178,223,138);height:20px;width:20px;margin-bottom:0px;display:inline-block;\"></div><div style=\"background-color:rgb(51,160,44);height:20px;width:20px;margin-bottom:0px;display:inline-block;\"></div><div style=\"background-color:rgb(251,154,153);height:20px;width:20px;margin-bottom:0px;display:inline-block;\"></div><div style=\"background-color:rgb(227,26,28);height:20px;width:20px;margin-bottom:0px;display:inline-block;\"></div><div style=\"background-color:rgb(253,191,111);height:20px;width:20px;margin-bottom:0px;display:inline-block;\"></div><div style=\"background-color:rgb(255,127,0);height:20px;width:20px;margin-bottom:0px;display:inline-block;\"></div><div style=\"background-color:rgb(202,178,214);height:20px;width:20px;margin-bottom:0px;display:inline-block;\"></div><div style=\"background-color:rgb(106,61,154);height:20px;width:20px;margin-bottom:0px;display:inline-block;\"></div><div style=\"background-color:rgb(255,255,153);height:20px;width:20px;margin-bottom:0px;display:inline-block;\"></div><div style=\"background-color:rgb(177,89,40);height:20px;width:20px;margin-bottom:0px;display:inline-block;\"></div></div><div style=\"display:inline-block;padding:10px;\"><div>pastel1</div><div style=\"background-color:rgb(251,180,174);height:20px;width:20px;margin-bottom:0px;display:inline-block;\"></div><div style=\"background-color:rgb(179,205,227);height:20px;width:20px;margin-bottom:0px;display:inline-block;\"></div><div style=\"background-color:rgb(204,235,197);height:20px;width:20px;margin-bottom:0px;display:inline-block;\"></div><div style=\"background-color:rgb(222,203,228);height:20px;width:20px;margin-bottom:0px;display:inline-block;\"></div><div style=\"background-color:rgb(254,217,166);height:20px;width:20px;margin-bottom:0px;display:inline-block;\"></div><div style=\"background-color:rgb(255,255,204);height:20px;width:20px;margin-bottom:0px;display:inline-block;\"></div><div style=\"background-color:rgb(229,216,189);height:20px;width:20px;margin-bottom:0px;display:inline-block;\"></div><div style=\"background-color:rgb(253,218,236);height:20px;width:20px;margin-bottom:0px;display:inline-block;\"></div><div style=\"background-color:rgb(242,242,242);height:20px;width:20px;margin-bottom:0px;display:inline-block;\"></div></div><div style=\"display:inline-block;padding:10px;\"><div>pastel2</div><div style=\"background-color:rgb(179,226,205);height:20px;width:20px;margin-bottom:0px;display:inline-block;\"></div><div style=\"background-color:rgb(253,205,172);height:20px;width:20px;margin-bottom:0px;display:inline-block;\"></div><div style=\"background-color:rgb(203,213,232);height:20px;width:20px;margin-bottom:0px;display:inline-block;\"></div><div style=\"background-color:rgb(244,202,228);height:20px;width:20px;margin-bottom:0px;display:inline-block;\"></div><div style=\"background-color:rgb(230,245,201);height:20px;width:20px;margin-bottom:0px;display:inline-block;\"></div><div style=\"background-color:rgb(255,242,174);height:20px;width:20px;margin-bottom:0px;display:inline-block;\"></div><div style=\"background-color:rgb(241,226,204);height:20px;width:20px;margin-bottom:0px;display:inline-block;\"></div><div style=\"background-color:rgb(204,204,204);height:20px;width:20px;margin-bottom:0px;display:inline-block;\"></div></div><div style=\"display:inline-block;padding:10px;\"><div>piyg</div><div style=\"background-color:rgb(142,1,82);height:20px;width:20px;margin-bottom:0px;display:inline-block;\"></div><div style=\"background-color:rgb(197,27,125);height:20px;width:20px;margin-bottom:0px;display:inline-block;\"></div><div style=\"background-color:rgb(222,119,174);height:20px;width:20px;margin-bottom:0px;display:inline-block;\"></div><div style=\"background-color:rgb(241,182,218);height:20px;width:20px;margin-bottom:0px;display:inline-block;\"></div><div style=\"background-color:rgb(253,224,239);height:20px;width:20px;margin-bottom:0px;display:inline-block;\"></div><div style=\"background-color:rgb(247,247,247);height:20px;width:20px;margin-bottom:0px;display:inline-block;\"></div><div style=\"background-color:rgb(230,245,208);height:20px;width:20px;margin-bottom:0px;display:inline-block;\"></div><div style=\"background-color:rgb(184,225,134);height:20px;width:20px;margin-bottom:0px;display:inline-block;\"></div><div style=\"background-color:rgb(127,188,65);height:20px;width:20px;margin-bottom:0px;display:inline-block;\"></div><div style=\"background-color:rgb(77,146,33);height:20px;width:20px;margin-bottom:0px;display:inline-block;\"></div><div style=\"background-color:rgb(39,100,25);height:20px;width:20px;margin-bottom:0px;display:inline-block;\"></div></div><div style=\"display:inline-block;padding:10px;\"><div>plotly</div><div style=\"background-color:rgb(31, 119, 180);height:20px;width:20px;margin-bottom:0px;display:inline-block;\"></div><div style=\"background-color:rgb(255, 127, 14);height:20px;width:20px;margin-bottom:0px;display:inline-block;\"></div><div style=\"background-color:rgb(44, 160, 44);height:20px;width:20px;margin-bottom:0px;display:inline-block;\"></div><div style=\"background-color:rgb(214, 39, 40);height:20px;width:20px;margin-bottom:0px;display:inline-block;\"></div><div style=\"background-color:rgb(148, 103, 189);height:20px;width:20px;margin-bottom:0px;display:inline-block;\"></div><div style=\"background-color:rgb(140, 86, 75);height:20px;width:20px;margin-bottom:0px;display:inline-block;\"></div><div style=\"background-color:rgb(227, 119, 194);height:20px;width:20px;margin-bottom:0px;display:inline-block;\"></div><div style=\"background-color:rgb(127, 127, 127);height:20px;width:20px;margin-bottom:0px;display:inline-block;\"></div><div style=\"background-color:rgb(188, 189, 34);height:20px;width:20px;margin-bottom:0px;display:inline-block;\"></div><div style=\"background-color:rgb(23, 190, 207);height:20px;width:20px;margin-bottom:0px;display:inline-block;\"></div></div><div style=\"display:inline-block;padding:10px;\"><div>polar</div><div style=\"background-color:rgb(0, 128, 240);height:20px;width:20px;margin-bottom:0px;display:inline-block;\"></div><div style=\"background-color:rgb(238, 118, 0);height:20px;width:20px;margin-bottom:0px;display:inline-block;\"></div><div style=\"background-color:rgb(48, 144, 84);height:20px;width:20px;margin-bottom:0px;display:inline-block;\"></div><div style=\"background-color:rgb(98, 98, 222);height:20px;width:20px;margin-bottom:0px;display:inline-block;\"></div><div style=\"background-color:rgb(217, 66, 85);height:20px;width:20px;margin-bottom:0px;display:inline-block;\"></div><div style=\"background-color:rgb(173, 252, 252);height:20px;width:20px;margin-bottom:0px;display:inline-block;\"></div><div style=\"background-color:rgb(70, 160, 240);height:20px;width:20px;margin-bottom:0px;display:inline-block;\"></div></div><div style=\"display:inline-block;padding:10px;\"><div>prgn</div><div style=\"background-color:rgb(64,0,75);height:20px;width:20px;margin-bottom:0px;display:inline-block;\"></div><div style=\"background-color:rgb(118,42,131);height:20px;width:20px;margin-bottom:0px;display:inline-block;\"></div><div style=\"background-color:rgb(153,112,171);height:20px;width:20px;margin-bottom:0px;display:inline-block;\"></div><div style=\"background-color:rgb(194,165,207);height:20px;width:20px;margin-bottom:0px;display:inline-block;\"></div><div style=\"background-color:rgb(231,212,232);height:20px;width:20px;margin-bottom:0px;display:inline-block;\"></div><div style=\"background-color:rgb(247,247,247);height:20px;width:20px;margin-bottom:0px;display:inline-block;\"></div><div style=\"background-color:rgb(217,240,211);height:20px;width:20px;margin-bottom:0px;display:inline-block;\"></div><div style=\"background-color:rgb(166,219,160);height:20px;width:20px;margin-bottom:0px;display:inline-block;\"></div><div style=\"background-color:rgb(90,174,97);height:20px;width:20px;margin-bottom:0px;display:inline-block;\"></div><div style=\"background-color:rgb(27,120,55);height:20px;width:20px;margin-bottom:0px;display:inline-block;\"></div><div style=\"background-color:rgb(0,68,27);height:20px;width:20px;margin-bottom:0px;display:inline-block;\"></div></div><div style=\"display:inline-block;padding:10px;\"><div>pubu</div><div style=\"background-color:rgb(255,247,251);height:20px;width:20px;margin-bottom:0px;display:inline-block;\"></div><div style=\"background-color:rgb(236,231,242);height:20px;width:20px;margin-bottom:0px;display:inline-block;\"></div><div style=\"background-color:rgb(208,209,230);height:20px;width:20px;margin-bottom:0px;display:inline-block;\"></div><div style=\"background-color:rgb(166,189,219);height:20px;width:20px;margin-bottom:0px;display:inline-block;\"></div><div style=\"background-color:rgb(116,169,207);height:20px;width:20px;margin-bottom:0px;display:inline-block;\"></div><div style=\"background-color:rgb(54,144,192);height:20px;width:20px;margin-bottom:0px;display:inline-block;\"></div><div style=\"background-color:rgb(5,112,176);height:20px;width:20px;margin-bottom:0px;display:inline-block;\"></div><div style=\"background-color:rgb(4,90,141);height:20px;width:20px;margin-bottom:0px;display:inline-block;\"></div><div style=\"background-color:rgb(2,56,88);height:20px;width:20px;margin-bottom:0px;display:inline-block;\"></div></div><div style=\"display:inline-block;padding:10px;\"><div>pubugn</div><div style=\"background-color:rgb(255,247,251);height:20px;width:20px;margin-bottom:0px;display:inline-block;\"></div><div style=\"background-color:rgb(236,226,240);height:20px;width:20px;margin-bottom:0px;display:inline-block;\"></div><div style=\"background-color:rgb(208,209,230);height:20px;width:20px;margin-bottom:0px;display:inline-block;\"></div><div style=\"background-color:rgb(166,189,219);height:20px;width:20px;margin-bottom:0px;display:inline-block;\"></div><div style=\"background-color:rgb(103,169,207);height:20px;width:20px;margin-bottom:0px;display:inline-block;\"></div><div style=\"background-color:rgb(54,144,192);height:20px;width:20px;margin-bottom:0px;display:inline-block;\"></div><div style=\"background-color:rgb(2,129,138);height:20px;width:20px;margin-bottom:0px;display:inline-block;\"></div><div style=\"background-color:rgb(1,108,89);height:20px;width:20px;margin-bottom:0px;display:inline-block;\"></div><div style=\"background-color:rgb(1,70,54);height:20px;width:20px;margin-bottom:0px;display:inline-block;\"></div></div><div style=\"display:inline-block;padding:10px;\"><div>puor</div><div style=\"background-color:rgb(127,59,8);height:20px;width:20px;margin-bottom:0px;display:inline-block;\"></div><div style=\"background-color:rgb(179,88,6);height:20px;width:20px;margin-bottom:0px;display:inline-block;\"></div><div style=\"background-color:rgb(224,130,20);height:20px;width:20px;margin-bottom:0px;display:inline-block;\"></div><div style=\"background-color:rgb(253,184,99);height:20px;width:20px;margin-bottom:0px;display:inline-block;\"></div><div style=\"background-color:rgb(254,224,182);height:20px;width:20px;margin-bottom:0px;display:inline-block;\"></div><div style=\"background-color:rgb(247,247,247);height:20px;width:20px;margin-bottom:0px;display:inline-block;\"></div><div style=\"background-color:rgb(216,218,235);height:20px;width:20px;margin-bottom:0px;display:inline-block;\"></div><div style=\"background-color:rgb(178,171,210);height:20px;width:20px;margin-bottom:0px;display:inline-block;\"></div><div style=\"background-color:rgb(128,115,172);height:20px;width:20px;margin-bottom:0px;display:inline-block;\"></div><div style=\"background-color:rgb(84,39,136);height:20px;width:20px;margin-bottom:0px;display:inline-block;\"></div><div style=\"background-color:rgb(45,0,75);height:20px;width:20px;margin-bottom:0px;display:inline-block;\"></div></div><div style=\"display:inline-block;padding:10px;\"><div>purd</div><div style=\"background-color:rgb(247,244,249);height:20px;width:20px;margin-bottom:0px;display:inline-block;\"></div><div style=\"background-color:rgb(231,225,239);height:20px;width:20px;margin-bottom:0px;display:inline-block;\"></div><div style=\"background-color:rgb(212,185,218);height:20px;width:20px;margin-bottom:0px;display:inline-block;\"></div><div style=\"background-color:rgb(201,148,199);height:20px;width:20px;margin-bottom:0px;display:inline-block;\"></div><div style=\"background-color:rgb(223,101,176);height:20px;width:20px;margin-bottom:0px;display:inline-block;\"></div><div style=\"background-color:rgb(231,41,138);height:20px;width:20px;margin-bottom:0px;display:inline-block;\"></div><div style=\"background-color:rgb(206,18,86);height:20px;width:20px;margin-bottom:0px;display:inline-block;\"></div><div style=\"background-color:rgb(152,0,67);height:20px;width:20px;margin-bottom:0px;display:inline-block;\"></div><div style=\"background-color:rgb(103,0,31);height:20px;width:20px;margin-bottom:0px;display:inline-block;\"></div></div><div style=\"display:inline-block;padding:10px;\"><div>purples</div><div style=\"background-color:rgb(252,251,253);height:20px;width:20px;margin-bottom:0px;display:inline-block;\"></div><div style=\"background-color:rgb(239,237,245);height:20px;width:20px;margin-bottom:0px;display:inline-block;\"></div><div style=\"background-color:rgb(218,218,235);height:20px;width:20px;margin-bottom:0px;display:inline-block;\"></div><div style=\"background-color:rgb(188,189,220);height:20px;width:20px;margin-bottom:0px;display:inline-block;\"></div><div style=\"background-color:rgb(158,154,200);height:20px;width:20px;margin-bottom:0px;display:inline-block;\"></div><div style=\"background-color:rgb(128,125,186);height:20px;width:20px;margin-bottom:0px;display:inline-block;\"></div><div style=\"background-color:rgb(106,81,163);height:20px;width:20px;margin-bottom:0px;display:inline-block;\"></div><div style=\"background-color:rgb(84,39,143);height:20px;width:20px;margin-bottom:0px;display:inline-block;\"></div><div style=\"background-color:rgb(63,0,125);height:20px;width:20px;margin-bottom:0px;display:inline-block;\"></div></div><div style=\"display:inline-block;padding:10px;\"><div>rdbu</div><div style=\"background-color:rgb(103,0,31);height:20px;width:20px;margin-bottom:0px;display:inline-block;\"></div><div style=\"background-color:rgb(178,24,43);height:20px;width:20px;margin-bottom:0px;display:inline-block;\"></div><div style=\"background-color:rgb(214,96,77);height:20px;width:20px;margin-bottom:0px;display:inline-block;\"></div><div style=\"background-color:rgb(244,165,130);height:20px;width:20px;margin-bottom:0px;display:inline-block;\"></div><div style=\"background-color:rgb(253,219,199);height:20px;width:20px;margin-bottom:0px;display:inline-block;\"></div><div style=\"background-color:rgb(247,247,247);height:20px;width:20px;margin-bottom:0px;display:inline-block;\"></div><div style=\"background-color:rgb(209,229,240);height:20px;width:20px;margin-bottom:0px;display:inline-block;\"></div><div style=\"background-color:rgb(146,197,222);height:20px;width:20px;margin-bottom:0px;display:inline-block;\"></div><div style=\"background-color:rgb(67,147,195);height:20px;width:20px;margin-bottom:0px;display:inline-block;\"></div><div style=\"background-color:rgb(33,102,172);height:20px;width:20px;margin-bottom:0px;display:inline-block;\"></div><div style=\"background-color:rgb(5,48,97);height:20px;width:20px;margin-bottom:0px;display:inline-block;\"></div></div><div style=\"display:inline-block;padding:10px;\"><div>rdgy</div><div style=\"background-color:rgb(103,0,31);height:20px;width:20px;margin-bottom:0px;display:inline-block;\"></div><div style=\"background-color:rgb(178,24,43);height:20px;width:20px;margin-bottom:0px;display:inline-block;\"></div><div style=\"background-color:rgb(214,96,77);height:20px;width:20px;margin-bottom:0px;display:inline-block;\"></div><div style=\"background-color:rgb(244,165,130);height:20px;width:20px;margin-bottom:0px;display:inline-block;\"></div><div style=\"background-color:rgb(253,219,199);height:20px;width:20px;margin-bottom:0px;display:inline-block;\"></div><div style=\"background-color:rgb(255,255,255);height:20px;width:20px;margin-bottom:0px;display:inline-block;\"></div><div style=\"background-color:rgb(224,224,224);height:20px;width:20px;margin-bottom:0px;display:inline-block;\"></div><div style=\"background-color:rgb(186,186,186);height:20px;width:20px;margin-bottom:0px;display:inline-block;\"></div><div style=\"background-color:rgb(135,135,135);height:20px;width:20px;margin-bottom:0px;display:inline-block;\"></div><div style=\"background-color:rgb(77,77,77);height:20px;width:20px;margin-bottom:0px;display:inline-block;\"></div><div style=\"background-color:rgb(26,26,26);height:20px;width:20px;margin-bottom:0px;display:inline-block;\"></div></div><div style=\"display:inline-block;padding:10px;\"><div>rdpu</div><div style=\"background-color:rgb(255,247,243);height:20px;width:20px;margin-bottom:0px;display:inline-block;\"></div><div style=\"background-color:rgb(253,224,221);height:20px;width:20px;margin-bottom:0px;display:inline-block;\"></div><div style=\"background-color:rgb(252,197,192);height:20px;width:20px;margin-bottom:0px;display:inline-block;\"></div><div style=\"background-color:rgb(250,159,181);height:20px;width:20px;margin-bottom:0px;display:inline-block;\"></div><div style=\"background-color:rgb(247,104,161);height:20px;width:20px;margin-bottom:0px;display:inline-block;\"></div><div style=\"background-color:rgb(221,52,151);height:20px;width:20px;margin-bottom:0px;display:inline-block;\"></div><div style=\"background-color:rgb(174,1,126);height:20px;width:20px;margin-bottom:0px;display:inline-block;\"></div><div style=\"background-color:rgb(122,1,119);height:20px;width:20px;margin-bottom:0px;display:inline-block;\"></div><div style=\"background-color:rgb(73,0,106);height:20px;width:20px;margin-bottom:0px;display:inline-block;\"></div></div><div style=\"display:inline-block;padding:10px;\"><div>rdylbu</div><div style=\"background-color:rgb(165,0,38);height:20px;width:20px;margin-bottom:0px;display:inline-block;\"></div><div style=\"background-color:rgb(215,48,39);height:20px;width:20px;margin-bottom:0px;display:inline-block;\"></div><div style=\"background-color:rgb(244,109,67);height:20px;width:20px;margin-bottom:0px;display:inline-block;\"></div><div style=\"background-color:rgb(253,174,97);height:20px;width:20px;margin-bottom:0px;display:inline-block;\"></div><div style=\"background-color:rgb(254,224,144);height:20px;width:20px;margin-bottom:0px;display:inline-block;\"></div><div style=\"background-color:rgb(255,255,191);height:20px;width:20px;margin-bottom:0px;display:inline-block;\"></div><div style=\"background-color:rgb(224,243,248);height:20px;width:20px;margin-bottom:0px;display:inline-block;\"></div><div style=\"background-color:rgb(171,217,233);height:20px;width:20px;margin-bottom:0px;display:inline-block;\"></div><div style=\"background-color:rgb(116,173,209);height:20px;width:20px;margin-bottom:0px;display:inline-block;\"></div><div style=\"background-color:rgb(69,117,180);height:20px;width:20px;margin-bottom:0px;display:inline-block;\"></div><div style=\"background-color:rgb(49,54,149);height:20px;width:20px;margin-bottom:0px;display:inline-block;\"></div></div><div style=\"display:inline-block;padding:10px;\"><div>rdylgn</div><div style=\"background-color:rgb(165,0,38);height:20px;width:20px;margin-bottom:0px;display:inline-block;\"></div><div style=\"background-color:rgb(215,48,39);height:20px;width:20px;margin-bottom:0px;display:inline-block;\"></div><div style=\"background-color:rgb(244,109,67);height:20px;width:20px;margin-bottom:0px;display:inline-block;\"></div><div style=\"background-color:rgb(253,174,97);height:20px;width:20px;margin-bottom:0px;display:inline-block;\"></div><div style=\"background-color:rgb(254,224,139);height:20px;width:20px;margin-bottom:0px;display:inline-block;\"></div><div style=\"background-color:rgb(255,255,191);height:20px;width:20px;margin-bottom:0px;display:inline-block;\"></div><div style=\"background-color:rgb(217,239,139);height:20px;width:20px;margin-bottom:0px;display:inline-block;\"></div><div style=\"background-color:rgb(166,217,106);height:20px;width:20px;margin-bottom:0px;display:inline-block;\"></div><div style=\"background-color:rgb(102,189,99);height:20px;width:20px;margin-bottom:0px;display:inline-block;\"></div><div style=\"background-color:rgb(26,152,80);height:20px;width:20px;margin-bottom:0px;display:inline-block;\"></div><div style=\"background-color:rgb(0,104,55);height:20px;width:20px;margin-bottom:0px;display:inline-block;\"></div></div><div style=\"display:inline-block;padding:10px;\"><div>reds</div><div style=\"background-color:rgb(255,245,240);height:20px;width:20px;margin-bottom:0px;display:inline-block;\"></div><div style=\"background-color:rgb(254,224,210);height:20px;width:20px;margin-bottom:0px;display:inline-block;\"></div><div style=\"background-color:rgb(252,187,161);height:20px;width:20px;margin-bottom:0px;display:inline-block;\"></div><div style=\"background-color:rgb(252,146,114);height:20px;width:20px;margin-bottom:0px;display:inline-block;\"></div><div style=\"background-color:rgb(251,106,74);height:20px;width:20px;margin-bottom:0px;display:inline-block;\"></div><div style=\"background-color:rgb(239,59,44);height:20px;width:20px;margin-bottom:0px;display:inline-block;\"></div><div style=\"background-color:rgb(203,24,29);height:20px;width:20px;margin-bottom:0px;display:inline-block;\"></div><div style=\"background-color:rgb(165,15,21);height:20px;width:20px;margin-bottom:0px;display:inline-block;\"></div><div style=\"background-color:rgb(103,0,13);height:20px;width:20px;margin-bottom:0px;display:inline-block;\"></div></div><div style=\"display:inline-block;padding:10px;\"><div>set1</div><div style=\"background-color:rgb(228,26,28);height:20px;width:20px;margin-bottom:0px;display:inline-block;\"></div><div style=\"background-color:rgb(55,126,184);height:20px;width:20px;margin-bottom:0px;display:inline-block;\"></div><div style=\"background-color:rgb(77,175,74);height:20px;width:20px;margin-bottom:0px;display:inline-block;\"></div><div style=\"background-color:rgb(152,78,163);height:20px;width:20px;margin-bottom:0px;display:inline-block;\"></div><div style=\"background-color:rgb(255,127,0);height:20px;width:20px;margin-bottom:0px;display:inline-block;\"></div><div style=\"background-color:rgb(255,255,51);height:20px;width:20px;margin-bottom:0px;display:inline-block;\"></div><div style=\"background-color:rgb(166,86,40);height:20px;width:20px;margin-bottom:0px;display:inline-block;\"></div><div style=\"background-color:rgb(247,129,191);height:20px;width:20px;margin-bottom:0px;display:inline-block;\"></div><div style=\"background-color:rgb(153,153,153);height:20px;width:20px;margin-bottom:0px;display:inline-block;\"></div></div><div style=\"display:inline-block;padding:10px;\"><div>set2</div><div style=\"background-color:rgb(102,194,165);height:20px;width:20px;margin-bottom:0px;display:inline-block;\"></div><div style=\"background-color:rgb(252,141,98);height:20px;width:20px;margin-bottom:0px;display:inline-block;\"></div><div style=\"background-color:rgb(141,160,203);height:20px;width:20px;margin-bottom:0px;display:inline-block;\"></div><div style=\"background-color:rgb(231,138,195);height:20px;width:20px;margin-bottom:0px;display:inline-block;\"></div><div style=\"background-color:rgb(166,216,84);height:20px;width:20px;margin-bottom:0px;display:inline-block;\"></div><div style=\"background-color:rgb(255,217,47);height:20px;width:20px;margin-bottom:0px;display:inline-block;\"></div><div style=\"background-color:rgb(229,196,148);height:20px;width:20px;margin-bottom:0px;display:inline-block;\"></div><div style=\"background-color:rgb(179,179,179);height:20px;width:20px;margin-bottom:0px;display:inline-block;\"></div></div><div style=\"display:inline-block;padding:10px;\"><div>set3</div><div style=\"background-color:rgb(141,211,199);height:20px;width:20px;margin-bottom:0px;display:inline-block;\"></div><div style=\"background-color:rgb(255,255,179);height:20px;width:20px;margin-bottom:0px;display:inline-block;\"></div><div style=\"background-color:rgb(190,186,218);height:20px;width:20px;margin-bottom:0px;display:inline-block;\"></div><div style=\"background-color:rgb(251,128,114);height:20px;width:20px;margin-bottom:0px;display:inline-block;\"></div><div style=\"background-color:rgb(128,177,211);height:20px;width:20px;margin-bottom:0px;display:inline-block;\"></div><div style=\"background-color:rgb(253,180,98);height:20px;width:20px;margin-bottom:0px;display:inline-block;\"></div><div style=\"background-color:rgb(179,222,105);height:20px;width:20px;margin-bottom:0px;display:inline-block;\"></div><div style=\"background-color:rgb(252,205,229);height:20px;width:20px;margin-bottom:0px;display:inline-block;\"></div><div style=\"background-color:rgb(217,217,217);height:20px;width:20px;margin-bottom:0px;display:inline-block;\"></div><div style=\"background-color:rgb(188,128,189);height:20px;width:20px;margin-bottom:0px;display:inline-block;\"></div><div style=\"background-color:rgb(204,235,197);height:20px;width:20px;margin-bottom:0px;display:inline-block;\"></div><div style=\"background-color:rgb(255,237,111);height:20px;width:20px;margin-bottom:0px;display:inline-block;\"></div></div><div style=\"display:inline-block;padding:10px;\"><div>spectral</div><div style=\"background-color:rgb(158,1,66);height:20px;width:20px;margin-bottom:0px;display:inline-block;\"></div><div style=\"background-color:rgb(213,62,79);height:20px;width:20px;margin-bottom:0px;display:inline-block;\"></div><div style=\"background-color:rgb(244,109,67);height:20px;width:20px;margin-bottom:0px;display:inline-block;\"></div><div style=\"background-color:rgb(253,174,97);height:20px;width:20px;margin-bottom:0px;display:inline-block;\"></div><div style=\"background-color:rgb(254,224,139);height:20px;width:20px;margin-bottom:0px;display:inline-block;\"></div><div style=\"background-color:rgb(255,255,191);height:20px;width:20px;margin-bottom:0px;display:inline-block;\"></div><div style=\"background-color:rgb(230,245,152);height:20px;width:20px;margin-bottom:0px;display:inline-block;\"></div><div style=\"background-color:rgb(171,221,164);height:20px;width:20px;margin-bottom:0px;display:inline-block;\"></div><div style=\"background-color:rgb(102,194,165);height:20px;width:20px;margin-bottom:0px;display:inline-block;\"></div><div style=\"background-color:rgb(50,136,189);height:20px;width:20px;margin-bottom:0px;display:inline-block;\"></div><div style=\"background-color:rgb(94,79,162);height:20px;width:20px;margin-bottom:0px;display:inline-block;\"></div></div><div style=\"display:inline-block;padding:10px;\"><div>ylgn</div><div style=\"background-color:rgb(255,255,229);height:20px;width:20px;margin-bottom:0px;display:inline-block;\"></div><div style=\"background-color:rgb(247,252,185);height:20px;width:20px;margin-bottom:0px;display:inline-block;\"></div><div style=\"background-color:rgb(217,240,163);height:20px;width:20px;margin-bottom:0px;display:inline-block;\"></div><div style=\"background-color:rgb(173,221,142);height:20px;width:20px;margin-bottom:0px;display:inline-block;\"></div><div style=\"background-color:rgb(120,198,121);height:20px;width:20px;margin-bottom:0px;display:inline-block;\"></div><div style=\"background-color:rgb(65,171,93);height:20px;width:20px;margin-bottom:0px;display:inline-block;\"></div><div style=\"background-color:rgb(35,132,67);height:20px;width:20px;margin-bottom:0px;display:inline-block;\"></div><div style=\"background-color:rgb(0,104,55);height:20px;width:20px;margin-bottom:0px;display:inline-block;\"></div><div style=\"background-color:rgb(0,69,41);height:20px;width:20px;margin-bottom:0px;display:inline-block;\"></div></div><div style=\"display:inline-block;padding:10px;\"><div>ylgnbu</div><div style=\"background-color:rgb(255,255,217);height:20px;width:20px;margin-bottom:0px;display:inline-block;\"></div><div style=\"background-color:rgb(237,248,177);height:20px;width:20px;margin-bottom:0px;display:inline-block;\"></div><div style=\"background-color:rgb(199,233,180);height:20px;width:20px;margin-bottom:0px;display:inline-block;\"></div><div style=\"background-color:rgb(127,205,187);height:20px;width:20px;margin-bottom:0px;display:inline-block;\"></div><div style=\"background-color:rgb(65,182,196);height:20px;width:20px;margin-bottom:0px;display:inline-block;\"></div><div style=\"background-color:rgb(29,145,192);height:20px;width:20px;margin-bottom:0px;display:inline-block;\"></div><div style=\"background-color:rgb(34,94,168);height:20px;width:20px;margin-bottom:0px;display:inline-block;\"></div><div style=\"background-color:rgb(37,52,148);height:20px;width:20px;margin-bottom:0px;display:inline-block;\"></div><div style=\"background-color:rgb(8,29,88);height:20px;width:20px;margin-bottom:0px;display:inline-block;\"></div></div><div style=\"display:inline-block;padding:10px;\"><div>ylorbr</div><div style=\"background-color:rgb(255,255,229);height:20px;width:20px;margin-bottom:0px;display:inline-block;\"></div><div style=\"background-color:rgb(255,247,188);height:20px;width:20px;margin-bottom:0px;display:inline-block;\"></div><div style=\"background-color:rgb(254,227,145);height:20px;width:20px;margin-bottom:0px;display:inline-block;\"></div><div style=\"background-color:rgb(254,196,79);height:20px;width:20px;margin-bottom:0px;display:inline-block;\"></div><div style=\"background-color:rgb(254,153,41);height:20px;width:20px;margin-bottom:0px;display:inline-block;\"></div><div style=\"background-color:rgb(236,112,20);height:20px;width:20px;margin-bottom:0px;display:inline-block;\"></div><div style=\"background-color:rgb(204,76,2);height:20px;width:20px;margin-bottom:0px;display:inline-block;\"></div><div style=\"background-color:rgb(153,52,4);height:20px;width:20px;margin-bottom:0px;display:inline-block;\"></div><div style=\"background-color:rgb(102,37,6);height:20px;width:20px;margin-bottom:0px;display:inline-block;\"></div></div><div style=\"display:inline-block;padding:10px;\"><div>ylorrd</div><div style=\"background-color:rgb(255,255,204);height:20px;width:20px;margin-bottom:0px;display:inline-block;\"></div><div style=\"background-color:rgb(255,237,160);height:20px;width:20px;margin-bottom:0px;display:inline-block;\"></div><div style=\"background-color:rgb(254,217,118);height:20px;width:20px;margin-bottom:0px;display:inline-block;\"></div><div style=\"background-color:rgb(254,178,76);height:20px;width:20px;margin-bottom:0px;display:inline-block;\"></div><div style=\"background-color:rgb(253,141,60);height:20px;width:20px;margin-bottom:0px;display:inline-block;\"></div><div style=\"background-color:rgb(252,78,42);height:20px;width:20px;margin-bottom:0px;display:inline-block;\"></div><div style=\"background-color:rgb(227,26,28);height:20px;width:20px;margin-bottom:0px;display:inline-block;\"></div><div style=\"background-color:rgb(189,0,38);height:20px;width:20px;margin-bottom:0px;display:inline-block;\"></div><div style=\"background-color:rgb(128,0,38);height:20px;width:20px;margin-bottom:0px;display:inline-block;\"></div></div>"
      ],
      "text/plain": [
       "<IPython.core.display.HTML object>"
      ]
     },
     "metadata": {},
     "output_type": "display_data"
    }
   ],
   "source": [
    "cf.colors.scales() "
   ]
  },
  {
   "cell_type": "code",
   "execution_count": null,
   "metadata": {},
   "outputs": [],
   "source": []
  },
  {
   "cell_type": "code",
   "execution_count": 7,
   "metadata": {},
   "outputs": [],
   "source": [
    "df = pd.read_excel('Samira - Arabic Stock Market Data.xlsx')"
   ]
  },
  {
   "cell_type": "code",
   "execution_count": 8,
   "metadata": {},
   "outputs": [
    {
     "name": "stdout",
     "output_type": "stream",
     "text": [
      "<class 'pandas.core.frame.DataFrame'>\n",
      "RangeIndex: 34386 entries, 0 to 34385\n",
      "Data columns (total 19 columns):\n",
      " #   Column                     Non-Null Count  Dtype         \n",
      "---  ------                     --------------  -----         \n",
      " 0   Sector                     34386 non-null  object        \n",
      " 1   Company ID                 34386 non-null  int64         \n",
      " 2   Company Name               34386 non-null  object        \n",
      " 3   Date                       34386 non-null  object        \n",
      " 4   Time                       34386 non-null  object        \n",
      " 5   News Title                 34386 non-null  object        \n",
      " 6   News Details               30098 non-null  object        \n",
      " 7   Polarity                   34386 non-null  object        \n",
      " 8   Polarity Words             34386 non-null  object        \n",
      " 9   Date_1st_Additional        34386 non-null  datetime64[ns]\n",
      " 10  Oppening                   34269 non-null  float64       \n",
      " 11  The Highest                34269 non-null  float64       \n",
      " 12  The Lowest                 34269 non-null  float64       \n",
      " 13  Closing                    34269 non-null  float64       \n",
      " 14  Changing                   34269 non-null  float64       \n",
      " 15  Changing%                  34269 non-null  float64       \n",
      " 16  The quantity Handled       34269 non-null  float64       \n",
      " 17  Total Current Value (SAR)  34269 non-null  float64       \n",
      " 18  Number of Deals            34269 non-null  float64       \n",
      "dtypes: datetime64[ns](1), float64(9), int64(1), object(8)\n",
      "memory usage: 5.0+ MB\n"
     ]
    }
   ],
   "source": [
    "df.info()"
   ]
  },
  {
   "cell_type": "code",
   "execution_count": 9,
   "metadata": {},
   "outputs": [
    {
     "data": {
      "text/plain": [
       "Positive     15506\n",
       "Neutral      11479\n",
       "-             4288\n",
       "Negative      3102\n",
       "neutral          4\n",
       "positive         3\n",
       "negative         3\n",
       " Negative        1\n",
       "Name: Polarity, dtype: int64"
      ]
     },
     "execution_count": 9,
     "metadata": {},
     "output_type": "execute_result"
    }
   ],
   "source": [
    "df['Polarity'].value_counts()"
   ]
  },
  {
   "cell_type": "markdown",
   "metadata": {},
   "source": [
    "We need to normalize this column"
   ]
  },
  {
   "cell_type": "code",
   "execution_count": 10,
   "metadata": {},
   "outputs": [],
   "source": [
    "df['Polarity'] = df['Polarity'].str.strip().str.capitalize()"
   ]
  },
  {
   "cell_type": "code",
   "execution_count": 11,
   "metadata": {},
   "outputs": [
    {
     "data": {
      "text/plain": [
       "Positive    15509\n",
       "Neutral     11483\n",
       "-            4288\n",
       "Negative     3106\n",
       "Name: Polarity, dtype: int64"
      ]
     },
     "execution_count": 11,
     "metadata": {},
     "output_type": "execute_result"
    }
   ],
   "source": [
    "df['Polarity'].value_counts()"
   ]
  },
  {
   "cell_type": "code",
   "execution_count": 12,
   "metadata": {},
   "outputs": [
    {
     "data": {
      "text/html": [
       "<div>\n",
       "<style scoped>\n",
       "    .dataframe tbody tr th:only-of-type {\n",
       "        vertical-align: middle;\n",
       "    }\n",
       "\n",
       "    .dataframe tbody tr th {\n",
       "        vertical-align: top;\n",
       "    }\n",
       "\n",
       "    .dataframe thead th {\n",
       "        text-align: right;\n",
       "    }\n",
       "</style>\n",
       "<table border=\"1\" class=\"dataframe\">\n",
       "  <thead>\n",
       "    <tr style=\"text-align: right;\">\n",
       "      <th></th>\n",
       "      <th>Sector</th>\n",
       "      <th>Company ID</th>\n",
       "      <th>Company Name</th>\n",
       "      <th>Date</th>\n",
       "      <th>Time</th>\n",
       "      <th>News Title</th>\n",
       "      <th>News Details</th>\n",
       "      <th>Polarity</th>\n",
       "      <th>Polarity Words</th>\n",
       "      <th>Date_1st_Additional</th>\n",
       "      <th>Oppening</th>\n",
       "      <th>The Highest</th>\n",
       "      <th>The Lowest</th>\n",
       "      <th>Closing</th>\n",
       "      <th>Changing</th>\n",
       "      <th>Changing%</th>\n",
       "      <th>The quantity Handled</th>\n",
       "      <th>Total Current Value (SAR)</th>\n",
       "      <th>Number of Deals</th>\n",
       "    </tr>\n",
       "  </thead>\n",
       "  <tbody>\n",
       "    <tr>\n",
       "      <th>0</th>\n",
       "      <td>البنوك</td>\n",
       "      <td>1020</td>\n",
       "      <td>بنك الجزيرة</td>\n",
       "      <td>12/31/2011 12:00:00 AM</td>\n",
       "      <td>12:07:52</td>\n",
       "      <td>يعلن بنك الجزيرة عن توصية مجلس إدارته توزيع أر...</td>\n",
       "      <td>يعلن بنك الجزيرة عن توصية مجلس إدارته توزيع أر...</td>\n",
       "      <td>Positive</td>\n",
       "      <td>ارباح سنوية - توزيع أرباح</td>\n",
       "      <td>2011-12-31</td>\n",
       "      <td>9.07</td>\n",
       "      <td>9.12</td>\n",
       "      <td>8.93</td>\n",
       "      <td>8.96</td>\n",
       "      <td>0.11</td>\n",
       "      <td>1.24</td>\n",
       "      <td>1961798.0</td>\n",
       "      <td>17729676.1</td>\n",
       "      <td>514.0</td>\n",
       "    </tr>\n",
       "    <tr>\n",
       "      <th>1</th>\n",
       "      <td>البنوك</td>\n",
       "      <td>1050</td>\n",
       "      <td>البنك السعودي الفرنسي</td>\n",
       "      <td>12/30/2019 12:00:00 AM</td>\n",
       "      <td>15:22:03</td>\n",
       "      <td>يعلن البنك السعودي الفرنسي عن توصية مجلس الإدا...</td>\n",
       "      <td>بند توضيح  مقدمة يعلن البنك السعودي الفرنسي ع...</td>\n",
       "      <td>Positive</td>\n",
       "      <td>توزيع - ارباح</td>\n",
       "      <td>2019-12-30</td>\n",
       "      <td>37.30</td>\n",
       "      <td>38.20</td>\n",
       "      <td>37.30</td>\n",
       "      <td>37.55</td>\n",
       "      <td>0.30</td>\n",
       "      <td>0.81</td>\n",
       "      <td>555205.0</td>\n",
       "      <td>20956971.9</td>\n",
       "      <td>634.0</td>\n",
       "    </tr>\n",
       "  </tbody>\n",
       "</table>\n",
       "</div>"
      ],
      "text/plain": [
       "   Sector  Company ID           Company Name                    Date  \\\n",
       "0  البنوك        1020            بنك الجزيرة  12/31/2011 12:00:00 AM   \n",
       "1  البنوك        1050  البنك السعودي الفرنسي  12/30/2019 12:00:00 AM   \n",
       "\n",
       "       Time                                         News Title  \\\n",
       "0  12:07:52  يعلن بنك الجزيرة عن توصية مجلس إدارته توزيع أر...   \n",
       "1  15:22:03  يعلن البنك السعودي الفرنسي عن توصية مجلس الإدا...   \n",
       "\n",
       "                                        News Details  Polarity  \\\n",
       "0  يعلن بنك الجزيرة عن توصية مجلس إدارته توزيع أر...  Positive   \n",
       "1   بند توضيح  مقدمة يعلن البنك السعودي الفرنسي ع...  Positive   \n",
       "\n",
       "              Polarity Words Date_1st_Additional  Oppening  The Highest  \\\n",
       "0  ارباح سنوية - توزيع أرباح          2011-12-31      9.07         9.12   \n",
       "1              توزيع - ارباح          2019-12-30     37.30        38.20   \n",
       "\n",
       "   The Lowest  Closing  Changing  Changing%  The quantity Handled  \\\n",
       "0        8.93     8.96      0.11       1.24             1961798.0   \n",
       "1       37.30    37.55      0.30       0.81              555205.0   \n",
       "\n",
       "   Total Current Value (SAR)  Number of Deals  \n",
       "0                 17729676.1            514.0  \n",
       "1                 20956971.9            634.0  "
      ]
     },
     "execution_count": 12,
     "metadata": {},
     "output_type": "execute_result"
    }
   ],
   "source": [
    "df.head(2)"
   ]
  },
  {
   "cell_type": "code",
   "execution_count": 13,
   "metadata": {},
   "outputs": [
    {
     "name": "stdout",
     "output_type": "stream",
     "text": [
      "['البنوك', 'مؤشر السوق الرئيسية (تاسي)', 'المواد الأساسية', 'السلع الرأسمالية', 'السلع طويلة الاجل', 'تجزئة السلع الكمالية', 'الخدمات الإستهلاكية', 'الخدمات التجارية والمهنية', 'الطاقة', 'إنتاج الأغذية', 'الادوية', 'المرافق العامة', 'الإستثمار والتمويل', 'النقل', 'الرعاية الصحية', 'تجزئة الأغذية', 'إدارة وتطوير العقارات', 'الإعلام والترفيه', 'الصناديق العقارية المتداولة', 'الإتصالات', 'التطبيقات وخدمات التقنية', 'التأمين']\n",
      "['Banks', 'Main Market Index (Tasi)', 'Basic Materials', 'Capital Goods', 'Long-Term Goods', 'Retail Of Luxury Goods', 'Consumer Services', 'Business And Professional Services', 'Energy', 'Food Production', 'Pharmaceutical', 'Public Utility', 'Investment And Financing', 'Transport', 'Healthcare', 'Food Segmentation', 'Real Estate Management And Development', 'Media And Entertainment', 'Real Estate Traded Funds', 'Telecommunications', 'Applications And Technology Services', 'Insurance']\n"
     ]
    }
   ],
   "source": [
    "translator = Translator()\n",
    "\n",
    "unique_sectors = df['Sector'].unique().tolist()\n",
    "\n",
    "unique_sectors_en = [translator.translate(sector, src='ar').text.title() for sector in unique_sectors]\n",
    "\n",
    "print(unique_sectors)\n",
    "print(unique_sectors_en)"
   ]
  },
  {
   "cell_type": "code",
   "execution_count": 14,
   "metadata": {},
   "outputs": [],
   "source": [
    "unique_sectors_en = ['Banks', 'Tasi Main Market Index', \n",
    "                     'Basic Materials', 'Capital Goods', \n",
    "                     'Long-Term Goods', 'Retail Of Luxury Goods', \n",
    "                     'Consumer Services', 'Commercial And Professional Services', \n",
    "                     'Energy', 'Food Production', 'Pharmaceutical', \n",
    "                     'Public Utility', 'Investment And Financing', 'Transport', \n",
    "                     'Healthcare', 'Food Segmentation', 'Real Estate M & D', \n",
    "                     'Media And Entertainment', 'Real Estate Traded Funds', \n",
    "                     'Telecommunications', 'Applications And Technology Services', 'Insurance']\n",
    "\n",
    "\n",
    "sector_map = {sector_ar:sector_en for sector_ar, sector_en in zip(unique_sectors, unique_sectors_en)}"
   ]
  },
  {
   "cell_type": "code",
   "execution_count": 15,
   "metadata": {},
   "outputs": [],
   "source": [
    "df['Sector_en'] = df['Sector'].map(sector_map)"
   ]
  },
  {
   "cell_type": "code",
   "execution_count": 16,
   "metadata": {},
   "outputs": [
    {
     "data": {
      "text/plain": [
       "Sector                       Sector_en                           \n",
       "إدارة وتطوير العقارات        Real Estate M & D                       1961\n",
       "إنتاج الأغذية                Food Production                         2423\n",
       "الإتصالات                    Telecommunications                      1099\n",
       "الإستثمار والتمويل           Investment And Financing                 826\n",
       "الإعلام والترفيه             Media And Entertainment                  416\n",
       "الادوية                      Pharmaceutical                           243\n",
       "البنوك                       Banks                                   1477\n",
       "التأمين                      Insurance                               7643\n",
       "التطبيقات وخدمات التقنية     Applications And Technology Services      22\n",
       "الخدمات الإستهلاكية          Consumer Services                       1134\n",
       "الخدمات التجارية والمهنية    Commercial And Professional Services     322\n",
       "الرعاية الصحية               Healthcare                               887\n",
       "السلع الرأسمالية             Capital Goods                           2904\n",
       "السلع طويلة الاجل            Long-Term Goods                          756\n",
       "الصناديق العقارية المتداولة  Real Estate Traded Funds                 601\n",
       "الطاقة                       Energy                                   956\n",
       "المرافق العامة               Public Utility                           443\n",
       "المواد الأساسية              Basic Materials                         7276\n",
       "النقل                        Transport                               1018\n",
       "تجزئة الأغذية                Food Segmentation                        640\n",
       "تجزئة السلع الكمالية         Retail Of Luxury Goods                  1210\n",
       "مؤشر السوق الرئيسية (تاسي)   Tasi Main Market Index                   129\n",
       "dtype: int64"
      ]
     },
     "execution_count": 16,
     "metadata": {},
     "output_type": "execute_result"
    }
   ],
   "source": [
    "df.groupby(['Sector', 'Sector_en']).size()"
   ]
  },
  {
   "cell_type": "code",
   "execution_count": 17,
   "metadata": {},
   "outputs": [],
   "source": [
    "drop_cols = ['Date', 'Company ID']"
   ]
  },
  {
   "cell_type": "code",
   "execution_count": 18,
   "metadata": {},
   "outputs": [],
   "source": [
    "df.drop(drop_cols, axis=1, inplace=True)"
   ]
  },
  {
   "cell_type": "code",
   "execution_count": 19,
   "metadata": {},
   "outputs": [],
   "source": [
    "# df['Date'] = pd.to_datetime(df['Date_1st_Additional'] + ' ' + df['Time'])"
   ]
  },
  {
   "cell_type": "code",
   "execution_count": 20,
   "metadata": {},
   "outputs": [
    {
     "name": "stderr",
     "output_type": "stream",
     "text": [
      "D:\\Anaconda3\\envs\\tf2\\lib\\site-packages\\ipykernel_launcher.py:1: FutureWarning:\n",
      "\n",
      "The pandas.datetime class is deprecated and will be removed from pandas in a future version. Import from datetime module instead.\n",
      "\n"
     ]
    }
   ],
   "source": [
    "df['Date'] = df.apply(lambda r : pd.datetime.combine(r['Date_1st_Additional'], r['Time']), axis=1)"
   ]
  },
  {
   "cell_type": "code",
   "execution_count": 21,
   "metadata": {},
   "outputs": [],
   "source": [
    "df.drop(['Date_1st_Additional'], axis=1, inplace=True)"
   ]
  },
  {
   "cell_type": "code",
   "execution_count": 22,
   "metadata": {},
   "outputs": [
    {
     "name": "stdout",
     "output_type": "stream",
     "text": [
      "<class 'pandas.core.frame.DataFrame'>\n",
      "RangeIndex: 34386 entries, 0 to 34385\n",
      "Data columns (total 18 columns):\n",
      " #   Column                     Non-Null Count  Dtype         \n",
      "---  ------                     --------------  -----         \n",
      " 0   Sector                     34386 non-null  object        \n",
      " 1   Company Name               34386 non-null  object        \n",
      " 2   Time                       34386 non-null  object        \n",
      " 3   News Title                 34386 non-null  object        \n",
      " 4   News Details               30098 non-null  object        \n",
      " 5   Polarity                   34386 non-null  object        \n",
      " 6   Polarity Words             34386 non-null  object        \n",
      " 7   Oppening                   34269 non-null  float64       \n",
      " 8   The Highest                34269 non-null  float64       \n",
      " 9   The Lowest                 34269 non-null  float64       \n",
      " 10  Closing                    34269 non-null  float64       \n",
      " 11  Changing                   34269 non-null  float64       \n",
      " 12  Changing%                  34269 non-null  float64       \n",
      " 13  The quantity Handled       34269 non-null  float64       \n",
      " 14  Total Current Value (SAR)  34269 non-null  float64       \n",
      " 15  Number of Deals            34269 non-null  float64       \n",
      " 16  Sector_en                  34386 non-null  object        \n",
      " 17  Date                       34386 non-null  datetime64[ns]\n",
      "dtypes: datetime64[ns](1), float64(9), object(8)\n",
      "memory usage: 4.7+ MB\n"
     ]
    }
   ],
   "source": [
    "df.info()"
   ]
  },
  {
   "cell_type": "code",
   "execution_count": 23,
   "metadata": {},
   "outputs": [],
   "source": [
    "df.columns = ['The Quantity Handled' if col=='The quantity Handled' else col for col in df.columns]"
   ]
  },
  {
   "cell_type": "code",
   "execution_count": 24,
   "metadata": {},
   "outputs": [
    {
     "name": "stdout",
     "output_type": "stream",
     "text": [
      "<class 'pandas.core.frame.DataFrame'>\n",
      "RangeIndex: 34386 entries, 0 to 34385\n",
      "Data columns (total 18 columns):\n",
      " #   Column                     Non-Null Count  Dtype         \n",
      "---  ------                     --------------  -----         \n",
      " 0   Sector                     34386 non-null  object        \n",
      " 1   Company Name               34386 non-null  object        \n",
      " 2   Time                       34386 non-null  object        \n",
      " 3   News Title                 34386 non-null  object        \n",
      " 4   News Details               30098 non-null  object        \n",
      " 5   Polarity                   34386 non-null  object        \n",
      " 6   Polarity Words             34386 non-null  object        \n",
      " 7   Oppening                   34269 non-null  float64       \n",
      " 8   The Highest                34269 non-null  float64       \n",
      " 9   The Lowest                 34269 non-null  float64       \n",
      " 10  Closing                    34269 non-null  float64       \n",
      " 11  Changing                   34269 non-null  float64       \n",
      " 12  Changing%                  34269 non-null  float64       \n",
      " 13  The Quantity Handled       34269 non-null  float64       \n",
      " 14  Total Current Value (SAR)  34269 non-null  float64       \n",
      " 15  Number of Deals            34269 non-null  float64       \n",
      " 16  Sector_en                  34386 non-null  object        \n",
      " 17  Date                       34386 non-null  datetime64[ns]\n",
      "dtypes: datetime64[ns](1), float64(9), object(8)\n",
      "memory usage: 4.7+ MB\n"
     ]
    }
   ],
   "source": [
    "df.info()"
   ]
  },
  {
   "cell_type": "code",
   "execution_count": 25,
   "metadata": {},
   "outputs": [],
   "source": [
    "# profile = ProfileReport(df, title=\"EDA Report\", explorative=True)\n",
    "# profile.to_widgets()\n",
    "# profile.to_file(\"EDA-Report.html\")"
   ]
  },
  {
   "cell_type": "code",
   "execution_count": null,
   "metadata": {},
   "outputs": [],
   "source": []
  },
  {
   "cell_type": "code",
   "execution_count": null,
   "metadata": {},
   "outputs": [],
   "source": []
  },
  {
   "cell_type": "markdown",
   "metadata": {},
   "source": [
    "## Data Cleaning and Normalization"
   ]
  },
  {
   "cell_type": "markdown",
   "metadata": {},
   "source": [
    "### Exploring Nans"
   ]
  },
  {
   "cell_type": "code",
   "execution_count": 26,
   "metadata": {},
   "outputs": [
    {
     "data": {
      "text/plain": [
       "Sector                          0\n",
       "Company Name                    0\n",
       "Time                            0\n",
       "News Title                      0\n",
       "News Details                 4288\n",
       "Polarity                        0\n",
       "Polarity Words                  0\n",
       "Oppening                      117\n",
       "The Highest                   117\n",
       "The Lowest                    117\n",
       "Closing                       117\n",
       "Changing                      117\n",
       "Changing%                     117\n",
       "The Quantity Handled          117\n",
       "Total Current Value (SAR)     117\n",
       "Number of Deals               117\n",
       "Sector_en                       0\n",
       "Date                            0\n",
       "dtype: int64"
      ]
     },
     "execution_count": 26,
     "metadata": {},
     "output_type": "execute_result"
    }
   ],
   "source": [
    "df.isnull().sum()      # nans in each column"
   ]
  },
  {
   "cell_type": "code",
   "execution_count": 27,
   "metadata": {},
   "outputs": [],
   "source": [
    "# df[df['News Details'].isnull()]"
   ]
  },
  {
   "cell_type": "code",
   "execution_count": 28,
   "metadata": {},
   "outputs": [],
   "source": [
    "# remove NANs\n",
    "df = df.dropna(subset=['News Details'])"
   ]
  },
  {
   "cell_type": "code",
   "execution_count": 29,
   "metadata": {},
   "outputs": [
    {
     "data": {
      "text/plain": [
       "Sector                         0\n",
       "Company Name                   0\n",
       "Time                           0\n",
       "News Title                     0\n",
       "News Details                   0\n",
       "Polarity                       0\n",
       "Polarity Words                 0\n",
       "Oppening                     105\n",
       "The Highest                  105\n",
       "The Lowest                   105\n",
       "Closing                      105\n",
       "Changing                     105\n",
       "Changing%                    105\n",
       "The Quantity Handled         105\n",
       "Total Current Value (SAR)    105\n",
       "Number of Deals              105\n",
       "Sector_en                      0\n",
       "Date                           0\n",
       "dtype: int64"
      ]
     },
     "execution_count": 29,
     "metadata": {},
     "output_type": "execute_result"
    }
   ],
   "source": [
    "df.isna().sum()"
   ]
  },
  {
   "cell_type": "markdown",
   "metadata": {},
   "source": [
    "### Exploring Duplicates"
   ]
  },
  {
   "cell_type": "code",
   "execution_count": 30,
   "metadata": {},
   "outputs": [
    {
     "data": {
      "text/plain": [
       "4"
      ]
     },
     "execution_count": 30,
     "metadata": {},
     "output_type": "execute_result"
    }
   ],
   "source": [
    "# check number of duplicated records (rows)\n",
    "df.duplicated().sum()"
   ]
  },
  {
   "cell_type": "code",
   "execution_count": 31,
   "metadata": {},
   "outputs": [
    {
     "data": {
      "text/html": [
       "<div>\n",
       "<style scoped>\n",
       "    .dataframe tbody tr th:only-of-type {\n",
       "        vertical-align: middle;\n",
       "    }\n",
       "\n",
       "    .dataframe tbody tr th {\n",
       "        vertical-align: top;\n",
       "    }\n",
       "\n",
       "    .dataframe thead th {\n",
       "        text-align: right;\n",
       "    }\n",
       "</style>\n",
       "<table border=\"1\" class=\"dataframe\">\n",
       "  <thead>\n",
       "    <tr style=\"text-align: right;\">\n",
       "      <th></th>\n",
       "      <th>Sector</th>\n",
       "      <th>Company Name</th>\n",
       "      <th>Time</th>\n",
       "      <th>News Title</th>\n",
       "      <th>News Details</th>\n",
       "      <th>Polarity</th>\n",
       "      <th>Polarity Words</th>\n",
       "      <th>Oppening</th>\n",
       "      <th>The Highest</th>\n",
       "      <th>The Lowest</th>\n",
       "      <th>Closing</th>\n",
       "      <th>Changing</th>\n",
       "      <th>Changing%</th>\n",
       "      <th>The Quantity Handled</th>\n",
       "      <th>Total Current Value (SAR)</th>\n",
       "      <th>Number of Deals</th>\n",
       "      <th>Sector_en</th>\n",
       "      <th>Date</th>\n",
       "    </tr>\n",
       "  </thead>\n",
       "  <tbody>\n",
       "    <tr>\n",
       "      <th>148</th>\n",
       "      <td>البنوك</td>\n",
       "      <td>بنك الرياض</td>\n",
       "      <td>08:07:05</td>\n",
       "      <td>يدعو بنك الرياض السادة المساهمين لحضور اجتماع الجمعية العامة العادية (إعلان تذكيري)</td>\n",
       "      <td>يسر مجلس إدارة بنك الرياض ، دعوة مساهميه الكرام لحضور اجتماع الجمعية العامة العادية الذي سيعقد ، بمشيئة الله ، عند الساعة السادسة من مساء يوم الاثنين 23/12/1434هـ الموافق 28/10/2013م بمقر الإدارة العامة لبنك الرياض بطريق الملك عبد العزيز حي المربع بمدينة الرياض ، وذلك للنظر في جدول الأعمال التالي: البند الوحيد :انتخاب أعضاء مجلس إدارة البنك لمدة ثلاث سنوات قادمة اعتبارا من تاريخ 26/12/1434هـ الموافق31/10/2013م من بين المرشحين لعضوية مجلس الإدارة. هذا وتتوافر البيانات عن المرشحين لعضوية مجلس الإدارة بمقر الإدارة العامة للبنك للاطلاع عليها ، خلال الخمسة و عشرون يوماً السابقة لموعد الاجتماع .ويحق لكل مساهم يمتلك عشرين سهماً على الأقل حضور الاجتماع المشار إليه ، وله أن يوكل عنه مساهماً آخراً يمتلك عشرين سهما على الأقل لتمثيله في الاجتماع بموجب التوكيل المبين نصه أدناه (وفقاً لضوابط التوكيل الصادرة بقرار معالي وزير التجارة رقم 294 في 13/2/1422هـ ). وبحيث يرسـل التوكيل أدناه إلى بنك الريــاض (لعنــاية إدارة علاقـات المساهمــين ص.ب. 22622 الرياض 11416) ليصل البنك قبل موعد الاجتماع بسبعة أيام على الأقل . وعلى كل مساهم يرغب في حضور الاجتماع إحضار بطاقة الأحوال المدنية والمستندات الدالة على ملكيته وموكليه للأسهم. ويكون اجتماع الجمعية العامة العادية صحيحاً إذا حضره مساهمون يمتلكون نصف رأس مال البنك على الأقل.ووفقا للنظام الأساسي للبنك فإن انتخاب اعضاء مجلس الإدارة سيتم وفق اسلوب التصويت العادي.ويرجى من المساهمين الكرام الحضور قبل موعد الاجتماع بساعة واحدة على الأقل ، وذلك لإنهاء إجراءات تسجيلهم.وللرد على أي استفسار ، يرجى الاتصال عبر الهاتف رقم 3030-401/011 توصيله رقم ( 2444 ، 2445 ) ، أو عبر الفاكس رقم 0016-403/011 (الرياض) خلال ساعات الدوام الرسمي للبنك أو على البريد الإلكتروني : shareholders@riyadbank.com واللـــــه الموفــــــق بنك الرياض ، المركز الرئيسي - طريق الملك عبد العزيز - ص ب : 22622 الرياض 11416 www.riyadbank.comتوكيل خاصأنا المساهم / .................................................. الموقع أدناه ، بموجــــب بطاقة الأحـــوال الـمدنيـة رقم / ........................... الصادرة من بتاريخ / / هـ وبصفتي أحد المساهمين في بنك الرياض ( شركة مساهمة سعودية )، والمالك لعدد ( ) سهم قد وكلت المساهم .......................... بطاقة الأحوال المدنية رقم / .......................... الصادرة من بتاريخ / / هـ ( وهو من غير أعضاء مجلس الإدارة أو موظفي البنك أو المكلفين بالقيام بصفة دائمة بعمل فني أو إداري لحسابه ) ، لينوب عني في حضور اجتماع الجمعية العامة العادية لمساهمي بنك الرياض والمقرر عقده بمشيئة الله، في يوم الاثنين 23/12/1434هـ الموافق 28/10/2013م، والتصويت على بنود جدول أعمال الجمعية نيابة عني والتوقيع على كل المستندات المطلوبة والضرورية واللازمة لإجراءات الاجتماع . كما يسري هذا التوكيل للاجتماع الثاني في حال تأجيل الاجتماع . تحريرا في : / / 1434هـالموافق : / / 2013مالأسم :التوقيع : المصادقة على صحة التوقيع:الصفة :</td>\n",
       "      <td>Positive</td>\n",
       "      <td>توقيع - عقد</td>\n",
       "      <td>14.10</td>\n",
       "      <td>14.25</td>\n",
       "      <td>14.05</td>\n",
       "      <td>14.20</td>\n",
       "      <td>0.10</td>\n",
       "      <td>0.71</td>\n",
       "      <td>670654.0</td>\n",
       "      <td>9.484389e+06</td>\n",
       "      <td>114.0</td>\n",
       "      <td>Banks</td>\n",
       "      <td>2013-10-21 08:07:05</td>\n",
       "    </tr>\n",
       "    <tr>\n",
       "      <th>262</th>\n",
       "      <td>البنوك</td>\n",
       "      <td>البنك السعودي الفرنسي</td>\n",
       "      <td>15:42:37</td>\n",
       "      <td>يدعو البنك السعودي الفرنسي مساهميه لحضور اجتماع الجمعية العامة العادية</td>\n",
       "      <td>يسر مجلس إدارة البنك السعودي الفرنسي دعوة مساهميه الكرام لحضور اجتماع الجمعية العامة العادية والتي ستعقد بإذن الله في تمام الساعة السادسة والنصف بعد صلاة المغرب ليوم الأحد 22/4/1432هـ الموافق (27/3/2011) بالدور الثامــن بمقر المركز الرئيسي للبنك الكائن بشارع المعذر بمدينة الرياض وذلك للنظر في جدول الأعمال التالي :-  (1) الموافقة على تقرير مجلس الإدارة عن العام المالي المنتهي في 31/12/2010م.  (2) التصديق على الميزانية العامة للبنك كما في 31/12/2010م وعلى حساب الأرباح والخسائر عن نفس السنة المالية.  (3) الموافقة على تقرير مراقبي الحسابات عن العام المالي المنتهي في 31/12/2010م.  (4) الموافقة على توصية مجلس الإدارة بشأن توزيع الأرباح عن العـــام المالي 2010م بمقدار (ريال واحد) للسهم الواحد آي    بنسبة 10% من القيمة الاسمية للسهم لحملة أسهم البنــــــك المسجلين بسجلات مساهمي البنك كما في نهاية تداول يوم    الأحد 22/4/1432هـ الموافق (27/3/2011) وبعـد إقرارها مـن قبل الجمعية العامة العادية.  (5) إبراء ذمة أعضاء مجلس الإدارة عن العام المالي 2010م.  (6) الموافقة على اختيار مراقبي الحسابات من بين المرشحين مــن قبل لجنة المراجعـة الداخلية لمراجعة القوائم المالية للبنك    للعام المالي 2011م والبيانات ربع السنوية وتحديد أتعابهم.  واستناداً لنظام الشركات وللمادة (25) من النظام الأساسي للبنك: لكل مساهم (أيا كان عدد أسهمه) حق حضور الجمعيات العامة للمساهمين. وللمساهم أن ينيب عنه بمقتضى توكيل مكتوب مساهماً آخر من غير أعضاء مجلس الإدارة أو موظفي البنك في الحضور على أن يتم مصادقة التوكيل من جهـة معترف بها:-  أ- الغرفة التجارية الصناعية متى كان المساهم منتسباً لأحدها وكذلك الحال إذا كـان للمساهم شركة أو مؤسسة اعتبارية.  ب - البنوك السعودية شريطة أن يكون للموكل حساب لدى البنك المصدق.  ج - الجهة التي يعمل بها المساهم الراغب في التوكيل.  د- - إحدى الجهات الحكومية المختصة.  (تتمه)</td>\n",
       "      <td>Neutral</td>\n",
       "      <td>جمعية - عامة - موافقة</td>\n",
       "      <td>23.20</td>\n",
       "      <td>23.25</td>\n",
       "      <td>20.85</td>\n",
       "      <td>21.38</td>\n",
       "      <td>-1.65</td>\n",
       "      <td>-7.16</td>\n",
       "      <td>579830.0</td>\n",
       "      <td>1.274188e+07</td>\n",
       "      <td>272.0</td>\n",
       "      <td>Banks</td>\n",
       "      <td>2011-03-02 15:42:37</td>\n",
       "    </tr>\n",
       "    <tr>\n",
       "      <th>1188</th>\n",
       "      <td>البنوك</td>\n",
       "      <td>مصرف الراجحي</td>\n",
       "      <td>16:17:51</td>\n",
       "      <td>يدعو مصرف الراجحي السادة مساهمي المصرف لحضور اجتماع الجمعية العامة العادية التاسعة والعشرون ( الاجتماع الأول )</td>\n",
       "      <td>يسر مجلس إدارة مصرف الراجحي دعوة السادة مساهمي المصرف لحضور اجتماع الجمعية العامة العادية (التاسع والعشرون) المقرر عقدها في تمام الساعة السادسة والنصف من مساء يوم الاحد 8 رجب 1439هـ الموافق 25 مارس 2018م (حسب تقويم أم القرى) وذلك في فندق الانتركونتننتال قاعة بريدة في مدينة الرياض (رابط موقع الاجتماع https://goo.gl/maps/rSVJnPZd9oE2 )وذلك للتصويت على البنود التالية : ( مرفق ) علماً بأنه طبقاً للمادة (33) من النظام الأساسي للمصرف، فإن النصاب القانوني لعقد اجتماع الجمعية العامة العادية للمصرف هو حضور مساهمين يمثلون على الأقل ما نسبته 50% من رأس المال، وفي حال عدم اكتمال النصاب في هذا الاجتماع، سيتم عقد اجتماع ثان بعد ساعة واحدة من الوقت المقرر لعقد الاجتماع الأول، ويكون الاجتماع الثاني صحيحاً أيا كان عدد الأسهم الممثلة فيه.ونوجه عناية السادة المساهمين إلى ما يلي:- طبقاً للتعليمات الإشرافية فإنه يحق لكل مساهم حضور اجتماع الجمعية العامة أو توكيل شخص آخر ينوب عنه من غير أعضاء مجلس الإدارة أو موظفي المصرف أو المكلفين بصفة دائمة بعمل فني أو إداري لحسابه لحضور الاجتماع والتصويت على القرارات المعروضة بمقتضى التوكيل (المرفق صيغته بهذه الدعوة)، على أن يتم التصديق على التوكيل من إحدى الجهات التالية: الغرف التجارية الصناعية، أو إحدى البنوك المرخصة، أو الاشخاص المرخص لهم، أو كتابة العدل، أو الاشخاص المرخص لهم بممارسة أعمال التوثيق. وتماشياً مع الانظمة الإشرافية فإن آخر موعد لتلقي نسخة التوكيلات هو يومين على الأقل تسبق موعد تاريخ انعقاد الجمعية، وعلى الوكيل إبراز أصل التوكيل قبل انعقاد الجمعية.- يود المصرف التوضيح لعموم المساهمين بأن أحقية حضور الجمعية العامة العادية والتي ستنعقد يوم الاحد 8 رجب 1439هـ الموافق 25 مارس 2018م (حسب تقويم أم القرى)، هي للمساهمين المقيدين في سجل مساهمي المصرف لدى مركز الايداع بنهاية جلسة التداول التي تسبق اجتماع الجمعية العامة بحسب الأنظمة واللوائح.- على كل مساهم يرغب في حضور الاجتماع أن يحضر معه بطاقة الهوية الخاصة به والمستندات الدالة على ملكية الأسهم وذلك للتحقق من شخصيته وإثبات عدد الأسهم التي يملكها هو أو المساهمون الذين يمثلهم، وسيتم تسجيل أسماء الحضور من المساهمين وعدد الأسهم التي يملكونها أو يمثلونها وذلك ابتداء من الساعة الخامسة والنصف من مساء يوم الاجتماع على أن ينتهي التسجيل قبل بداية الاجتماع.- بإمكان المساهمين الكرام المسجلين في موقع خدمات تداولاتي الإلكتروني التصويت عن بعد على بنود اجتماع الجمعية العامة وذلك من خلال خدمة (التصويت الإلكتروني)، علماً بأن التصويت عن بُعد يبدأ من الساعة 10 صباحاً من يوم الاربعاء 4 رجب 1439هـ الموافق 21 مارس 2018م، وسيستمر حتى الساعة الرابعة من مساء يوم عقد الجمعية، يوم الاحد 8 رجب 1439هـ الموافق 25 مارس 2018م.وعليه ندعو جميع مساهمي المصرف إلى المشاركة والتصويت عن بُعد عن طريق زيارة الموقع الإلكتروني الخاص بتداولاتي https://www.tadawulaty.com.sa علماً بأن التسجيل في خدمات تداولاتي والتصويت متاح مجاناً لجميع المساهمين. - للتواصل ولمزيد من المعلومات يمكن الاتصال بأمانة سجل المساهمين بالمصرف خلال أوقات الدوام الرسمي على الهاتف رقم 2795857-011 / 2795854-011 أو الفاكس 2795860-011 او عن طريق البريد الالكتروني shareholders@alrajhibank.com.sa</td>\n",
       "      <td>Neutral</td>\n",
       "      <td>حضور - اجتماع - الجمعية</td>\n",
       "      <td>48.71</td>\n",
       "      <td>48.71</td>\n",
       "      <td>47.67</td>\n",
       "      <td>48.13</td>\n",
       "      <td>-0.70</td>\n",
       "      <td>-1.43</td>\n",
       "      <td>13194072.0</td>\n",
       "      <td>6.351782e+08</td>\n",
       "      <td>4021.0</td>\n",
       "      <td>Banks</td>\n",
       "      <td>2018-03-15 16:17:51</td>\n",
       "    </tr>\n",
       "    <tr>\n",
       "      <th>1237</th>\n",
       "      <td>البنوك</td>\n",
       "      <td>مصرف الراجحي</td>\n",
       "      <td>16:28:26</td>\n",
       "      <td>يدعو مصرف الراجحي مساهميه إلى حضور اجتماع الجمعية العامة العادية</td>\n",
       "      <td>يسر مجلس إدارة مصرف الراجحي دعوة السادة المساهمين الذين يملكون عشرين سهماً فأكثر لحضور اجتماع الجمعيـة العـــامة العادية الخامسة والعشرون والمقرر عقدها بقاعة الخزامى للاحتفالات والمؤتمرات بمركز الخزامى بالرياض ، في تمام الساعة الرابعة عصراً يوم الاربعاء 29 ذو القعدة 1435هـ الموافق 24 سبتمبر 2014م للتصويت على جدول الاعمال التالي :1- انتخاب أعضاء مجلس الإدارة للدورة القادمة التي تبدأ في 14/11/2014م لمدة ثلاث سنوات 13/11/2017. وسيكون التصويت على انتخاب الأعضاء بطريقة التصويت (العادي).ويكون اجتماع الجمعية العامة العادية صحيحاً إذا حضره مساهمون يمثلون نصف رأس مال المصرف على الأقل، ويرجى من المساهمين الذين يتعذر حضورهم في الموعد المحدد ويرغبون في توكيل غيرهم من المساهمين ممن لهم حق حضور الاجتماع (من غير أعضاء مجلس الإدارة أو موظفي الشركة أو المكلفين بالقيام بصفة دائمة بعمل فني أو إداري لحسابها) إرسال الوكالة اللازمة مصدقة من الغرفة التجارية أو من أحد البنوك أو جهة العمل، على أن يتم إرسال الوكالة إلى عناية أمانة سجل المساهمين ، فاكس رقم 0112795860 قبل ثلاثة أيام من موعد انعقاد الجمعية ، كما نرجو من المكرمين المساهمين الراغبين في الحضور (أصالة أو وكالة) أن يحضروا قبل موعد انعقاد الجمعية بساعة على الأقل مع إحضار بطاقة الهوية لإنجاز عمليات التسجيل.وللاستفسار يرجى الاتصال على شؤون المساهمين على الأرقام الآتية: 0112795857 /0112795854/0112795859كما يمكن الحصول على نموذج التوكيل بالمرفق</td>\n",
       "      <td>Positive</td>\n",
       "      <td>يسر - وافق - مجلس ادارة</td>\n",
       "      <td>49.43</td>\n",
       "      <td>49.59</td>\n",
       "      <td>49.10</td>\n",
       "      <td>49.32</td>\n",
       "      <td>-0.11</td>\n",
       "      <td>-0.22</td>\n",
       "      <td>3730547.0</td>\n",
       "      <td>1.842184e+08</td>\n",
       "      <td>1273.0</td>\n",
       "      <td>Banks</td>\n",
       "      <td>2014-08-28 16:28:26</td>\n",
       "    </tr>\n",
       "    <tr>\n",
       "      <th>1556</th>\n",
       "      <td>البنوك</td>\n",
       "      <td>البنك الأهلي التجاري</td>\n",
       "      <td>15:12:23</td>\n",
       "      <td>يدعو البنك الأهلي التجاري مساهميه إلى حضور اجتماع الجمعية العامة العادية السابعة عشر (الاجتماع الأول) (إعلان تذكيري)</td>\n",
       "      <td>يدعو مجلس إدارة البنك الأهلي التجاري السادة مساهمي البنك لحضور اجتماع الجمعية العامة العادية السابعة عشر (الاجتماع الأول)، والمقرر انعقاده بمشيئة الله في تمام الساعة السابعة والنصف من مساء يوم الأحد 06-04-1439هـ الموافق 24-12-2017م (حسب تقويم أم القرى) وذلك بمقر البنك الرئيسي (مبنى الإدارة العامة) بشارع الملك عبدالعزيز - حي البلد في مدينة جدة (https://goo.gl/maps/Bm7Arhiyj722 ) وذلك للنظر في جدول الأعمال التالي.1- التصويت على سياسة المكافآت السنوية الخاصة بأعضاء مجلس الإدارة واللجان التابعة.(مرفق)2- التصويت على تحديث لائحة لجنة الترشيح والمكافآت والحوكمة.(مرفق)3- التصويت على تحديث سياسة ومعايير وإجراءات الترشيح لعضوية مجلس الإدارة.(مرفق)4- التصويت على الأعمال والعقود التي ستتم بين البنك الأهلي التجاري وشركة التعاونية للتأمين (التعاونية) والترخيص بها لعام قادم وذلك بقبول التعاقد لتقديم خدمات التأمين الطبي لموظفي البنك الأهلي التجاري لمدة عام ميلادي كامل يبدأ من 01 يناير 2018م، وبإجمالي مبلغ (143.315.122) ريال سعودي، والذي تم عن طريق المنافسة بدون شروط أو مزايا تفضيلية. ويعتبر عضو مجلس إدارة البنك سعادة المهندس عبدالعزيز بن عبدالله الزيد صاحب علاقة مباشرة حيث يشغل منصب عضو مجلس إدارة في (التعاونية)، وقد بلغت التعاملات خلال العام 2017م مبلغ وقدره (113.877.750) ريال سعودي، علماً بأن إجمالي مبلغ التعاقد لم يتجاوز نسبة 1% من إجمالي دخل عمليات البنك وفقا لآخر قوائم مالية سنوية مراجعة. (مرفق تبليغ رئيس مجلس الإدارة بالإضافة إلى تقرير المراجع الخارجي).كما نود إشعار السادة المساهمين بما يلي:- طبقاً لتعليمات الجهات الإشرافية يحق لكل مساهم حضور الجمعية العامة أو أن يوكل عنه شخص آخر من غير أعضاء مجلس الإدارة أو موظفي البنك أو المكلفين بصفة دائمة بعمل فني أو إداري لحسابه لحضور اجتماع الجمعية العامة والتصويت على القرارات المعروضة بمقتضى التوكيل (المرفق صيغته مع هذه الدعوة) على أن يتم التصديق على التوكيل من إحدى الجهات التالية: الغرف التجارية الصناعية، أو إحدى البنوك المرخصة، أو الأشخاص المرخص لهم، أو كتابة العدل، أو الأشخاص المرخص لهم بأعمال التوثيق. وتمشياً مع الأنظمة الإشرافية فإن آخر موعد لتلقي نسخة التوكيلات هو قبل يومين على الأقل من موعد تاريخ انعقاد الجمعية، وعلى الوكيل إبراز أصل التوكيل قبل انعقاد الجمعية.- أحقية حضور الجمعية العامة العادية للمساهمين المقيدين في سجل مساهمي البنك لدى مركز الإيداع بنهاية جلسة التداول التي تسبق اجتماع الجمعية العامة وبحسب الأنظمة واللوائح.- طبقاً للمادة الثانية والثلاثون من النظام الأساسي للبنك يكون انعقاد الجمعية العامة العادية (الاجتماع الأول) صحيحاً إذا حضره مساهمون يمثلون نصف رأس المال على الأقل، علماً بأن في حال عدم اكتمال النصاب القانوني لانعقاد (الاجتماع الأول) فإنه سوف يتم انعقاد (الاجتماع الثاني) بعد ساعة واحدة من الوقت المقرر لعقد الاجتماع الأول، ويكون (الاجتماع الثاني) صحيحا أيا كان عدد الأسهم الممثلة فيه.- يرجى من السادة المساهمين الراغبين في توكيل أشخاص آخرين للحضور والتصويت نيابة عنهم في اجتماع الجمعية العامة، إرسال نسخة من التوكيل بعد المصادقة عليه إلى مقر الإدارة العامة بجدة الطابق (24) عناية شؤون المساهمين، وذلك قبل موعد انعقاد الجمعية بيومين على الأقل.- يرجى من السادة المساهمين و/أو موكليهم الكرام التكرم بالحضور قبل موعد الاجتماع بساعة على الأقل وذلك لإنهاء إجراءات تسجيلهم، مع ضرورة إحضار أصل نموذج التوكيل للمُوَكَّلين بالإضافة إلى أصل إثبات هويتهم الشخصية وفقاً لما ورد في نموذج التوكيل.- بإمكان المساهمين الكرام المسجلين في موقع خدمات تداولاتي الإلكتروني التصويت عن بعد على بنود اجتماع الجمعية العامة وذلك من خلال خدمة (التصويت الإلكتروني)، علماً بأن التصويت عن بُعد يبدأ من الساعة العاشرة من صباح يوم الأحد 29-03-1439هـ الموافق 17-12-2017م ، وسيستمر حتى الساعة الرابعة من مساء يوم عقد الجمعية الأحد 06-04-1439هـ الموافق 24-12-2017م، عليه ندعو جميع مساهمي البنك إلى المشاركة والتصويت عن بُعد عن طريق زيارة الموقع الإلكتروني الخاص بتداولاتي https://www.tadawulaty.com.sa علماً بأن التسجيل في خدمات تداولاتي والتصويت متاح مجاناً لجميع المساهمين.لمزيد من المعلومات يمكن الاتصال بشؤون المساهمين في البنك وذلك خلال أوقات الدوام الرسمي على:هاتف 4000 646 012 أو الفاكس 4466 646 012 أو عن طريق البريد الإلكتروني ShareholdersAffairs@alahli.com.والله ولي التوفيقمجلس الإدارة</td>\n",
       "      <td>Neutral</td>\n",
       "      <td>جمعية-عامة-تصويت</td>\n",
       "      <td>33.75</td>\n",
       "      <td>34.25</td>\n",
       "      <td>33.75</td>\n",
       "      <td>33.97</td>\n",
       "      <td>-0.07</td>\n",
       "      <td>-0.21</td>\n",
       "      <td>370001.0</td>\n",
       "      <td>1.256159e+07</td>\n",
       "      <td>212.0</td>\n",
       "      <td>Banks</td>\n",
       "      <td>2017-12-20 15:12:23</td>\n",
       "    </tr>\n",
       "    <tr>\n",
       "      <th>...</th>\n",
       "      <td>...</td>\n",
       "      <td>...</td>\n",
       "      <td>...</td>\n",
       "      <td>...</td>\n",
       "      <td>...</td>\n",
       "      <td>...</td>\n",
       "      <td>...</td>\n",
       "      <td>...</td>\n",
       "      <td>...</td>\n",
       "      <td>...</td>\n",
       "      <td>...</td>\n",
       "      <td>...</td>\n",
       "      <td>...</td>\n",
       "      <td>...</td>\n",
       "      <td>...</td>\n",
       "      <td>...</td>\n",
       "      <td>...</td>\n",
       "      <td>...</td>\n",
       "    </tr>\n",
       "    <tr>\n",
       "      <th>32821</th>\n",
       "      <td>التأمين</td>\n",
       "      <td>شركة بروج للتأمين التعاوني</td>\n",
       "      <td>15:51:03</td>\n",
       "      <td>تدعو شركة بروج للتأمين التعاوني مساهميها إلى حضور اجتماع الجمعية العامة غير العادية المتضمنة زيادة رأس مال الشركة.</td>\n",
       "      <td>يدعو مجلس إدارة شركة بروج للتأمين التعاوني السادة المساهمين الذين يملكون 20 سهم فأكثر لحضور اجتماع الجمعية العامة (الاجتماع الاول) المقرر عقده بمشيئة الله تعالى في فندق الماريوت بالرياض في تمام الساعة (04:00) الرابعة مساء بتاريخ 1436-03-29هـ الموافق 20-01-2015م وذلك لمناقشة جدول الأعمال التالي: 1. الموافقة على زيادة رأس مال الشركة عن طريق طرح أسهم حقوق أولوية بقيمة (120.000.000) مئة وعشرون مليون ريال سعودي وذلك وفق التفصيل والألية الواردة في نشرة الإصدار الموافق عليها من هيئة سوق المال والتي سيتم نشرها في وقت لاحق وقبل الجمعية بوقت كاف. 2. الموافقة على تعديل المادة السابعة (7) من النظام الأساسي للشركة بما يتناسب مع زيادة رأس المال. 3. الموافقة على تعديل المادة الثامنة (8) من النظام الأساسي للشركة بما يتناسب مع زيادة رأس المال. تهدف الشركة من زيادة رأس المال إلى تعزيز هامش الملاءة المالية ودعم نمو النشاط المستقبلي للشركة. تقتصر الزيادة على ملاك الأسهم المقيدين في نهاية تداول يوم انعقاد الجمعية العامة غير العادية التي تقرر زيادة رأس المال.علما بأنه يشترط لصحة انعقاد هذه الجمعية حضور عدد من المساهمين يمثل 50% من رأس المال، ولكل مساهم يملك 20 سهم حق الحضور لاجتماع الجمعية العامة غير العادية، ويرجى من المساهمين الذين يتعذر حضورهم في الموعد المحدد ويرغبون في توكيل غيرهم من المساهمين ممن لهم حق حضور الاجتماع (من غير أعضاء مجلس الإدارة وموظفي الشركة) إرسال التوكيلات اللازمة مصدقة من الغرفة التجارية أو من أحد البنوك أو جهة العمل، وإرساله على العنوان التالي ص.ب. 51855 الرياض 11553 هاتف 2938383-011 فاكس 2172350-011 أو على البريد الإلكتروني invest@burujinsurance.com وذلك قبل موعد الاجتماع بثلاثة أيام على الأقل مع ضرورة إحضار المساهمين للاجتماع (أصالة او وكالة) بطاقاتهم الشخصية.</td>\n",
       "      <td>Positive</td>\n",
       "      <td>زيادة - رأس - المال</td>\n",
       "      <td>23.33</td>\n",
       "      <td>23.42</td>\n",
       "      <td>23.08</td>\n",
       "      <td>23.08</td>\n",
       "      <td>-0.17</td>\n",
       "      <td>-0.73</td>\n",
       "      <td>339727.0</td>\n",
       "      <td>7.881207e+06</td>\n",
       "      <td>333.0</td>\n",
       "      <td>Insurance</td>\n",
       "      <td>2014-12-07 15:51:03</td>\n",
       "    </tr>\n",
       "    <tr>\n",
       "      <th>32843</th>\n",
       "      <td>التأمين</td>\n",
       "      <td>شركة بروج للتأمين التعاوني</td>\n",
       "      <td>16:04:04</td>\n",
       "      <td>تعلن شركة بروج للتأمين التعاوني عن أخر التطورات بخصوص توصية مجلس الإدارة بزيادة رأس مال الشركة عن طريق طرح أسهم حقوق أولوية</td>\n",
       "      <td>إشارة الى إعلان الشركة بتاريخ 15/10/2012م الخاص بتوصية مجلس الإدارة بزيادة رأس مال الشركة عن طريق طرح أسهم حقوق أولوية بقيمة 120 مليون ريال سعودي ، تود الشركة إبلاغ مساهميها الكرام بأنه لم يطرأ أي جديد حول هذا الموضوع وأن الشركة ما زالت تراجع طلب زيادة راس المال مع مؤسسة النقد العربي السعودي وسوف تقوم الشركة بالإعلان عن أية مستجدات فور ورودها.</td>\n",
       "      <td>Positive</td>\n",
       "      <td>زيادة - رأس - المال</td>\n",
       "      <td>23.17</td>\n",
       "      <td>23.25</td>\n",
       "      <td>22.92</td>\n",
       "      <td>23.13</td>\n",
       "      <td>-0.10</td>\n",
       "      <td>-0.43</td>\n",
       "      <td>685141.0</td>\n",
       "      <td>1.584514e+07</td>\n",
       "      <td>512.0</td>\n",
       "      <td>Insurance</td>\n",
       "      <td>2014-02-17 16:04:04</td>\n",
       "    </tr>\n",
       "    <tr>\n",
       "      <th>33936</th>\n",
       "      <td>التأمين</td>\n",
       "      <td>شركة عناية السعودية للتأمين التعاوني</td>\n",
       "      <td>08:26:47</td>\n",
       "      <td>إعلان شركة عناية السعودية للتأمين التعاوني عن آخر يوم لتداول حقوق الأولية وآخر يوم للاكتتاب في الأسهم الجديدة (إعلان تذكيري)</td>\n",
       "      <td>بند توضيح مقدمة تعلن شركة عناية السعودية للتأمين التعاوني عن آخر يوم لتداول حقوق الأولوية وآخر يوم للاكتتاب في الأسهم الجديدة تاريخ نهاية فترة تداول الحقوق  1440-04-17 الموافق 2018-12-24 تاريخ نهاية مرحلة الاكتتاب  1440-04-20 الموافق 2018-12-27</td>\n",
       "      <td>Neutral</td>\n",
       "      <td>مرحلة - الاكتتاب</td>\n",
       "      <td>46.52</td>\n",
       "      <td>50.00</td>\n",
       "      <td>44.00</td>\n",
       "      <td>46.40</td>\n",
       "      <td>0.40</td>\n",
       "      <td>0.87</td>\n",
       "      <td>1204685.0</td>\n",
       "      <td>5.684938e+07</td>\n",
       "      <td>3581.0</td>\n",
       "      <td>Insurance</td>\n",
       "      <td>2018-12-24 08:26:47</td>\n",
       "    </tr>\n",
       "    <tr>\n",
       "      <th>34194</th>\n",
       "      <td>التأمين</td>\n",
       "      <td>شركة الإنماء طوكيو مارين</td>\n",
       "      <td>15:28:00</td>\n",
       "      <td>تدعو شركة الإنماء طوكيو مارين مساهميها إلى حضور اجتماع الجمعية العامة العادية - الاجتماع الاول ( إعلان تذكيري )</td>\n",
       "      <td>يدعو مجلس إدارة شركة الإنماء طوكيو مارين السادة المساهمين الذين يملكون 20 سهم فأكثر لحضور اجتماع الجمعية العامة العادية المقرر عقده بمشيئة الله تعالى في فندق النوفيتيل ، برج العنود 1 ، طريق الملك فهد بمدينة الرياض في تمام الساعة 16:00 بتاريخ 11-08-1437 الموافق 18-05-2016 وذلك لمناقشة جدول الأعمال التالي:  1-التصويت على ما ورد في تقرير مجلس الإدارة للعام المالي المنتهي في 31/12/2015م.2- التصويت على تقرير مراقب الحسابات للسنة المالية المنتهية في 31/12/2015م.3-التصويت على القوائم المالية للعام المالي المنتهي في 31/12/2015م .4- التصويت على إبراء ذمة أعضاء مجلس الإدارة عن أدائهم خلال العام المالي المنتهي في 31/12/2015م.5- التصويت على إختيار مدققي الحسابات بناء على توصية لجنة المراجعة لمراجعة حسابات الشركة للسنة المالية 2016 وتحديد أتعابهم .6- التصويت على صرف مبلغ (1.020.000) ريال كمكافأة لأعضاء مجلس الإدارة عن العام 2015م وفقاً لأحكام المادة (17) من النظام الأساس للشركة وذلك بواقع (180.000) ريال لرئيس المجلس و(120.000) ريال لكل عضو.7-التصويت على إعتماد لائحة حوكمة الشركة المحدثة . 8-التصويت على الأعمال والعقود التي تمت بين الشركة والأطراف ذات العلاقة كالتالي:1- المعاملات مع مصرف الإنماء خلال العام المالي المنتهي في 31/12/2015م :أ-إصدار وثائق التأمين للبنك بإجمالي أقساط 23.986 الف ريال سعودي ومطالبات مدفوعة بقيمة 11.585 ألف ريال سعودي. علما بأن السيد عبدالمحسن بن عبدالعزيز الفارس والسيد فهد محمد السماري يمثلان مصرف الإنماء في مجلس الإدارة بشركة الإنماء طوكيو مارين ، وتؤكد الشركة أن المعاملات لم تمنح أي مزايا تفضيلية .2- المعاملات مع شركة طوكيو مارين ونيشودو فير خلال العام المالي المنتهي في 31/12/2015م :أ.دفع أقساط إعادة تأمين (الاختيارية والمعاهدة) 3.134 الف ريال سعودي وتحصيل عمولة إعادة التأمين من 554 ألف ريال سعودي. علما بأن السيد هيساتوا حمادا والسيد كين كامكوشي يمثلان شركة طوكيو مارين ونيشودو فير للتأمين في مجلس الإدارة بشركة الإنماء طوكيو مارين ، وتؤكد الشركة أن المعاملات لم تمنح أي مزايا تفضيلية.3- المعاملات مع شركة حسين العويني خلال العام المالي المنتهي في 31/12/2015م :أ. نفقات عامة وإدارية بإجمالي 1.303 ألف ريال. علما بأنه يشترط لصحة انعقاد هذه الجمعية حضور عدد من المساهمين يمثل 50% من رأس المال، ولكل مساهم يملك 20 سهم حق الحضور لاجتماع الجمعية العامة، ويرجى من المساهمين الذين يتعذر حضورهم في الموعد المحدد ويرغبون في توكيل غيرهم من المساهمين ممن لهم حق حضور الاجتماع (من غير أعضاء مجلس الإدارة وموظفي الشركة) إرسال التوكيلات اللازمة مصدقة من الغرفة التجارية أو من أحد البنوك أو جهة العمل، وإرساله على العنوان التالي شركة الإنماء طوكيو مارين الدور 21 برج العنود 2 طريق الملك فهد ص.ب. 643 الرياض 11421 وذلك قبل موعد الاجتماع بثلاثة أيام على الأقل مع ضرورة إحضار المساهمين للاجتماع (أصالة او وكالة) بطاقاتهم الشخصية، وللاستفسار يرجى الاتصال 966112129369+</td>\n",
       "      <td>Positive</td>\n",
       "      <td>وافق - مجلس ادارة</td>\n",
       "      <td>30.60</td>\n",
       "      <td>33.00</td>\n",
       "      <td>30.60</td>\n",
       "      <td>31.78</td>\n",
       "      <td>1.35</td>\n",
       "      <td>4.44</td>\n",
       "      <td>5562833.0</td>\n",
       "      <td>1.776973e+08</td>\n",
       "      <td>4990.0</td>\n",
       "      <td>Insurance</td>\n",
       "      <td>2016-05-15 15:28:00</td>\n",
       "    </tr>\n",
       "    <tr>\n",
       "      <th>34358</th>\n",
       "      <td>الرعاية الصحية</td>\n",
       "      <td>شركة المواساة للخدمات الطبية</td>\n",
       "      <td>12:15:31</td>\n",
       "      <td>تدعو شركة المواساة للخدمات الطبية مساهميها الكرام إلى حضور إجتماع الجمعية العامة العادية السابعة (إعلان تذكيري) (تتمة)</td>\n",
       "      <td>ويرجى من المساهمين الذين يتعذر حضورهم في الموعد المحدد ويرغبون في توكيل غيرهم من المساهمين ممن لهم حق حضور الإجتماع (من غير أعضاء مجلس الإدارة وموظفي الشركة) إرسال التوكيلات اللازمة مصدقة من الغرفة التجارية أو من أحد البنوك أو من جهة العمل، وإذا كانت جهة العمل قطاع خاص فيتعين تصديق توقيع المسؤول من الغرفة التجارية وإرساله بالبريد المسجل على العنوان (ص . ب 7011 الدمام 31462) وذلك قبل موعد الإجتماع بثلاثة أيام على الأقل، مع ضرورة إحضار المساهمين للإجتماع (أصالة او وكالة) بطاقاتهم الشخصية .  وللإستفسار يرجى الاتصال على الرقم (8200016-03)</td>\n",
       "      <td>Neutral</td>\n",
       "      <td>حضور - اجتماع</td>\n",
       "      <td>NaN</td>\n",
       "      <td>NaN</td>\n",
       "      <td>NaN</td>\n",
       "      <td>NaN</td>\n",
       "      <td>NaN</td>\n",
       "      <td>NaN</td>\n",
       "      <td>NaN</td>\n",
       "      <td>NaN</td>\n",
       "      <td>NaN</td>\n",
       "      <td>Healthcare</td>\n",
       "      <td>2013-03-29 12:15:31</td>\n",
       "    </tr>\n",
       "  </tbody>\n",
       "</table>\n",
       "<p>265 rows × 18 columns</p>\n",
       "</div>"
      ],
      "text/plain": [
       "               Sector                          Company Name      Time  \\\n",
       "148            البنوك                            بنك الرياض  08:07:05   \n",
       "262            البنوك                 البنك السعودي الفرنسي  15:42:37   \n",
       "1188           البنوك                          مصرف الراجحي  16:17:51   \n",
       "1237           البنوك                          مصرف الراجحي  16:28:26   \n",
       "1556           البنوك                  البنك الأهلي التجاري  15:12:23   \n",
       "...               ...                                   ...       ...   \n",
       "32821         التأمين            شركة بروج للتأمين التعاوني  15:51:03   \n",
       "32843         التأمين            شركة بروج للتأمين التعاوني  16:04:04   \n",
       "33936         التأمين  شركة عناية السعودية للتأمين التعاوني  08:26:47   \n",
       "34194         التأمين              شركة الإنماء طوكيو مارين  15:28:00   \n",
       "34358  الرعاية الصحية          شركة المواساة للخدمات الطبية  12:15:31   \n",
       "\n",
       "                                                                                                                         News Title  \\\n",
       "148                                             يدعو بنك الرياض السادة المساهمين لحضور اجتماع الجمعية العامة العادية (إعلان تذكيري)   \n",
       "262                                                          يدعو البنك السعودي الفرنسي مساهميه لحضور اجتماع الجمعية العامة العادية   \n",
       "1188                 يدعو مصرف الراجحي السادة مساهمي المصرف لحضور اجتماع الجمعية العامة العادية التاسعة والعشرون ( الاجتماع الأول )   \n",
       "1237                                                               يدعو مصرف الراجحي مساهميه إلى حضور اجتماع الجمعية العامة العادية   \n",
       "1556           يدعو البنك الأهلي التجاري مساهميه إلى حضور اجتماع الجمعية العامة العادية السابعة عشر (الاجتماع الأول) (إعلان تذكيري)   \n",
       "...                                                                                                                             ...   \n",
       "32821            تدعو شركة بروج للتأمين التعاوني مساهميها إلى حضور اجتماع الجمعية العامة غير العادية المتضمنة زيادة رأس مال الشركة.   \n",
       "32843   تعلن شركة بروج للتأمين التعاوني عن أخر التطورات بخصوص توصية مجلس الإدارة بزيادة رأس مال الشركة عن طريق طرح أسهم حقوق أولوية   \n",
       "33936  إعلان شركة عناية السعودية للتأمين التعاوني عن آخر يوم لتداول حقوق الأولية وآخر يوم للاكتتاب في الأسهم الجديدة (إعلان تذكيري)   \n",
       "34194               تدعو شركة الإنماء طوكيو مارين مساهميها إلى حضور اجتماع الجمعية العامة العادية - الاجتماع الاول ( إعلان تذكيري )   \n",
       "34358        تدعو شركة المواساة للخدمات الطبية مساهميها الكرام إلى حضور إجتماع الجمعية العامة العادية السابعة (إعلان تذكيري) (تتمة)   \n",
       "\n",
       "                                                                                                                                                                                                                                                                                                                                                                                                                                                                                                                                                                                                                                                                                                                                                                                                                                                                                                                                                                                                                                                                                                                                                                                                                                                                                                                                                                                                                                                                                                                                                                                                                                                                                                                                                                                                                                                                                                                                                                                                                                                                                                                                                                                                                                                                                                                                                                                                                                                                                                                                                                                                                                                                                                                                                                                                                                                                                                                                                                                                                                                                                                                                                                                                                                                                                                                                                                                                                                                                                                                                                                                                                                                                                                                                                                                                                                                                                                                                                                                                                News Details  \\\n",
       "148                                                                                                                                                                                                                                                                                                                                                                                                                                                                                                                                                                                                                                                                                                                                                                                                                                                                                                                                                                                                                                                                                                                                                                                                                                                           يسر مجلس إدارة بنك الرياض ، دعوة مساهميه الكرام لحضور اجتماع الجمعية العامة العادية الذي سيعقد ، بمشيئة الله ، عند الساعة السادسة من مساء يوم الاثنين 23/12/1434هـ الموافق 28/10/2013م بمقر الإدارة العامة لبنك الرياض بطريق الملك عبد العزيز حي المربع بمدينة الرياض ، وذلك للنظر في جدول الأعمال التالي: البند الوحيد :انتخاب أعضاء مجلس إدارة البنك لمدة ثلاث سنوات قادمة اعتبارا من تاريخ 26/12/1434هـ الموافق31/10/2013م من بين المرشحين لعضوية مجلس الإدارة. هذا وتتوافر البيانات عن المرشحين لعضوية مجلس الإدارة بمقر الإدارة العامة للبنك للاطلاع عليها ، خلال الخمسة و عشرون يوماً السابقة لموعد الاجتماع .ويحق لكل مساهم يمتلك عشرين سهماً على الأقل حضور الاجتماع المشار إليه ، وله أن يوكل عنه مساهماً آخراً يمتلك عشرين سهما على الأقل لتمثيله في الاجتماع بموجب التوكيل المبين نصه أدناه (وفقاً لضوابط التوكيل الصادرة بقرار معالي وزير التجارة رقم 294 في 13/2/1422هـ ). وبحيث يرسـل التوكيل أدناه إلى بنك الريــاض (لعنــاية إدارة علاقـات المساهمــين ص.ب. 22622 الرياض 11416) ليصل البنك قبل موعد الاجتماع بسبعة أيام على الأقل . وعلى كل مساهم يرغب في حضور الاجتماع إحضار بطاقة الأحوال المدنية والمستندات الدالة على ملكيته وموكليه للأسهم. ويكون اجتماع الجمعية العامة العادية صحيحاً إذا حضره مساهمون يمتلكون نصف رأس مال البنك على الأقل.ووفقا للنظام الأساسي للبنك فإن انتخاب اعضاء مجلس الإدارة سيتم وفق اسلوب التصويت العادي.ويرجى من المساهمين الكرام الحضور قبل موعد الاجتماع بساعة واحدة على الأقل ، وذلك لإنهاء إجراءات تسجيلهم.وللرد على أي استفسار ، يرجى الاتصال عبر الهاتف رقم 3030-401/011 توصيله رقم ( 2444 ، 2445 ) ، أو عبر الفاكس رقم 0016-403/011 (الرياض) خلال ساعات الدوام الرسمي للبنك أو على البريد الإلكتروني : shareholders@riyadbank.com واللـــــه الموفــــــق بنك الرياض ، المركز الرئيسي - طريق الملك عبد العزيز - ص ب : 22622 الرياض 11416 www.riyadbank.comتوكيل خاصأنا المساهم / .................................................. الموقع أدناه ، بموجــــب بطاقة الأحـــوال الـمدنيـة رقم / ........................... الصادرة من بتاريخ / / هـ وبصفتي أحد المساهمين في بنك الرياض ( شركة مساهمة سعودية )، والمالك لعدد ( ) سهم قد وكلت المساهم .......................... بطاقة الأحوال المدنية رقم / .......................... الصادرة من بتاريخ / / هـ ( وهو من غير أعضاء مجلس الإدارة أو موظفي البنك أو المكلفين بالقيام بصفة دائمة بعمل فني أو إداري لحسابه ) ، لينوب عني في حضور اجتماع الجمعية العامة العادية لمساهمي بنك الرياض والمقرر عقده بمشيئة الله، في يوم الاثنين 23/12/1434هـ الموافق 28/10/2013م، والتصويت على بنود جدول أعمال الجمعية نيابة عني والتوقيع على كل المستندات المطلوبة والضرورية واللازمة لإجراءات الاجتماع . كما يسري هذا التوكيل للاجتماع الثاني في حال تأجيل الاجتماع . تحريرا في : / / 1434هـالموافق : / / 2013مالأسم :التوقيع : المصادقة على صحة التوقيع:الصفة :   \n",
       "262                                                                                                                                                                                                                                                                                                                                                                                                                                                                                                                                                                                                                                                                                                                                                                                                                                                                                                                                                                                                                                                                                                                                                                                                                                                                                                                                                                                                                                                                                                                                                                                                                                                                                                                                                                                                                                                                                                                                                                                                                                                                                                                                                                                                                                                                   يسر مجلس إدارة البنك السعودي الفرنسي دعوة مساهميه الكرام لحضور اجتماع الجمعية العامة العادية والتي ستعقد بإذن الله في تمام الساعة السادسة والنصف بعد صلاة المغرب ليوم الأحد 22/4/1432هـ الموافق (27/3/2011) بالدور الثامــن بمقر المركز الرئيسي للبنك الكائن بشارع المعذر بمدينة الرياض وذلك للنظر في جدول الأعمال التالي :-  (1) الموافقة على تقرير مجلس الإدارة عن العام المالي المنتهي في 31/12/2010م.  (2) التصديق على الميزانية العامة للبنك كما في 31/12/2010م وعلى حساب الأرباح والخسائر عن نفس السنة المالية.  (3) الموافقة على تقرير مراقبي الحسابات عن العام المالي المنتهي في 31/12/2010م.  (4) الموافقة على توصية مجلس الإدارة بشأن توزيع الأرباح عن العـــام المالي 2010م بمقدار (ريال واحد) للسهم الواحد آي    بنسبة 10% من القيمة الاسمية للسهم لحملة أسهم البنــــــك المسجلين بسجلات مساهمي البنك كما في نهاية تداول يوم    الأحد 22/4/1432هـ الموافق (27/3/2011) وبعـد إقرارها مـن قبل الجمعية العامة العادية.  (5) إبراء ذمة أعضاء مجلس الإدارة عن العام المالي 2010م.  (6) الموافقة على اختيار مراقبي الحسابات من بين المرشحين مــن قبل لجنة المراجعـة الداخلية لمراجعة القوائم المالية للبنك    للعام المالي 2011م والبيانات ربع السنوية وتحديد أتعابهم.  واستناداً لنظام الشركات وللمادة (25) من النظام الأساسي للبنك: لكل مساهم (أيا كان عدد أسهمه) حق حضور الجمعيات العامة للمساهمين. وللمساهم أن ينيب عنه بمقتضى توكيل مكتوب مساهماً آخر من غير أعضاء مجلس الإدارة أو موظفي البنك في الحضور على أن يتم مصادقة التوكيل من جهـة معترف بها:-  أ- الغرفة التجارية الصناعية متى كان المساهم منتسباً لأحدها وكذلك الحال إذا كـان للمساهم شركة أو مؤسسة اعتبارية.  ب - البنوك السعودية شريطة أن يكون للموكل حساب لدى البنك المصدق.  ج - الجهة التي يعمل بها المساهم الراغب في التوكيل.  د- - إحدى الجهات الحكومية المختصة.  (تتمه)     \n",
       "1188                                                                                                                                                                                                                                                                                                                                                                                                                                                                                                                                                                                                                                                                                                                                                                                                                                                                                                                                                                                                                                                                يسر مجلس إدارة مصرف الراجحي دعوة السادة مساهمي المصرف لحضور اجتماع الجمعية العامة العادية (التاسع والعشرون) المقرر عقدها في تمام الساعة السادسة والنصف من مساء يوم الاحد 8 رجب 1439هـ الموافق 25 مارس 2018م (حسب تقويم أم القرى) وذلك في فندق الانتركونتننتال قاعة بريدة في مدينة الرياض (رابط موقع الاجتماع https://goo.gl/maps/rSVJnPZd9oE2 )وذلك للتصويت على البنود التالية : ( مرفق ) علماً بأنه طبقاً للمادة (33) من النظام الأساسي للمصرف، فإن النصاب القانوني لعقد اجتماع الجمعية العامة العادية للمصرف هو حضور مساهمين يمثلون على الأقل ما نسبته 50% من رأس المال، وفي حال عدم اكتمال النصاب في هذا الاجتماع، سيتم عقد اجتماع ثان بعد ساعة واحدة من الوقت المقرر لعقد الاجتماع الأول، ويكون الاجتماع الثاني صحيحاً أيا كان عدد الأسهم الممثلة فيه.ونوجه عناية السادة المساهمين إلى ما يلي:- طبقاً للتعليمات الإشرافية فإنه يحق لكل مساهم حضور اجتماع الجمعية العامة أو توكيل شخص آخر ينوب عنه من غير أعضاء مجلس الإدارة أو موظفي المصرف أو المكلفين بصفة دائمة بعمل فني أو إداري لحسابه لحضور الاجتماع والتصويت على القرارات المعروضة بمقتضى التوكيل (المرفق صيغته بهذه الدعوة)، على أن يتم التصديق على التوكيل من إحدى الجهات التالية: الغرف التجارية الصناعية، أو إحدى البنوك المرخصة، أو الاشخاص المرخص لهم، أو كتابة العدل، أو الاشخاص المرخص لهم بممارسة أعمال التوثيق. وتماشياً مع الانظمة الإشرافية فإن آخر موعد لتلقي نسخة التوكيلات هو يومين على الأقل تسبق موعد تاريخ انعقاد الجمعية، وعلى الوكيل إبراز أصل التوكيل قبل انعقاد الجمعية.- يود المصرف التوضيح لعموم المساهمين بأن أحقية حضور الجمعية العامة العادية والتي ستنعقد يوم الاحد 8 رجب 1439هـ الموافق 25 مارس 2018م (حسب تقويم أم القرى)، هي للمساهمين المقيدين في سجل مساهمي المصرف لدى مركز الايداع بنهاية جلسة التداول التي تسبق اجتماع الجمعية العامة بحسب الأنظمة واللوائح.- على كل مساهم يرغب في حضور الاجتماع أن يحضر معه بطاقة الهوية الخاصة به والمستندات الدالة على ملكية الأسهم وذلك للتحقق من شخصيته وإثبات عدد الأسهم التي يملكها هو أو المساهمون الذين يمثلهم، وسيتم تسجيل أسماء الحضور من المساهمين وعدد الأسهم التي يملكونها أو يمثلونها وذلك ابتداء من الساعة الخامسة والنصف من مساء يوم الاجتماع على أن ينتهي التسجيل قبل بداية الاجتماع.- بإمكان المساهمين الكرام المسجلين في موقع خدمات تداولاتي الإلكتروني التصويت عن بعد على بنود اجتماع الجمعية العامة وذلك من خلال خدمة (التصويت الإلكتروني)، علماً بأن التصويت عن بُعد يبدأ من الساعة 10 صباحاً من يوم الاربعاء 4 رجب 1439هـ الموافق 21 مارس 2018م، وسيستمر حتى الساعة الرابعة من مساء يوم عقد الجمعية، يوم الاحد 8 رجب 1439هـ الموافق 25 مارس 2018م.وعليه ندعو جميع مساهمي المصرف إلى المشاركة والتصويت عن بُعد عن طريق زيارة الموقع الإلكتروني الخاص بتداولاتي https://www.tadawulaty.com.sa علماً بأن التسجيل في خدمات تداولاتي والتصويت متاح مجاناً لجميع المساهمين. - للتواصل ولمزيد من المعلومات يمكن الاتصال بأمانة سجل المساهمين بالمصرف خلال أوقات الدوام الرسمي على الهاتف رقم 2795857-011 / 2795854-011 أو الفاكس 2795860-011 او عن طريق البريد الالكتروني shareholders@alrajhibank.com.sa   \n",
       "1237                                                                                                                                                                                                                                                                                                                                                                                                                                                                                                                                                                                                                                                                                                                                                                                                                                                                                                                                                                                                                                                                                                                                                                                                                                                                                                                                                                                                                                                                                                                                                                                                                                                                                                                                                                                                                                                                                                                                                                                                                                                                                                                                                                                                                                                                                                                                                                                                                                                                                                                                                                                                                                                                           يسر مجلس إدارة مصرف الراجحي دعوة السادة المساهمين الذين يملكون عشرين سهماً فأكثر لحضور اجتماع الجمعيـة العـــامة العادية الخامسة والعشرون والمقرر عقدها بقاعة الخزامى للاحتفالات والمؤتمرات بمركز الخزامى بالرياض ، في تمام الساعة الرابعة عصراً يوم الاربعاء 29 ذو القعدة 1435هـ الموافق 24 سبتمبر 2014م للتصويت على جدول الاعمال التالي :1- انتخاب أعضاء مجلس الإدارة للدورة القادمة التي تبدأ في 14/11/2014م لمدة ثلاث سنوات 13/11/2017. وسيكون التصويت على انتخاب الأعضاء بطريقة التصويت (العادي).ويكون اجتماع الجمعية العامة العادية صحيحاً إذا حضره مساهمون يمثلون نصف رأس مال المصرف على الأقل، ويرجى من المساهمين الذين يتعذر حضورهم في الموعد المحدد ويرغبون في توكيل غيرهم من المساهمين ممن لهم حق حضور الاجتماع (من غير أعضاء مجلس الإدارة أو موظفي الشركة أو المكلفين بالقيام بصفة دائمة بعمل فني أو إداري لحسابها) إرسال الوكالة اللازمة مصدقة من الغرفة التجارية أو من أحد البنوك أو جهة العمل، على أن يتم إرسال الوكالة إلى عناية أمانة سجل المساهمين ، فاكس رقم 0112795860 قبل ثلاثة أيام من موعد انعقاد الجمعية ، كما نرجو من المكرمين المساهمين الراغبين في الحضور (أصالة أو وكالة) أن يحضروا قبل موعد انعقاد الجمعية بساعة على الأقل مع إحضار بطاقة الهوية لإنجاز عمليات التسجيل.وللاستفسار يرجى الاتصال على شؤون المساهمين على الأرقام الآتية: 0112795857 /0112795854/0112795859كما يمكن الحصول على نموذج التوكيل بالمرفق   \n",
       "1556   يدعو مجلس إدارة البنك الأهلي التجاري السادة مساهمي البنك لحضور اجتماع الجمعية العامة العادية السابعة عشر (الاجتماع الأول)، والمقرر انعقاده بمشيئة الله في تمام الساعة السابعة والنصف من مساء يوم الأحد 06-04-1439هـ الموافق 24-12-2017م (حسب تقويم أم القرى) وذلك بمقر البنك الرئيسي (مبنى الإدارة العامة) بشارع الملك عبدالعزيز - حي البلد في مدينة جدة (https://goo.gl/maps/Bm7Arhiyj722 ) وذلك للنظر في جدول الأعمال التالي.1- التصويت على سياسة المكافآت السنوية الخاصة بأعضاء مجلس الإدارة واللجان التابعة.(مرفق)2- التصويت على تحديث لائحة لجنة الترشيح والمكافآت والحوكمة.(مرفق)3- التصويت على تحديث سياسة ومعايير وإجراءات الترشيح لعضوية مجلس الإدارة.(مرفق)4- التصويت على الأعمال والعقود التي ستتم بين البنك الأهلي التجاري وشركة التعاونية للتأمين (التعاونية) والترخيص بها لعام قادم وذلك بقبول التعاقد لتقديم خدمات التأمين الطبي لموظفي البنك الأهلي التجاري لمدة عام ميلادي كامل يبدأ من 01 يناير 2018م، وبإجمالي مبلغ (143.315.122) ريال سعودي، والذي تم عن طريق المنافسة بدون شروط أو مزايا تفضيلية. ويعتبر عضو مجلس إدارة البنك سعادة المهندس عبدالعزيز بن عبدالله الزيد صاحب علاقة مباشرة حيث يشغل منصب عضو مجلس إدارة في (التعاونية)، وقد بلغت التعاملات خلال العام 2017م مبلغ وقدره (113.877.750) ريال سعودي، علماً بأن إجمالي مبلغ التعاقد لم يتجاوز نسبة 1% من إجمالي دخل عمليات البنك وفقا لآخر قوائم مالية سنوية مراجعة. (مرفق تبليغ رئيس مجلس الإدارة بالإضافة إلى تقرير المراجع الخارجي).كما نود إشعار السادة المساهمين بما يلي:- طبقاً لتعليمات الجهات الإشرافية يحق لكل مساهم حضور الجمعية العامة أو أن يوكل عنه شخص آخر من غير أعضاء مجلس الإدارة أو موظفي البنك أو المكلفين بصفة دائمة بعمل فني أو إداري لحسابه لحضور اجتماع الجمعية العامة والتصويت على القرارات المعروضة بمقتضى التوكيل (المرفق صيغته مع هذه الدعوة) على أن يتم التصديق على التوكيل من إحدى الجهات التالية: الغرف التجارية الصناعية، أو إحدى البنوك المرخصة، أو الأشخاص المرخص لهم، أو كتابة العدل، أو الأشخاص المرخص لهم بأعمال التوثيق. وتمشياً مع الأنظمة الإشرافية فإن آخر موعد لتلقي نسخة التوكيلات هو قبل يومين على الأقل من موعد تاريخ انعقاد الجمعية، وعلى الوكيل إبراز أصل التوكيل قبل انعقاد الجمعية.- أحقية حضور الجمعية العامة العادية للمساهمين المقيدين في سجل مساهمي البنك لدى مركز الإيداع بنهاية جلسة التداول التي تسبق اجتماع الجمعية العامة وبحسب الأنظمة واللوائح.- طبقاً للمادة الثانية والثلاثون من النظام الأساسي للبنك يكون انعقاد الجمعية العامة العادية (الاجتماع الأول) صحيحاً إذا حضره مساهمون يمثلون نصف رأس المال على الأقل، علماً بأن في حال عدم اكتمال النصاب القانوني لانعقاد (الاجتماع الأول) فإنه سوف يتم انعقاد (الاجتماع الثاني) بعد ساعة واحدة من الوقت المقرر لعقد الاجتماع الأول، ويكون (الاجتماع الثاني) صحيحا أيا كان عدد الأسهم الممثلة فيه.- يرجى من السادة المساهمين الراغبين في توكيل أشخاص آخرين للحضور والتصويت نيابة عنهم في اجتماع الجمعية العامة، إرسال نسخة من التوكيل بعد المصادقة عليه إلى مقر الإدارة العامة بجدة الطابق (24) عناية شؤون المساهمين، وذلك قبل موعد انعقاد الجمعية بيومين على الأقل.- يرجى من السادة المساهمين و/أو موكليهم الكرام التكرم بالحضور قبل موعد الاجتماع بساعة على الأقل وذلك لإنهاء إجراءات تسجيلهم، مع ضرورة إحضار أصل نموذج التوكيل للمُوَكَّلين بالإضافة إلى أصل إثبات هويتهم الشخصية وفقاً لما ورد في نموذج التوكيل.- بإمكان المساهمين الكرام المسجلين في موقع خدمات تداولاتي الإلكتروني التصويت عن بعد على بنود اجتماع الجمعية العامة وذلك من خلال خدمة (التصويت الإلكتروني)، علماً بأن التصويت عن بُعد يبدأ من الساعة العاشرة من صباح يوم الأحد 29-03-1439هـ الموافق 17-12-2017م ، وسيستمر حتى الساعة الرابعة من مساء يوم عقد الجمعية الأحد 06-04-1439هـ الموافق 24-12-2017م، عليه ندعو جميع مساهمي البنك إلى المشاركة والتصويت عن بُعد عن طريق زيارة الموقع الإلكتروني الخاص بتداولاتي https://www.tadawulaty.com.sa علماً بأن التسجيل في خدمات تداولاتي والتصويت متاح مجاناً لجميع المساهمين.لمزيد من المعلومات يمكن الاتصال بشؤون المساهمين في البنك وذلك خلال أوقات الدوام الرسمي على:هاتف 4000 646 012 أو الفاكس 4466 646 012 أو عن طريق البريد الإلكتروني ShareholdersAffairs@alahli.com.والله ولي التوفيقمجلس الإدارة   \n",
       "...                                                                                                                                                                                                                                                                                                                                                                                                                                                                                                                                                                                                                                                                                                                                                                                                                                                                                                                                                                                                                                                                                                                                                                                                                                                                                                                                                                                                                                                                                                                                                                                                                                                                                                                                                                                                                                                                                                                                                                                                                                                                                                                                                                                                                                                                                                                                                                                                                                                                                                                                                                                                                                                                                                                                                                                                                                                                                                                                                                                                                                                                                                                                                                                                                                                                                                                                                                                                                                                                                                                                                                                                                                                                                                                                                                                                                                                                                                                                                                                                                      ...   \n",
       "32821                                                                                                                                                                                                                                                                                                                                                                                                                                                                                                                                                                                                                                                                                                                                                                                                                                                                                                                                                                                                                                                                                                                                                                                                                                                                                                                                                                                                                                                                                                                                                                                                                                                                                                                                                                                                                                                                                                                                                                                                                                                                                                                                                                                                                                                                                                                                                               يدعو مجلس إدارة شركة بروج للتأمين التعاوني السادة المساهمين الذين يملكون 20 سهم فأكثر لحضور اجتماع الجمعية العامة (الاجتماع الاول) المقرر عقده بمشيئة الله تعالى في فندق الماريوت بالرياض في تمام الساعة (04:00) الرابعة مساء بتاريخ 1436-03-29هـ الموافق 20-01-2015م وذلك لمناقشة جدول الأعمال التالي: 1. الموافقة على زيادة رأس مال الشركة عن طريق طرح أسهم حقوق أولوية بقيمة (120.000.000) مئة وعشرون مليون ريال سعودي وذلك وفق التفصيل والألية الواردة في نشرة الإصدار الموافق عليها من هيئة سوق المال والتي سيتم نشرها في وقت لاحق وقبل الجمعية بوقت كاف. 2. الموافقة على تعديل المادة السابعة (7) من النظام الأساسي للشركة بما يتناسب مع زيادة رأس المال. 3. الموافقة على تعديل المادة الثامنة (8) من النظام الأساسي للشركة بما يتناسب مع زيادة رأس المال. تهدف الشركة من زيادة رأس المال إلى تعزيز هامش الملاءة المالية ودعم نمو النشاط المستقبلي للشركة. تقتصر الزيادة على ملاك الأسهم المقيدين في نهاية تداول يوم انعقاد الجمعية العامة غير العادية التي تقرر زيادة رأس المال.علما بأنه يشترط لصحة انعقاد هذه الجمعية حضور عدد من المساهمين يمثل 50% من رأس المال، ولكل مساهم يملك 20 سهم حق الحضور لاجتماع الجمعية العامة غير العادية، ويرجى من المساهمين الذين يتعذر حضورهم في الموعد المحدد ويرغبون في توكيل غيرهم من المساهمين ممن لهم حق حضور الاجتماع (من غير أعضاء مجلس الإدارة وموظفي الشركة) إرسال التوكيلات اللازمة مصدقة من الغرفة التجارية أو من أحد البنوك أو جهة العمل، وإرساله على العنوان التالي ص.ب. 51855 الرياض 11553 هاتف 2938383-011 فاكس 2172350-011 أو على البريد الإلكتروني invest@burujinsurance.com وذلك قبل موعد الاجتماع بثلاثة أيام على الأقل مع ضرورة إحضار المساهمين للاجتماع (أصالة او وكالة) بطاقاتهم الشخصية.   \n",
       "32843                                                                                                                                                                                                                                                                                                                                                                                                                                                                                                                                                                                                                                                                                                                                                                                                                                                                                                                                                                                                                                                                                                                                                                                                                                                                                                                                                                                                                                                                                                                                                                                                                                                                                                                                                                                                                                                                                                                                                                                                                                                                                                                                                                                                                                                                                                                                                                                                                                                                                                                                                                                                                                                                                                                                                                                                                                                                                                                                                                                                                                                                                                                                                                                                                                                                                                                                                                                                                                                                                                                                                                                                                                                              إشارة الى إعلان الشركة بتاريخ 15/10/2012م الخاص بتوصية مجلس الإدارة بزيادة رأس مال الشركة عن طريق طرح أسهم حقوق أولوية بقيمة 120 مليون ريال سعودي ، تود الشركة إبلاغ مساهميها الكرام بأنه لم يطرأ أي جديد حول هذا الموضوع وأن الشركة ما زالت تراجع طلب زيادة راس المال مع مؤسسة النقد العربي السعودي وسوف تقوم الشركة بالإعلان عن أية مستجدات فور ورودها.   \n",
       "33936                                                                                                                                                                                                                                                                                                                                                                                                                                                                                                                                                                                                                                                                                                                                                                                                                                                                                                                                                                                                                                                                                                                                                                                                                                                                                                                                                                                                                                                                                                                                                                                                                                                                                                                                                                                                                                                                                                                                                                                                                                                                                                                                                                                                                                                                                                                                                                                                                                                                                                                                                                                                                                                                                                                                                                                                                                                                                                                                                                                                                                                                                                                                                                                                                                                                                                                                                                                                                                                                                                                                                                                                                                                                                                                                                                  بند توضيح مقدمة تعلن شركة عناية السعودية للتأمين التعاوني عن آخر يوم لتداول حقوق الأولوية وآخر يوم للاكتتاب في الأسهم الجديدة تاريخ نهاية فترة تداول الحقوق  1440-04-17 الموافق 2018-12-24 تاريخ نهاية مرحلة الاكتتاب  1440-04-20 الموافق 2018-12-27    \n",
       "34194                                                                                                                                                                                                                                                                                                                                                                                                                                                                                                                                                                                                                                                                                                                                                                                                                                                                                                                                                                                                                                                                                                                                                                                                                                                                                                                        يدعو مجلس إدارة شركة الإنماء طوكيو مارين السادة المساهمين الذين يملكون 20 سهم فأكثر لحضور اجتماع الجمعية العامة العادية المقرر عقده بمشيئة الله تعالى في فندق النوفيتيل ، برج العنود 1 ، طريق الملك فهد بمدينة الرياض في تمام الساعة 16:00 بتاريخ 11-08-1437 الموافق 18-05-2016 وذلك لمناقشة جدول الأعمال التالي:  1-التصويت على ما ورد في تقرير مجلس الإدارة للعام المالي المنتهي في 31/12/2015م.2- التصويت على تقرير مراقب الحسابات للسنة المالية المنتهية في 31/12/2015م.3-التصويت على القوائم المالية للعام المالي المنتهي في 31/12/2015م .4- التصويت على إبراء ذمة أعضاء مجلس الإدارة عن أدائهم خلال العام المالي المنتهي في 31/12/2015م.5- التصويت على إختيار مدققي الحسابات بناء على توصية لجنة المراجعة لمراجعة حسابات الشركة للسنة المالية 2016 وتحديد أتعابهم .6- التصويت على صرف مبلغ (1.020.000) ريال كمكافأة لأعضاء مجلس الإدارة عن العام 2015م وفقاً لأحكام المادة (17) من النظام الأساس للشركة وذلك بواقع (180.000) ريال لرئيس المجلس و(120.000) ريال لكل عضو.7-التصويت على إعتماد لائحة حوكمة الشركة المحدثة . 8-التصويت على الأعمال والعقود التي تمت بين الشركة والأطراف ذات العلاقة كالتالي:1- المعاملات مع مصرف الإنماء خلال العام المالي المنتهي في 31/12/2015م :أ-إصدار وثائق التأمين للبنك بإجمالي أقساط 23.986 الف ريال سعودي ومطالبات مدفوعة بقيمة 11.585 ألف ريال سعودي. علما بأن السيد عبدالمحسن بن عبدالعزيز الفارس والسيد فهد محمد السماري يمثلان مصرف الإنماء في مجلس الإدارة بشركة الإنماء طوكيو مارين ، وتؤكد الشركة أن المعاملات لم تمنح أي مزايا تفضيلية .2- المعاملات مع شركة طوكيو مارين ونيشودو فير خلال العام المالي المنتهي في 31/12/2015م :أ.دفع أقساط إعادة تأمين (الاختيارية والمعاهدة) 3.134 الف ريال سعودي وتحصيل عمولة إعادة التأمين من 554 ألف ريال سعودي. علما بأن السيد هيساتوا حمادا والسيد كين كامكوشي يمثلان شركة طوكيو مارين ونيشودو فير للتأمين في مجلس الإدارة بشركة الإنماء طوكيو مارين ، وتؤكد الشركة أن المعاملات لم تمنح أي مزايا تفضيلية.3- المعاملات مع شركة حسين العويني خلال العام المالي المنتهي في 31/12/2015م :أ. نفقات عامة وإدارية بإجمالي 1.303 ألف ريال. علما بأنه يشترط لصحة انعقاد هذه الجمعية حضور عدد من المساهمين يمثل 50% من رأس المال، ولكل مساهم يملك 20 سهم حق الحضور لاجتماع الجمعية العامة، ويرجى من المساهمين الذين يتعذر حضورهم في الموعد المحدد ويرغبون في توكيل غيرهم من المساهمين ممن لهم حق حضور الاجتماع (من غير أعضاء مجلس الإدارة وموظفي الشركة) إرسال التوكيلات اللازمة مصدقة من الغرفة التجارية أو من أحد البنوك أو جهة العمل، وإرساله على العنوان التالي شركة الإنماء طوكيو مارين الدور 21 برج العنود 2 طريق الملك فهد ص.ب. 643 الرياض 11421 وذلك قبل موعد الاجتماع بثلاثة أيام على الأقل مع ضرورة إحضار المساهمين للاجتماع (أصالة او وكالة) بطاقاتهم الشخصية، وللاستفسار يرجى الاتصال 966112129369+   \n",
       "34358                                                                                                                                                                                                                                                                                                                                                                                                                                                                                                                                                                                                                                                                                                                                                                                                                                                                                                                                                                                                                                                                                                                                                                                                                                                                                                                                                                                                                                                                                                                                                                                                                                                                                                                                                                                                                                                                                                                                                                                                                                                                                                                                                                                                                                                                                                                                                                                                                                                                                                                                                                                                                                                                                                                                                                                                                                                                                                                                                                                                                                                                                                                                                                                                                                                                                                                                                                                                                                                         ويرجى من المساهمين الذين يتعذر حضورهم في الموعد المحدد ويرغبون في توكيل غيرهم من المساهمين ممن لهم حق حضور الإجتماع (من غير أعضاء مجلس الإدارة وموظفي الشركة) إرسال التوكيلات اللازمة مصدقة من الغرفة التجارية أو من أحد البنوك أو من جهة العمل، وإذا كانت جهة العمل قطاع خاص فيتعين تصديق توقيع المسؤول من الغرفة التجارية وإرساله بالبريد المسجل على العنوان (ص . ب 7011 الدمام 31462) وذلك قبل موعد الإجتماع بثلاثة أيام على الأقل، مع ضرورة إحضار المساهمين للإجتماع (أصالة او وكالة) بطاقاتهم الشخصية .  وللإستفسار يرجى الاتصال على الرقم (8200016-03)     \n",
       "\n",
       "       Polarity           Polarity Words  Oppening  The Highest  The Lowest  \\\n",
       "148    Positive              توقيع - عقد     14.10        14.25       14.05   \n",
       "262     Neutral   جمعية - عامة - موافقة      23.20        23.25       20.85   \n",
       "1188    Neutral  حضور - اجتماع - الجمعية     48.71        48.71       47.67   \n",
       "1237   Positive  يسر - وافق - مجلس ادارة     49.43        49.59       49.10   \n",
       "1556    Neutral         جمعية-عامة-تصويت     33.75        34.25       33.75   \n",
       "...         ...                      ...       ...          ...         ...   \n",
       "32821  Positive      زيادة - رأس - المال     23.33        23.42       23.08   \n",
       "32843  Positive      زيادة - رأس - المال     23.17        23.25       22.92   \n",
       "33936   Neutral         مرحلة - الاكتتاب     46.52        50.00       44.00   \n",
       "34194  Positive        وافق - مجلس ادارة     30.60        33.00       30.60   \n",
       "34358   Neutral            حضور - اجتماع       NaN          NaN         NaN   \n",
       "\n",
       "       Closing  Changing  Changing%  The Quantity Handled  \\\n",
       "148      14.20      0.10       0.71              670654.0   \n",
       "262      21.38     -1.65      -7.16              579830.0   \n",
       "1188     48.13     -0.70      -1.43            13194072.0   \n",
       "1237     49.32     -0.11      -0.22             3730547.0   \n",
       "1556     33.97     -0.07      -0.21              370001.0   \n",
       "...        ...       ...        ...                   ...   \n",
       "32821    23.08     -0.17      -0.73              339727.0   \n",
       "32843    23.13     -0.10      -0.43              685141.0   \n",
       "33936    46.40      0.40       0.87             1204685.0   \n",
       "34194    31.78      1.35       4.44             5562833.0   \n",
       "34358      NaN       NaN        NaN                   NaN   \n",
       "\n",
       "       Total Current Value (SAR)  Number of Deals   Sector_en  \\\n",
       "148                 9.484389e+06            114.0       Banks   \n",
       "262                 1.274188e+07            272.0       Banks   \n",
       "1188                6.351782e+08           4021.0       Banks   \n",
       "1237                1.842184e+08           1273.0       Banks   \n",
       "1556                1.256159e+07            212.0       Banks   \n",
       "...                          ...              ...         ...   \n",
       "32821               7.881207e+06            333.0   Insurance   \n",
       "32843               1.584514e+07            512.0   Insurance   \n",
       "33936               5.684938e+07           3581.0   Insurance   \n",
       "34194               1.776973e+08           4990.0   Insurance   \n",
       "34358                        NaN              NaN  Healthcare   \n",
       "\n",
       "                     Date  \n",
       "148   2013-10-21 08:07:05  \n",
       "262   2011-03-02 15:42:37  \n",
       "1188  2018-03-15 16:17:51  \n",
       "1237  2014-08-28 16:28:26  \n",
       "1556  2017-12-20 15:12:23  \n",
       "...                   ...  \n",
       "32821 2014-12-07 15:51:03  \n",
       "32843 2014-02-17 16:04:04  \n",
       "33936 2018-12-24 08:26:47  \n",
       "34194 2016-05-15 15:28:00  \n",
       "34358 2013-03-29 12:15:31  \n",
       "\n",
       "[265 rows x 18 columns]"
      ]
     },
     "execution_count": 31,
     "metadata": {},
     "output_type": "execute_result"
    }
   ],
   "source": [
    "# check the duplicated reviews\n",
    "print_full(df.loc[df['News Details'].duplicated()])"
   ]
  },
  {
   "cell_type": "markdown",
   "metadata": {},
   "source": [
    "On close examination of the duplicated rows, it turned out they're not fully duplicated. So we'll leave them as is "
   ]
  },
  {
   "cell_type": "markdown",
   "metadata": {},
   "source": [
    "### Storing the Clean Data for Later Use"
   ]
  },
  {
   "cell_type": "code",
   "execution_count": 32,
   "metadata": {},
   "outputs": [],
   "source": [
    "df.to_csv('data/clean_data.csv', index=False)"
   ]
  },
  {
   "cell_type": "code",
   "execution_count": 33,
   "metadata": {},
   "outputs": [],
   "source": [
    "reset()"
   ]
  },
  {
   "cell_type": "code",
   "execution_count": 34,
   "metadata": {},
   "outputs": [
    {
     "ename": "NameError",
     "evalue": "name 'df1' is not defined",
     "output_type": "error",
     "traceback": [
      "\u001b[1;31m---------------------------------------------------------------------------\u001b[0m",
      "\u001b[1;31mNameError\u001b[0m                                 Traceback (most recent call last)",
      "\u001b[1;32m<ipython-input-34-5f86b13ce289>\u001b[0m in \u001b[0;36m<module>\u001b[1;34m\u001b[0m\n\u001b[1;32m----> 1\u001b[1;33m \u001b[0mdf1\u001b[0m\u001b[1;33m.\u001b[0m\u001b[0mhead\u001b[0m\u001b[1;33m(\u001b[0m\u001b[1;36m2\u001b[0m\u001b[1;33m)\u001b[0m\u001b[1;33m\u001b[0m\u001b[1;33m\u001b[0m\u001b[0m\n\u001b[0m",
      "\u001b[1;31mNameError\u001b[0m: name 'df1' is not defined"
     ]
    }
   ],
   "source": [
    "df1.head(2)"
   ]
  },
  {
   "cell_type": "markdown",
   "metadata": {},
   "source": [
    "## Descriptive Statistics"
   ]
  },
  {
   "cell_type": "code",
   "execution_count": null,
   "metadata": {},
   "outputs": [],
   "source": [
    "cats = ['Sector', 'Company Name', 'Polarity']\n",
    "nums = ['Oppening', 'The Highest', 'The Lowest', 'Closing', 'Changing', 'Changing%', \n",
    "        'The Quantity Handled', 'Total Current Value (SAR)', 'Number of Deals']\n",
    "\n",
    "texts = ['News Title', 'News Details', 'Polarity Words']\n",
    "\n",
    "date = ['Date']"
   ]
  },
  {
   "cell_type": "markdown",
   "metadata": {},
   "source": [
    "#### Numerical Variables Statistics"
   ]
  },
  {
   "cell_type": "markdown",
   "metadata": {},
   "source": [
    "**Note:** The huge numbers in the column `Total Current Value` is due to the huge amount itself. it's not an approximation"
   ]
  },
  {
   "cell_type": "code",
   "execution_count": null,
   "metadata": {},
   "outputs": [],
   "source": [
    "df[nums].describe().round(2)"
   ]
  },
  {
   "cell_type": "code",
   "execution_count": null,
   "metadata": {},
   "outputs": [],
   "source": [
    "def describe_cat(cat_var, n=5):\n",
    "    if cat_var == 'Date':\n",
    "        col = df[cat_var].dt.date\n",
    "    else:\n",
    "        col = df[cat_var]\n",
    "        \n",
    "    unique = len(col.unique())\n",
    "    top_counts = col.value_counts().to_frame().reset_index().head(n)\n",
    "    top_counts_str = \"، \".join([f'{level}: {count}' for level,count in top_counts.values])\n",
    "    \n",
    "    summary = pd.Series({'Variable': cat_var, 'Unique': unique, 'Top Counts': top_counts_str})\n",
    "    \n",
    "    return summary\n",
    "    \n",
    "    \n",
    "def describe_cats(cat_vars):\n",
    "    summary = pd.DataFrame(np.nan, columns=['Variable', 'Unique', 'Top Counts'], index=range(len(cat_vars)))\n",
    "    \n",
    "    for i, cat in enumerate(cat_vars):\n",
    "        summary.iloc[i] = describe_cat(cat)\n",
    "    \n",
    "    summary['Unique'] = summary['Unique'].astype('int')\n",
    "        \n",
    "    return summary"
   ]
  },
  {
   "cell_type": "code",
   "execution_count": null,
   "metadata": {},
   "outputs": [],
   "source": [
    "describe_cat('Date')"
   ]
  },
  {
   "cell_type": "code",
   "execution_count": null,
   "metadata": {},
   "outputs": [],
   "source": [
    "print_full(describe_cats(cats+date))"
   ]
  },
  {
   "cell_type": "code",
   "execution_count": null,
   "metadata": {},
   "outputs": [],
   "source": [
    "reset()"
   ]
  },
  {
   "cell_type": "markdown",
   "metadata": {},
   "source": [
    "## Exploratory Data Analysis"
   ]
  },
  {
   "cell_type": "markdown",
   "metadata": {},
   "source": [
    "### Exploring Singe Categorical Variables"
   ]
  },
  {
   "cell_type": "markdown",
   "metadata": {},
   "source": [
    "#### The Polarity"
   ]
  },
  {
   "cell_type": "code",
   "execution_count": null,
   "metadata": {},
   "outputs": [],
   "source": [
    "# !pip install notebook ipywidgets"
   ]
  },
  {
   "cell_type": "code",
   "execution_count": null,
   "metadata": {},
   "outputs": [],
   "source": [
    "from IPython.display import HTML"
   ]
  },
  {
   "cell_type": "code",
   "execution_count": 35,
   "metadata": {},
   "outputs": [
    {
     "data": {
      "application/vnd.plotly.v1+json": {
       "config": {
        "plotlyServerURL": "https://plotly.com"
       },
       "data": [
        {
         "customdata": [
          [
           15509
          ],
          [
           11483
          ],
          [
           3106
          ]
         ],
         "domain": {
          "x": [
           0,
           1
          ],
          "y": [
           0,
           1
          ]
         },
         "hole": 0.1,
         "hovertemplate": "index=%{label}<br>Polarity=%{customdata[0]}<extra></extra>",
         "labels": [
          "Positive",
          "Neutral",
          "Negative"
         ],
         "legendgroup": "",
         "marker": {
          "colors": [
           "rgb(95, 70, 144)",
           "rgb(29, 105, 150)",
           "rgb(56, 166, 165)"
          ]
         },
         "name": "",
         "showlegend": true,
         "textinfo": "percent+label+value",
         "type": "pie",
         "values": [
          15509,
          11483,
          3106
         ]
        }
       ],
       "layout": {
        "legend": {
         "tracegroupgap": 0
        },
        "piecolorway": [
         "rgb(95, 70, 144)",
         "rgb(29, 105, 150)",
         "rgb(56, 166, 165)",
         "rgb(15, 133, 84)",
         "rgb(115, 175, 72)",
         "rgb(237, 173, 8)",
         "rgb(225, 124, 5)",
         "rgb(204, 80, 62)",
         "rgb(148, 52, 110)",
         "rgb(111, 64, 112)",
         "rgb(102, 102, 102)"
        ],
        "template": {
         "data": {
          "bar": [
           {
            "error_x": {
             "color": "#2a3f5f"
            },
            "error_y": {
             "color": "#2a3f5f"
            },
            "marker": {
             "line": {
              "color": "white",
              "width": 0.5
             }
            },
            "type": "bar"
           }
          ],
          "barpolar": [
           {
            "marker": {
             "line": {
              "color": "white",
              "width": 0.5
             }
            },
            "type": "barpolar"
           }
          ],
          "carpet": [
           {
            "aaxis": {
             "endlinecolor": "#2a3f5f",
             "gridcolor": "#C8D4E3",
             "linecolor": "#C8D4E3",
             "minorgridcolor": "#C8D4E3",
             "startlinecolor": "#2a3f5f"
            },
            "baxis": {
             "endlinecolor": "#2a3f5f",
             "gridcolor": "#C8D4E3",
             "linecolor": "#C8D4E3",
             "minorgridcolor": "#C8D4E3",
             "startlinecolor": "#2a3f5f"
            },
            "type": "carpet"
           }
          ],
          "choropleth": [
           {
            "colorbar": {
             "outlinewidth": 0,
             "ticks": ""
            },
            "type": "choropleth"
           }
          ],
          "contour": [
           {
            "colorbar": {
             "outlinewidth": 0,
             "ticks": ""
            },
            "colorscale": [
             [
              0,
              "#0d0887"
             ],
             [
              0.1111111111111111,
              "#46039f"
             ],
             [
              0.2222222222222222,
              "#7201a8"
             ],
             [
              0.3333333333333333,
              "#9c179e"
             ],
             [
              0.4444444444444444,
              "#bd3786"
             ],
             [
              0.5555555555555556,
              "#d8576b"
             ],
             [
              0.6666666666666666,
              "#ed7953"
             ],
             [
              0.7777777777777778,
              "#fb9f3a"
             ],
             [
              0.8888888888888888,
              "#fdca26"
             ],
             [
              1,
              "#f0f921"
             ]
            ],
            "type": "contour"
           }
          ],
          "contourcarpet": [
           {
            "colorbar": {
             "outlinewidth": 0,
             "ticks": ""
            },
            "type": "contourcarpet"
           }
          ],
          "heatmap": [
           {
            "colorbar": {
             "outlinewidth": 0,
             "ticks": ""
            },
            "colorscale": [
             [
              0,
              "#0d0887"
             ],
             [
              0.1111111111111111,
              "#46039f"
             ],
             [
              0.2222222222222222,
              "#7201a8"
             ],
             [
              0.3333333333333333,
              "#9c179e"
             ],
             [
              0.4444444444444444,
              "#bd3786"
             ],
             [
              0.5555555555555556,
              "#d8576b"
             ],
             [
              0.6666666666666666,
              "#ed7953"
             ],
             [
              0.7777777777777778,
              "#fb9f3a"
             ],
             [
              0.8888888888888888,
              "#fdca26"
             ],
             [
              1,
              "#f0f921"
             ]
            ],
            "type": "heatmap"
           }
          ],
          "heatmapgl": [
           {
            "colorbar": {
             "outlinewidth": 0,
             "ticks": ""
            },
            "colorscale": [
             [
              0,
              "#0d0887"
             ],
             [
              0.1111111111111111,
              "#46039f"
             ],
             [
              0.2222222222222222,
              "#7201a8"
             ],
             [
              0.3333333333333333,
              "#9c179e"
             ],
             [
              0.4444444444444444,
              "#bd3786"
             ],
             [
              0.5555555555555556,
              "#d8576b"
             ],
             [
              0.6666666666666666,
              "#ed7953"
             ],
             [
              0.7777777777777778,
              "#fb9f3a"
             ],
             [
              0.8888888888888888,
              "#fdca26"
             ],
             [
              1,
              "#f0f921"
             ]
            ],
            "type": "heatmapgl"
           }
          ],
          "histogram": [
           {
            "marker": {
             "colorbar": {
              "outlinewidth": 0,
              "ticks": ""
             }
            },
            "type": "histogram"
           }
          ],
          "histogram2d": [
           {
            "colorbar": {
             "outlinewidth": 0,
             "ticks": ""
            },
            "colorscale": [
             [
              0,
              "#0d0887"
             ],
             [
              0.1111111111111111,
              "#46039f"
             ],
             [
              0.2222222222222222,
              "#7201a8"
             ],
             [
              0.3333333333333333,
              "#9c179e"
             ],
             [
              0.4444444444444444,
              "#bd3786"
             ],
             [
              0.5555555555555556,
              "#d8576b"
             ],
             [
              0.6666666666666666,
              "#ed7953"
             ],
             [
              0.7777777777777778,
              "#fb9f3a"
             ],
             [
              0.8888888888888888,
              "#fdca26"
             ],
             [
              1,
              "#f0f921"
             ]
            ],
            "type": "histogram2d"
           }
          ],
          "histogram2dcontour": [
           {
            "colorbar": {
             "outlinewidth": 0,
             "ticks": ""
            },
            "colorscale": [
             [
              0,
              "#0d0887"
             ],
             [
              0.1111111111111111,
              "#46039f"
             ],
             [
              0.2222222222222222,
              "#7201a8"
             ],
             [
              0.3333333333333333,
              "#9c179e"
             ],
             [
              0.4444444444444444,
              "#bd3786"
             ],
             [
              0.5555555555555556,
              "#d8576b"
             ],
             [
              0.6666666666666666,
              "#ed7953"
             ],
             [
              0.7777777777777778,
              "#fb9f3a"
             ],
             [
              0.8888888888888888,
              "#fdca26"
             ],
             [
              1,
              "#f0f921"
             ]
            ],
            "type": "histogram2dcontour"
           }
          ],
          "mesh3d": [
           {
            "colorbar": {
             "outlinewidth": 0,
             "ticks": ""
            },
            "type": "mesh3d"
           }
          ],
          "parcoords": [
           {
            "line": {
             "colorbar": {
              "outlinewidth": 0,
              "ticks": ""
             }
            },
            "type": "parcoords"
           }
          ],
          "pie": [
           {
            "automargin": true,
            "type": "pie"
           }
          ],
          "scatter": [
           {
            "marker": {
             "colorbar": {
              "outlinewidth": 0,
              "ticks": ""
             }
            },
            "type": "scatter"
           }
          ],
          "scatter3d": [
           {
            "line": {
             "colorbar": {
              "outlinewidth": 0,
              "ticks": ""
             }
            },
            "marker": {
             "colorbar": {
              "outlinewidth": 0,
              "ticks": ""
             }
            },
            "type": "scatter3d"
           }
          ],
          "scattercarpet": [
           {
            "marker": {
             "colorbar": {
              "outlinewidth": 0,
              "ticks": ""
             }
            },
            "type": "scattercarpet"
           }
          ],
          "scattergeo": [
           {
            "marker": {
             "colorbar": {
              "outlinewidth": 0,
              "ticks": ""
             }
            },
            "type": "scattergeo"
           }
          ],
          "scattergl": [
           {
            "marker": {
             "colorbar": {
              "outlinewidth": 0,
              "ticks": ""
             }
            },
            "type": "scattergl"
           }
          ],
          "scattermapbox": [
           {
            "marker": {
             "colorbar": {
              "outlinewidth": 0,
              "ticks": ""
             }
            },
            "type": "scattermapbox"
           }
          ],
          "scatterpolar": [
           {
            "marker": {
             "colorbar": {
              "outlinewidth": 0,
              "ticks": ""
             }
            },
            "type": "scatterpolar"
           }
          ],
          "scatterpolargl": [
           {
            "marker": {
             "colorbar": {
              "outlinewidth": 0,
              "ticks": ""
             }
            },
            "type": "scatterpolargl"
           }
          ],
          "scatterternary": [
           {
            "marker": {
             "colorbar": {
              "outlinewidth": 0,
              "ticks": ""
             }
            },
            "type": "scatterternary"
           }
          ],
          "surface": [
           {
            "colorbar": {
             "outlinewidth": 0,
             "ticks": ""
            },
            "colorscale": [
             [
              0,
              "#0d0887"
             ],
             [
              0.1111111111111111,
              "#46039f"
             ],
             [
              0.2222222222222222,
              "#7201a8"
             ],
             [
              0.3333333333333333,
              "#9c179e"
             ],
             [
              0.4444444444444444,
              "#bd3786"
             ],
             [
              0.5555555555555556,
              "#d8576b"
             ],
             [
              0.6666666666666666,
              "#ed7953"
             ],
             [
              0.7777777777777778,
              "#fb9f3a"
             ],
             [
              0.8888888888888888,
              "#fdca26"
             ],
             [
              1,
              "#f0f921"
             ]
            ],
            "type": "surface"
           }
          ],
          "table": [
           {
            "cells": {
             "fill": {
              "color": "#EBF0F8"
             },
             "line": {
              "color": "white"
             }
            },
            "header": {
             "fill": {
              "color": "#C8D4E3"
             },
             "line": {
              "color": "white"
             }
            },
            "type": "table"
           }
          ]
         },
         "layout": {
          "annotationdefaults": {
           "arrowcolor": "#2a3f5f",
           "arrowhead": 0,
           "arrowwidth": 1
          },
          "coloraxis": {
           "colorbar": {
            "outlinewidth": 0,
            "ticks": ""
           }
          },
          "colorscale": {
           "diverging": [
            [
             0,
             "#8e0152"
            ],
            [
             0.1,
             "#c51b7d"
            ],
            [
             0.2,
             "#de77ae"
            ],
            [
             0.3,
             "#f1b6da"
            ],
            [
             0.4,
             "#fde0ef"
            ],
            [
             0.5,
             "#f7f7f7"
            ],
            [
             0.6,
             "#e6f5d0"
            ],
            [
             0.7,
             "#b8e186"
            ],
            [
             0.8,
             "#7fbc41"
            ],
            [
             0.9,
             "#4d9221"
            ],
            [
             1,
             "#276419"
            ]
           ],
           "sequential": [
            [
             0,
             "#0d0887"
            ],
            [
             0.1111111111111111,
             "#46039f"
            ],
            [
             0.2222222222222222,
             "#7201a8"
            ],
            [
             0.3333333333333333,
             "#9c179e"
            ],
            [
             0.4444444444444444,
             "#bd3786"
            ],
            [
             0.5555555555555556,
             "#d8576b"
            ],
            [
             0.6666666666666666,
             "#ed7953"
            ],
            [
             0.7777777777777778,
             "#fb9f3a"
            ],
            [
             0.8888888888888888,
             "#fdca26"
            ],
            [
             1,
             "#f0f921"
            ]
           ],
           "sequentialminus": [
            [
             0,
             "#0d0887"
            ],
            [
             0.1111111111111111,
             "#46039f"
            ],
            [
             0.2222222222222222,
             "#7201a8"
            ],
            [
             0.3333333333333333,
             "#9c179e"
            ],
            [
             0.4444444444444444,
             "#bd3786"
            ],
            [
             0.5555555555555556,
             "#d8576b"
            ],
            [
             0.6666666666666666,
             "#ed7953"
            ],
            [
             0.7777777777777778,
             "#fb9f3a"
            ],
            [
             0.8888888888888888,
             "#fdca26"
            ],
            [
             1,
             "#f0f921"
            ]
           ]
          },
          "colorway": [
           "#636efa",
           "#EF553B",
           "#00cc96",
           "#ab63fa",
           "#FFA15A",
           "#19d3f3",
           "#FF6692",
           "#B6E880",
           "#FF97FF",
           "#FECB52"
          ],
          "font": {
           "color": "#2a3f5f"
          },
          "geo": {
           "bgcolor": "white",
           "lakecolor": "white",
           "landcolor": "white",
           "showlakes": true,
           "showland": true,
           "subunitcolor": "#C8D4E3"
          },
          "hoverlabel": {
           "align": "left"
          },
          "hovermode": "closest",
          "mapbox": {
           "style": "light"
          },
          "paper_bgcolor": "white",
          "plot_bgcolor": "white",
          "polar": {
           "angularaxis": {
            "gridcolor": "#EBF0F8",
            "linecolor": "#EBF0F8",
            "ticks": ""
           },
           "bgcolor": "white",
           "radialaxis": {
            "gridcolor": "#EBF0F8",
            "linecolor": "#EBF0F8",
            "ticks": ""
           }
          },
          "scene": {
           "xaxis": {
            "backgroundcolor": "white",
            "gridcolor": "#DFE8F3",
            "gridwidth": 2,
            "linecolor": "#EBF0F8",
            "showbackground": true,
            "ticks": "",
            "zerolinecolor": "#EBF0F8"
           },
           "yaxis": {
            "backgroundcolor": "white",
            "gridcolor": "#DFE8F3",
            "gridwidth": 2,
            "linecolor": "#EBF0F8",
            "showbackground": true,
            "ticks": "",
            "zerolinecolor": "#EBF0F8"
           },
           "zaxis": {
            "backgroundcolor": "white",
            "gridcolor": "#DFE8F3",
            "gridwidth": 2,
            "linecolor": "#EBF0F8",
            "showbackground": true,
            "ticks": "",
            "zerolinecolor": "#EBF0F8"
           }
          },
          "shapedefaults": {
           "line": {
            "color": "#2a3f5f"
           }
          },
          "ternary": {
           "aaxis": {
            "gridcolor": "#DFE8F3",
            "linecolor": "#A2B1C6",
            "ticks": ""
           },
           "baxis": {
            "gridcolor": "#DFE8F3",
            "linecolor": "#A2B1C6",
            "ticks": ""
           },
           "bgcolor": "white",
           "caxis": {
            "gridcolor": "#DFE8F3",
            "linecolor": "#A2B1C6",
            "ticks": ""
           }
          },
          "title": {
           "x": 0.05
          },
          "xaxis": {
           "automargin": true,
           "gridcolor": "#EBF0F8",
           "linecolor": "#EBF0F8",
           "ticks": "",
           "title": {
            "standoff": 15
           },
           "zerolinecolor": "#EBF0F8",
           "zerolinewidth": 2
          },
          "yaxis": {
           "automargin": true,
           "gridcolor": "#EBF0F8",
           "linecolor": "#EBF0F8",
           "ticks": "",
           "title": {
            "standoff": 15
           },
           "zerolinecolor": "#EBF0F8",
           "zerolinewidth": 2
          }
         }
        },
        "title": {
         "text": "Polarity Distribution"
        }
       }
      },
      "text/html": [
       "<div>\n",
       "        \n",
       "        \n",
       "            <div id=\"aa54eb02-1518-4013-a4ac-87a2ccfb339c\" class=\"plotly-graph-div\" style=\"height:525px; width:100%;\"></div>\n",
       "            <script type=\"text/javascript\">\n",
       "                require([\"plotly\"], function(Plotly) {\n",
       "                    window.PLOTLYENV=window.PLOTLYENV || {};\n",
       "                    \n",
       "                if (document.getElementById(\"aa54eb02-1518-4013-a4ac-87a2ccfb339c\")) {\n",
       "                    Plotly.newPlot(\n",
       "                        'aa54eb02-1518-4013-a4ac-87a2ccfb339c',\n",
       "                        [{\"customdata\": [[15509], [11483], [3106]], \"domain\": {\"x\": [0.0, 1.0], \"y\": [0.0, 1.0]}, \"hole\": 0.1, \"hovertemplate\": \"index=%{label}<br>Polarity=%{customdata[0]}<extra></extra>\", \"labels\": [\"Positive\", \"Neutral\", \"Negative\"], \"legendgroup\": \"\", \"marker\": {\"colors\": [\"rgb(95, 70, 144)\", \"rgb(29, 105, 150)\", \"rgb(56, 166, 165)\"]}, \"name\": \"\", \"showlegend\": true, \"textinfo\": \"percent+label+value\", \"type\": \"pie\", \"values\": [15509, 11483, 3106]}],\n",
       "                        {\"legend\": {\"tracegroupgap\": 0}, \"piecolorway\": [\"rgb(95, 70, 144)\", \"rgb(29, 105, 150)\", \"rgb(56, 166, 165)\", \"rgb(15, 133, 84)\", \"rgb(115, 175, 72)\", \"rgb(237, 173, 8)\", \"rgb(225, 124, 5)\", \"rgb(204, 80, 62)\", \"rgb(148, 52, 110)\", \"rgb(111, 64, 112)\", \"rgb(102, 102, 102)\"], \"template\": {\"data\": {\"bar\": [{\"error_x\": {\"color\": \"#2a3f5f\"}, \"error_y\": {\"color\": \"#2a3f5f\"}, \"marker\": {\"line\": {\"color\": \"white\", \"width\": 0.5}}, \"type\": \"bar\"}], \"barpolar\": [{\"marker\": {\"line\": {\"color\": \"white\", \"width\": 0.5}}, \"type\": \"barpolar\"}], \"carpet\": [{\"aaxis\": {\"endlinecolor\": \"#2a3f5f\", \"gridcolor\": \"#C8D4E3\", \"linecolor\": \"#C8D4E3\", \"minorgridcolor\": \"#C8D4E3\", \"startlinecolor\": \"#2a3f5f\"}, \"baxis\": {\"endlinecolor\": \"#2a3f5f\", \"gridcolor\": \"#C8D4E3\", \"linecolor\": \"#C8D4E3\", \"minorgridcolor\": \"#C8D4E3\", \"startlinecolor\": \"#2a3f5f\"}, \"type\": \"carpet\"}], \"choropleth\": [{\"colorbar\": {\"outlinewidth\": 0, \"ticks\": \"\"}, \"type\": \"choropleth\"}], \"contour\": [{\"colorbar\": {\"outlinewidth\": 0, \"ticks\": \"\"}, \"colorscale\": [[0.0, \"#0d0887\"], [0.1111111111111111, \"#46039f\"], [0.2222222222222222, \"#7201a8\"], [0.3333333333333333, \"#9c179e\"], [0.4444444444444444, \"#bd3786\"], [0.5555555555555556, \"#d8576b\"], [0.6666666666666666, \"#ed7953\"], [0.7777777777777778, \"#fb9f3a\"], [0.8888888888888888, \"#fdca26\"], [1.0, \"#f0f921\"]], \"type\": \"contour\"}], \"contourcarpet\": [{\"colorbar\": {\"outlinewidth\": 0, \"ticks\": \"\"}, \"type\": \"contourcarpet\"}], \"heatmap\": [{\"colorbar\": {\"outlinewidth\": 0, \"ticks\": \"\"}, \"colorscale\": [[0.0, \"#0d0887\"], [0.1111111111111111, \"#46039f\"], [0.2222222222222222, \"#7201a8\"], [0.3333333333333333, \"#9c179e\"], [0.4444444444444444, \"#bd3786\"], [0.5555555555555556, \"#d8576b\"], [0.6666666666666666, \"#ed7953\"], [0.7777777777777778, \"#fb9f3a\"], [0.8888888888888888, \"#fdca26\"], [1.0, \"#f0f921\"]], \"type\": \"heatmap\"}], \"heatmapgl\": [{\"colorbar\": {\"outlinewidth\": 0, \"ticks\": \"\"}, \"colorscale\": [[0.0, \"#0d0887\"], [0.1111111111111111, \"#46039f\"], [0.2222222222222222, \"#7201a8\"], [0.3333333333333333, \"#9c179e\"], [0.4444444444444444, \"#bd3786\"], [0.5555555555555556, \"#d8576b\"], [0.6666666666666666, \"#ed7953\"], [0.7777777777777778, \"#fb9f3a\"], [0.8888888888888888, \"#fdca26\"], [1.0, \"#f0f921\"]], \"type\": \"heatmapgl\"}], \"histogram\": [{\"marker\": {\"colorbar\": {\"outlinewidth\": 0, \"ticks\": \"\"}}, \"type\": \"histogram\"}], \"histogram2d\": [{\"colorbar\": {\"outlinewidth\": 0, \"ticks\": \"\"}, \"colorscale\": [[0.0, \"#0d0887\"], [0.1111111111111111, \"#46039f\"], [0.2222222222222222, \"#7201a8\"], [0.3333333333333333, \"#9c179e\"], [0.4444444444444444, \"#bd3786\"], [0.5555555555555556, \"#d8576b\"], [0.6666666666666666, \"#ed7953\"], [0.7777777777777778, \"#fb9f3a\"], [0.8888888888888888, \"#fdca26\"], [1.0, \"#f0f921\"]], \"type\": \"histogram2d\"}], \"histogram2dcontour\": [{\"colorbar\": {\"outlinewidth\": 0, \"ticks\": \"\"}, \"colorscale\": [[0.0, \"#0d0887\"], [0.1111111111111111, \"#46039f\"], [0.2222222222222222, \"#7201a8\"], [0.3333333333333333, \"#9c179e\"], [0.4444444444444444, \"#bd3786\"], [0.5555555555555556, \"#d8576b\"], [0.6666666666666666, \"#ed7953\"], [0.7777777777777778, \"#fb9f3a\"], [0.8888888888888888, \"#fdca26\"], [1.0, \"#f0f921\"]], \"type\": \"histogram2dcontour\"}], \"mesh3d\": [{\"colorbar\": {\"outlinewidth\": 0, \"ticks\": \"\"}, \"type\": \"mesh3d\"}], \"parcoords\": [{\"line\": {\"colorbar\": {\"outlinewidth\": 0, \"ticks\": \"\"}}, \"type\": \"parcoords\"}], \"pie\": [{\"automargin\": true, \"type\": \"pie\"}], \"scatter\": [{\"marker\": {\"colorbar\": {\"outlinewidth\": 0, \"ticks\": \"\"}}, \"type\": \"scatter\"}], \"scatter3d\": [{\"line\": {\"colorbar\": {\"outlinewidth\": 0, \"ticks\": \"\"}}, \"marker\": {\"colorbar\": {\"outlinewidth\": 0, \"ticks\": \"\"}}, \"type\": \"scatter3d\"}], \"scattercarpet\": [{\"marker\": {\"colorbar\": {\"outlinewidth\": 0, \"ticks\": \"\"}}, \"type\": \"scattercarpet\"}], \"scattergeo\": [{\"marker\": {\"colorbar\": {\"outlinewidth\": 0, \"ticks\": \"\"}}, \"type\": \"scattergeo\"}], \"scattergl\": [{\"marker\": {\"colorbar\": {\"outlinewidth\": 0, \"ticks\": \"\"}}, \"type\": \"scattergl\"}], \"scattermapbox\": [{\"marker\": {\"colorbar\": {\"outlinewidth\": 0, \"ticks\": \"\"}}, \"type\": \"scattermapbox\"}], \"scatterpolar\": [{\"marker\": {\"colorbar\": {\"outlinewidth\": 0, \"ticks\": \"\"}}, \"type\": \"scatterpolar\"}], \"scatterpolargl\": [{\"marker\": {\"colorbar\": {\"outlinewidth\": 0, \"ticks\": \"\"}}, \"type\": \"scatterpolargl\"}], \"scatterternary\": [{\"marker\": {\"colorbar\": {\"outlinewidth\": 0, \"ticks\": \"\"}}, \"type\": \"scatterternary\"}], \"surface\": [{\"colorbar\": {\"outlinewidth\": 0, \"ticks\": \"\"}, \"colorscale\": [[0.0, \"#0d0887\"], [0.1111111111111111, \"#46039f\"], [0.2222222222222222, \"#7201a8\"], [0.3333333333333333, \"#9c179e\"], [0.4444444444444444, \"#bd3786\"], [0.5555555555555556, \"#d8576b\"], [0.6666666666666666, \"#ed7953\"], [0.7777777777777778, \"#fb9f3a\"], [0.8888888888888888, \"#fdca26\"], [1.0, \"#f0f921\"]], \"type\": \"surface\"}], \"table\": [{\"cells\": {\"fill\": {\"color\": \"#EBF0F8\"}, \"line\": {\"color\": \"white\"}}, \"header\": {\"fill\": {\"color\": \"#C8D4E3\"}, \"line\": {\"color\": \"white\"}}, \"type\": \"table\"}]}, \"layout\": {\"annotationdefaults\": {\"arrowcolor\": \"#2a3f5f\", \"arrowhead\": 0, \"arrowwidth\": 1}, \"coloraxis\": {\"colorbar\": {\"outlinewidth\": 0, \"ticks\": \"\"}}, \"colorscale\": {\"diverging\": [[0, \"#8e0152\"], [0.1, \"#c51b7d\"], [0.2, \"#de77ae\"], [0.3, \"#f1b6da\"], [0.4, \"#fde0ef\"], [0.5, \"#f7f7f7\"], [0.6, \"#e6f5d0\"], [0.7, \"#b8e186\"], [0.8, \"#7fbc41\"], [0.9, \"#4d9221\"], [1, \"#276419\"]], \"sequential\": [[0.0, \"#0d0887\"], [0.1111111111111111, \"#46039f\"], [0.2222222222222222, \"#7201a8\"], [0.3333333333333333, \"#9c179e\"], [0.4444444444444444, \"#bd3786\"], [0.5555555555555556, \"#d8576b\"], [0.6666666666666666, \"#ed7953\"], [0.7777777777777778, \"#fb9f3a\"], [0.8888888888888888, \"#fdca26\"], [1.0, \"#f0f921\"]], \"sequentialminus\": [[0.0, \"#0d0887\"], [0.1111111111111111, \"#46039f\"], [0.2222222222222222, \"#7201a8\"], [0.3333333333333333, \"#9c179e\"], [0.4444444444444444, \"#bd3786\"], [0.5555555555555556, \"#d8576b\"], [0.6666666666666666, \"#ed7953\"], [0.7777777777777778, \"#fb9f3a\"], [0.8888888888888888, \"#fdca26\"], [1.0, \"#f0f921\"]]}, \"colorway\": [\"#636efa\", \"#EF553B\", \"#00cc96\", \"#ab63fa\", \"#FFA15A\", \"#19d3f3\", \"#FF6692\", \"#B6E880\", \"#FF97FF\", \"#FECB52\"], \"font\": {\"color\": \"#2a3f5f\"}, \"geo\": {\"bgcolor\": \"white\", \"lakecolor\": \"white\", \"landcolor\": \"white\", \"showlakes\": true, \"showland\": true, \"subunitcolor\": \"#C8D4E3\"}, \"hoverlabel\": {\"align\": \"left\"}, \"hovermode\": \"closest\", \"mapbox\": {\"style\": \"light\"}, \"paper_bgcolor\": \"white\", \"plot_bgcolor\": \"white\", \"polar\": {\"angularaxis\": {\"gridcolor\": \"#EBF0F8\", \"linecolor\": \"#EBF0F8\", \"ticks\": \"\"}, \"bgcolor\": \"white\", \"radialaxis\": {\"gridcolor\": \"#EBF0F8\", \"linecolor\": \"#EBF0F8\", \"ticks\": \"\"}}, \"scene\": {\"xaxis\": {\"backgroundcolor\": \"white\", \"gridcolor\": \"#DFE8F3\", \"gridwidth\": 2, \"linecolor\": \"#EBF0F8\", \"showbackground\": true, \"ticks\": \"\", \"zerolinecolor\": \"#EBF0F8\"}, \"yaxis\": {\"backgroundcolor\": \"white\", \"gridcolor\": \"#DFE8F3\", \"gridwidth\": 2, \"linecolor\": \"#EBF0F8\", \"showbackground\": true, \"ticks\": \"\", \"zerolinecolor\": \"#EBF0F8\"}, \"zaxis\": {\"backgroundcolor\": \"white\", \"gridcolor\": \"#DFE8F3\", \"gridwidth\": 2, \"linecolor\": \"#EBF0F8\", \"showbackground\": true, \"ticks\": \"\", \"zerolinecolor\": \"#EBF0F8\"}}, \"shapedefaults\": {\"line\": {\"color\": \"#2a3f5f\"}}, \"ternary\": {\"aaxis\": {\"gridcolor\": \"#DFE8F3\", \"linecolor\": \"#A2B1C6\", \"ticks\": \"\"}, \"baxis\": {\"gridcolor\": \"#DFE8F3\", \"linecolor\": \"#A2B1C6\", \"ticks\": \"\"}, \"bgcolor\": \"white\", \"caxis\": {\"gridcolor\": \"#DFE8F3\", \"linecolor\": \"#A2B1C6\", \"ticks\": \"\"}}, \"title\": {\"x\": 0.05}, \"xaxis\": {\"automargin\": true, \"gridcolor\": \"#EBF0F8\", \"linecolor\": \"#EBF0F8\", \"ticks\": \"\", \"title\": {\"standoff\": 15}, \"zerolinecolor\": \"#EBF0F8\", \"zerolinewidth\": 2}, \"yaxis\": {\"automargin\": true, \"gridcolor\": \"#EBF0F8\", \"linecolor\": \"#EBF0F8\", \"ticks\": \"\", \"title\": {\"standoff\": 15}, \"zerolinecolor\": \"#EBF0F8\", \"zerolinewidth\": 2}}}, \"title\": {\"text\": \"Polarity Distribution\"}},\n",
       "                        {\"responsive\": true}\n",
       "                    ).then(function(){\n",
       "                            \n",
       "var gd = document.getElementById('aa54eb02-1518-4013-a4ac-87a2ccfb339c');\n",
       "var x = new MutationObserver(function (mutations, observer) {{\n",
       "        var display = window.getComputedStyle(gd).display;\n",
       "        if (!display || display === 'none') {{\n",
       "            console.log([gd, 'removed!']);\n",
       "            Plotly.purge(gd);\n",
       "            observer.disconnect();\n",
       "        }}\n",
       "}});\n",
       "\n",
       "// Listen for the removal of the full notebook cells\n",
       "var notebookContainer = gd.closest('#notebook-container');\n",
       "if (notebookContainer) {{\n",
       "    x.observe(notebookContainer, {childList: true});\n",
       "}}\n",
       "\n",
       "// Listen for the clearing of the current output cell\n",
       "var outputEl = gd.closest('.output');\n",
       "if (outputEl) {{\n",
       "    x.observe(outputEl, {childList: true});\n",
       "}}\n",
       "\n",
       "                        })\n",
       "                };\n",
       "                });\n",
       "            </script>\n",
       "        </div>"
      ]
     },
     "metadata": {},
     "output_type": "display_data"
    }
   ],
   "source": [
    "fig = (  df['Polarity']\n",
    "       .value_counts()\n",
    "       .reset_index()\n",
    "       .pipe(px.pie,\n",
    "             values='Polarity', names='index',\n",
    "             title='Polarity Distribution',\n",
    "             color='Polarity',\n",
    "             color_discrete_sequence=px.colors.qualitative.Prism,\n",
    "             hole=0.1)\n",
    "       .update_traces(textinfo='percent+label+value')\n",
    "    \n",
    ")\n",
    "\n",
    "HTML(fig.to_html())"
   ]
  },
  {
   "cell_type": "markdown",
   "metadata": {},
   "source": [
    "#### Most Featured Sectors"
   ]
  },
  {
   "cell_type": "code",
   "execution_count": 43,
   "metadata": {},
   "outputs": [
    {
     "data": {
      "application/vnd.plotly.v1+json": {
       "config": {
        "plotlyServerURL": "https://plotly.com"
       },
       "data": [
        {
         "alignmentgroup": "True",
         "hovertemplate": "Sector=%{x}<br>No. Articles=%{text}<extra></extra>",
         "legendgroup": "",
         "marker": {
          "color": "#636efa"
         },
         "name": "",
         "offsetgroup": "",
         "orientation": "v",
         "showlegend": false,
         "text": [
          6753,
          6216,
          2595,
          2126,
          1728,
          1252,
          1035,
          1001,
          987,
          910
         ],
         "textposition": "auto",
         "type": "bar",
         "x": [
          "Insurance",
          "Basic Materials",
          "Capital Goods",
          "Food Production",
          "Real Estate M & D",
          "Banks",
          "Retail Of Luxury Goods",
          "Telecommunications",
          "Consumer Services",
          "Transport"
         ],
         "xaxis": "x",
         "y": [
          6753,
          6216,
          2595,
          2126,
          1728,
          1252,
          1035,
          1001,
          987,
          910
         ],
         "yaxis": "y"
        }
       ],
       "layout": {
        "barmode": "relative",
        "legend": {
         "tracegroupgap": 0
        },
        "template": {
         "data": {
          "bar": [
           {
            "error_x": {
             "color": "#2a3f5f"
            },
            "error_y": {
             "color": "#2a3f5f"
            },
            "marker": {
             "line": {
              "color": "white",
              "width": 0.5
             }
            },
            "type": "bar"
           }
          ],
          "barpolar": [
           {
            "marker": {
             "line": {
              "color": "white",
              "width": 0.5
             }
            },
            "type": "barpolar"
           }
          ],
          "carpet": [
           {
            "aaxis": {
             "endlinecolor": "#2a3f5f",
             "gridcolor": "#C8D4E3",
             "linecolor": "#C8D4E3",
             "minorgridcolor": "#C8D4E3",
             "startlinecolor": "#2a3f5f"
            },
            "baxis": {
             "endlinecolor": "#2a3f5f",
             "gridcolor": "#C8D4E3",
             "linecolor": "#C8D4E3",
             "minorgridcolor": "#C8D4E3",
             "startlinecolor": "#2a3f5f"
            },
            "type": "carpet"
           }
          ],
          "choropleth": [
           {
            "colorbar": {
             "outlinewidth": 0,
             "ticks": ""
            },
            "type": "choropleth"
           }
          ],
          "contour": [
           {
            "colorbar": {
             "outlinewidth": 0,
             "ticks": ""
            },
            "colorscale": [
             [
              0,
              "#0d0887"
             ],
             [
              0.1111111111111111,
              "#46039f"
             ],
             [
              0.2222222222222222,
              "#7201a8"
             ],
             [
              0.3333333333333333,
              "#9c179e"
             ],
             [
              0.4444444444444444,
              "#bd3786"
             ],
             [
              0.5555555555555556,
              "#d8576b"
             ],
             [
              0.6666666666666666,
              "#ed7953"
             ],
             [
              0.7777777777777778,
              "#fb9f3a"
             ],
             [
              0.8888888888888888,
              "#fdca26"
             ],
             [
              1,
              "#f0f921"
             ]
            ],
            "type": "contour"
           }
          ],
          "contourcarpet": [
           {
            "colorbar": {
             "outlinewidth": 0,
             "ticks": ""
            },
            "type": "contourcarpet"
           }
          ],
          "heatmap": [
           {
            "colorbar": {
             "outlinewidth": 0,
             "ticks": ""
            },
            "colorscale": [
             [
              0,
              "#0d0887"
             ],
             [
              0.1111111111111111,
              "#46039f"
             ],
             [
              0.2222222222222222,
              "#7201a8"
             ],
             [
              0.3333333333333333,
              "#9c179e"
             ],
             [
              0.4444444444444444,
              "#bd3786"
             ],
             [
              0.5555555555555556,
              "#d8576b"
             ],
             [
              0.6666666666666666,
              "#ed7953"
             ],
             [
              0.7777777777777778,
              "#fb9f3a"
             ],
             [
              0.8888888888888888,
              "#fdca26"
             ],
             [
              1,
              "#f0f921"
             ]
            ],
            "type": "heatmap"
           }
          ],
          "heatmapgl": [
           {
            "colorbar": {
             "outlinewidth": 0,
             "ticks": ""
            },
            "colorscale": [
             [
              0,
              "#0d0887"
             ],
             [
              0.1111111111111111,
              "#46039f"
             ],
             [
              0.2222222222222222,
              "#7201a8"
             ],
             [
              0.3333333333333333,
              "#9c179e"
             ],
             [
              0.4444444444444444,
              "#bd3786"
             ],
             [
              0.5555555555555556,
              "#d8576b"
             ],
             [
              0.6666666666666666,
              "#ed7953"
             ],
             [
              0.7777777777777778,
              "#fb9f3a"
             ],
             [
              0.8888888888888888,
              "#fdca26"
             ],
             [
              1,
              "#f0f921"
             ]
            ],
            "type": "heatmapgl"
           }
          ],
          "histogram": [
           {
            "marker": {
             "colorbar": {
              "outlinewidth": 0,
              "ticks": ""
             }
            },
            "type": "histogram"
           }
          ],
          "histogram2d": [
           {
            "colorbar": {
             "outlinewidth": 0,
             "ticks": ""
            },
            "colorscale": [
             [
              0,
              "#0d0887"
             ],
             [
              0.1111111111111111,
              "#46039f"
             ],
             [
              0.2222222222222222,
              "#7201a8"
             ],
             [
              0.3333333333333333,
              "#9c179e"
             ],
             [
              0.4444444444444444,
              "#bd3786"
             ],
             [
              0.5555555555555556,
              "#d8576b"
             ],
             [
              0.6666666666666666,
              "#ed7953"
             ],
             [
              0.7777777777777778,
              "#fb9f3a"
             ],
             [
              0.8888888888888888,
              "#fdca26"
             ],
             [
              1,
              "#f0f921"
             ]
            ],
            "type": "histogram2d"
           }
          ],
          "histogram2dcontour": [
           {
            "colorbar": {
             "outlinewidth": 0,
             "ticks": ""
            },
            "colorscale": [
             [
              0,
              "#0d0887"
             ],
             [
              0.1111111111111111,
              "#46039f"
             ],
             [
              0.2222222222222222,
              "#7201a8"
             ],
             [
              0.3333333333333333,
              "#9c179e"
             ],
             [
              0.4444444444444444,
              "#bd3786"
             ],
             [
              0.5555555555555556,
              "#d8576b"
             ],
             [
              0.6666666666666666,
              "#ed7953"
             ],
             [
              0.7777777777777778,
              "#fb9f3a"
             ],
             [
              0.8888888888888888,
              "#fdca26"
             ],
             [
              1,
              "#f0f921"
             ]
            ],
            "type": "histogram2dcontour"
           }
          ],
          "mesh3d": [
           {
            "colorbar": {
             "outlinewidth": 0,
             "ticks": ""
            },
            "type": "mesh3d"
           }
          ],
          "parcoords": [
           {
            "line": {
             "colorbar": {
              "outlinewidth": 0,
              "ticks": ""
             }
            },
            "type": "parcoords"
           }
          ],
          "pie": [
           {
            "automargin": true,
            "type": "pie"
           }
          ],
          "scatter": [
           {
            "marker": {
             "colorbar": {
              "outlinewidth": 0,
              "ticks": ""
             }
            },
            "type": "scatter"
           }
          ],
          "scatter3d": [
           {
            "line": {
             "colorbar": {
              "outlinewidth": 0,
              "ticks": ""
             }
            },
            "marker": {
             "colorbar": {
              "outlinewidth": 0,
              "ticks": ""
             }
            },
            "type": "scatter3d"
           }
          ],
          "scattercarpet": [
           {
            "marker": {
             "colorbar": {
              "outlinewidth": 0,
              "ticks": ""
             }
            },
            "type": "scattercarpet"
           }
          ],
          "scattergeo": [
           {
            "marker": {
             "colorbar": {
              "outlinewidth": 0,
              "ticks": ""
             }
            },
            "type": "scattergeo"
           }
          ],
          "scattergl": [
           {
            "marker": {
             "colorbar": {
              "outlinewidth": 0,
              "ticks": ""
             }
            },
            "type": "scattergl"
           }
          ],
          "scattermapbox": [
           {
            "marker": {
             "colorbar": {
              "outlinewidth": 0,
              "ticks": ""
             }
            },
            "type": "scattermapbox"
           }
          ],
          "scatterpolar": [
           {
            "marker": {
             "colorbar": {
              "outlinewidth": 0,
              "ticks": ""
             }
            },
            "type": "scatterpolar"
           }
          ],
          "scatterpolargl": [
           {
            "marker": {
             "colorbar": {
              "outlinewidth": 0,
              "ticks": ""
             }
            },
            "type": "scatterpolargl"
           }
          ],
          "scatterternary": [
           {
            "marker": {
             "colorbar": {
              "outlinewidth": 0,
              "ticks": ""
             }
            },
            "type": "scatterternary"
           }
          ],
          "surface": [
           {
            "colorbar": {
             "outlinewidth": 0,
             "ticks": ""
            },
            "colorscale": [
             [
              0,
              "#0d0887"
             ],
             [
              0.1111111111111111,
              "#46039f"
             ],
             [
              0.2222222222222222,
              "#7201a8"
             ],
             [
              0.3333333333333333,
              "#9c179e"
             ],
             [
              0.4444444444444444,
              "#bd3786"
             ],
             [
              0.5555555555555556,
              "#d8576b"
             ],
             [
              0.6666666666666666,
              "#ed7953"
             ],
             [
              0.7777777777777778,
              "#fb9f3a"
             ],
             [
              0.8888888888888888,
              "#fdca26"
             ],
             [
              1,
              "#f0f921"
             ]
            ],
            "type": "surface"
           }
          ],
          "table": [
           {
            "cells": {
             "fill": {
              "color": "#EBF0F8"
             },
             "line": {
              "color": "white"
             }
            },
            "header": {
             "fill": {
              "color": "#C8D4E3"
             },
             "line": {
              "color": "white"
             }
            },
            "type": "table"
           }
          ]
         },
         "layout": {
          "annotationdefaults": {
           "arrowcolor": "#2a3f5f",
           "arrowhead": 0,
           "arrowwidth": 1
          },
          "coloraxis": {
           "colorbar": {
            "outlinewidth": 0,
            "ticks": ""
           }
          },
          "colorscale": {
           "diverging": [
            [
             0,
             "#8e0152"
            ],
            [
             0.1,
             "#c51b7d"
            ],
            [
             0.2,
             "#de77ae"
            ],
            [
             0.3,
             "#f1b6da"
            ],
            [
             0.4,
             "#fde0ef"
            ],
            [
             0.5,
             "#f7f7f7"
            ],
            [
             0.6,
             "#e6f5d0"
            ],
            [
             0.7,
             "#b8e186"
            ],
            [
             0.8,
             "#7fbc41"
            ],
            [
             0.9,
             "#4d9221"
            ],
            [
             1,
             "#276419"
            ]
           ],
           "sequential": [
            [
             0,
             "#0d0887"
            ],
            [
             0.1111111111111111,
             "#46039f"
            ],
            [
             0.2222222222222222,
             "#7201a8"
            ],
            [
             0.3333333333333333,
             "#9c179e"
            ],
            [
             0.4444444444444444,
             "#bd3786"
            ],
            [
             0.5555555555555556,
             "#d8576b"
            ],
            [
             0.6666666666666666,
             "#ed7953"
            ],
            [
             0.7777777777777778,
             "#fb9f3a"
            ],
            [
             0.8888888888888888,
             "#fdca26"
            ],
            [
             1,
             "#f0f921"
            ]
           ],
           "sequentialminus": [
            [
             0,
             "#0d0887"
            ],
            [
             0.1111111111111111,
             "#46039f"
            ],
            [
             0.2222222222222222,
             "#7201a8"
            ],
            [
             0.3333333333333333,
             "#9c179e"
            ],
            [
             0.4444444444444444,
             "#bd3786"
            ],
            [
             0.5555555555555556,
             "#d8576b"
            ],
            [
             0.6666666666666666,
             "#ed7953"
            ],
            [
             0.7777777777777778,
             "#fb9f3a"
            ],
            [
             0.8888888888888888,
             "#fdca26"
            ],
            [
             1,
             "#f0f921"
            ]
           ]
          },
          "colorway": [
           "#636efa",
           "#EF553B",
           "#00cc96",
           "#ab63fa",
           "#FFA15A",
           "#19d3f3",
           "#FF6692",
           "#B6E880",
           "#FF97FF",
           "#FECB52"
          ],
          "font": {
           "color": "#2a3f5f"
          },
          "geo": {
           "bgcolor": "white",
           "lakecolor": "white",
           "landcolor": "white",
           "showlakes": true,
           "showland": true,
           "subunitcolor": "#C8D4E3"
          },
          "hoverlabel": {
           "align": "left"
          },
          "hovermode": "closest",
          "mapbox": {
           "style": "light"
          },
          "paper_bgcolor": "white",
          "plot_bgcolor": "white",
          "polar": {
           "angularaxis": {
            "gridcolor": "#EBF0F8",
            "linecolor": "#EBF0F8",
            "ticks": ""
           },
           "bgcolor": "white",
           "radialaxis": {
            "gridcolor": "#EBF0F8",
            "linecolor": "#EBF0F8",
            "ticks": ""
           }
          },
          "scene": {
           "xaxis": {
            "backgroundcolor": "white",
            "gridcolor": "#DFE8F3",
            "gridwidth": 2,
            "linecolor": "#EBF0F8",
            "showbackground": true,
            "ticks": "",
            "zerolinecolor": "#EBF0F8"
           },
           "yaxis": {
            "backgroundcolor": "white",
            "gridcolor": "#DFE8F3",
            "gridwidth": 2,
            "linecolor": "#EBF0F8",
            "showbackground": true,
            "ticks": "",
            "zerolinecolor": "#EBF0F8"
           },
           "zaxis": {
            "backgroundcolor": "white",
            "gridcolor": "#DFE8F3",
            "gridwidth": 2,
            "linecolor": "#EBF0F8",
            "showbackground": true,
            "ticks": "",
            "zerolinecolor": "#EBF0F8"
           }
          },
          "shapedefaults": {
           "line": {
            "color": "#2a3f5f"
           }
          },
          "ternary": {
           "aaxis": {
            "gridcolor": "#DFE8F3",
            "linecolor": "#A2B1C6",
            "ticks": ""
           },
           "baxis": {
            "gridcolor": "#DFE8F3",
            "linecolor": "#A2B1C6",
            "ticks": ""
           },
           "bgcolor": "white",
           "caxis": {
            "gridcolor": "#DFE8F3",
            "linecolor": "#A2B1C6",
            "ticks": ""
           }
          },
          "title": {
           "x": 0.05
          },
          "xaxis": {
           "automargin": true,
           "gridcolor": "#EBF0F8",
           "linecolor": "#EBF0F8",
           "ticks": "",
           "title": {
            "standoff": 15
           },
           "zerolinecolor": "#EBF0F8",
           "zerolinewidth": 2
          },
          "yaxis": {
           "automargin": true,
           "gridcolor": "#EBF0F8",
           "linecolor": "#EBF0F8",
           "ticks": "",
           "title": {
            "standoff": 15
           },
           "zerolinecolor": "#EBF0F8",
           "zerolinewidth": 2
          }
         }
        },
        "title": {
         "text": "Most Featured Sectors"
        },
        "xaxis": {
         "anchor": "y",
         "domain": [
          0,
          1
         ],
         "title": {
          "text": "Sector"
         }
        },
        "yaxis": {
         "anchor": "x",
         "domain": [
          0,
          1
         ],
         "title": {
          "text": "No. Articles"
         }
        }
       }
      },
      "text/html": [
       "<div>\n",
       "        \n",
       "        \n",
       "            <div id=\"c9a0dc25-0da0-4de0-a4f1-b36ec0def54b\" class=\"plotly-graph-div\" style=\"height:525px; width:100%;\"></div>\n",
       "            <script type=\"text/javascript\">\n",
       "                require([\"plotly\"], function(Plotly) {\n",
       "                    window.PLOTLYENV=window.PLOTLYENV || {};\n",
       "                    \n",
       "                if (document.getElementById(\"c9a0dc25-0da0-4de0-a4f1-b36ec0def54b\")) {\n",
       "                    Plotly.newPlot(\n",
       "                        'c9a0dc25-0da0-4de0-a4f1-b36ec0def54b',\n",
       "                        [{\"alignmentgroup\": \"True\", \"hovertemplate\": \"Sector=%{x}<br>No. Articles=%{text}<extra></extra>\", \"legendgroup\": \"\", \"marker\": {\"color\": \"#636efa\"}, \"name\": \"\", \"offsetgroup\": \"\", \"orientation\": \"v\", \"showlegend\": false, \"text\": [6753.0, 6216.0, 2595.0, 2126.0, 1728.0, 1252.0, 1035.0, 1001.0, 987.0, 910.0], \"textposition\": \"auto\", \"type\": \"bar\", \"x\": [\"Insurance\", \"Basic Materials\", \"Capital Goods\", \"Food Production\", \"Real Estate M & D\", \"Banks\", \"Retail Of Luxury Goods\", \"Telecommunications\", \"Consumer Services\", \"Transport\"], \"xaxis\": \"x\", \"y\": [6753, 6216, 2595, 2126, 1728, 1252, 1035, 1001, 987, 910], \"yaxis\": \"y\"}],\n",
       "                        {\"barmode\": \"relative\", \"legend\": {\"tracegroupgap\": 0}, \"template\": {\"data\": {\"bar\": [{\"error_x\": {\"color\": \"#2a3f5f\"}, \"error_y\": {\"color\": \"#2a3f5f\"}, \"marker\": {\"line\": {\"color\": \"white\", \"width\": 0.5}}, \"type\": \"bar\"}], \"barpolar\": [{\"marker\": {\"line\": {\"color\": \"white\", \"width\": 0.5}}, \"type\": \"barpolar\"}], \"carpet\": [{\"aaxis\": {\"endlinecolor\": \"#2a3f5f\", \"gridcolor\": \"#C8D4E3\", \"linecolor\": \"#C8D4E3\", \"minorgridcolor\": \"#C8D4E3\", \"startlinecolor\": \"#2a3f5f\"}, \"baxis\": {\"endlinecolor\": \"#2a3f5f\", \"gridcolor\": \"#C8D4E3\", \"linecolor\": \"#C8D4E3\", \"minorgridcolor\": \"#C8D4E3\", \"startlinecolor\": \"#2a3f5f\"}, \"type\": \"carpet\"}], \"choropleth\": [{\"colorbar\": {\"outlinewidth\": 0, \"ticks\": \"\"}, \"type\": \"choropleth\"}], \"contour\": [{\"colorbar\": {\"outlinewidth\": 0, \"ticks\": \"\"}, \"colorscale\": [[0.0, \"#0d0887\"], [0.1111111111111111, \"#46039f\"], [0.2222222222222222, \"#7201a8\"], [0.3333333333333333, \"#9c179e\"], [0.4444444444444444, \"#bd3786\"], [0.5555555555555556, \"#d8576b\"], [0.6666666666666666, \"#ed7953\"], [0.7777777777777778, \"#fb9f3a\"], [0.8888888888888888, \"#fdca26\"], [1.0, \"#f0f921\"]], \"type\": \"contour\"}], \"contourcarpet\": [{\"colorbar\": {\"outlinewidth\": 0, \"ticks\": \"\"}, \"type\": \"contourcarpet\"}], \"heatmap\": [{\"colorbar\": {\"outlinewidth\": 0, \"ticks\": \"\"}, \"colorscale\": [[0.0, \"#0d0887\"], [0.1111111111111111, \"#46039f\"], [0.2222222222222222, \"#7201a8\"], [0.3333333333333333, \"#9c179e\"], [0.4444444444444444, \"#bd3786\"], [0.5555555555555556, \"#d8576b\"], [0.6666666666666666, \"#ed7953\"], [0.7777777777777778, \"#fb9f3a\"], [0.8888888888888888, \"#fdca26\"], [1.0, \"#f0f921\"]], \"type\": \"heatmap\"}], \"heatmapgl\": [{\"colorbar\": {\"outlinewidth\": 0, \"ticks\": \"\"}, \"colorscale\": [[0.0, \"#0d0887\"], [0.1111111111111111, \"#46039f\"], [0.2222222222222222, \"#7201a8\"], [0.3333333333333333, \"#9c179e\"], [0.4444444444444444, \"#bd3786\"], [0.5555555555555556, \"#d8576b\"], [0.6666666666666666, \"#ed7953\"], [0.7777777777777778, \"#fb9f3a\"], [0.8888888888888888, \"#fdca26\"], [1.0, \"#f0f921\"]], \"type\": \"heatmapgl\"}], \"histogram\": [{\"marker\": {\"colorbar\": {\"outlinewidth\": 0, \"ticks\": \"\"}}, \"type\": \"histogram\"}], \"histogram2d\": [{\"colorbar\": {\"outlinewidth\": 0, \"ticks\": \"\"}, \"colorscale\": [[0.0, \"#0d0887\"], [0.1111111111111111, \"#46039f\"], [0.2222222222222222, \"#7201a8\"], [0.3333333333333333, \"#9c179e\"], [0.4444444444444444, \"#bd3786\"], [0.5555555555555556, \"#d8576b\"], [0.6666666666666666, \"#ed7953\"], [0.7777777777777778, \"#fb9f3a\"], [0.8888888888888888, \"#fdca26\"], [1.0, \"#f0f921\"]], \"type\": \"histogram2d\"}], \"histogram2dcontour\": [{\"colorbar\": {\"outlinewidth\": 0, \"ticks\": \"\"}, \"colorscale\": [[0.0, \"#0d0887\"], [0.1111111111111111, \"#46039f\"], [0.2222222222222222, \"#7201a8\"], [0.3333333333333333, \"#9c179e\"], [0.4444444444444444, \"#bd3786\"], [0.5555555555555556, \"#d8576b\"], [0.6666666666666666, \"#ed7953\"], [0.7777777777777778, \"#fb9f3a\"], [0.8888888888888888, \"#fdca26\"], [1.0, \"#f0f921\"]], \"type\": \"histogram2dcontour\"}], \"mesh3d\": [{\"colorbar\": {\"outlinewidth\": 0, \"ticks\": \"\"}, \"type\": \"mesh3d\"}], \"parcoords\": [{\"line\": {\"colorbar\": {\"outlinewidth\": 0, \"ticks\": \"\"}}, \"type\": \"parcoords\"}], \"pie\": [{\"automargin\": true, \"type\": \"pie\"}], \"scatter\": [{\"marker\": {\"colorbar\": {\"outlinewidth\": 0, \"ticks\": \"\"}}, \"type\": \"scatter\"}], \"scatter3d\": [{\"line\": {\"colorbar\": {\"outlinewidth\": 0, \"ticks\": \"\"}}, \"marker\": {\"colorbar\": {\"outlinewidth\": 0, \"ticks\": \"\"}}, \"type\": \"scatter3d\"}], \"scattercarpet\": [{\"marker\": {\"colorbar\": {\"outlinewidth\": 0, \"ticks\": \"\"}}, \"type\": \"scattercarpet\"}], \"scattergeo\": [{\"marker\": {\"colorbar\": {\"outlinewidth\": 0, \"ticks\": \"\"}}, \"type\": \"scattergeo\"}], \"scattergl\": [{\"marker\": {\"colorbar\": {\"outlinewidth\": 0, \"ticks\": \"\"}}, \"type\": \"scattergl\"}], \"scattermapbox\": [{\"marker\": {\"colorbar\": {\"outlinewidth\": 0, \"ticks\": \"\"}}, \"type\": \"scattermapbox\"}], \"scatterpolar\": [{\"marker\": {\"colorbar\": {\"outlinewidth\": 0, \"ticks\": \"\"}}, \"type\": \"scatterpolar\"}], \"scatterpolargl\": [{\"marker\": {\"colorbar\": {\"outlinewidth\": 0, \"ticks\": \"\"}}, \"type\": \"scatterpolargl\"}], \"scatterternary\": [{\"marker\": {\"colorbar\": {\"outlinewidth\": 0, \"ticks\": \"\"}}, \"type\": \"scatterternary\"}], \"surface\": [{\"colorbar\": {\"outlinewidth\": 0, \"ticks\": \"\"}, \"colorscale\": [[0.0, \"#0d0887\"], [0.1111111111111111, \"#46039f\"], [0.2222222222222222, \"#7201a8\"], [0.3333333333333333, \"#9c179e\"], [0.4444444444444444, \"#bd3786\"], [0.5555555555555556, \"#d8576b\"], [0.6666666666666666, \"#ed7953\"], [0.7777777777777778, \"#fb9f3a\"], [0.8888888888888888, \"#fdca26\"], [1.0, \"#f0f921\"]], \"type\": \"surface\"}], \"table\": [{\"cells\": {\"fill\": {\"color\": \"#EBF0F8\"}, \"line\": {\"color\": \"white\"}}, \"header\": {\"fill\": {\"color\": \"#C8D4E3\"}, \"line\": {\"color\": \"white\"}}, \"type\": \"table\"}]}, \"layout\": {\"annotationdefaults\": {\"arrowcolor\": \"#2a3f5f\", \"arrowhead\": 0, \"arrowwidth\": 1}, \"coloraxis\": {\"colorbar\": {\"outlinewidth\": 0, \"ticks\": \"\"}}, \"colorscale\": {\"diverging\": [[0, \"#8e0152\"], [0.1, \"#c51b7d\"], [0.2, \"#de77ae\"], [0.3, \"#f1b6da\"], [0.4, \"#fde0ef\"], [0.5, \"#f7f7f7\"], [0.6, \"#e6f5d0\"], [0.7, \"#b8e186\"], [0.8, \"#7fbc41\"], [0.9, \"#4d9221\"], [1, \"#276419\"]], \"sequential\": [[0.0, \"#0d0887\"], [0.1111111111111111, \"#46039f\"], [0.2222222222222222, \"#7201a8\"], [0.3333333333333333, \"#9c179e\"], [0.4444444444444444, \"#bd3786\"], [0.5555555555555556, \"#d8576b\"], [0.6666666666666666, \"#ed7953\"], [0.7777777777777778, \"#fb9f3a\"], [0.8888888888888888, \"#fdca26\"], [1.0, \"#f0f921\"]], \"sequentialminus\": [[0.0, \"#0d0887\"], [0.1111111111111111, \"#46039f\"], [0.2222222222222222, \"#7201a8\"], [0.3333333333333333, \"#9c179e\"], [0.4444444444444444, \"#bd3786\"], [0.5555555555555556, \"#d8576b\"], [0.6666666666666666, \"#ed7953\"], [0.7777777777777778, \"#fb9f3a\"], [0.8888888888888888, \"#fdca26\"], [1.0, \"#f0f921\"]]}, \"colorway\": [\"#636efa\", \"#EF553B\", \"#00cc96\", \"#ab63fa\", \"#FFA15A\", \"#19d3f3\", \"#FF6692\", \"#B6E880\", \"#FF97FF\", \"#FECB52\"], \"font\": {\"color\": \"#2a3f5f\"}, \"geo\": {\"bgcolor\": \"white\", \"lakecolor\": \"white\", \"landcolor\": \"white\", \"showlakes\": true, \"showland\": true, \"subunitcolor\": \"#C8D4E3\"}, \"hoverlabel\": {\"align\": \"left\"}, \"hovermode\": \"closest\", \"mapbox\": {\"style\": \"light\"}, \"paper_bgcolor\": \"white\", \"plot_bgcolor\": \"white\", \"polar\": {\"angularaxis\": {\"gridcolor\": \"#EBF0F8\", \"linecolor\": \"#EBF0F8\", \"ticks\": \"\"}, \"bgcolor\": \"white\", \"radialaxis\": {\"gridcolor\": \"#EBF0F8\", \"linecolor\": \"#EBF0F8\", \"ticks\": \"\"}}, \"scene\": {\"xaxis\": {\"backgroundcolor\": \"white\", \"gridcolor\": \"#DFE8F3\", \"gridwidth\": 2, \"linecolor\": \"#EBF0F8\", \"showbackground\": true, \"ticks\": \"\", \"zerolinecolor\": \"#EBF0F8\"}, \"yaxis\": {\"backgroundcolor\": \"white\", \"gridcolor\": \"#DFE8F3\", \"gridwidth\": 2, \"linecolor\": \"#EBF0F8\", \"showbackground\": true, \"ticks\": \"\", \"zerolinecolor\": \"#EBF0F8\"}, \"zaxis\": {\"backgroundcolor\": \"white\", \"gridcolor\": \"#DFE8F3\", \"gridwidth\": 2, \"linecolor\": \"#EBF0F8\", \"showbackground\": true, \"ticks\": \"\", \"zerolinecolor\": \"#EBF0F8\"}}, \"shapedefaults\": {\"line\": {\"color\": \"#2a3f5f\"}}, \"ternary\": {\"aaxis\": {\"gridcolor\": \"#DFE8F3\", \"linecolor\": \"#A2B1C6\", \"ticks\": \"\"}, \"baxis\": {\"gridcolor\": \"#DFE8F3\", \"linecolor\": \"#A2B1C6\", \"ticks\": \"\"}, \"bgcolor\": \"white\", \"caxis\": {\"gridcolor\": \"#DFE8F3\", \"linecolor\": \"#A2B1C6\", \"ticks\": \"\"}}, \"title\": {\"x\": 0.05}, \"xaxis\": {\"automargin\": true, \"gridcolor\": \"#EBF0F8\", \"linecolor\": \"#EBF0F8\", \"ticks\": \"\", \"title\": {\"standoff\": 15}, \"zerolinecolor\": \"#EBF0F8\", \"zerolinewidth\": 2}, \"yaxis\": {\"automargin\": true, \"gridcolor\": \"#EBF0F8\", \"linecolor\": \"#EBF0F8\", \"ticks\": \"\", \"title\": {\"standoff\": 15}, \"zerolinecolor\": \"#EBF0F8\", \"zerolinewidth\": 2}}}, \"title\": {\"text\": \"Most Featured Sectors\"}, \"xaxis\": {\"anchor\": \"y\", \"domain\": [0.0, 1.0], \"title\": {\"text\": \"Sector\"}}, \"yaxis\": {\"anchor\": \"x\", \"domain\": [0.0, 1.0], \"title\": {\"text\": \"No. Articles\"}}},\n",
       "                        {\"responsive\": true}\n",
       "                    ).then(function(){\n",
       "                            \n",
       "var gd = document.getElementById('c9a0dc25-0da0-4de0-a4f1-b36ec0def54b');\n",
       "var x = new MutationObserver(function (mutations, observer) {{\n",
       "        var display = window.getComputedStyle(gd).display;\n",
       "        if (!display || display === 'none') {{\n",
       "            console.log([gd, 'removed!']);\n",
       "            Plotly.purge(gd);\n",
       "            observer.disconnect();\n",
       "        }}\n",
       "}});\n",
       "\n",
       "// Listen for the removal of the full notebook cells\n",
       "var notebookContainer = gd.closest('#notebook-container');\n",
       "if (notebookContainer) {{\n",
       "    x.observe(notebookContainer, {childList: true});\n",
       "}}\n",
       "\n",
       "// Listen for the clearing of the current output cell\n",
       "var outputEl = gd.closest('.output');\n",
       "if (outputEl) {{\n",
       "    x.observe(outputEl, {childList: true});\n",
       "}}\n",
       "\n",
       "                        })\n",
       "                };\n",
       "                });\n",
       "            </script>\n",
       "        </div>"
      ]
     },
     "metadata": {},
     "output_type": "display_data"
    }
   ],
   "source": [
    "(df\n",
    " .groupby('Sector_en')\n",
    " .size()\n",
    " .to_frame(name='Count')\n",
    " .reset_index()\n",
    " .sort_values('Count', ascending=False)\n",
    " .head(n_most)\n",
    " .pipe(px.bar,\n",
    "       x='Sector_en', y='Count', \n",
    "#        color='Count',\n",
    "#        color_continuous_scale=px.colors.sequential.GnBu,\n",
    "#        color_continuous_scale=px.colors.sequential.Blues,\n",
    "#        color_continuous_scale=px.colors.sequential.Plasma_r,\n",
    "       text='Count', title='Most Featured Sectors', labels={'Count': 'No. Articles', 'Sector_en':'Sector'}))"
   ]
  },
  {
   "cell_type": "code",
   "execution_count": 44,
   "metadata": {},
   "outputs": [
    {
     "data": {
      "text/plain": [
       "['Insurance',\n",
       " 'Basic Materials',\n",
       " 'Capital Goods',\n",
       " 'Food Production',\n",
       " 'Real Estate M & D',\n",
       " 'Banks',\n",
       " 'Retail Of Luxury Goods',\n",
       " 'Telecommunications',\n",
       " 'Consumer Services',\n",
       " 'Transport']"
      ]
     },
     "execution_count": 44,
     "metadata": {},
     "output_type": "execute_result"
    }
   ],
   "source": [
    "featured_sectors = (df['Sector_en']\n",
    "                     .value_counts()\n",
    "                     .head(n_most)\n",
    "                     .index.tolist())\n",
    "featured_sectors"
   ]
  },
  {
   "cell_type": "markdown",
   "metadata": {},
   "source": [
    "#### Most Featured Companies"
   ]
  },
  {
   "cell_type": "code",
   "execution_count": 45,
   "metadata": {},
   "outputs": [
    {
     "data": {
      "application/vnd.plotly.v1+json": {
       "config": {
        "linkText": "Export to plotly.com",
        "plotlyServerURL": "https://plotly.com",
        "showLink": true
       },
       "data": [
        {
         "marker": {
          "color": "rgba(0, 0, 128, 0.6)",
          "line": {
           "color": "rgba(0, 0, 128, 1.0)",
           "width": 1
          }
         },
         "name": "Company Name",
         "orientation": "v",
         "text": "",
         "type": "bar",
         "x": [
          "شركة أبناء عبدالله عبدالمحسن الخضري",
          "شركة إتحاد عذيب للإتصالات",
          "شركة الباحة للإستثمار والتنمية",
          "الشركة السعودية الهندية للتأمين التعاوني",
          "شركة طيبة للإستثمار",
          "شركة الكابلات السعودية",
          "الشركة الوطنية السعودية للنقل البحري",
          "شركة التعدين العربية السعودية",
          "شركة الأحساء للتنمية",
          "الشركة السعودية للنقل الجماعي"
         ],
         "y": [
          450,
          331,
          316,
          300,
          283,
          281,
          280,
          278,
          277,
          268
         ]
        }
       ],
       "layout": {
        "legend": {
         "bgcolor": "#FFFFFF",
         "font": {
          "color": "#4D5663"
         }
        },
        "paper_bgcolor": "#FFFFFF",
        "plot_bgcolor": "#FFFFFF",
        "template": {
         "data": {
          "bar": [
           {
            "error_x": {
             "color": "#2a3f5f"
            },
            "error_y": {
             "color": "#2a3f5f"
            },
            "marker": {
             "line": {
              "color": "white",
              "width": 0.5
             }
            },
            "type": "bar"
           }
          ],
          "barpolar": [
           {
            "marker": {
             "line": {
              "color": "white",
              "width": 0.5
             }
            },
            "type": "barpolar"
           }
          ],
          "carpet": [
           {
            "aaxis": {
             "endlinecolor": "#2a3f5f",
             "gridcolor": "#C8D4E3",
             "linecolor": "#C8D4E3",
             "minorgridcolor": "#C8D4E3",
             "startlinecolor": "#2a3f5f"
            },
            "baxis": {
             "endlinecolor": "#2a3f5f",
             "gridcolor": "#C8D4E3",
             "linecolor": "#C8D4E3",
             "minorgridcolor": "#C8D4E3",
             "startlinecolor": "#2a3f5f"
            },
            "type": "carpet"
           }
          ],
          "choropleth": [
           {
            "colorbar": {
             "outlinewidth": 0,
             "ticks": ""
            },
            "type": "choropleth"
           }
          ],
          "contour": [
           {
            "colorbar": {
             "outlinewidth": 0,
             "ticks": ""
            },
            "colorscale": [
             [
              0,
              "#0d0887"
             ],
             [
              0.1111111111111111,
              "#46039f"
             ],
             [
              0.2222222222222222,
              "#7201a8"
             ],
             [
              0.3333333333333333,
              "#9c179e"
             ],
             [
              0.4444444444444444,
              "#bd3786"
             ],
             [
              0.5555555555555556,
              "#d8576b"
             ],
             [
              0.6666666666666666,
              "#ed7953"
             ],
             [
              0.7777777777777778,
              "#fb9f3a"
             ],
             [
              0.8888888888888888,
              "#fdca26"
             ],
             [
              1,
              "#f0f921"
             ]
            ],
            "type": "contour"
           }
          ],
          "contourcarpet": [
           {
            "colorbar": {
             "outlinewidth": 0,
             "ticks": ""
            },
            "type": "contourcarpet"
           }
          ],
          "heatmap": [
           {
            "colorbar": {
             "outlinewidth": 0,
             "ticks": ""
            },
            "colorscale": [
             [
              0,
              "#0d0887"
             ],
             [
              0.1111111111111111,
              "#46039f"
             ],
             [
              0.2222222222222222,
              "#7201a8"
             ],
             [
              0.3333333333333333,
              "#9c179e"
             ],
             [
              0.4444444444444444,
              "#bd3786"
             ],
             [
              0.5555555555555556,
              "#d8576b"
             ],
             [
              0.6666666666666666,
              "#ed7953"
             ],
             [
              0.7777777777777778,
              "#fb9f3a"
             ],
             [
              0.8888888888888888,
              "#fdca26"
             ],
             [
              1,
              "#f0f921"
             ]
            ],
            "type": "heatmap"
           }
          ],
          "heatmapgl": [
           {
            "colorbar": {
             "outlinewidth": 0,
             "ticks": ""
            },
            "colorscale": [
             [
              0,
              "#0d0887"
             ],
             [
              0.1111111111111111,
              "#46039f"
             ],
             [
              0.2222222222222222,
              "#7201a8"
             ],
             [
              0.3333333333333333,
              "#9c179e"
             ],
             [
              0.4444444444444444,
              "#bd3786"
             ],
             [
              0.5555555555555556,
              "#d8576b"
             ],
             [
              0.6666666666666666,
              "#ed7953"
             ],
             [
              0.7777777777777778,
              "#fb9f3a"
             ],
             [
              0.8888888888888888,
              "#fdca26"
             ],
             [
              1,
              "#f0f921"
             ]
            ],
            "type": "heatmapgl"
           }
          ],
          "histogram": [
           {
            "marker": {
             "colorbar": {
              "outlinewidth": 0,
              "ticks": ""
             }
            },
            "type": "histogram"
           }
          ],
          "histogram2d": [
           {
            "colorbar": {
             "outlinewidth": 0,
             "ticks": ""
            },
            "colorscale": [
             [
              0,
              "#0d0887"
             ],
             [
              0.1111111111111111,
              "#46039f"
             ],
             [
              0.2222222222222222,
              "#7201a8"
             ],
             [
              0.3333333333333333,
              "#9c179e"
             ],
             [
              0.4444444444444444,
              "#bd3786"
             ],
             [
              0.5555555555555556,
              "#d8576b"
             ],
             [
              0.6666666666666666,
              "#ed7953"
             ],
             [
              0.7777777777777778,
              "#fb9f3a"
             ],
             [
              0.8888888888888888,
              "#fdca26"
             ],
             [
              1,
              "#f0f921"
             ]
            ],
            "type": "histogram2d"
           }
          ],
          "histogram2dcontour": [
           {
            "colorbar": {
             "outlinewidth": 0,
             "ticks": ""
            },
            "colorscale": [
             [
              0,
              "#0d0887"
             ],
             [
              0.1111111111111111,
              "#46039f"
             ],
             [
              0.2222222222222222,
              "#7201a8"
             ],
             [
              0.3333333333333333,
              "#9c179e"
             ],
             [
              0.4444444444444444,
              "#bd3786"
             ],
             [
              0.5555555555555556,
              "#d8576b"
             ],
             [
              0.6666666666666666,
              "#ed7953"
             ],
             [
              0.7777777777777778,
              "#fb9f3a"
             ],
             [
              0.8888888888888888,
              "#fdca26"
             ],
             [
              1,
              "#f0f921"
             ]
            ],
            "type": "histogram2dcontour"
           }
          ],
          "mesh3d": [
           {
            "colorbar": {
             "outlinewidth": 0,
             "ticks": ""
            },
            "type": "mesh3d"
           }
          ],
          "parcoords": [
           {
            "line": {
             "colorbar": {
              "outlinewidth": 0,
              "ticks": ""
             }
            },
            "type": "parcoords"
           }
          ],
          "pie": [
           {
            "automargin": true,
            "type": "pie"
           }
          ],
          "scatter": [
           {
            "marker": {
             "colorbar": {
              "outlinewidth": 0,
              "ticks": ""
             }
            },
            "type": "scatter"
           }
          ],
          "scatter3d": [
           {
            "line": {
             "colorbar": {
              "outlinewidth": 0,
              "ticks": ""
             }
            },
            "marker": {
             "colorbar": {
              "outlinewidth": 0,
              "ticks": ""
             }
            },
            "type": "scatter3d"
           }
          ],
          "scattercarpet": [
           {
            "marker": {
             "colorbar": {
              "outlinewidth": 0,
              "ticks": ""
             }
            },
            "type": "scattercarpet"
           }
          ],
          "scattergeo": [
           {
            "marker": {
             "colorbar": {
              "outlinewidth": 0,
              "ticks": ""
             }
            },
            "type": "scattergeo"
           }
          ],
          "scattergl": [
           {
            "marker": {
             "colorbar": {
              "outlinewidth": 0,
              "ticks": ""
             }
            },
            "type": "scattergl"
           }
          ],
          "scattermapbox": [
           {
            "marker": {
             "colorbar": {
              "outlinewidth": 0,
              "ticks": ""
             }
            },
            "type": "scattermapbox"
           }
          ],
          "scatterpolar": [
           {
            "marker": {
             "colorbar": {
              "outlinewidth": 0,
              "ticks": ""
             }
            },
            "type": "scatterpolar"
           }
          ],
          "scatterpolargl": [
           {
            "marker": {
             "colorbar": {
              "outlinewidth": 0,
              "ticks": ""
             }
            },
            "type": "scatterpolargl"
           }
          ],
          "scatterternary": [
           {
            "marker": {
             "colorbar": {
              "outlinewidth": 0,
              "ticks": ""
             }
            },
            "type": "scatterternary"
           }
          ],
          "surface": [
           {
            "colorbar": {
             "outlinewidth": 0,
             "ticks": ""
            },
            "colorscale": [
             [
              0,
              "#0d0887"
             ],
             [
              0.1111111111111111,
              "#46039f"
             ],
             [
              0.2222222222222222,
              "#7201a8"
             ],
             [
              0.3333333333333333,
              "#9c179e"
             ],
             [
              0.4444444444444444,
              "#bd3786"
             ],
             [
              0.5555555555555556,
              "#d8576b"
             ],
             [
              0.6666666666666666,
              "#ed7953"
             ],
             [
              0.7777777777777778,
              "#fb9f3a"
             ],
             [
              0.8888888888888888,
              "#fdca26"
             ],
             [
              1,
              "#f0f921"
             ]
            ],
            "type": "surface"
           }
          ],
          "table": [
           {
            "cells": {
             "fill": {
              "color": "#EBF0F8"
             },
             "line": {
              "color": "white"
             }
            },
            "header": {
             "fill": {
              "color": "#C8D4E3"
             },
             "line": {
              "color": "white"
             }
            },
            "type": "table"
           }
          ]
         },
         "layout": {
          "annotationdefaults": {
           "arrowcolor": "#2a3f5f",
           "arrowhead": 0,
           "arrowwidth": 1
          },
          "coloraxis": {
           "colorbar": {
            "outlinewidth": 0,
            "ticks": ""
           }
          },
          "colorscale": {
           "diverging": [
            [
             0,
             "#8e0152"
            ],
            [
             0.1,
             "#c51b7d"
            ],
            [
             0.2,
             "#de77ae"
            ],
            [
             0.3,
             "#f1b6da"
            ],
            [
             0.4,
             "#fde0ef"
            ],
            [
             0.5,
             "#f7f7f7"
            ],
            [
             0.6,
             "#e6f5d0"
            ],
            [
             0.7,
             "#b8e186"
            ],
            [
             0.8,
             "#7fbc41"
            ],
            [
             0.9,
             "#4d9221"
            ],
            [
             1,
             "#276419"
            ]
           ],
           "sequential": [
            [
             0,
             "#0d0887"
            ],
            [
             0.1111111111111111,
             "#46039f"
            ],
            [
             0.2222222222222222,
             "#7201a8"
            ],
            [
             0.3333333333333333,
             "#9c179e"
            ],
            [
             0.4444444444444444,
             "#bd3786"
            ],
            [
             0.5555555555555556,
             "#d8576b"
            ],
            [
             0.6666666666666666,
             "#ed7953"
            ],
            [
             0.7777777777777778,
             "#fb9f3a"
            ],
            [
             0.8888888888888888,
             "#fdca26"
            ],
            [
             1,
             "#f0f921"
            ]
           ],
           "sequentialminus": [
            [
             0,
             "#0d0887"
            ],
            [
             0.1111111111111111,
             "#46039f"
            ],
            [
             0.2222222222222222,
             "#7201a8"
            ],
            [
             0.3333333333333333,
             "#9c179e"
            ],
            [
             0.4444444444444444,
             "#bd3786"
            ],
            [
             0.5555555555555556,
             "#d8576b"
            ],
            [
             0.6666666666666666,
             "#ed7953"
            ],
            [
             0.7777777777777778,
             "#fb9f3a"
            ],
            [
             0.8888888888888888,
             "#fdca26"
            ],
            [
             1,
             "#f0f921"
            ]
           ]
          },
          "colorway": [
           "#636efa",
           "#EF553B",
           "#00cc96",
           "#ab63fa",
           "#FFA15A",
           "#19d3f3",
           "#FF6692",
           "#B6E880",
           "#FF97FF",
           "#FECB52"
          ],
          "font": {
           "color": "#2a3f5f"
          },
          "geo": {
           "bgcolor": "white",
           "lakecolor": "white",
           "landcolor": "white",
           "showlakes": true,
           "showland": true,
           "subunitcolor": "#C8D4E3"
          },
          "hoverlabel": {
           "align": "left"
          },
          "hovermode": "closest",
          "mapbox": {
           "style": "light"
          },
          "paper_bgcolor": "white",
          "plot_bgcolor": "white",
          "polar": {
           "angularaxis": {
            "gridcolor": "#EBF0F8",
            "linecolor": "#EBF0F8",
            "ticks": ""
           },
           "bgcolor": "white",
           "radialaxis": {
            "gridcolor": "#EBF0F8",
            "linecolor": "#EBF0F8",
            "ticks": ""
           }
          },
          "scene": {
           "xaxis": {
            "backgroundcolor": "white",
            "gridcolor": "#DFE8F3",
            "gridwidth": 2,
            "linecolor": "#EBF0F8",
            "showbackground": true,
            "ticks": "",
            "zerolinecolor": "#EBF0F8"
           },
           "yaxis": {
            "backgroundcolor": "white",
            "gridcolor": "#DFE8F3",
            "gridwidth": 2,
            "linecolor": "#EBF0F8",
            "showbackground": true,
            "ticks": "",
            "zerolinecolor": "#EBF0F8"
           },
           "zaxis": {
            "backgroundcolor": "white",
            "gridcolor": "#DFE8F3",
            "gridwidth": 2,
            "linecolor": "#EBF0F8",
            "showbackground": true,
            "ticks": "",
            "zerolinecolor": "#EBF0F8"
           }
          },
          "shapedefaults": {
           "line": {
            "color": "#2a3f5f"
           }
          },
          "ternary": {
           "aaxis": {
            "gridcolor": "#DFE8F3",
            "linecolor": "#A2B1C6",
            "ticks": ""
           },
           "baxis": {
            "gridcolor": "#DFE8F3",
            "linecolor": "#A2B1C6",
            "ticks": ""
           },
           "bgcolor": "white",
           "caxis": {
            "gridcolor": "#DFE8F3",
            "linecolor": "#A2B1C6",
            "ticks": ""
           }
          },
          "title": {
           "x": 0.05
          },
          "xaxis": {
           "automargin": true,
           "gridcolor": "#EBF0F8",
           "linecolor": "#EBF0F8",
           "ticks": "",
           "title": {
            "standoff": 15
           },
           "zerolinecolor": "#EBF0F8",
           "zerolinewidth": 2
          },
          "yaxis": {
           "automargin": true,
           "gridcolor": "#EBF0F8",
           "linecolor": "#EBF0F8",
           "ticks": "",
           "title": {
            "standoff": 15
           },
           "zerolinecolor": "#EBF0F8",
           "zerolinewidth": 2
          }
         }
        },
        "title": {
         "font": {
          "color": "#4D5663"
         },
         "text": "Most 10 Featured Companies"
        },
        "xaxis": {
         "gridcolor": "#E1E5ED",
         "showgrid": true,
         "tickfont": {
          "color": "#4D5663"
         },
         "title": {
          "font": {
           "color": "#4D5663"
          },
          "text": ""
         },
         "zerolinecolor": "#E1E5ED"
        },
        "yaxis": {
         "gridcolor": "#E1E5ED",
         "showgrid": true,
         "tickfont": {
          "color": "#4D5663"
         },
         "title": {
          "font": {
           "color": "#4D5663"
          },
          "text": "# of News Articles"
         },
         "zerolinecolor": "#E1E5ED"
        }
       }
      },
      "text/html": [
       "<div>\n",
       "        \n",
       "        \n",
       "            <div id=\"b6afdb65-a936-43a6-ac60-0329c2426f0e\" class=\"plotly-graph-div\" style=\"height:525px; width:100%;\"></div>\n",
       "            <script type=\"text/javascript\">\n",
       "                require([\"plotly\"], function(Plotly) {\n",
       "                    window.PLOTLYENV=window.PLOTLYENV || {};\n",
       "                    window.PLOTLYENV.BASE_URL='https://plotly.com';\n",
       "                    \n",
       "                if (document.getElementById(\"b6afdb65-a936-43a6-ac60-0329c2426f0e\")) {\n",
       "                    Plotly.newPlot(\n",
       "                        'b6afdb65-a936-43a6-ac60-0329c2426f0e',\n",
       "                        [{\"marker\": {\"color\": \"rgba(0, 0, 128, 0.6)\", \"line\": {\"color\": \"rgba(0, 0, 128, 1.0)\", \"width\": 1}}, \"name\": \"Company Name\", \"orientation\": \"v\", \"text\": \"\", \"type\": \"bar\", \"x\": [\"\\u0634\\u0631\\u0643\\u0629 \\u0623\\u0628\\u0646\\u0627\\u0621 \\u0639\\u0628\\u062f\\u0627\\u0644\\u0644\\u0647 \\u0639\\u0628\\u062f\\u0627\\u0644\\u0645\\u062d\\u0633\\u0646 \\u0627\\u0644\\u062e\\u0636\\u0631\\u064a\", \"\\u0634\\u0631\\u0643\\u0629 \\u0625\\u062a\\u062d\\u0627\\u062f \\u0639\\u0630\\u064a\\u0628 \\u0644\\u0644\\u0625\\u062a\\u0635\\u0627\\u0644\\u0627\\u062a\", \"\\u0634\\u0631\\u0643\\u0629 \\u0627\\u0644\\u0628\\u0627\\u062d\\u0629 \\u0644\\u0644\\u0625\\u0633\\u062a\\u062b\\u0645\\u0627\\u0631 \\u0648\\u0627\\u0644\\u062a\\u0646\\u0645\\u064a\\u0629\", \"\\u0627\\u0644\\u0634\\u0631\\u0643\\u0629 \\u0627\\u0644\\u0633\\u0639\\u0648\\u062f\\u064a\\u0629 \\u0627\\u0644\\u0647\\u0646\\u062f\\u064a\\u0629 \\u0644\\u0644\\u062a\\u0623\\u0645\\u064a\\u0646 \\u0627\\u0644\\u062a\\u0639\\u0627\\u0648\\u0646\\u064a\", \"\\u0634\\u0631\\u0643\\u0629 \\u0637\\u064a\\u0628\\u0629 \\u0644\\u0644\\u0625\\u0633\\u062a\\u062b\\u0645\\u0627\\u0631\", \"\\u0634\\u0631\\u0643\\u0629 \\u0627\\u0644\\u0643\\u0627\\u0628\\u0644\\u0627\\u062a \\u0627\\u0644\\u0633\\u0639\\u0648\\u062f\\u064a\\u0629\", \"\\u0627\\u0644\\u0634\\u0631\\u0643\\u0629 \\u0627\\u0644\\u0648\\u0637\\u0646\\u064a\\u0629 \\u0627\\u0644\\u0633\\u0639\\u0648\\u062f\\u064a\\u0629 \\u0644\\u0644\\u0646\\u0642\\u0644 \\u0627\\u0644\\u0628\\u062d\\u0631\\u064a\", \"\\u0634\\u0631\\u0643\\u0629 \\u0627\\u0644\\u062a\\u0639\\u062f\\u064a\\u0646 \\u0627\\u0644\\u0639\\u0631\\u0628\\u064a\\u0629 \\u0627\\u0644\\u0633\\u0639\\u0648\\u062f\\u064a\\u0629\", \"\\u0634\\u0631\\u0643\\u0629 \\u0627\\u0644\\u0623\\u062d\\u0633\\u0627\\u0621 \\u0644\\u0644\\u062a\\u0646\\u0645\\u064a\\u0629\", \"\\u0627\\u0644\\u0634\\u0631\\u0643\\u0629 \\u0627\\u0644\\u0633\\u0639\\u0648\\u062f\\u064a\\u0629 \\u0644\\u0644\\u0646\\u0642\\u0644 \\u0627\\u0644\\u062c\\u0645\\u0627\\u0639\\u064a\"], \"y\": [450, 331, 316, 300, 283, 281, 280, 278, 277, 268]}],\n",
       "                        {\"legend\": {\"bgcolor\": \"#FFFFFF\", \"font\": {\"color\": \"#4D5663\"}}, \"paper_bgcolor\": \"#FFFFFF\", \"plot_bgcolor\": \"#FFFFFF\", \"template\": {\"data\": {\"bar\": [{\"error_x\": {\"color\": \"#2a3f5f\"}, \"error_y\": {\"color\": \"#2a3f5f\"}, \"marker\": {\"line\": {\"color\": \"white\", \"width\": 0.5}}, \"type\": \"bar\"}], \"barpolar\": [{\"marker\": {\"line\": {\"color\": \"white\", \"width\": 0.5}}, \"type\": \"barpolar\"}], \"carpet\": [{\"aaxis\": {\"endlinecolor\": \"#2a3f5f\", \"gridcolor\": \"#C8D4E3\", \"linecolor\": \"#C8D4E3\", \"minorgridcolor\": \"#C8D4E3\", \"startlinecolor\": \"#2a3f5f\"}, \"baxis\": {\"endlinecolor\": \"#2a3f5f\", \"gridcolor\": \"#C8D4E3\", \"linecolor\": \"#C8D4E3\", \"minorgridcolor\": \"#C8D4E3\", \"startlinecolor\": \"#2a3f5f\"}, \"type\": \"carpet\"}], \"choropleth\": [{\"colorbar\": {\"outlinewidth\": 0, \"ticks\": \"\"}, \"type\": \"choropleth\"}], \"contour\": [{\"colorbar\": {\"outlinewidth\": 0, \"ticks\": \"\"}, \"colorscale\": [[0.0, \"#0d0887\"], [0.1111111111111111, \"#46039f\"], [0.2222222222222222, \"#7201a8\"], [0.3333333333333333, \"#9c179e\"], [0.4444444444444444, \"#bd3786\"], [0.5555555555555556, \"#d8576b\"], [0.6666666666666666, \"#ed7953\"], [0.7777777777777778, \"#fb9f3a\"], [0.8888888888888888, \"#fdca26\"], [1.0, \"#f0f921\"]], \"type\": \"contour\"}], \"contourcarpet\": [{\"colorbar\": {\"outlinewidth\": 0, \"ticks\": \"\"}, \"type\": \"contourcarpet\"}], \"heatmap\": [{\"colorbar\": {\"outlinewidth\": 0, \"ticks\": \"\"}, \"colorscale\": [[0.0, \"#0d0887\"], [0.1111111111111111, \"#46039f\"], [0.2222222222222222, \"#7201a8\"], [0.3333333333333333, \"#9c179e\"], [0.4444444444444444, \"#bd3786\"], [0.5555555555555556, \"#d8576b\"], [0.6666666666666666, \"#ed7953\"], [0.7777777777777778, \"#fb9f3a\"], [0.8888888888888888, \"#fdca26\"], [1.0, \"#f0f921\"]], \"type\": \"heatmap\"}], \"heatmapgl\": [{\"colorbar\": {\"outlinewidth\": 0, \"ticks\": \"\"}, \"colorscale\": [[0.0, \"#0d0887\"], [0.1111111111111111, \"#46039f\"], [0.2222222222222222, \"#7201a8\"], [0.3333333333333333, \"#9c179e\"], [0.4444444444444444, \"#bd3786\"], [0.5555555555555556, \"#d8576b\"], [0.6666666666666666, \"#ed7953\"], [0.7777777777777778, \"#fb9f3a\"], [0.8888888888888888, \"#fdca26\"], [1.0, \"#f0f921\"]], \"type\": \"heatmapgl\"}], \"histogram\": [{\"marker\": {\"colorbar\": {\"outlinewidth\": 0, \"ticks\": \"\"}}, \"type\": \"histogram\"}], \"histogram2d\": [{\"colorbar\": {\"outlinewidth\": 0, \"ticks\": \"\"}, \"colorscale\": [[0.0, \"#0d0887\"], [0.1111111111111111, \"#46039f\"], [0.2222222222222222, \"#7201a8\"], [0.3333333333333333, \"#9c179e\"], [0.4444444444444444, \"#bd3786\"], [0.5555555555555556, \"#d8576b\"], [0.6666666666666666, \"#ed7953\"], [0.7777777777777778, \"#fb9f3a\"], [0.8888888888888888, \"#fdca26\"], [1.0, \"#f0f921\"]], \"type\": \"histogram2d\"}], \"histogram2dcontour\": [{\"colorbar\": {\"outlinewidth\": 0, \"ticks\": \"\"}, \"colorscale\": [[0.0, \"#0d0887\"], [0.1111111111111111, \"#46039f\"], [0.2222222222222222, \"#7201a8\"], [0.3333333333333333, \"#9c179e\"], [0.4444444444444444, \"#bd3786\"], [0.5555555555555556, \"#d8576b\"], [0.6666666666666666, \"#ed7953\"], [0.7777777777777778, \"#fb9f3a\"], [0.8888888888888888, \"#fdca26\"], [1.0, \"#f0f921\"]], \"type\": \"histogram2dcontour\"}], \"mesh3d\": [{\"colorbar\": {\"outlinewidth\": 0, \"ticks\": \"\"}, \"type\": \"mesh3d\"}], \"parcoords\": [{\"line\": {\"colorbar\": {\"outlinewidth\": 0, \"ticks\": \"\"}}, \"type\": \"parcoords\"}], \"pie\": [{\"automargin\": true, \"type\": \"pie\"}], \"scatter\": [{\"marker\": {\"colorbar\": {\"outlinewidth\": 0, \"ticks\": \"\"}}, \"type\": \"scatter\"}], \"scatter3d\": [{\"line\": {\"colorbar\": {\"outlinewidth\": 0, \"ticks\": \"\"}}, \"marker\": {\"colorbar\": {\"outlinewidth\": 0, \"ticks\": \"\"}}, \"type\": \"scatter3d\"}], \"scattercarpet\": [{\"marker\": {\"colorbar\": {\"outlinewidth\": 0, \"ticks\": \"\"}}, \"type\": \"scattercarpet\"}], \"scattergeo\": [{\"marker\": {\"colorbar\": {\"outlinewidth\": 0, \"ticks\": \"\"}}, \"type\": \"scattergeo\"}], \"scattergl\": [{\"marker\": {\"colorbar\": {\"outlinewidth\": 0, \"ticks\": \"\"}}, \"type\": \"scattergl\"}], \"scattermapbox\": [{\"marker\": {\"colorbar\": {\"outlinewidth\": 0, \"ticks\": \"\"}}, \"type\": \"scattermapbox\"}], \"scatterpolar\": [{\"marker\": {\"colorbar\": {\"outlinewidth\": 0, \"ticks\": \"\"}}, \"type\": \"scatterpolar\"}], \"scatterpolargl\": [{\"marker\": {\"colorbar\": {\"outlinewidth\": 0, \"ticks\": \"\"}}, \"type\": \"scatterpolargl\"}], \"scatterternary\": [{\"marker\": {\"colorbar\": {\"outlinewidth\": 0, \"ticks\": \"\"}}, \"type\": \"scatterternary\"}], \"surface\": [{\"colorbar\": {\"outlinewidth\": 0, \"ticks\": \"\"}, \"colorscale\": [[0.0, \"#0d0887\"], [0.1111111111111111, \"#46039f\"], [0.2222222222222222, \"#7201a8\"], [0.3333333333333333, \"#9c179e\"], [0.4444444444444444, \"#bd3786\"], [0.5555555555555556, \"#d8576b\"], [0.6666666666666666, \"#ed7953\"], [0.7777777777777778, \"#fb9f3a\"], [0.8888888888888888, \"#fdca26\"], [1.0, \"#f0f921\"]], \"type\": \"surface\"}], \"table\": [{\"cells\": {\"fill\": {\"color\": \"#EBF0F8\"}, \"line\": {\"color\": \"white\"}}, \"header\": {\"fill\": {\"color\": \"#C8D4E3\"}, \"line\": {\"color\": \"white\"}}, \"type\": \"table\"}]}, \"layout\": {\"annotationdefaults\": {\"arrowcolor\": \"#2a3f5f\", \"arrowhead\": 0, \"arrowwidth\": 1}, \"coloraxis\": {\"colorbar\": {\"outlinewidth\": 0, \"ticks\": \"\"}}, \"colorscale\": {\"diverging\": [[0, \"#8e0152\"], [0.1, \"#c51b7d\"], [0.2, \"#de77ae\"], [0.3, \"#f1b6da\"], [0.4, \"#fde0ef\"], [0.5, \"#f7f7f7\"], [0.6, \"#e6f5d0\"], [0.7, \"#b8e186\"], [0.8, \"#7fbc41\"], [0.9, \"#4d9221\"], [1, \"#276419\"]], \"sequential\": [[0.0, \"#0d0887\"], [0.1111111111111111, \"#46039f\"], [0.2222222222222222, \"#7201a8\"], [0.3333333333333333, \"#9c179e\"], [0.4444444444444444, \"#bd3786\"], [0.5555555555555556, \"#d8576b\"], [0.6666666666666666, \"#ed7953\"], [0.7777777777777778, \"#fb9f3a\"], [0.8888888888888888, \"#fdca26\"], [1.0, \"#f0f921\"]], \"sequentialminus\": [[0.0, \"#0d0887\"], [0.1111111111111111, \"#46039f\"], [0.2222222222222222, \"#7201a8\"], [0.3333333333333333, \"#9c179e\"], [0.4444444444444444, \"#bd3786\"], [0.5555555555555556, \"#d8576b\"], [0.6666666666666666, \"#ed7953\"], [0.7777777777777778, \"#fb9f3a\"], [0.8888888888888888, \"#fdca26\"], [1.0, \"#f0f921\"]]}, \"colorway\": [\"#636efa\", \"#EF553B\", \"#00cc96\", \"#ab63fa\", \"#FFA15A\", \"#19d3f3\", \"#FF6692\", \"#B6E880\", \"#FF97FF\", \"#FECB52\"], \"font\": {\"color\": \"#2a3f5f\"}, \"geo\": {\"bgcolor\": \"white\", \"lakecolor\": \"white\", \"landcolor\": \"white\", \"showlakes\": true, \"showland\": true, \"subunitcolor\": \"#C8D4E3\"}, \"hoverlabel\": {\"align\": \"left\"}, \"hovermode\": \"closest\", \"mapbox\": {\"style\": \"light\"}, \"paper_bgcolor\": \"white\", \"plot_bgcolor\": \"white\", \"polar\": {\"angularaxis\": {\"gridcolor\": \"#EBF0F8\", \"linecolor\": \"#EBF0F8\", \"ticks\": \"\"}, \"bgcolor\": \"white\", \"radialaxis\": {\"gridcolor\": \"#EBF0F8\", \"linecolor\": \"#EBF0F8\", \"ticks\": \"\"}}, \"scene\": {\"xaxis\": {\"backgroundcolor\": \"white\", \"gridcolor\": \"#DFE8F3\", \"gridwidth\": 2, \"linecolor\": \"#EBF0F8\", \"showbackground\": true, \"ticks\": \"\", \"zerolinecolor\": \"#EBF0F8\"}, \"yaxis\": {\"backgroundcolor\": \"white\", \"gridcolor\": \"#DFE8F3\", \"gridwidth\": 2, \"linecolor\": \"#EBF0F8\", \"showbackground\": true, \"ticks\": \"\", \"zerolinecolor\": \"#EBF0F8\"}, \"zaxis\": {\"backgroundcolor\": \"white\", \"gridcolor\": \"#DFE8F3\", \"gridwidth\": 2, \"linecolor\": \"#EBF0F8\", \"showbackground\": true, \"ticks\": \"\", \"zerolinecolor\": \"#EBF0F8\"}}, \"shapedefaults\": {\"line\": {\"color\": \"#2a3f5f\"}}, \"ternary\": {\"aaxis\": {\"gridcolor\": \"#DFE8F3\", \"linecolor\": \"#A2B1C6\", \"ticks\": \"\"}, \"baxis\": {\"gridcolor\": \"#DFE8F3\", \"linecolor\": \"#A2B1C6\", \"ticks\": \"\"}, \"bgcolor\": \"white\", \"caxis\": {\"gridcolor\": \"#DFE8F3\", \"linecolor\": \"#A2B1C6\", \"ticks\": \"\"}}, \"title\": {\"x\": 0.05}, \"xaxis\": {\"automargin\": true, \"gridcolor\": \"#EBF0F8\", \"linecolor\": \"#EBF0F8\", \"ticks\": \"\", \"title\": {\"standoff\": 15}, \"zerolinecolor\": \"#EBF0F8\", \"zerolinewidth\": 2}, \"yaxis\": {\"automargin\": true, \"gridcolor\": \"#EBF0F8\", \"linecolor\": \"#EBF0F8\", \"ticks\": \"\", \"title\": {\"standoff\": 15}, \"zerolinecolor\": \"#EBF0F8\", \"zerolinewidth\": 2}}}, \"title\": {\"font\": {\"color\": \"#4D5663\"}, \"text\": \"Most 10 Featured Companies\"}, \"xaxis\": {\"gridcolor\": \"#E1E5ED\", \"showgrid\": true, \"tickfont\": {\"color\": \"#4D5663\"}, \"title\": {\"font\": {\"color\": \"#4D5663\"}, \"text\": \"\"}, \"zerolinecolor\": \"#E1E5ED\"}, \"yaxis\": {\"gridcolor\": \"#E1E5ED\", \"showgrid\": true, \"tickfont\": {\"color\": \"#4D5663\"}, \"title\": {\"font\": {\"color\": \"#4D5663\"}, \"text\": \"# of News Articles\"}, \"zerolinecolor\": \"#E1E5ED\"}},\n",
       "                        {\"showLink\": true, \"linkText\": \"Export to plotly.com\", \"plotlyServerURL\": \"https://plotly.com\", \"responsive\": true}\n",
       "                    ).then(function(){\n",
       "                            \n",
       "var gd = document.getElementById('b6afdb65-a936-43a6-ac60-0329c2426f0e');\n",
       "var x = new MutationObserver(function (mutations, observer) {{\n",
       "        var display = window.getComputedStyle(gd).display;\n",
       "        if (!display || display === 'none') {{\n",
       "            console.log([gd, 'removed!']);\n",
       "            Plotly.purge(gd);\n",
       "            observer.disconnect();\n",
       "        }}\n",
       "}});\n",
       "\n",
       "// Listen for the removal of the full notebook cells\n",
       "var notebookContainer = gd.closest('#notebook-container');\n",
       "if (notebookContainer) {{\n",
       "    x.observe(notebookContainer, {childList: true});\n",
       "}}\n",
       "\n",
       "// Listen for the clearing of the current output cell\n",
       "var outputEl = gd.closest('.output');\n",
       "if (outputEl) {{\n",
       "    x.observe(outputEl, {childList: true});\n",
       "}}\n",
       "\n",
       "                        })\n",
       "                };\n",
       "                });\n",
       "            </script>\n",
       "        </div>"
      ]
     },
     "metadata": {},
     "output_type": "display_data"
    }
   ],
   "source": [
    "n_most = 10\n",
    "\n",
    "(df['Company Name']\n",
    " .value_counts()\n",
    " .head(n_most)\n",
    " .iplot(kind='bar', color='navy', yTitle='# of News Articles', title=f'Most {n_most} Featured Companies'))"
   ]
  },
  {
   "cell_type": "code",
   "execution_count": 46,
   "metadata": {},
   "outputs": [
    {
     "data": {
      "text/plain": [
       "['شركة أبناء عبدالله عبدالمحسن الخضري',\n",
       " 'شركة إتحاد عذيب للإتصالات',\n",
       " 'شركة الباحة للإستثمار والتنمية',\n",
       " 'الشركة السعودية الهندية للتأمين التعاوني',\n",
       " 'شركة طيبة للإستثمار',\n",
       " 'شركة الكابلات السعودية',\n",
       " 'الشركة الوطنية السعودية للنقل البحري',\n",
       " 'شركة التعدين العربية السعودية',\n",
       " 'شركة الأحساء للتنمية',\n",
       " 'الشركة السعودية للنقل الجماعي']"
      ]
     },
     "execution_count": 46,
     "metadata": {},
     "output_type": "execute_result"
    }
   ],
   "source": [
    "featured_companies = (df['Company Name']\n",
    "                     .value_counts()\n",
    "                     .head(n_most)\n",
    "                     .index.tolist())\n",
    "featured_companies"
   ]
  },
  {
   "cell_type": "markdown",
   "metadata": {},
   "source": [
    "### Exploring Interaction Between 2 Categorical Variables"
   ]
  },
  {
   "cell_type": "markdown",
   "metadata": {},
   "source": [
    "#### Polarity & Sector"
   ]
  },
  {
   "cell_type": "markdown",
   "metadata": {},
   "source": [
    "##### Method (1) Grouped Barplot"
   ]
  },
  {
   "cell_type": "code",
   "execution_count": 47,
   "metadata": {},
   "outputs": [
    {
     "data": {
      "text/html": [
       "<div>\n",
       "<style scoped>\n",
       "    .dataframe tbody tr th:only-of-type {\n",
       "        vertical-align: middle;\n",
       "    }\n",
       "\n",
       "    .dataframe tbody tr th {\n",
       "        vertical-align: top;\n",
       "    }\n",
       "\n",
       "    .dataframe thead th {\n",
       "        text-align: right;\n",
       "    }\n",
       "</style>\n",
       "<table border=\"1\" class=\"dataframe\">\n",
       "  <thead>\n",
       "    <tr style=\"text-align: right;\">\n",
       "      <th>Polarity</th>\n",
       "      <th>Negative</th>\n",
       "      <th>Neutral</th>\n",
       "      <th>Positive</th>\n",
       "    </tr>\n",
       "    <tr>\n",
       "      <th>Sector_en</th>\n",
       "      <th></th>\n",
       "      <th></th>\n",
       "      <th></th>\n",
       "    </tr>\n",
       "  </thead>\n",
       "  <tbody>\n",
       "    <tr>\n",
       "      <th>Basic Materials</th>\n",
       "      <td>586</td>\n",
       "      <td>2239</td>\n",
       "      <td>3391</td>\n",
       "    </tr>\n",
       "    <tr>\n",
       "      <th>Insurance</th>\n",
       "      <td>1167</td>\n",
       "      <td>2601</td>\n",
       "      <td>2985</td>\n",
       "    </tr>\n",
       "    <tr>\n",
       "      <th>Capital Goods</th>\n",
       "      <td>293</td>\n",
       "      <td>988</td>\n",
       "      <td>1314</td>\n",
       "    </tr>\n",
       "    <tr>\n",
       "      <th>Real Estate M &amp; D</th>\n",
       "      <td>103</td>\n",
       "      <td>635</td>\n",
       "      <td>990</td>\n",
       "    </tr>\n",
       "    <tr>\n",
       "      <th>Food Production</th>\n",
       "      <td>237</td>\n",
       "      <td>908</td>\n",
       "      <td>981</td>\n",
       "    </tr>\n",
       "    <tr>\n",
       "      <th>Banks</th>\n",
       "      <td>37</td>\n",
       "      <td>416</td>\n",
       "      <td>799</td>\n",
       "    </tr>\n",
       "    <tr>\n",
       "      <th>Consumer Services</th>\n",
       "      <td>48</td>\n",
       "      <td>285</td>\n",
       "      <td>654</td>\n",
       "    </tr>\n",
       "    <tr>\n",
       "      <th>Retail Of Luxury Goods</th>\n",
       "      <td>46</td>\n",
       "      <td>338</td>\n",
       "      <td>651</td>\n",
       "    </tr>\n",
       "    <tr>\n",
       "      <th>Transport</th>\n",
       "      <td>32</td>\n",
       "      <td>364</td>\n",
       "      <td>514</td>\n",
       "    </tr>\n",
       "    <tr>\n",
       "      <th>Healthcare</th>\n",
       "      <td>31</td>\n",
       "      <td>242</td>\n",
       "      <td>478</td>\n",
       "    </tr>\n",
       "    <tr>\n",
       "      <th>Energy</th>\n",
       "      <td>32</td>\n",
       "      <td>367</td>\n",
       "      <td>458</td>\n",
       "    </tr>\n",
       "    <tr>\n",
       "      <th>Telecommunications</th>\n",
       "      <td>159</td>\n",
       "      <td>419</td>\n",
       "      <td>423</td>\n",
       "    </tr>\n",
       "    <tr>\n",
       "      <th>Investment And Financing</th>\n",
       "      <td>104</td>\n",
       "      <td>294</td>\n",
       "      <td>326</td>\n",
       "    </tr>\n",
       "    <tr>\n",
       "      <th>Long-Term Goods</th>\n",
       "      <td>62</td>\n",
       "      <td>278</td>\n",
       "      <td>308</td>\n",
       "    </tr>\n",
       "    <tr>\n",
       "      <th>Food Segmentation</th>\n",
       "      <td>53</td>\n",
       "      <td>234</td>\n",
       "      <td>254</td>\n",
       "    </tr>\n",
       "    <tr>\n",
       "      <th>Real Estate Traded Funds</th>\n",
       "      <td>22</td>\n",
       "      <td>336</td>\n",
       "      <td>237</td>\n",
       "    </tr>\n",
       "    <tr>\n",
       "      <th>Public Utility</th>\n",
       "      <td>13</td>\n",
       "      <td>152</td>\n",
       "      <td>229</td>\n",
       "    </tr>\n",
       "    <tr>\n",
       "      <th>Commercial And Professional Services</th>\n",
       "      <td>23</td>\n",
       "      <td>93</td>\n",
       "      <td>156</td>\n",
       "    </tr>\n",
       "    <tr>\n",
       "      <th>Media And Entertainment</th>\n",
       "      <td>44</td>\n",
       "      <td>181</td>\n",
       "      <td>140</td>\n",
       "    </tr>\n",
       "    <tr>\n",
       "      <th>Pharmaceutical</th>\n",
       "      <td>8</td>\n",
       "      <td>72</td>\n",
       "      <td>138</td>\n",
       "    </tr>\n",
       "    <tr>\n",
       "      <th>Tasi Main Market Index</th>\n",
       "      <td>4</td>\n",
       "      <td>35</td>\n",
       "      <td>69</td>\n",
       "    </tr>\n",
       "    <tr>\n",
       "      <th>Applications And Technology Services</th>\n",
       "      <td>2</td>\n",
       "      <td>6</td>\n",
       "      <td>14</td>\n",
       "    </tr>\n",
       "  </tbody>\n",
       "</table>\n",
       "</div>"
      ],
      "text/plain": [
       "Polarity                              Negative  Neutral  Positive\n",
       "Sector_en                                                        \n",
       "Basic Materials                            586     2239      3391\n",
       "Insurance                                 1167     2601      2985\n",
       "Capital Goods                              293      988      1314\n",
       "Real Estate M & D                          103      635       990\n",
       "Food Production                            237      908       981\n",
       "Banks                                       37      416       799\n",
       "Consumer Services                           48      285       654\n",
       "Retail Of Luxury Goods                      46      338       651\n",
       "Transport                                   32      364       514\n",
       "Healthcare                                  31      242       478\n",
       "Energy                                      32      367       458\n",
       "Telecommunications                         159      419       423\n",
       "Investment And Financing                   104      294       326\n",
       "Long-Term Goods                             62      278       308\n",
       "Food Segmentation                           53      234       254\n",
       "Real Estate Traded Funds                    22      336       237\n",
       "Public Utility                              13      152       229\n",
       "Commercial And Professional Services        23       93       156\n",
       "Media And Entertainment                     44      181       140\n",
       "Pharmaceutical                               8       72       138\n",
       "Tasi Main Market Index                       4       35        69\n",
       "Applications And Technology Services         2        6        14"
      ]
     },
     "execution_count": 47,
     "metadata": {},
     "output_type": "execute_result"
    }
   ],
   "source": [
    "polarity_by_sector = (df\n",
    "                      .groupby(['Sector_en', 'Polarity'])\n",
    "                      .size()\n",
    "                      .unstack()\n",
    "                      .fillna(0)\n",
    "                      .sort_values('Positive', ascending=False))\n",
    "\n",
    "polarity_by_sector"
   ]
  },
  {
   "cell_type": "code",
   "execution_count": 48,
   "metadata": {},
   "outputs": [
    {
     "data": {
      "text/html": [
       "<div>\n",
       "<style scoped>\n",
       "    .dataframe tbody tr th:only-of-type {\n",
       "        vertical-align: middle;\n",
       "    }\n",
       "\n",
       "    .dataframe tbody tr th {\n",
       "        vertical-align: top;\n",
       "    }\n",
       "\n",
       "    .dataframe thead th {\n",
       "        text-align: right;\n",
       "    }\n",
       "</style>\n",
       "<table border=\"1\" class=\"dataframe\">\n",
       "  <thead>\n",
       "    <tr style=\"text-align: right;\">\n",
       "      <th>Polarity</th>\n",
       "      <th>Negative</th>\n",
       "      <th>Neutral</th>\n",
       "      <th>Positive</th>\n",
       "    </tr>\n",
       "    <tr>\n",
       "      <th>Sector_en</th>\n",
       "      <th></th>\n",
       "      <th></th>\n",
       "      <th></th>\n",
       "    </tr>\n",
       "  </thead>\n",
       "  <tbody>\n",
       "    <tr>\n",
       "      <th>Insurance</th>\n",
       "      <td>1167</td>\n",
       "      <td>2601</td>\n",
       "      <td>2985</td>\n",
       "    </tr>\n",
       "    <tr>\n",
       "      <th>Basic Materials</th>\n",
       "      <td>586</td>\n",
       "      <td>2239</td>\n",
       "      <td>3391</td>\n",
       "    </tr>\n",
       "    <tr>\n",
       "      <th>Capital Goods</th>\n",
       "      <td>293</td>\n",
       "      <td>988</td>\n",
       "      <td>1314</td>\n",
       "    </tr>\n",
       "    <tr>\n",
       "      <th>Food Production</th>\n",
       "      <td>237</td>\n",
       "      <td>908</td>\n",
       "      <td>981</td>\n",
       "    </tr>\n",
       "    <tr>\n",
       "      <th>Real Estate M &amp; D</th>\n",
       "      <td>103</td>\n",
       "      <td>635</td>\n",
       "      <td>990</td>\n",
       "    </tr>\n",
       "    <tr>\n",
       "      <th>Banks</th>\n",
       "      <td>37</td>\n",
       "      <td>416</td>\n",
       "      <td>799</td>\n",
       "    </tr>\n",
       "    <tr>\n",
       "      <th>Retail Of Luxury Goods</th>\n",
       "      <td>46</td>\n",
       "      <td>338</td>\n",
       "      <td>651</td>\n",
       "    </tr>\n",
       "    <tr>\n",
       "      <th>Telecommunications</th>\n",
       "      <td>159</td>\n",
       "      <td>419</td>\n",
       "      <td>423</td>\n",
       "    </tr>\n",
       "    <tr>\n",
       "      <th>Consumer Services</th>\n",
       "      <td>48</td>\n",
       "      <td>285</td>\n",
       "      <td>654</td>\n",
       "    </tr>\n",
       "    <tr>\n",
       "      <th>Transport</th>\n",
       "      <td>32</td>\n",
       "      <td>364</td>\n",
       "      <td>514</td>\n",
       "    </tr>\n",
       "  </tbody>\n",
       "</table>\n",
       "</div>"
      ],
      "text/plain": [
       "Polarity                Negative  Neutral  Positive\n",
       "Sector_en                                          \n",
       "Insurance                   1167     2601      2985\n",
       "Basic Materials              586     2239      3391\n",
       "Capital Goods                293      988      1314\n",
       "Food Production              237      908       981\n",
       "Real Estate M & D            103      635       990\n",
       "Banks                         37      416       799\n",
       "Retail Of Luxury Goods        46      338       651\n",
       "Telecommunications           159      419       423\n",
       "Consumer Services             48      285       654\n",
       "Transport                     32      364       514"
      ]
     },
     "execution_count": 48,
     "metadata": {},
     "output_type": "execute_result"
    }
   ],
   "source": [
    "polarity_by_sector.loc[featured_sectors]"
   ]
  },
  {
   "cell_type": "code",
   "execution_count": null,
   "metadata": {},
   "outputs": [],
   "source": []
  },
  {
   "cell_type": "code",
   "execution_count": 49,
   "metadata": {},
   "outputs": [
    {
     "data": {
      "application/vnd.plotly.v1+json": {
       "config": {
        "linkText": "Export to plotly.com",
        "plotlyServerURL": "https://plotly.com",
        "showLink": true
       },
       "data": [
        {
         "marker": {
          "color": "rgba(67, 162, 202, 0.6)",
          "line": {
           "color": "rgba(67, 162, 202, 1.0)",
           "width": 1
          }
         },
         "name": "Negative",
         "orientation": "v",
         "text": "",
         "type": "bar",
         "x": [
          "Insurance",
          "Basic Materials",
          "Capital Goods",
          "Food Production",
          "Real Estate M & D",
          "Banks",
          "Retail Of Luxury Goods",
          "Telecommunications",
          "Consumer Services",
          "Transport"
         ],
         "y": [
          1167,
          586,
          293,
          237,
          103,
          37,
          46,
          159,
          48,
          32
         ]
        },
        {
         "marker": {
          "color": "rgba(168, 221, 181, 0.6)",
          "line": {
           "color": "rgba(168, 221, 181, 1.0)",
           "width": 1
          }
         },
         "name": "Neutral",
         "orientation": "v",
         "text": "",
         "type": "bar",
         "x": [
          "Insurance",
          "Basic Materials",
          "Capital Goods",
          "Food Production",
          "Real Estate M & D",
          "Banks",
          "Retail Of Luxury Goods",
          "Telecommunications",
          "Consumer Services",
          "Transport"
         ],
         "y": [
          2601,
          2239,
          988,
          908,
          635,
          416,
          338,
          419,
          285,
          364
         ]
        },
        {
         "marker": {
          "color": "rgba(224, 243, 219, 0.6)",
          "line": {
           "color": "rgba(224, 243, 219, 1.0)",
           "width": 1
          }
         },
         "name": "Positive",
         "orientation": "v",
         "text": "",
         "type": "bar",
         "x": [
          "Insurance",
          "Basic Materials",
          "Capital Goods",
          "Food Production",
          "Real Estate M & D",
          "Banks",
          "Retail Of Luxury Goods",
          "Telecommunications",
          "Consumer Services",
          "Transport"
         ],
         "y": [
          2985,
          3391,
          1314,
          981,
          990,
          799,
          651,
          423,
          654,
          514
         ]
        }
       ],
       "layout": {
        "template": {
         "data": {
          "bar": [
           {
            "error_x": {
             "color": "#2a3f5f"
            },
            "error_y": {
             "color": "#2a3f5f"
            },
            "marker": {
             "line": {
              "color": "white",
              "width": 0.5
             }
            },
            "type": "bar"
           }
          ],
          "barpolar": [
           {
            "marker": {
             "line": {
              "color": "white",
              "width": 0.5
             }
            },
            "type": "barpolar"
           }
          ],
          "carpet": [
           {
            "aaxis": {
             "endlinecolor": "#2a3f5f",
             "gridcolor": "#C8D4E3",
             "linecolor": "#C8D4E3",
             "minorgridcolor": "#C8D4E3",
             "startlinecolor": "#2a3f5f"
            },
            "baxis": {
             "endlinecolor": "#2a3f5f",
             "gridcolor": "#C8D4E3",
             "linecolor": "#C8D4E3",
             "minorgridcolor": "#C8D4E3",
             "startlinecolor": "#2a3f5f"
            },
            "type": "carpet"
           }
          ],
          "choropleth": [
           {
            "colorbar": {
             "outlinewidth": 0,
             "ticks": ""
            },
            "type": "choropleth"
           }
          ],
          "contour": [
           {
            "colorbar": {
             "outlinewidth": 0,
             "ticks": ""
            },
            "colorscale": [
             [
              0,
              "#0d0887"
             ],
             [
              0.1111111111111111,
              "#46039f"
             ],
             [
              0.2222222222222222,
              "#7201a8"
             ],
             [
              0.3333333333333333,
              "#9c179e"
             ],
             [
              0.4444444444444444,
              "#bd3786"
             ],
             [
              0.5555555555555556,
              "#d8576b"
             ],
             [
              0.6666666666666666,
              "#ed7953"
             ],
             [
              0.7777777777777778,
              "#fb9f3a"
             ],
             [
              0.8888888888888888,
              "#fdca26"
             ],
             [
              1,
              "#f0f921"
             ]
            ],
            "type": "contour"
           }
          ],
          "contourcarpet": [
           {
            "colorbar": {
             "outlinewidth": 0,
             "ticks": ""
            },
            "type": "contourcarpet"
           }
          ],
          "heatmap": [
           {
            "colorbar": {
             "outlinewidth": 0,
             "ticks": ""
            },
            "colorscale": [
             [
              0,
              "#0d0887"
             ],
             [
              0.1111111111111111,
              "#46039f"
             ],
             [
              0.2222222222222222,
              "#7201a8"
             ],
             [
              0.3333333333333333,
              "#9c179e"
             ],
             [
              0.4444444444444444,
              "#bd3786"
             ],
             [
              0.5555555555555556,
              "#d8576b"
             ],
             [
              0.6666666666666666,
              "#ed7953"
             ],
             [
              0.7777777777777778,
              "#fb9f3a"
             ],
             [
              0.8888888888888888,
              "#fdca26"
             ],
             [
              1,
              "#f0f921"
             ]
            ],
            "type": "heatmap"
           }
          ],
          "heatmapgl": [
           {
            "colorbar": {
             "outlinewidth": 0,
             "ticks": ""
            },
            "colorscale": [
             [
              0,
              "#0d0887"
             ],
             [
              0.1111111111111111,
              "#46039f"
             ],
             [
              0.2222222222222222,
              "#7201a8"
             ],
             [
              0.3333333333333333,
              "#9c179e"
             ],
             [
              0.4444444444444444,
              "#bd3786"
             ],
             [
              0.5555555555555556,
              "#d8576b"
             ],
             [
              0.6666666666666666,
              "#ed7953"
             ],
             [
              0.7777777777777778,
              "#fb9f3a"
             ],
             [
              0.8888888888888888,
              "#fdca26"
             ],
             [
              1,
              "#f0f921"
             ]
            ],
            "type": "heatmapgl"
           }
          ],
          "histogram": [
           {
            "marker": {
             "colorbar": {
              "outlinewidth": 0,
              "ticks": ""
             }
            },
            "type": "histogram"
           }
          ],
          "histogram2d": [
           {
            "colorbar": {
             "outlinewidth": 0,
             "ticks": ""
            },
            "colorscale": [
             [
              0,
              "#0d0887"
             ],
             [
              0.1111111111111111,
              "#46039f"
             ],
             [
              0.2222222222222222,
              "#7201a8"
             ],
             [
              0.3333333333333333,
              "#9c179e"
             ],
             [
              0.4444444444444444,
              "#bd3786"
             ],
             [
              0.5555555555555556,
              "#d8576b"
             ],
             [
              0.6666666666666666,
              "#ed7953"
             ],
             [
              0.7777777777777778,
              "#fb9f3a"
             ],
             [
              0.8888888888888888,
              "#fdca26"
             ],
             [
              1,
              "#f0f921"
             ]
            ],
            "type": "histogram2d"
           }
          ],
          "histogram2dcontour": [
           {
            "colorbar": {
             "outlinewidth": 0,
             "ticks": ""
            },
            "colorscale": [
             [
              0,
              "#0d0887"
             ],
             [
              0.1111111111111111,
              "#46039f"
             ],
             [
              0.2222222222222222,
              "#7201a8"
             ],
             [
              0.3333333333333333,
              "#9c179e"
             ],
             [
              0.4444444444444444,
              "#bd3786"
             ],
             [
              0.5555555555555556,
              "#d8576b"
             ],
             [
              0.6666666666666666,
              "#ed7953"
             ],
             [
              0.7777777777777778,
              "#fb9f3a"
             ],
             [
              0.8888888888888888,
              "#fdca26"
             ],
             [
              1,
              "#f0f921"
             ]
            ],
            "type": "histogram2dcontour"
           }
          ],
          "mesh3d": [
           {
            "colorbar": {
             "outlinewidth": 0,
             "ticks": ""
            },
            "type": "mesh3d"
           }
          ],
          "parcoords": [
           {
            "line": {
             "colorbar": {
              "outlinewidth": 0,
              "ticks": ""
             }
            },
            "type": "parcoords"
           }
          ],
          "pie": [
           {
            "automargin": true,
            "type": "pie"
           }
          ],
          "scatter": [
           {
            "marker": {
             "colorbar": {
              "outlinewidth": 0,
              "ticks": ""
             }
            },
            "type": "scatter"
           }
          ],
          "scatter3d": [
           {
            "line": {
             "colorbar": {
              "outlinewidth": 0,
              "ticks": ""
             }
            },
            "marker": {
             "colorbar": {
              "outlinewidth": 0,
              "ticks": ""
             }
            },
            "type": "scatter3d"
           }
          ],
          "scattercarpet": [
           {
            "marker": {
             "colorbar": {
              "outlinewidth": 0,
              "ticks": ""
             }
            },
            "type": "scattercarpet"
           }
          ],
          "scattergeo": [
           {
            "marker": {
             "colorbar": {
              "outlinewidth": 0,
              "ticks": ""
             }
            },
            "type": "scattergeo"
           }
          ],
          "scattergl": [
           {
            "marker": {
             "colorbar": {
              "outlinewidth": 0,
              "ticks": ""
             }
            },
            "type": "scattergl"
           }
          ],
          "scattermapbox": [
           {
            "marker": {
             "colorbar": {
              "outlinewidth": 0,
              "ticks": ""
             }
            },
            "type": "scattermapbox"
           }
          ],
          "scatterpolar": [
           {
            "marker": {
             "colorbar": {
              "outlinewidth": 0,
              "ticks": ""
             }
            },
            "type": "scatterpolar"
           }
          ],
          "scatterpolargl": [
           {
            "marker": {
             "colorbar": {
              "outlinewidth": 0,
              "ticks": ""
             }
            },
            "type": "scatterpolargl"
           }
          ],
          "scatterternary": [
           {
            "marker": {
             "colorbar": {
              "outlinewidth": 0,
              "ticks": ""
             }
            },
            "type": "scatterternary"
           }
          ],
          "surface": [
           {
            "colorbar": {
             "outlinewidth": 0,
             "ticks": ""
            },
            "colorscale": [
             [
              0,
              "#0d0887"
             ],
             [
              0.1111111111111111,
              "#46039f"
             ],
             [
              0.2222222222222222,
              "#7201a8"
             ],
             [
              0.3333333333333333,
              "#9c179e"
             ],
             [
              0.4444444444444444,
              "#bd3786"
             ],
             [
              0.5555555555555556,
              "#d8576b"
             ],
             [
              0.6666666666666666,
              "#ed7953"
             ],
             [
              0.7777777777777778,
              "#fb9f3a"
             ],
             [
              0.8888888888888888,
              "#fdca26"
             ],
             [
              1,
              "#f0f921"
             ]
            ],
            "type": "surface"
           }
          ],
          "table": [
           {
            "cells": {
             "fill": {
              "color": "#EBF0F8"
             },
             "line": {
              "color": "white"
             }
            },
            "header": {
             "fill": {
              "color": "#C8D4E3"
             },
             "line": {
              "color": "white"
             }
            },
            "type": "table"
           }
          ]
         },
         "layout": {
          "annotationdefaults": {
           "arrowcolor": "#2a3f5f",
           "arrowhead": 0,
           "arrowwidth": 1
          },
          "coloraxis": {
           "colorbar": {
            "outlinewidth": 0,
            "ticks": ""
           }
          },
          "colorscale": {
           "diverging": [
            [
             0,
             "#8e0152"
            ],
            [
             0.1,
             "#c51b7d"
            ],
            [
             0.2,
             "#de77ae"
            ],
            [
             0.3,
             "#f1b6da"
            ],
            [
             0.4,
             "#fde0ef"
            ],
            [
             0.5,
             "#f7f7f7"
            ],
            [
             0.6,
             "#e6f5d0"
            ],
            [
             0.7,
             "#b8e186"
            ],
            [
             0.8,
             "#7fbc41"
            ],
            [
             0.9,
             "#4d9221"
            ],
            [
             1,
             "#276419"
            ]
           ],
           "sequential": [
            [
             0,
             "#0d0887"
            ],
            [
             0.1111111111111111,
             "#46039f"
            ],
            [
             0.2222222222222222,
             "#7201a8"
            ],
            [
             0.3333333333333333,
             "#9c179e"
            ],
            [
             0.4444444444444444,
             "#bd3786"
            ],
            [
             0.5555555555555556,
             "#d8576b"
            ],
            [
             0.6666666666666666,
             "#ed7953"
            ],
            [
             0.7777777777777778,
             "#fb9f3a"
            ],
            [
             0.8888888888888888,
             "#fdca26"
            ],
            [
             1,
             "#f0f921"
            ]
           ],
           "sequentialminus": [
            [
             0,
             "#0d0887"
            ],
            [
             0.1111111111111111,
             "#46039f"
            ],
            [
             0.2222222222222222,
             "#7201a8"
            ],
            [
             0.3333333333333333,
             "#9c179e"
            ],
            [
             0.4444444444444444,
             "#bd3786"
            ],
            [
             0.5555555555555556,
             "#d8576b"
            ],
            [
             0.6666666666666666,
             "#ed7953"
            ],
            [
             0.7777777777777778,
             "#fb9f3a"
            ],
            [
             0.8888888888888888,
             "#fdca26"
            ],
            [
             1,
             "#f0f921"
            ]
           ]
          },
          "colorway": [
           "#636efa",
           "#EF553B",
           "#00cc96",
           "#ab63fa",
           "#FFA15A",
           "#19d3f3",
           "#FF6692",
           "#B6E880",
           "#FF97FF",
           "#FECB52"
          ],
          "font": {
           "color": "#2a3f5f"
          },
          "geo": {
           "bgcolor": "white",
           "lakecolor": "white",
           "landcolor": "white",
           "showlakes": true,
           "showland": true,
           "subunitcolor": "#C8D4E3"
          },
          "hoverlabel": {
           "align": "left"
          },
          "hovermode": "closest",
          "mapbox": {
           "style": "light"
          },
          "paper_bgcolor": "white",
          "plot_bgcolor": "white",
          "polar": {
           "angularaxis": {
            "gridcolor": "#EBF0F8",
            "linecolor": "#EBF0F8",
            "ticks": ""
           },
           "bgcolor": "white",
           "radialaxis": {
            "gridcolor": "#EBF0F8",
            "linecolor": "#EBF0F8",
            "ticks": ""
           }
          },
          "scene": {
           "xaxis": {
            "backgroundcolor": "white",
            "gridcolor": "#DFE8F3",
            "gridwidth": 2,
            "linecolor": "#EBF0F8",
            "showbackground": true,
            "ticks": "",
            "zerolinecolor": "#EBF0F8"
           },
           "yaxis": {
            "backgroundcolor": "white",
            "gridcolor": "#DFE8F3",
            "gridwidth": 2,
            "linecolor": "#EBF0F8",
            "showbackground": true,
            "ticks": "",
            "zerolinecolor": "#EBF0F8"
           },
           "zaxis": {
            "backgroundcolor": "white",
            "gridcolor": "#DFE8F3",
            "gridwidth": 2,
            "linecolor": "#EBF0F8",
            "showbackground": true,
            "ticks": "",
            "zerolinecolor": "#EBF0F8"
           }
          },
          "shapedefaults": {
           "line": {
            "color": "#2a3f5f"
           }
          },
          "ternary": {
           "aaxis": {
            "gridcolor": "#DFE8F3",
            "linecolor": "#A2B1C6",
            "ticks": ""
           },
           "baxis": {
            "gridcolor": "#DFE8F3",
            "linecolor": "#A2B1C6",
            "ticks": ""
           },
           "bgcolor": "white",
           "caxis": {
            "gridcolor": "#DFE8F3",
            "linecolor": "#A2B1C6",
            "ticks": ""
           }
          },
          "title": {
           "x": 0.05
          },
          "xaxis": {
           "automargin": true,
           "gridcolor": "#EBF0F8",
           "linecolor": "#EBF0F8",
           "ticks": "",
           "title": {
            "standoff": 15
           },
           "zerolinecolor": "#EBF0F8",
           "zerolinewidth": 2
          },
          "yaxis": {
           "automargin": true,
           "gridcolor": "#EBF0F8",
           "linecolor": "#EBF0F8",
           "ticks": "",
           "title": {
            "standoff": 15
           },
           "zerolinecolor": "#EBF0F8",
           "zerolinewidth": 2
          }
         }
        },
        "title": {
         "text": "Distribution of Polarity over Sectors"
        },
        "xaxis": {
         "title": {
          "text": "Sector"
         }
        },
        "yaxis": {
         "title": {
          "text": "# of Articles"
         }
        }
       }
      },
      "text/html": [
       "<div>\n",
       "        \n",
       "        \n",
       "            <div id=\"404910d5-4ce5-4b4f-bf26-4ee0d3485ab7\" class=\"plotly-graph-div\" style=\"height:525px; width:100%;\"></div>\n",
       "            <script type=\"text/javascript\">\n",
       "                require([\"plotly\"], function(Plotly) {\n",
       "                    window.PLOTLYENV=window.PLOTLYENV || {};\n",
       "                    window.PLOTLYENV.BASE_URL='https://plotly.com';\n",
       "                    \n",
       "                if (document.getElementById(\"404910d5-4ce5-4b4f-bf26-4ee0d3485ab7\")) {\n",
       "                    Plotly.newPlot(\n",
       "                        '404910d5-4ce5-4b4f-bf26-4ee0d3485ab7',\n",
       "                        [{\"marker\": {\"color\": \"rgba(67, 162, 202, 0.6)\", \"line\": {\"color\": \"rgba(67, 162, 202, 1.0)\", \"width\": 1}}, \"name\": \"Negative\", \"orientation\": \"v\", \"text\": \"\", \"type\": \"bar\", \"x\": [\"Insurance\", \"Basic Materials\", \"Capital Goods\", \"Food Production\", \"Real Estate M & D\", \"Banks\", \"Retail Of Luxury Goods\", \"Telecommunications\", \"Consumer Services\", \"Transport\"], \"y\": [1167, 586, 293, 237, 103, 37, 46, 159, 48, 32]}, {\"marker\": {\"color\": \"rgba(168, 221, 181, 0.6)\", \"line\": {\"color\": \"rgba(168, 221, 181, 1.0)\", \"width\": 1}}, \"name\": \"Neutral\", \"orientation\": \"v\", \"text\": \"\", \"type\": \"bar\", \"x\": [\"Insurance\", \"Basic Materials\", \"Capital Goods\", \"Food Production\", \"Real Estate M & D\", \"Banks\", \"Retail Of Luxury Goods\", \"Telecommunications\", \"Consumer Services\", \"Transport\"], \"y\": [2601, 2239, 988, 908, 635, 416, 338, 419, 285, 364]}, {\"marker\": {\"color\": \"rgba(224, 243, 219, 0.6)\", \"line\": {\"color\": \"rgba(224, 243, 219, 1.0)\", \"width\": 1}}, \"name\": \"Positive\", \"orientation\": \"v\", \"text\": \"\", \"type\": \"bar\", \"x\": [\"Insurance\", \"Basic Materials\", \"Capital Goods\", \"Food Production\", \"Real Estate M & D\", \"Banks\", \"Retail Of Luxury Goods\", \"Telecommunications\", \"Consumer Services\", \"Transport\"], \"y\": [2985, 3391, 1314, 981, 990, 799, 651, 423, 654, 514]}],\n",
       "                        {\"template\": {\"data\": {\"bar\": [{\"error_x\": {\"color\": \"#2a3f5f\"}, \"error_y\": {\"color\": \"#2a3f5f\"}, \"marker\": {\"line\": {\"color\": \"white\", \"width\": 0.5}}, \"type\": \"bar\"}], \"barpolar\": [{\"marker\": {\"line\": {\"color\": \"white\", \"width\": 0.5}}, \"type\": \"barpolar\"}], \"carpet\": [{\"aaxis\": {\"endlinecolor\": \"#2a3f5f\", \"gridcolor\": \"#C8D4E3\", \"linecolor\": \"#C8D4E3\", \"minorgridcolor\": \"#C8D4E3\", \"startlinecolor\": \"#2a3f5f\"}, \"baxis\": {\"endlinecolor\": \"#2a3f5f\", \"gridcolor\": \"#C8D4E3\", \"linecolor\": \"#C8D4E3\", \"minorgridcolor\": \"#C8D4E3\", \"startlinecolor\": \"#2a3f5f\"}, \"type\": \"carpet\"}], \"choropleth\": [{\"colorbar\": {\"outlinewidth\": 0, \"ticks\": \"\"}, \"type\": \"choropleth\"}], \"contour\": [{\"colorbar\": {\"outlinewidth\": 0, \"ticks\": \"\"}, \"colorscale\": [[0.0, \"#0d0887\"], [0.1111111111111111, \"#46039f\"], [0.2222222222222222, \"#7201a8\"], [0.3333333333333333, \"#9c179e\"], [0.4444444444444444, \"#bd3786\"], [0.5555555555555556, \"#d8576b\"], [0.6666666666666666, \"#ed7953\"], [0.7777777777777778, \"#fb9f3a\"], [0.8888888888888888, \"#fdca26\"], [1.0, \"#f0f921\"]], \"type\": \"contour\"}], \"contourcarpet\": [{\"colorbar\": {\"outlinewidth\": 0, \"ticks\": \"\"}, \"type\": \"contourcarpet\"}], \"heatmap\": [{\"colorbar\": {\"outlinewidth\": 0, \"ticks\": \"\"}, \"colorscale\": [[0.0, \"#0d0887\"], [0.1111111111111111, \"#46039f\"], [0.2222222222222222, \"#7201a8\"], [0.3333333333333333, \"#9c179e\"], [0.4444444444444444, \"#bd3786\"], [0.5555555555555556, \"#d8576b\"], [0.6666666666666666, \"#ed7953\"], [0.7777777777777778, \"#fb9f3a\"], [0.8888888888888888, \"#fdca26\"], [1.0, \"#f0f921\"]], \"type\": \"heatmap\"}], \"heatmapgl\": [{\"colorbar\": {\"outlinewidth\": 0, \"ticks\": \"\"}, \"colorscale\": [[0.0, \"#0d0887\"], [0.1111111111111111, \"#46039f\"], [0.2222222222222222, \"#7201a8\"], [0.3333333333333333, \"#9c179e\"], [0.4444444444444444, \"#bd3786\"], [0.5555555555555556, \"#d8576b\"], [0.6666666666666666, \"#ed7953\"], [0.7777777777777778, \"#fb9f3a\"], [0.8888888888888888, \"#fdca26\"], [1.0, \"#f0f921\"]], \"type\": \"heatmapgl\"}], \"histogram\": [{\"marker\": {\"colorbar\": {\"outlinewidth\": 0, \"ticks\": \"\"}}, \"type\": \"histogram\"}], \"histogram2d\": [{\"colorbar\": {\"outlinewidth\": 0, \"ticks\": \"\"}, \"colorscale\": [[0.0, \"#0d0887\"], [0.1111111111111111, \"#46039f\"], [0.2222222222222222, \"#7201a8\"], [0.3333333333333333, \"#9c179e\"], [0.4444444444444444, \"#bd3786\"], [0.5555555555555556, \"#d8576b\"], [0.6666666666666666, \"#ed7953\"], [0.7777777777777778, \"#fb9f3a\"], [0.8888888888888888, \"#fdca26\"], [1.0, \"#f0f921\"]], \"type\": \"histogram2d\"}], \"histogram2dcontour\": [{\"colorbar\": {\"outlinewidth\": 0, \"ticks\": \"\"}, \"colorscale\": [[0.0, \"#0d0887\"], [0.1111111111111111, \"#46039f\"], [0.2222222222222222, \"#7201a8\"], [0.3333333333333333, \"#9c179e\"], [0.4444444444444444, \"#bd3786\"], [0.5555555555555556, \"#d8576b\"], [0.6666666666666666, \"#ed7953\"], [0.7777777777777778, \"#fb9f3a\"], [0.8888888888888888, \"#fdca26\"], [1.0, \"#f0f921\"]], \"type\": \"histogram2dcontour\"}], \"mesh3d\": [{\"colorbar\": {\"outlinewidth\": 0, \"ticks\": \"\"}, \"type\": \"mesh3d\"}], \"parcoords\": [{\"line\": {\"colorbar\": {\"outlinewidth\": 0, \"ticks\": \"\"}}, \"type\": \"parcoords\"}], \"pie\": [{\"automargin\": true, \"type\": \"pie\"}], \"scatter\": [{\"marker\": {\"colorbar\": {\"outlinewidth\": 0, \"ticks\": \"\"}}, \"type\": \"scatter\"}], \"scatter3d\": [{\"line\": {\"colorbar\": {\"outlinewidth\": 0, \"ticks\": \"\"}}, \"marker\": {\"colorbar\": {\"outlinewidth\": 0, \"ticks\": \"\"}}, \"type\": \"scatter3d\"}], \"scattercarpet\": [{\"marker\": {\"colorbar\": {\"outlinewidth\": 0, \"ticks\": \"\"}}, \"type\": \"scattercarpet\"}], \"scattergeo\": [{\"marker\": {\"colorbar\": {\"outlinewidth\": 0, \"ticks\": \"\"}}, \"type\": \"scattergeo\"}], \"scattergl\": [{\"marker\": {\"colorbar\": {\"outlinewidth\": 0, \"ticks\": \"\"}}, \"type\": \"scattergl\"}], \"scattermapbox\": [{\"marker\": {\"colorbar\": {\"outlinewidth\": 0, \"ticks\": \"\"}}, \"type\": \"scattermapbox\"}], \"scatterpolar\": [{\"marker\": {\"colorbar\": {\"outlinewidth\": 0, \"ticks\": \"\"}}, \"type\": \"scatterpolar\"}], \"scatterpolargl\": [{\"marker\": {\"colorbar\": {\"outlinewidth\": 0, \"ticks\": \"\"}}, \"type\": \"scatterpolargl\"}], \"scatterternary\": [{\"marker\": {\"colorbar\": {\"outlinewidth\": 0, \"ticks\": \"\"}}, \"type\": \"scatterternary\"}], \"surface\": [{\"colorbar\": {\"outlinewidth\": 0, \"ticks\": \"\"}, \"colorscale\": [[0.0, \"#0d0887\"], [0.1111111111111111, \"#46039f\"], [0.2222222222222222, \"#7201a8\"], [0.3333333333333333, \"#9c179e\"], [0.4444444444444444, \"#bd3786\"], [0.5555555555555556, \"#d8576b\"], [0.6666666666666666, \"#ed7953\"], [0.7777777777777778, \"#fb9f3a\"], [0.8888888888888888, \"#fdca26\"], [1.0, \"#f0f921\"]], \"type\": \"surface\"}], \"table\": [{\"cells\": {\"fill\": {\"color\": \"#EBF0F8\"}, \"line\": {\"color\": \"white\"}}, \"header\": {\"fill\": {\"color\": \"#C8D4E3\"}, \"line\": {\"color\": \"white\"}}, \"type\": \"table\"}]}, \"layout\": {\"annotationdefaults\": {\"arrowcolor\": \"#2a3f5f\", \"arrowhead\": 0, \"arrowwidth\": 1}, \"coloraxis\": {\"colorbar\": {\"outlinewidth\": 0, \"ticks\": \"\"}}, \"colorscale\": {\"diverging\": [[0, \"#8e0152\"], [0.1, \"#c51b7d\"], [0.2, \"#de77ae\"], [0.3, \"#f1b6da\"], [0.4, \"#fde0ef\"], [0.5, \"#f7f7f7\"], [0.6, \"#e6f5d0\"], [0.7, \"#b8e186\"], [0.8, \"#7fbc41\"], [0.9, \"#4d9221\"], [1, \"#276419\"]], \"sequential\": [[0.0, \"#0d0887\"], [0.1111111111111111, \"#46039f\"], [0.2222222222222222, \"#7201a8\"], [0.3333333333333333, \"#9c179e\"], [0.4444444444444444, \"#bd3786\"], [0.5555555555555556, \"#d8576b\"], [0.6666666666666666, \"#ed7953\"], [0.7777777777777778, \"#fb9f3a\"], [0.8888888888888888, \"#fdca26\"], [1.0, \"#f0f921\"]], \"sequentialminus\": [[0.0, \"#0d0887\"], [0.1111111111111111, \"#46039f\"], [0.2222222222222222, \"#7201a8\"], [0.3333333333333333, \"#9c179e\"], [0.4444444444444444, \"#bd3786\"], [0.5555555555555556, \"#d8576b\"], [0.6666666666666666, \"#ed7953\"], [0.7777777777777778, \"#fb9f3a\"], [0.8888888888888888, \"#fdca26\"], [1.0, \"#f0f921\"]]}, \"colorway\": [\"#636efa\", \"#EF553B\", \"#00cc96\", \"#ab63fa\", \"#FFA15A\", \"#19d3f3\", \"#FF6692\", \"#B6E880\", \"#FF97FF\", \"#FECB52\"], \"font\": {\"color\": \"#2a3f5f\"}, \"geo\": {\"bgcolor\": \"white\", \"lakecolor\": \"white\", \"landcolor\": \"white\", \"showlakes\": true, \"showland\": true, \"subunitcolor\": \"#C8D4E3\"}, \"hoverlabel\": {\"align\": \"left\"}, \"hovermode\": \"closest\", \"mapbox\": {\"style\": \"light\"}, \"paper_bgcolor\": \"white\", \"plot_bgcolor\": \"white\", \"polar\": {\"angularaxis\": {\"gridcolor\": \"#EBF0F8\", \"linecolor\": \"#EBF0F8\", \"ticks\": \"\"}, \"bgcolor\": \"white\", \"radialaxis\": {\"gridcolor\": \"#EBF0F8\", \"linecolor\": \"#EBF0F8\", \"ticks\": \"\"}}, \"scene\": {\"xaxis\": {\"backgroundcolor\": \"white\", \"gridcolor\": \"#DFE8F3\", \"gridwidth\": 2, \"linecolor\": \"#EBF0F8\", \"showbackground\": true, \"ticks\": \"\", \"zerolinecolor\": \"#EBF0F8\"}, \"yaxis\": {\"backgroundcolor\": \"white\", \"gridcolor\": \"#DFE8F3\", \"gridwidth\": 2, \"linecolor\": \"#EBF0F8\", \"showbackground\": true, \"ticks\": \"\", \"zerolinecolor\": \"#EBF0F8\"}, \"zaxis\": {\"backgroundcolor\": \"white\", \"gridcolor\": \"#DFE8F3\", \"gridwidth\": 2, \"linecolor\": \"#EBF0F8\", \"showbackground\": true, \"ticks\": \"\", \"zerolinecolor\": \"#EBF0F8\"}}, \"shapedefaults\": {\"line\": {\"color\": \"#2a3f5f\"}}, \"ternary\": {\"aaxis\": {\"gridcolor\": \"#DFE8F3\", \"linecolor\": \"#A2B1C6\", \"ticks\": \"\"}, \"baxis\": {\"gridcolor\": \"#DFE8F3\", \"linecolor\": \"#A2B1C6\", \"ticks\": \"\"}, \"bgcolor\": \"white\", \"caxis\": {\"gridcolor\": \"#DFE8F3\", \"linecolor\": \"#A2B1C6\", \"ticks\": \"\"}}, \"title\": {\"x\": 0.05}, \"xaxis\": {\"automargin\": true, \"gridcolor\": \"#EBF0F8\", \"linecolor\": \"#EBF0F8\", \"ticks\": \"\", \"title\": {\"standoff\": 15}, \"zerolinecolor\": \"#EBF0F8\", \"zerolinewidth\": 2}, \"yaxis\": {\"automargin\": true, \"gridcolor\": \"#EBF0F8\", \"linecolor\": \"#EBF0F8\", \"ticks\": \"\", \"title\": {\"standoff\": 15}, \"zerolinecolor\": \"#EBF0F8\", \"zerolinewidth\": 2}}}, \"title\": {\"text\": \"Distribution of Polarity over Sectors\"}, \"xaxis\": {\"title\": {\"text\": \"Sector\"}}, \"yaxis\": {\"title\": {\"text\": \"# of Articles\"}}},\n",
       "                        {\"showLink\": true, \"linkText\": \"Export to plotly.com\", \"plotlyServerURL\": \"https://plotly.com\", \"responsive\": true}\n",
       "                    ).then(function(){\n",
       "                            \n",
       "var gd = document.getElementById('404910d5-4ce5-4b4f-bf26-4ee0d3485ab7');\n",
       "var x = new MutationObserver(function (mutations, observer) {{\n",
       "        var display = window.getComputedStyle(gd).display;\n",
       "        if (!display || display === 'none') {{\n",
       "            console.log([gd, 'removed!']);\n",
       "            Plotly.purge(gd);\n",
       "            observer.disconnect();\n",
       "        }}\n",
       "}});\n",
       "\n",
       "// Listen for the removal of the full notebook cells\n",
       "var notebookContainer = gd.closest('#notebook-container');\n",
       "if (notebookContainer) {{\n",
       "    x.observe(notebookContainer, {childList: true});\n",
       "}}\n",
       "\n",
       "// Listen for the clearing of the current output cell\n",
       "var outputEl = gd.closest('.output');\n",
       "if (outputEl) {{\n",
       "    x.observe(outputEl, {childList: true});\n",
       "}}\n",
       "\n",
       "                        })\n",
       "                };\n",
       "                });\n",
       "            </script>\n",
       "        </div>"
      ]
     },
     "metadata": {},
     "output_type": "display_data"
    }
   ],
   "source": [
    "(polarity_by_sector.loc[featured_sectors]\n",
    " .iplot(kind='bar',\n",
    "        colorscale='-gnbu',#'set1',\n",
    "        layout=dict(title='Distribution of Polarity over Sectors',\n",
    "                    yaxis=dict(title='# of Articles'),\n",
    "                    xaxis=dict(title='Sector'))))"
   ]
  },
  {
   "cell_type": "code",
   "execution_count": 50,
   "metadata": {},
   "outputs": [
    {
     "data": {
      "application/vnd.plotly.v1+json": {
       "config": {
        "plotlyServerURL": "https://plotly.com"
       },
       "data": [
        {
         "alignmentgroup": "True",
         "hovertemplate": "Polarity=Negative<br>Sector_en=%{x}<br>No. of Articles=%{text}<extra></extra>",
         "legendgroup": "Negative",
         "marker": {
          "color": "rgb(94,79,162)",
          "opacity": 0.8
         },
         "name": "Negative",
         "offsetgroup": "Negative",
         "orientation": "v",
         "showlegend": true,
         "text": [
          1167,
          586,
          293,
          237,
          103,
          37,
          46,
          159,
          48,
          32
         ],
         "textposition": "auto",
         "type": "bar",
         "x": [
          "Insurance",
          "Basic Materials",
          "Capital Goods",
          "Food Production",
          "Real Estate M & D",
          "Banks",
          "Retail Of Luxury Goods",
          "Telecommunications",
          "Consumer Services",
          "Transport"
         ],
         "xaxis": "x",
         "y": [
          1167,
          586,
          293,
          237,
          103,
          37,
          46,
          159,
          48,
          32
         ],
         "yaxis": "y"
        },
        {
         "alignmentgroup": "True",
         "hovertemplate": "Polarity=Neutral<br>Sector_en=%{x}<br>No. of Articles=%{text}<extra></extra>",
         "legendgroup": "Neutral",
         "marker": {
          "color": "rgb(50,136,189)",
          "opacity": 0.8
         },
         "name": "Neutral",
         "offsetgroup": "Neutral",
         "orientation": "v",
         "showlegend": true,
         "text": [
          2601,
          2239,
          988,
          908,
          635,
          416,
          338,
          419,
          285,
          364
         ],
         "textposition": "auto",
         "type": "bar",
         "x": [
          "Insurance",
          "Basic Materials",
          "Capital Goods",
          "Food Production",
          "Real Estate M & D",
          "Banks",
          "Retail Of Luxury Goods",
          "Telecommunications",
          "Consumer Services",
          "Transport"
         ],
         "xaxis": "x",
         "y": [
          2601,
          2239,
          988,
          908,
          635,
          416,
          338,
          419,
          285,
          364
         ],
         "yaxis": "y"
        },
        {
         "alignmentgroup": "True",
         "hovertemplate": "Polarity=Positive<br>Sector_en=%{x}<br>No. of Articles=%{text}<extra></extra>",
         "legendgroup": "Positive",
         "marker": {
          "color": "rgb(102,194,165)",
          "opacity": 0.8
         },
         "name": "Positive",
         "offsetgroup": "Positive",
         "orientation": "v",
         "showlegend": true,
         "text": [
          2985,
          3391,
          1314,
          981,
          990,
          799,
          651,
          423,
          654,
          514
         ],
         "textposition": "auto",
         "type": "bar",
         "x": [
          "Insurance",
          "Basic Materials",
          "Capital Goods",
          "Food Production",
          "Real Estate M & D",
          "Banks",
          "Retail Of Luxury Goods",
          "Telecommunications",
          "Consumer Services",
          "Transport"
         ],
         "xaxis": "x",
         "y": [
          2985,
          3391,
          1314,
          981,
          990,
          799,
          651,
          423,
          654,
          514
         ],
         "yaxis": "y"
        }
       ],
       "layout": {
        "barmode": "group",
        "legend": {
         "title": {
          "text": "Polarity"
         },
         "tracegroupgap": 0
        },
        "template": {
         "data": {
          "bar": [
           {
            "error_x": {
             "color": "#2a3f5f"
            },
            "error_y": {
             "color": "#2a3f5f"
            },
            "marker": {
             "line": {
              "color": "white",
              "width": 0.5
             }
            },
            "type": "bar"
           }
          ],
          "barpolar": [
           {
            "marker": {
             "line": {
              "color": "white",
              "width": 0.5
             }
            },
            "type": "barpolar"
           }
          ],
          "carpet": [
           {
            "aaxis": {
             "endlinecolor": "#2a3f5f",
             "gridcolor": "#C8D4E3",
             "linecolor": "#C8D4E3",
             "minorgridcolor": "#C8D4E3",
             "startlinecolor": "#2a3f5f"
            },
            "baxis": {
             "endlinecolor": "#2a3f5f",
             "gridcolor": "#C8D4E3",
             "linecolor": "#C8D4E3",
             "minorgridcolor": "#C8D4E3",
             "startlinecolor": "#2a3f5f"
            },
            "type": "carpet"
           }
          ],
          "choropleth": [
           {
            "colorbar": {
             "outlinewidth": 0,
             "ticks": ""
            },
            "type": "choropleth"
           }
          ],
          "contour": [
           {
            "colorbar": {
             "outlinewidth": 0,
             "ticks": ""
            },
            "colorscale": [
             [
              0,
              "#0d0887"
             ],
             [
              0.1111111111111111,
              "#46039f"
             ],
             [
              0.2222222222222222,
              "#7201a8"
             ],
             [
              0.3333333333333333,
              "#9c179e"
             ],
             [
              0.4444444444444444,
              "#bd3786"
             ],
             [
              0.5555555555555556,
              "#d8576b"
             ],
             [
              0.6666666666666666,
              "#ed7953"
             ],
             [
              0.7777777777777778,
              "#fb9f3a"
             ],
             [
              0.8888888888888888,
              "#fdca26"
             ],
             [
              1,
              "#f0f921"
             ]
            ],
            "type": "contour"
           }
          ],
          "contourcarpet": [
           {
            "colorbar": {
             "outlinewidth": 0,
             "ticks": ""
            },
            "type": "contourcarpet"
           }
          ],
          "heatmap": [
           {
            "colorbar": {
             "outlinewidth": 0,
             "ticks": ""
            },
            "colorscale": [
             [
              0,
              "#0d0887"
             ],
             [
              0.1111111111111111,
              "#46039f"
             ],
             [
              0.2222222222222222,
              "#7201a8"
             ],
             [
              0.3333333333333333,
              "#9c179e"
             ],
             [
              0.4444444444444444,
              "#bd3786"
             ],
             [
              0.5555555555555556,
              "#d8576b"
             ],
             [
              0.6666666666666666,
              "#ed7953"
             ],
             [
              0.7777777777777778,
              "#fb9f3a"
             ],
             [
              0.8888888888888888,
              "#fdca26"
             ],
             [
              1,
              "#f0f921"
             ]
            ],
            "type": "heatmap"
           }
          ],
          "heatmapgl": [
           {
            "colorbar": {
             "outlinewidth": 0,
             "ticks": ""
            },
            "colorscale": [
             [
              0,
              "#0d0887"
             ],
             [
              0.1111111111111111,
              "#46039f"
             ],
             [
              0.2222222222222222,
              "#7201a8"
             ],
             [
              0.3333333333333333,
              "#9c179e"
             ],
             [
              0.4444444444444444,
              "#bd3786"
             ],
             [
              0.5555555555555556,
              "#d8576b"
             ],
             [
              0.6666666666666666,
              "#ed7953"
             ],
             [
              0.7777777777777778,
              "#fb9f3a"
             ],
             [
              0.8888888888888888,
              "#fdca26"
             ],
             [
              1,
              "#f0f921"
             ]
            ],
            "type": "heatmapgl"
           }
          ],
          "histogram": [
           {
            "marker": {
             "colorbar": {
              "outlinewidth": 0,
              "ticks": ""
             }
            },
            "type": "histogram"
           }
          ],
          "histogram2d": [
           {
            "colorbar": {
             "outlinewidth": 0,
             "ticks": ""
            },
            "colorscale": [
             [
              0,
              "#0d0887"
             ],
             [
              0.1111111111111111,
              "#46039f"
             ],
             [
              0.2222222222222222,
              "#7201a8"
             ],
             [
              0.3333333333333333,
              "#9c179e"
             ],
             [
              0.4444444444444444,
              "#bd3786"
             ],
             [
              0.5555555555555556,
              "#d8576b"
             ],
             [
              0.6666666666666666,
              "#ed7953"
             ],
             [
              0.7777777777777778,
              "#fb9f3a"
             ],
             [
              0.8888888888888888,
              "#fdca26"
             ],
             [
              1,
              "#f0f921"
             ]
            ],
            "type": "histogram2d"
           }
          ],
          "histogram2dcontour": [
           {
            "colorbar": {
             "outlinewidth": 0,
             "ticks": ""
            },
            "colorscale": [
             [
              0,
              "#0d0887"
             ],
             [
              0.1111111111111111,
              "#46039f"
             ],
             [
              0.2222222222222222,
              "#7201a8"
             ],
             [
              0.3333333333333333,
              "#9c179e"
             ],
             [
              0.4444444444444444,
              "#bd3786"
             ],
             [
              0.5555555555555556,
              "#d8576b"
             ],
             [
              0.6666666666666666,
              "#ed7953"
             ],
             [
              0.7777777777777778,
              "#fb9f3a"
             ],
             [
              0.8888888888888888,
              "#fdca26"
             ],
             [
              1,
              "#f0f921"
             ]
            ],
            "type": "histogram2dcontour"
           }
          ],
          "mesh3d": [
           {
            "colorbar": {
             "outlinewidth": 0,
             "ticks": ""
            },
            "type": "mesh3d"
           }
          ],
          "parcoords": [
           {
            "line": {
             "colorbar": {
              "outlinewidth": 0,
              "ticks": ""
             }
            },
            "type": "parcoords"
           }
          ],
          "pie": [
           {
            "automargin": true,
            "type": "pie"
           }
          ],
          "scatter": [
           {
            "marker": {
             "colorbar": {
              "outlinewidth": 0,
              "ticks": ""
             }
            },
            "type": "scatter"
           }
          ],
          "scatter3d": [
           {
            "line": {
             "colorbar": {
              "outlinewidth": 0,
              "ticks": ""
             }
            },
            "marker": {
             "colorbar": {
              "outlinewidth": 0,
              "ticks": ""
             }
            },
            "type": "scatter3d"
           }
          ],
          "scattercarpet": [
           {
            "marker": {
             "colorbar": {
              "outlinewidth": 0,
              "ticks": ""
             }
            },
            "type": "scattercarpet"
           }
          ],
          "scattergeo": [
           {
            "marker": {
             "colorbar": {
              "outlinewidth": 0,
              "ticks": ""
             }
            },
            "type": "scattergeo"
           }
          ],
          "scattergl": [
           {
            "marker": {
             "colorbar": {
              "outlinewidth": 0,
              "ticks": ""
             }
            },
            "type": "scattergl"
           }
          ],
          "scattermapbox": [
           {
            "marker": {
             "colorbar": {
              "outlinewidth": 0,
              "ticks": ""
             }
            },
            "type": "scattermapbox"
           }
          ],
          "scatterpolar": [
           {
            "marker": {
             "colorbar": {
              "outlinewidth": 0,
              "ticks": ""
             }
            },
            "type": "scatterpolar"
           }
          ],
          "scatterpolargl": [
           {
            "marker": {
             "colorbar": {
              "outlinewidth": 0,
              "ticks": ""
             }
            },
            "type": "scatterpolargl"
           }
          ],
          "scatterternary": [
           {
            "marker": {
             "colorbar": {
              "outlinewidth": 0,
              "ticks": ""
             }
            },
            "type": "scatterternary"
           }
          ],
          "surface": [
           {
            "colorbar": {
             "outlinewidth": 0,
             "ticks": ""
            },
            "colorscale": [
             [
              0,
              "#0d0887"
             ],
             [
              0.1111111111111111,
              "#46039f"
             ],
             [
              0.2222222222222222,
              "#7201a8"
             ],
             [
              0.3333333333333333,
              "#9c179e"
             ],
             [
              0.4444444444444444,
              "#bd3786"
             ],
             [
              0.5555555555555556,
              "#d8576b"
             ],
             [
              0.6666666666666666,
              "#ed7953"
             ],
             [
              0.7777777777777778,
              "#fb9f3a"
             ],
             [
              0.8888888888888888,
              "#fdca26"
             ],
             [
              1,
              "#f0f921"
             ]
            ],
            "type": "surface"
           }
          ],
          "table": [
           {
            "cells": {
             "fill": {
              "color": "#EBF0F8"
             },
             "line": {
              "color": "white"
             }
            },
            "header": {
             "fill": {
              "color": "#C8D4E3"
             },
             "line": {
              "color": "white"
             }
            },
            "type": "table"
           }
          ]
         },
         "layout": {
          "annotationdefaults": {
           "arrowcolor": "#2a3f5f",
           "arrowhead": 0,
           "arrowwidth": 1
          },
          "coloraxis": {
           "colorbar": {
            "outlinewidth": 0,
            "ticks": ""
           }
          },
          "colorscale": {
           "diverging": [
            [
             0,
             "#8e0152"
            ],
            [
             0.1,
             "#c51b7d"
            ],
            [
             0.2,
             "#de77ae"
            ],
            [
             0.3,
             "#f1b6da"
            ],
            [
             0.4,
             "#fde0ef"
            ],
            [
             0.5,
             "#f7f7f7"
            ],
            [
             0.6,
             "#e6f5d0"
            ],
            [
             0.7,
             "#b8e186"
            ],
            [
             0.8,
             "#7fbc41"
            ],
            [
             0.9,
             "#4d9221"
            ],
            [
             1,
             "#276419"
            ]
           ],
           "sequential": [
            [
             0,
             "#0d0887"
            ],
            [
             0.1111111111111111,
             "#46039f"
            ],
            [
             0.2222222222222222,
             "#7201a8"
            ],
            [
             0.3333333333333333,
             "#9c179e"
            ],
            [
             0.4444444444444444,
             "#bd3786"
            ],
            [
             0.5555555555555556,
             "#d8576b"
            ],
            [
             0.6666666666666666,
             "#ed7953"
            ],
            [
             0.7777777777777778,
             "#fb9f3a"
            ],
            [
             0.8888888888888888,
             "#fdca26"
            ],
            [
             1,
             "#f0f921"
            ]
           ],
           "sequentialminus": [
            [
             0,
             "#0d0887"
            ],
            [
             0.1111111111111111,
             "#46039f"
            ],
            [
             0.2222222222222222,
             "#7201a8"
            ],
            [
             0.3333333333333333,
             "#9c179e"
            ],
            [
             0.4444444444444444,
             "#bd3786"
            ],
            [
             0.5555555555555556,
             "#d8576b"
            ],
            [
             0.6666666666666666,
             "#ed7953"
            ],
            [
             0.7777777777777778,
             "#fb9f3a"
            ],
            [
             0.8888888888888888,
             "#fdca26"
            ],
            [
             1,
             "#f0f921"
            ]
           ]
          },
          "colorway": [
           "#636efa",
           "#EF553B",
           "#00cc96",
           "#ab63fa",
           "#FFA15A",
           "#19d3f3",
           "#FF6692",
           "#B6E880",
           "#FF97FF",
           "#FECB52"
          ],
          "font": {
           "color": "#2a3f5f"
          },
          "geo": {
           "bgcolor": "white",
           "lakecolor": "white",
           "landcolor": "white",
           "showlakes": true,
           "showland": true,
           "subunitcolor": "#C8D4E3"
          },
          "hoverlabel": {
           "align": "left"
          },
          "hovermode": "closest",
          "mapbox": {
           "style": "light"
          },
          "paper_bgcolor": "white",
          "plot_bgcolor": "white",
          "polar": {
           "angularaxis": {
            "gridcolor": "#EBF0F8",
            "linecolor": "#EBF0F8",
            "ticks": ""
           },
           "bgcolor": "white",
           "radialaxis": {
            "gridcolor": "#EBF0F8",
            "linecolor": "#EBF0F8",
            "ticks": ""
           }
          },
          "scene": {
           "xaxis": {
            "backgroundcolor": "white",
            "gridcolor": "#DFE8F3",
            "gridwidth": 2,
            "linecolor": "#EBF0F8",
            "showbackground": true,
            "ticks": "",
            "zerolinecolor": "#EBF0F8"
           },
           "yaxis": {
            "backgroundcolor": "white",
            "gridcolor": "#DFE8F3",
            "gridwidth": 2,
            "linecolor": "#EBF0F8",
            "showbackground": true,
            "ticks": "",
            "zerolinecolor": "#EBF0F8"
           },
           "zaxis": {
            "backgroundcolor": "white",
            "gridcolor": "#DFE8F3",
            "gridwidth": 2,
            "linecolor": "#EBF0F8",
            "showbackground": true,
            "ticks": "",
            "zerolinecolor": "#EBF0F8"
           }
          },
          "shapedefaults": {
           "line": {
            "color": "#2a3f5f"
           }
          },
          "ternary": {
           "aaxis": {
            "gridcolor": "#DFE8F3",
            "linecolor": "#A2B1C6",
            "ticks": ""
           },
           "baxis": {
            "gridcolor": "#DFE8F3",
            "linecolor": "#A2B1C6",
            "ticks": ""
           },
           "bgcolor": "white",
           "caxis": {
            "gridcolor": "#DFE8F3",
            "linecolor": "#A2B1C6",
            "ticks": ""
           }
          },
          "title": {
           "x": 0.05
          },
          "xaxis": {
           "automargin": true,
           "gridcolor": "#EBF0F8",
           "linecolor": "#EBF0F8",
           "ticks": "",
           "title": {
            "standoff": 15
           },
           "zerolinecolor": "#EBF0F8",
           "zerolinewidth": 2
          },
          "yaxis": {
           "automargin": true,
           "gridcolor": "#EBF0F8",
           "linecolor": "#EBF0F8",
           "ticks": "",
           "title": {
            "standoff": 15
           },
           "zerolinecolor": "#EBF0F8",
           "zerolinewidth": 2
          }
         }
        },
        "title": {
         "text": "Distribution of Polarity over Sectors"
        },
        "xaxis": {
         "anchor": "y",
         "domain": [
          0,
          1
         ],
         "title": {
          "text": "Sector_en"
         }
        },
        "yaxis": {
         "anchor": "x",
         "domain": [
          0,
          1
         ],
         "title": {
          "text": "No. of Articles"
         }
        }
       }
      },
      "text/html": [
       "<div>\n",
       "        \n",
       "        \n",
       "            <div id=\"a78904b1-0660-41f6-98a3-0a0eb3522892\" class=\"plotly-graph-div\" style=\"height:525px; width:100%;\"></div>\n",
       "            <script type=\"text/javascript\">\n",
       "                require([\"plotly\"], function(Plotly) {\n",
       "                    window.PLOTLYENV=window.PLOTLYENV || {};\n",
       "                    \n",
       "                if (document.getElementById(\"a78904b1-0660-41f6-98a3-0a0eb3522892\")) {\n",
       "                    Plotly.newPlot(\n",
       "                        'a78904b1-0660-41f6-98a3-0a0eb3522892',\n",
       "                        [{\"alignmentgroup\": \"True\", \"hovertemplate\": \"Polarity=Negative<br>Sector_en=%{x}<br>No. of Articles=%{text}<extra></extra>\", \"legendgroup\": \"Negative\", \"marker\": {\"color\": \"rgb(94,79,162)\", \"opacity\": 0.8}, \"name\": \"Negative\", \"offsetgroup\": \"Negative\", \"orientation\": \"v\", \"showlegend\": true, \"text\": [1167.0, 586.0, 293.0, 237.0, 103.0, 37.0, 46.0, 159.0, 48.0, 32.0], \"textposition\": \"auto\", \"type\": \"bar\", \"x\": [\"Insurance\", \"Basic Materials\", \"Capital Goods\", \"Food Production\", \"Real Estate M & D\", \"Banks\", \"Retail Of Luxury Goods\", \"Telecommunications\", \"Consumer Services\", \"Transport\"], \"xaxis\": \"x\", \"y\": [1167, 586, 293, 237, 103, 37, 46, 159, 48, 32], \"yaxis\": \"y\"}, {\"alignmentgroup\": \"True\", \"hovertemplate\": \"Polarity=Neutral<br>Sector_en=%{x}<br>No. of Articles=%{text}<extra></extra>\", \"legendgroup\": \"Neutral\", \"marker\": {\"color\": \"rgb(50,136,189)\", \"opacity\": 0.8}, \"name\": \"Neutral\", \"offsetgroup\": \"Neutral\", \"orientation\": \"v\", \"showlegend\": true, \"text\": [2601.0, 2239.0, 988.0, 908.0, 635.0, 416.0, 338.0, 419.0, 285.0, 364.0], \"textposition\": \"auto\", \"type\": \"bar\", \"x\": [\"Insurance\", \"Basic Materials\", \"Capital Goods\", \"Food Production\", \"Real Estate M & D\", \"Banks\", \"Retail Of Luxury Goods\", \"Telecommunications\", \"Consumer Services\", \"Transport\"], \"xaxis\": \"x\", \"y\": [2601, 2239, 988, 908, 635, 416, 338, 419, 285, 364], \"yaxis\": \"y\"}, {\"alignmentgroup\": \"True\", \"hovertemplate\": \"Polarity=Positive<br>Sector_en=%{x}<br>No. of Articles=%{text}<extra></extra>\", \"legendgroup\": \"Positive\", \"marker\": {\"color\": \"rgb(102,194,165)\", \"opacity\": 0.8}, \"name\": \"Positive\", \"offsetgroup\": \"Positive\", \"orientation\": \"v\", \"showlegend\": true, \"text\": [2985.0, 3391.0, 1314.0, 981.0, 990.0, 799.0, 651.0, 423.0, 654.0, 514.0], \"textposition\": \"auto\", \"type\": \"bar\", \"x\": [\"Insurance\", \"Basic Materials\", \"Capital Goods\", \"Food Production\", \"Real Estate M & D\", \"Banks\", \"Retail Of Luxury Goods\", \"Telecommunications\", \"Consumer Services\", \"Transport\"], \"xaxis\": \"x\", \"y\": [2985, 3391, 1314, 981, 990, 799, 651, 423, 654, 514], \"yaxis\": \"y\"}],\n",
       "                        {\"barmode\": \"group\", \"legend\": {\"title\": {\"text\": \"Polarity\"}, \"tracegroupgap\": 0}, \"template\": {\"data\": {\"bar\": [{\"error_x\": {\"color\": \"#2a3f5f\"}, \"error_y\": {\"color\": \"#2a3f5f\"}, \"marker\": {\"line\": {\"color\": \"white\", \"width\": 0.5}}, \"type\": \"bar\"}], \"barpolar\": [{\"marker\": {\"line\": {\"color\": \"white\", \"width\": 0.5}}, \"type\": \"barpolar\"}], \"carpet\": [{\"aaxis\": {\"endlinecolor\": \"#2a3f5f\", \"gridcolor\": \"#C8D4E3\", \"linecolor\": \"#C8D4E3\", \"minorgridcolor\": \"#C8D4E3\", \"startlinecolor\": \"#2a3f5f\"}, \"baxis\": {\"endlinecolor\": \"#2a3f5f\", \"gridcolor\": \"#C8D4E3\", \"linecolor\": \"#C8D4E3\", \"minorgridcolor\": \"#C8D4E3\", \"startlinecolor\": \"#2a3f5f\"}, \"type\": \"carpet\"}], \"choropleth\": [{\"colorbar\": {\"outlinewidth\": 0, \"ticks\": \"\"}, \"type\": \"choropleth\"}], \"contour\": [{\"colorbar\": {\"outlinewidth\": 0, \"ticks\": \"\"}, \"colorscale\": [[0.0, \"#0d0887\"], [0.1111111111111111, \"#46039f\"], [0.2222222222222222, \"#7201a8\"], [0.3333333333333333, \"#9c179e\"], [0.4444444444444444, \"#bd3786\"], [0.5555555555555556, \"#d8576b\"], [0.6666666666666666, \"#ed7953\"], [0.7777777777777778, \"#fb9f3a\"], [0.8888888888888888, \"#fdca26\"], [1.0, \"#f0f921\"]], \"type\": \"contour\"}], \"contourcarpet\": [{\"colorbar\": {\"outlinewidth\": 0, \"ticks\": \"\"}, \"type\": \"contourcarpet\"}], \"heatmap\": [{\"colorbar\": {\"outlinewidth\": 0, \"ticks\": \"\"}, \"colorscale\": [[0.0, \"#0d0887\"], [0.1111111111111111, \"#46039f\"], [0.2222222222222222, \"#7201a8\"], [0.3333333333333333, \"#9c179e\"], [0.4444444444444444, \"#bd3786\"], [0.5555555555555556, \"#d8576b\"], [0.6666666666666666, \"#ed7953\"], [0.7777777777777778, \"#fb9f3a\"], [0.8888888888888888, \"#fdca26\"], [1.0, \"#f0f921\"]], \"type\": \"heatmap\"}], \"heatmapgl\": [{\"colorbar\": {\"outlinewidth\": 0, \"ticks\": \"\"}, \"colorscale\": [[0.0, \"#0d0887\"], [0.1111111111111111, \"#46039f\"], [0.2222222222222222, \"#7201a8\"], [0.3333333333333333, \"#9c179e\"], [0.4444444444444444, \"#bd3786\"], [0.5555555555555556, \"#d8576b\"], [0.6666666666666666, \"#ed7953\"], [0.7777777777777778, \"#fb9f3a\"], [0.8888888888888888, \"#fdca26\"], [1.0, \"#f0f921\"]], \"type\": \"heatmapgl\"}], \"histogram\": [{\"marker\": {\"colorbar\": {\"outlinewidth\": 0, \"ticks\": \"\"}}, \"type\": \"histogram\"}], \"histogram2d\": [{\"colorbar\": {\"outlinewidth\": 0, \"ticks\": \"\"}, \"colorscale\": [[0.0, \"#0d0887\"], [0.1111111111111111, \"#46039f\"], [0.2222222222222222, \"#7201a8\"], [0.3333333333333333, \"#9c179e\"], [0.4444444444444444, \"#bd3786\"], [0.5555555555555556, \"#d8576b\"], [0.6666666666666666, \"#ed7953\"], [0.7777777777777778, \"#fb9f3a\"], [0.8888888888888888, \"#fdca26\"], [1.0, \"#f0f921\"]], \"type\": \"histogram2d\"}], \"histogram2dcontour\": [{\"colorbar\": {\"outlinewidth\": 0, \"ticks\": \"\"}, \"colorscale\": [[0.0, \"#0d0887\"], [0.1111111111111111, \"#46039f\"], [0.2222222222222222, \"#7201a8\"], [0.3333333333333333, \"#9c179e\"], [0.4444444444444444, \"#bd3786\"], [0.5555555555555556, \"#d8576b\"], [0.6666666666666666, \"#ed7953\"], [0.7777777777777778, \"#fb9f3a\"], [0.8888888888888888, \"#fdca26\"], [1.0, \"#f0f921\"]], \"type\": \"histogram2dcontour\"}], \"mesh3d\": [{\"colorbar\": {\"outlinewidth\": 0, \"ticks\": \"\"}, \"type\": \"mesh3d\"}], \"parcoords\": [{\"line\": {\"colorbar\": {\"outlinewidth\": 0, \"ticks\": \"\"}}, \"type\": \"parcoords\"}], \"pie\": [{\"automargin\": true, \"type\": \"pie\"}], \"scatter\": [{\"marker\": {\"colorbar\": {\"outlinewidth\": 0, \"ticks\": \"\"}}, \"type\": \"scatter\"}], \"scatter3d\": [{\"line\": {\"colorbar\": {\"outlinewidth\": 0, \"ticks\": \"\"}}, \"marker\": {\"colorbar\": {\"outlinewidth\": 0, \"ticks\": \"\"}}, \"type\": \"scatter3d\"}], \"scattercarpet\": [{\"marker\": {\"colorbar\": {\"outlinewidth\": 0, \"ticks\": \"\"}}, \"type\": \"scattercarpet\"}], \"scattergeo\": [{\"marker\": {\"colorbar\": {\"outlinewidth\": 0, \"ticks\": \"\"}}, \"type\": \"scattergeo\"}], \"scattergl\": [{\"marker\": {\"colorbar\": {\"outlinewidth\": 0, \"ticks\": \"\"}}, \"type\": \"scattergl\"}], \"scattermapbox\": [{\"marker\": {\"colorbar\": {\"outlinewidth\": 0, \"ticks\": \"\"}}, \"type\": \"scattermapbox\"}], \"scatterpolar\": [{\"marker\": {\"colorbar\": {\"outlinewidth\": 0, \"ticks\": \"\"}}, \"type\": \"scatterpolar\"}], \"scatterpolargl\": [{\"marker\": {\"colorbar\": {\"outlinewidth\": 0, \"ticks\": \"\"}}, \"type\": \"scatterpolargl\"}], \"scatterternary\": [{\"marker\": {\"colorbar\": {\"outlinewidth\": 0, \"ticks\": \"\"}}, \"type\": \"scatterternary\"}], \"surface\": [{\"colorbar\": {\"outlinewidth\": 0, \"ticks\": \"\"}, \"colorscale\": [[0.0, \"#0d0887\"], [0.1111111111111111, \"#46039f\"], [0.2222222222222222, \"#7201a8\"], [0.3333333333333333, \"#9c179e\"], [0.4444444444444444, \"#bd3786\"], [0.5555555555555556, \"#d8576b\"], [0.6666666666666666, \"#ed7953\"], [0.7777777777777778, \"#fb9f3a\"], [0.8888888888888888, \"#fdca26\"], [1.0, \"#f0f921\"]], \"type\": \"surface\"}], \"table\": [{\"cells\": {\"fill\": {\"color\": \"#EBF0F8\"}, \"line\": {\"color\": \"white\"}}, \"header\": {\"fill\": {\"color\": \"#C8D4E3\"}, \"line\": {\"color\": \"white\"}}, \"type\": \"table\"}]}, \"layout\": {\"annotationdefaults\": {\"arrowcolor\": \"#2a3f5f\", \"arrowhead\": 0, \"arrowwidth\": 1}, \"coloraxis\": {\"colorbar\": {\"outlinewidth\": 0, \"ticks\": \"\"}}, \"colorscale\": {\"diverging\": [[0, \"#8e0152\"], [0.1, \"#c51b7d\"], [0.2, \"#de77ae\"], [0.3, \"#f1b6da\"], [0.4, \"#fde0ef\"], [0.5, \"#f7f7f7\"], [0.6, \"#e6f5d0\"], [0.7, \"#b8e186\"], [0.8, \"#7fbc41\"], [0.9, \"#4d9221\"], [1, \"#276419\"]], \"sequential\": [[0.0, \"#0d0887\"], [0.1111111111111111, \"#46039f\"], [0.2222222222222222, \"#7201a8\"], [0.3333333333333333, \"#9c179e\"], [0.4444444444444444, \"#bd3786\"], [0.5555555555555556, \"#d8576b\"], [0.6666666666666666, \"#ed7953\"], [0.7777777777777778, \"#fb9f3a\"], [0.8888888888888888, \"#fdca26\"], [1.0, \"#f0f921\"]], \"sequentialminus\": [[0.0, \"#0d0887\"], [0.1111111111111111, \"#46039f\"], [0.2222222222222222, \"#7201a8\"], [0.3333333333333333, \"#9c179e\"], [0.4444444444444444, \"#bd3786\"], [0.5555555555555556, \"#d8576b\"], [0.6666666666666666, \"#ed7953\"], [0.7777777777777778, \"#fb9f3a\"], [0.8888888888888888, \"#fdca26\"], [1.0, \"#f0f921\"]]}, \"colorway\": [\"#636efa\", \"#EF553B\", \"#00cc96\", \"#ab63fa\", \"#FFA15A\", \"#19d3f3\", \"#FF6692\", \"#B6E880\", \"#FF97FF\", \"#FECB52\"], \"font\": {\"color\": \"#2a3f5f\"}, \"geo\": {\"bgcolor\": \"white\", \"lakecolor\": \"white\", \"landcolor\": \"white\", \"showlakes\": true, \"showland\": true, \"subunitcolor\": \"#C8D4E3\"}, \"hoverlabel\": {\"align\": \"left\"}, \"hovermode\": \"closest\", \"mapbox\": {\"style\": \"light\"}, \"paper_bgcolor\": \"white\", \"plot_bgcolor\": \"white\", \"polar\": {\"angularaxis\": {\"gridcolor\": \"#EBF0F8\", \"linecolor\": \"#EBF0F8\", \"ticks\": \"\"}, \"bgcolor\": \"white\", \"radialaxis\": {\"gridcolor\": \"#EBF0F8\", \"linecolor\": \"#EBF0F8\", \"ticks\": \"\"}}, \"scene\": {\"xaxis\": {\"backgroundcolor\": \"white\", \"gridcolor\": \"#DFE8F3\", \"gridwidth\": 2, \"linecolor\": \"#EBF0F8\", \"showbackground\": true, \"ticks\": \"\", \"zerolinecolor\": \"#EBF0F8\"}, \"yaxis\": {\"backgroundcolor\": \"white\", \"gridcolor\": \"#DFE8F3\", \"gridwidth\": 2, \"linecolor\": \"#EBF0F8\", \"showbackground\": true, \"ticks\": \"\", \"zerolinecolor\": \"#EBF0F8\"}, \"zaxis\": {\"backgroundcolor\": \"white\", \"gridcolor\": \"#DFE8F3\", \"gridwidth\": 2, \"linecolor\": \"#EBF0F8\", \"showbackground\": true, \"ticks\": \"\", \"zerolinecolor\": \"#EBF0F8\"}}, \"shapedefaults\": {\"line\": {\"color\": \"#2a3f5f\"}}, \"ternary\": {\"aaxis\": {\"gridcolor\": \"#DFE8F3\", \"linecolor\": \"#A2B1C6\", \"ticks\": \"\"}, \"baxis\": {\"gridcolor\": \"#DFE8F3\", \"linecolor\": \"#A2B1C6\", \"ticks\": \"\"}, \"bgcolor\": \"white\", \"caxis\": {\"gridcolor\": \"#DFE8F3\", \"linecolor\": \"#A2B1C6\", \"ticks\": \"\"}}, \"title\": {\"x\": 0.05}, \"xaxis\": {\"automargin\": true, \"gridcolor\": \"#EBF0F8\", \"linecolor\": \"#EBF0F8\", \"ticks\": \"\", \"title\": {\"standoff\": 15}, \"zerolinecolor\": \"#EBF0F8\", \"zerolinewidth\": 2}, \"yaxis\": {\"automargin\": true, \"gridcolor\": \"#EBF0F8\", \"linecolor\": \"#EBF0F8\", \"ticks\": \"\", \"title\": {\"standoff\": 15}, \"zerolinecolor\": \"#EBF0F8\", \"zerolinewidth\": 2}}}, \"title\": {\"text\": \"Distribution of Polarity over Sectors\"}, \"xaxis\": {\"anchor\": \"y\", \"domain\": [0.0, 1.0], \"title\": {\"text\": \"Sector_en\"}}, \"yaxis\": {\"anchor\": \"x\", \"domain\": [0.0, 1.0], \"title\": {\"text\": \"No. of Articles\"}}},\n",
       "                        {\"responsive\": true}\n",
       "                    ).then(function(){\n",
       "                            \n",
       "var gd = document.getElementById('a78904b1-0660-41f6-98a3-0a0eb3522892');\n",
       "var x = new MutationObserver(function (mutations, observer) {{\n",
       "        var display = window.getComputedStyle(gd).display;\n",
       "        if (!display || display === 'none') {{\n",
       "            console.log([gd, 'removed!']);\n",
       "            Plotly.purge(gd);\n",
       "            observer.disconnect();\n",
       "        }}\n",
       "}});\n",
       "\n",
       "// Listen for the removal of the full notebook cells\n",
       "var notebookContainer = gd.closest('#notebook-container');\n",
       "if (notebookContainer) {{\n",
       "    x.observe(notebookContainer, {childList: true});\n",
       "}}\n",
       "\n",
       "// Listen for the clearing of the current output cell\n",
       "var outputEl = gd.closest('.output');\n",
       "if (outputEl) {{\n",
       "    x.observe(outputEl, {childList: true});\n",
       "}}\n",
       "\n",
       "                        })\n",
       "                };\n",
       "                });\n",
       "            </script>\n",
       "        </div>"
      ]
     },
     "metadata": {},
     "output_type": "display_data"
    }
   ],
   "source": [
    "(polarity_by_sector.loc[featured_sectors]\n",
    " .reset_index()\n",
    " .melt(id_vars='Sector_en', value_name='Count')\n",
    " .pipe(\n",
    "     px.bar,\n",
    "     x='Sector_en', y='Count', color='Polarity', text='Count',\n",
    "     barmode='group', opacity=0.8,\n",
    "     title='Distribution of Polarity over Sectors',\n",
    "     labels={'Count': 'No. of Articles'},\n",
    "     color_discrete_sequence = px.colors.diverging.Spectral_r,\n",
    "#      color_discrete_sequence=px.colors.sequential.Plasma,\n",
    "#      color_discrete_sequence=px.colors.qualitative.Prism,\n",
    "#      color_discrete_sequence=px.colors.sequential.GnBu_r,\n",
    "#      color_discrete_sequence=px.colors.qualitative.Set1\n",
    "))"
   ]
  },
  {
   "cell_type": "code",
   "execution_count": null,
   "metadata": {},
   "outputs": [],
   "source": []
  },
  {
   "cell_type": "markdown",
   "metadata": {},
   "source": [
    "##### Method (2) Heatmap"
   ]
  },
  {
   "cell_type": "code",
   "execution_count": null,
   "metadata": {},
   "outputs": [],
   "source": [
    "(polarity_by_sector.loc[featured_sectors]\n",
    " .iplot(kind='heatmap',\n",
    "        title='Distribution of Polarity over Sectors',\n",
    "        colorscale='gnbu'))"
   ]
  },
  {
   "cell_type": "code",
   "execution_count": null,
   "metadata": {},
   "outputs": [],
   "source": [
    "(polarity_by_sector.loc[featured_sectors]\n",
    " .T\n",
    " .pipe(px.imshow,\n",
    "       color_continuous_scale=px.colors.sequential.GnBu,\n",
    "       title='Distribution of Polarity over Sector'))"
   ]
  },
  {
   "cell_type": "code",
   "execution_count": null,
   "metadata": {},
   "outputs": [],
   "source": []
  },
  {
   "cell_type": "markdown",
   "metadata": {},
   "source": [
    "#### Polarity & Company"
   ]
  },
  {
   "cell_type": "markdown",
   "metadata": {},
   "source": [
    "##### Method (1) Groupded Barplot"
   ]
  },
  {
   "cell_type": "code",
   "execution_count": null,
   "metadata": {},
   "outputs": [],
   "source": [
    "polarity_by_company = (df\n",
    "                      .groupby(['Company Name', 'Polarity'])\n",
    "                      .size()\n",
    "                      .unstack()\n",
    "                      .fillna(0)\n",
    "                      .sort_values('Positive', ascending=False))\n",
    "\n",
    "polarity_by_company"
   ]
  },
  {
   "cell_type": "code",
   "execution_count": null,
   "metadata": {},
   "outputs": [],
   "source": [
    "(polarity_by_company.loc[featured_companies]\n",
    " .iplot(kind='bar',\n",
    "        colorscale='blues',\n",
    "        layout=dict(title='Distribution of Polarity over Companies',\n",
    "                    yaxis=dict(title='# of Articles'),\n",
    "                    xaxis=dict(title='Company'))))"
   ]
  },
  {
   "cell_type": "markdown",
   "metadata": {},
   "source": [
    "##### Method (2) Heatmap"
   ]
  },
  {
   "cell_type": "code",
   "execution_count": null,
   "metadata": {},
   "outputs": [],
   "source": [
    "(polarity_by_company.loc[featured_companies]\n",
    " .iplot(kind='heatmap',\n",
    "        title='Distribution of Polarity over Companies',\n",
    "        colorscale='blues'))"
   ]
  },
  {
   "cell_type": "markdown",
   "metadata": {},
   "source": [
    "### Exploring Interaction Between 3 Categorical Variables"
   ]
  },
  {
   "cell_type": "code",
   "execution_count": null,
   "metadata": {},
   "outputs": [],
   "source": [
    "df_featured = df[(df['Company Name'].isin(featured_companies)) & (df['Sector_en'].isin(featured_sectors))]"
   ]
  },
  {
   "cell_type": "code",
   "execution_count": null,
   "metadata": {},
   "outputs": [],
   "source": [
    "px.parallel_categories(df_featured, width=1000, height=700, title='Parallel Plot of Sector, Company, Polarity',\n",
    "                       labels={'Sector_en': 'Sector'})"
   ]
  },
  {
   "cell_type": "markdown",
   "metadata": {},
   "source": [
    "### Exploring Single Numerical Variables"
   ]
  },
  {
   "cell_type": "code",
   "execution_count": null,
   "metadata": {},
   "outputs": [],
   "source": [
    "df['Closing'].iplot(kind='box', \n",
    "                    boxpoints='outliers',\n",
    "                    color='blue',\n",
    "                    title='Distribution of Closing Price')"
   ]
  },
  {
   "cell_type": "code",
   "execution_count": null,
   "metadata": {},
   "outputs": [],
   "source": [
    "df.pipe(px.box,\n",
    "        y='Closing',\n",
    "        points='outliers',\n",
    "        title='Distribution of Closing Price')"
   ]
  },
  {
   "cell_type": "code",
   "execution_count": null,
   "metadata": {},
   "outputs": [],
   "source": [
    "df['Changing%'].iplot(kind='box', \n",
    "                      boxpoints='outliers',\n",
    "                      color='purple',\n",
    "                      title='Distribution of Changing%')"
   ]
  },
  {
   "cell_type": "code",
   "execution_count": null,
   "metadata": {},
   "outputs": [],
   "source": [
    "(df\n",
    " .pipe(px.box,\n",
    "       y='Changing%'))"
   ]
  },
  {
   "cell_type": "markdown",
   "metadata": {},
   "source": [
    "### Qustion: How wast the variable `Changing%` computed?"
   ]
  },
  {
   "cell_type": "code",
   "execution_count": null,
   "metadata": {},
   "outputs": [],
   "source": [
    "df['change_pct'] = df['Closing'].pct_change()"
   ]
  },
  {
   "cell_type": "code",
   "execution_count": null,
   "metadata": {},
   "outputs": [],
   "source": [
    "df[['Changing%', 'change_pct']]"
   ]
  },
  {
   "cell_type": "markdown",
   "metadata": {},
   "source": [
    "### Exploring Relationship Between Numerical Variables"
   ]
  },
  {
   "cell_type": "code",
   "execution_count": null,
   "metadata": {},
   "outputs": [],
   "source": [
    "df.columns"
   ]
  },
  {
   "cell_type": "code",
   "execution_count": null,
   "metadata": {},
   "outputs": [],
   "source": [
    "(df[nums]\n",
    " .corr()\n",
    " .fillna(0)\n",
    " .round(2))"
   ]
  },
  {
   "cell_type": "code",
   "execution_count": null,
   "metadata": {},
   "outputs": [],
   "source": [
    "(df[nums]\n",
    " .corr()\n",
    " .iplot(kind='heatmap',\n",
    "        colorscale='ylgnbu',#'rdylbu',#,rdbu, \n",
    "        layout=dict(title='Correlation Between All Numerical Variables',\n",
    "                    width=700,\n",
    "                    margin=dict(b=120))))"
   ]
  },
  {
   "cell_type": "markdown",
   "metadata": {},
   "source": [
    "#### Number of Deals vs. Changing"
   ]
  },
  {
   "cell_type": "code",
   "execution_count": null,
   "metadata": {},
   "outputs": [],
   "source": [
    "(df.fillna(0)\n",
    " .pipe(px.scatter,\n",
    "       size='Total Current Value (SAR)',\n",
    "       size_max=70,\n",
    "       x='Number of Deals',\n",
    "       y='Changing',\n",
    "       title='<b>Number of Deals vs. Changing in Price</b> <br>size deontes <i>Total Current Value</i>',\n",
    "       range_y=[-20, 20],\n",
    "       range_x=[0, 25000]))"
   ]
  },
  {
   "cell_type": "code",
   "execution_count": null,
   "metadata": {},
   "outputs": [],
   "source": [
    "fig = (df.fillna(0)\n",
    "         .pipe(px.scatter,\n",
    "               x='Closing',\n",
    "               y='Changing',\n",
    "               color='Polarity',\n",
    "               size='Total Current Value (SAR)',\n",
    "               size_max=60,\n",
    "               marginal_x='histogram',\n",
    "               color_discrete_sequence = px.colors.diverging.Spectral_r,\n",
    "#                color_discrete_sequence=px.colors.sequential.GnBu,\n",
    "#                color_discrete_sequence=['red', 'blue', 'green'],\n",
    "               range_y=[-15, 15],\n",
    "               range_x=[0, 200],\n",
    "               height=600,\n",
    "               facet_col='Polarity',\n",
    "               title='<b>Closing Price vs. Changing in Price Across Polarities</b><br>size deontes <i>Total Current Value</i>'))\n",
    "\n",
    "fig.for_each_annotation(lambda a: a.update(text=''))\n",
    "fig.show()"
   ]
  },
  {
   "cell_type": "code",
   "execution_count": null,
   "metadata": {},
   "outputs": [],
   "source": [
    "fig = (df.fillna(0)\n",
    "        .pipe(px.scatter,\n",
    "              x='Closing',\n",
    "              y='Changing%',\n",
    "              color='Polarity',\n",
    "              size='Total Current Value (SAR)',\n",
    "              size_max=60,\n",
    "              marginal_x='histogram',\n",
    "             color_discrete_sequence = px.colors.diverging.Spectral_r,\n",
    "#             color_discrete_sequence=px.colors.sequential.GnBu_r,\n",
    "#             color_discrete_sequence = px.colors.diverging.Spectral_r,\n",
    "#             color_discrete_sequence=['red', 'blue', 'green'],\n",
    "             range_y=[-20, 20],\n",
    "             range_x=[0, 300],\n",
    "             height=600,\n",
    "             facet_col='Polarity',\n",
    "             title='<b>Closing Price vs. Changing Percent in Price</b><br>size deontes <i>Total Current Value</i>'))\n",
    "\n",
    "fig.for_each_annotation(lambda a: a.update(text=''))\n",
    "fig.show()"
   ]
  },
  {
   "cell_type": "code",
   "execution_count": null,
   "metadata": {},
   "outputs": [],
   "source": []
  },
  {
   "cell_type": "markdown",
   "metadata": {},
   "source": [
    "### Exploring Interaction Between Numerical and Categorical"
   ]
  },
  {
   "cell_type": "code",
   "execution_count": null,
   "metadata": {},
   "outputs": [],
   "source": [
    "returns_by_polarity_stats = (df.reset_index()\n",
    "                             .pivot(columns='Polarity', values='Changing%')).describe()\n",
    "\n",
    "returns_by_polarity_stats"
   ]
  },
  {
   "cell_type": "code",
   "execution_count": null,
   "metadata": {},
   "outputs": [],
   "source": [
    "median = (df[['Polarity', 'Changing%']].reset_index()\n",
    "          .pivot(columns='Polarity', values='Changing%')\n",
    "          .apply(lambda x: x.median()))\n",
    "\n",
    "median.name = 'median'"
   ]
  },
  {
   "cell_type": "code",
   "execution_count": null,
   "metadata": {},
   "outputs": [],
   "source": [
    "returns_by_polarity_stats.append(median)"
   ]
  },
  {
   "cell_type": "code",
   "execution_count": null,
   "metadata": {},
   "outputs": [],
   "source": [
    "(df.reset_index()\n",
    " .pivot(columns='Polarity', values='Changing%')\n",
    " .iplot(kind='box', boxpoints='outliers',\n",
    "        colorscale='gnbu',\n",
    "        layout=dict(title='Distribution of Percent Change Over Polarity')))"
   ]
  },
  {
   "cell_type": "code",
   "execution_count": null,
   "metadata": {},
   "outputs": [],
   "source": []
  },
  {
   "cell_type": "code",
   "execution_count": null,
   "metadata": {},
   "outputs": [],
   "source": [
    "(df\n",
    " .pipe(px.box,\n",
    "       x='Polarity',\n",
    "       y='Changing%',\n",
    "       color='Polarity',\n",
    "       color_discrete_sequence = px.colors.diverging.Spectral_r,\n",
    "       points='outliers',\n",
    "       title='Distribution of Percent Change Over Polarity'))\n",
    "\n",
    "# fig.update_layout(showlegend=False)"
   ]
  },
  {
   "cell_type": "markdown",
   "metadata": {},
   "source": [
    "From the Boxplot above we can't deduce a strong correlation between the polarity of a news article and a change in stock price. \n",
    "\n",
    "This should be corroborated by a statistical test, though!"
   ]
  },
  {
   "cell_type": "markdown",
   "metadata": {},
   "source": [
    "### What's Happening over Time? "
   ]
  },
  {
   "cell_type": "markdown",
   "metadata": {},
   "source": [
    "#### Exploring the Date Variable"
   ]
  },
  {
   "cell_type": "code",
   "execution_count": null,
   "metadata": {},
   "outputs": [],
   "source": [
    "df.set_index('Date', inplace=True)"
   ]
  },
  {
   "cell_type": "code",
   "execution_count": null,
   "metadata": {},
   "outputs": [],
   "source": [
    "df = df.sort_index()"
   ]
  },
  {
   "cell_type": "code",
   "execution_count": null,
   "metadata": {},
   "outputs": [],
   "source": []
  },
  {
   "cell_type": "code",
   "execution_count": null,
   "metadata": {},
   "outputs": [],
   "source": [
    "date_hist = dict(\n",
    "    data=[\n",
    "        Histogram(\n",
    "            x=df.index,\n",
    "        marker=dict(\n",
    "            opacity=0.9,\n",
    "            line=dict(\n",
    "                color='white', width=1\n",
    "            )\n",
    "         )\n",
    "      )\n",
    "    ],\n",
    "    layout=dict(\n",
    "        title='Distribution of No. of Articles over Months',\n",
    "        xaxis=dict(\n",
    "            range=[df.index.min() - pd.Timedelta(days=90), df.index.max()]\n",
    "        )\n",
    "    )\n",
    ")\n",
    "\n",
    "pyo.iplot(date_hist)"
   ]
  },
  {
   "cell_type": "markdown",
   "metadata": {},
   "source": [
    "## The Following is Additional Extra Work"
   ]
  },
  {
   "cell_type": "markdown",
   "metadata": {},
   "source": [
    "#### Moving Avg. of Numerical Variables "
   ]
  },
  {
   "cell_type": "code",
   "execution_count": null,
   "metadata": {},
   "outputs": [],
   "source": [
    "company_name = 'شركة أبناء عبدالله عبدالمحسن الخضري'\n",
    "window = 10\n",
    "num_var = 'Closing'\n",
    "\n",
    "fig = (df\n",
    "        .loc[df['Company Name'] == company_name, num_var]\n",
    "        .sort_index()\n",
    "        .rolling(window).mean()\n",
    "        .iplot(mode='lines', color='blue', size=8, asFigure=True, \n",
    "               title=f'{window} Days Moving Avg. ({num_var}) <br> {company_name}'))"
   ]
  },
  {
   "cell_type": "code",
   "execution_count": null,
   "metadata": {},
   "outputs": [],
   "source": [
    "fig"
   ]
  },
  {
   "cell_type": "code",
   "execution_count": null,
   "metadata": {},
   "outputs": [],
   "source": [
    "company_name = 'شركة أبناء عبدالله عبدالمحسن الخضري'\n",
    "\n",
    "fig_1 = (df\n",
    " .loc[df['Company Name'] == company_name]\n",
    " .groupby('Polarity')\n",
    " .resample('A')\n",
    " .size()\n",
    " .T\n",
    " .iplot(kind='bar', barmode='group',\n",
    "        colorscale='gnbu',\n",
    "        title=f'Polarity Evolution over Time <br> {company_name}',\n",
    "        asFigure=True))"
   ]
  },
  {
   "cell_type": "code",
   "execution_count": null,
   "metadata": {},
   "outputs": [],
   "source": [
    "fig_1"
   ]
  },
  {
   "cell_type": "code",
   "execution_count": null,
   "metadata": {},
   "outputs": [],
   "source": [
    "fig_1['layout']['title']['text']"
   ]
  },
  {
   "cell_type": "code",
   "execution_count": null,
   "metadata": {},
   "outputs": [],
   "source": [
    "fig_1.add_trace(fig['data'][0])\n"
   ]
  },
  {
   "cell_type": "code",
   "execution_count": null,
   "metadata": {},
   "outputs": [],
   "source": []
  },
  {
   "cell_type": "code",
   "execution_count": null,
   "metadata": {},
   "outputs": [],
   "source": []
  },
  {
   "cell_type": "code",
   "execution_count": null,
   "metadata": {},
   "outputs": [],
   "source": []
  },
  {
   "cell_type": "markdown",
   "metadata": {},
   "source": [
    "## Market Index\n",
    "\n",
    "We can create an index for the market by choosing the largest company in each sector, in terms of `Total Current Value`. Then plot the overall index market cap over time overlayed on the sentiment as above"
   ]
  },
  {
   "cell_type": "code",
   "execution_count": null,
   "metadata": {},
   "outputs": [],
   "source": [
    "\n",
    "index_comps = df.loc['2019'].set_index('Company Name').groupby('Sector_en')['Total Current Value (SAR)'].nlargest(1)\n",
    "\n",
    "index_comps = index_comps.reset_index().sort_values('Total Current Value (SAR)', ascending=False)\n",
    "\n",
    "index_comps"
   ]
  },
  {
   "cell_type": "code",
   "execution_count": null,
   "metadata": {},
   "outputs": [],
   "source": [
    "index_comps_names = index_comps['Company Name']; index_comps_names"
   ]
  },
  {
   "cell_type": "code",
   "execution_count": null,
   "metadata": {},
   "outputs": [],
   "source": [
    "df_index = df[df['Company Name'].isin(index_comps_names)]"
   ]
  },
  {
   "cell_type": "code",
   "execution_count": null,
   "metadata": {},
   "outputs": [],
   "source": [
    "index_series = (df_index[['Company Name', 'Total Current Value (SAR)']]\n",
    "                 .pivot(columns='Company Name', values='Total Current Value (SAR)')\n",
    "                 .sum(axis=1)\n",
    "                 .loc[: 'Nov 2019'])"
   ]
  },
  {
   "cell_type": "code",
   "execution_count": null,
   "metadata": {},
   "outputs": [],
   "source": [
    "(df_index[['Company Name', 'Total Current Value (SAR)']]\n",
    " .pivot(columns='Company Name', values='Total Current Value (SAR)')\n",
    " .sum(axis=1)\n",
    " .loc['2011': 'Nov 2019']\n",
    " .rolling(180).mean()\n",
    " .iplot(color='blue',\n",
    "        layout=dict(title='30-days Moving Average of Market Index')))"
   ]
  },
  {
   "cell_type": "code",
   "execution_count": null,
   "metadata": {},
   "outputs": [],
   "source": [
    "index_series.iplot()"
   ]
  },
  {
   "cell_type": "code",
   "execution_count": null,
   "metadata": {},
   "outputs": [],
   "source": []
  },
  {
   "cell_type": "code",
   "execution_count": null,
   "metadata": {},
   "outputs": [],
   "source": [
    "(df_index\n",
    " .groupby('Polarity')\n",
    " .resample('A')\n",
    " .size()\n",
    " .T\n",
    " .iplot(kind='bar', title='Annual Polarity Distribution for the Market Index'))"
   ]
  },
  {
   "cell_type": "code",
   "execution_count": null,
   "metadata": {},
   "outputs": [],
   "source": [
    "from plotly.subplots import make_subplots\n",
    "\n",
    "fig = make_subplots(rows=2, cols=1)"
   ]
  },
  {
   "cell_type": "code",
   "execution_count": null,
   "metadata": {},
   "outputs": [],
   "source": []
  },
  {
   "cell_type": "code",
   "execution_count": null,
   "metadata": {},
   "outputs": [],
   "source": []
  },
  {
   "cell_type": "code",
   "execution_count": null,
   "metadata": {},
   "outputs": [],
   "source": [
    "with open('ArSEL1.0.txt') as f:\n",
    "    text = f.read()\n",
    "    text = re.sub('###', ';', text)\n"
   ]
  },
  {
   "cell_type": "code",
   "execution_count": null,
   "metadata": {},
   "outputs": [],
   "source": [
    "print(text[:2000])"
   ]
  },
  {
   "cell_type": "code",
   "execution_count": null,
   "metadata": {},
   "outputs": [],
   "source": [
    "with open('ArSEL1.0_modified.txt', 'w') as f:\n",
    "    f.write(text)"
   ]
  },
  {
   "cell_type": "code",
   "execution_count": null,
   "metadata": {},
   "outputs": [],
   "source": []
  },
  {
   "cell_type": "code",
   "execution_count": null,
   "metadata": {},
   "outputs": [],
   "source": [
    "cols = 'AWN_OFFSET;EWN_OFFSET;POS_Tag;AWN_Lemma;SAMA_Lemma;Pos_Sentiment_score;Neg_Sentiment_Score;Confidence;AFRAID;AMUSED;ANGRY;ANNOYED;DONT_CARE;HAPPY;INSPIRED;SAD'.split(';')"
   ]
  },
  {
   "cell_type": "code",
   "execution_count": null,
   "metadata": {},
   "outputs": [],
   "source": [
    "cols"
   ]
  },
  {
   "cell_type": "code",
   "execution_count": null,
   "metadata": {},
   "outputs": [],
   "source": [
    "lex = pd.read_table('ArSEL1.0_modified.txt', sep=';', skiprows=20, header=None)\n",
    "lex.columns = cols"
   ]
  },
  {
   "cell_type": "code",
   "execution_count": null,
   "metadata": {},
   "outputs": [],
   "source": [
    "lex.head()"
   ]
  },
  {
   "cell_type": "code",
   "execution_count": null,
   "metadata": {},
   "outputs": [],
   "source": [
    "lex.info()"
   ]
  },
  {
   "cell_type": "code",
   "execution_count": null,
   "metadata": {},
   "outputs": [],
   "source": [
    "lex['SAMA_Lemma'].value_counts()"
   ]
  },
  {
   "cell_type": "code",
   "execution_count": null,
   "metadata": {},
   "outputs": [],
   "source": []
  },
  {
   "cell_type": "markdown",
   "metadata": {},
   "source": [
    "### How to Read Facebook's Fasttext pretrained Models into Gensim\n",
    "\n",
    "read this ASAP: <a href='https://radimrehurek.com/gensim/models/fasttext.html' target='_blank'>fasttext loading into gensim</a>"
   ]
  },
  {
   "cell_type": "code",
   "execution_count": null,
   "metadata": {},
   "outputs": [],
   "source": [
    "\n"
   ]
  }
 ],
 "metadata": {
  "kernelspec": {
   "display_name": "Python 3",
   "language": "python",
   "name": "python3"
  },
  "language_info": {
   "codemirror_mode": {
    "name": "ipython",
    "version": 3
   },
   "file_extension": ".py",
   "mimetype": "text/x-python",
   "name": "python",
   "nbconvert_exporter": "python",
   "pygments_lexer": "ipython3",
   "version": "3.7.6"
  },
  "toc": {
   "base_numbering": 1,
   "nav_menu": {},
   "number_sections": true,
   "sideBar": true,
   "skip_h1_title": false,
   "title_cell": "Table of Contents",
   "title_sidebar": "Contents",
   "toc_cell": false,
   "toc_position": {},
   "toc_section_display": true,
   "toc_window_display": false
  }
 },
 "nbformat": 4,
 "nbformat_minor": 4
}
